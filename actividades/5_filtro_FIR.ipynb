{
 "cells": [
  {
   "cell_type": "code",
   "execution_count": null,
   "metadata": {},
   "outputs": [],
   "source": [
    "%matplotlib notebook\n",
    "%load_ext autoreload\n",
    "%autoreload 2\n",
    "import numpy as np\n",
    "import scipy.signal\n",
    "import scipy.fft as sfft\n",
    "import matplotlib.pylab as plt\n",
    "from ipywidgets import interact, FloatSlider, IntSlider, SelectionSlider\n",
    "from IPython.display import YouTubeVideo, Audio"
   ]
  },
  {
   "cell_type": "markdown",
   "metadata": {},
   "source": [
    "# Actividad 1: Diseño de un filtro pasabajo\n",
    "\n",
    "Considere los siguientes datos. Usemos `scipy.signal.firwin` para diseñar un filtro FIR pasa bajo con el método de la ventana que nos permita recuperar la señal intrínseca\n",
    "\n",
    "Visualicemos la respuesta al impulso del filtro, la respuesta en frecuencia del filtro y el espectro de la señal resultante\n",
    "\n",
    "¿Cómo cambia el resultado en función de la frecuencia de corte y $L$?"
   ]
  },
  {
   "cell_type": "code",
   "execution_count": null,
   "metadata": {},
   "outputs": [],
   "source": [
    "Fs = 1\n",
    "n = np.arange(0, 100, step=1/Fs); \n",
    "np.random.seed(0);\n",
    "C = 5*np.exp(-0.5*(n[:, np.newaxis] - n[:, np.newaxis].T)**2/10**2)\n",
    "x_clean = np.random.multivariate_normal(np.zeros_like(n), C)\n",
    "x_clean -= np.mean(x_clean)\n",
    "x = x_clean + 2*np.random.randn(len(n))\n",
    "\n",
    "f = sfft.rfftfreq(n=len(n), d=1/Fs)\n",
    "X = sfft.rfft(x)\n",
    "\n",
    "fig, ax = plt.subplots(1, 2, figsize=(8, 3), tight_layout=True)\n",
    "ax[0].plot(n, x_clean, label='señal intrínseca')\n",
    "ax[0].scatter(n, x, c='k', s=5, label='datos observados')\n",
    "ax[0].legend()\n",
    "ax[1].plot(f, np.absolute(sfft.rfft(x_clean)), label='Espectro intrínsco')\n",
    "ax[1].plot(f, np.absolute(X), c='k', label='Espectro observado')\n",
    "ax[1].legend()"
   ]
  },
  {
   "cell_type": "code",
   "execution_count": null,
   "metadata": {},
   "outputs": [],
   "source": []
  },
  {
   "cell_type": "markdown",
   "metadata": {},
   "source": [
    "# Actividad 2: Filtrando una señal de audio\n",
    "\n",
    "Considere la siguiente señal"
   ]
  },
  {
   "cell_type": "code",
   "execution_count": null,
   "metadata": {},
   "outputs": [],
   "source": [
    "import librosa\n",
    "data, sample_rate = librosa.load(\"../data/nomekop.ogg\")\n",
    "\n",
    "fig, ax = plt.subplots(1, figsize=(8, 3), tight_layout=True)\n",
    "\n",
    "def plot_spectrogram(ax, data):\n",
    "    freq, ttime, Sxx = scipy.signal.spectrogram(data, fs=sample_rate, \n",
    "                                                window=('kaiser', 6.), \n",
    "                                                nperseg=512, noverlap=512//1.5, \n",
    "                                                mode='magnitude')\n",
    "\n",
    "    ax.pcolormesh(ttime, freq, 20*np.log10(Sxx+1e-4), shading='auto', cmap=plt.cm.magma); \n",
    "    ax.set_ylim([0.0, 1e+4]);\n",
    "    ax.set_xlabel('Tiempo [s]')\n",
    "    ax.set_ylabel('Frecuencia [Hz]')\n",
    "    \n",
    "plot_spectrogram(ax, data)\n",
    "\n",
    "Audio(data, rate=int(sample_rate), normalize=False)"
   ]
  },
  {
   "cell_type": "markdown",
   "metadata": {},
   "source": [
    "Diseñemos filtros usando `scipy.signal.firwin` \n",
    "\n",
    "- ¿Puedes crear un filtro borre a Blastoise y preserve a Squirtle?\n",
    "- ¿Puedes crear un filtro borre a Squirtle y preserve a Blastoise?\n",
    "- ¿Cómo cambia el resultado con $L$ y el tipo de ventana?"
   ]
  },
  {
   "cell_type": "code",
   "execution_count": null,
   "metadata": {},
   "outputs": [],
   "source": [
    "h = scipy.signal.firwin(numtaps=1000+1, cutoff=[200, 500], \n",
    "                        pass_zero=False, window='hann',\n",
    "                        fs=sample_rate)\n",
    "\n",
    "data_filt = scipy.signal.convolve(data, h)\n"
   ]
  },
  {
   "cell_type": "code",
   "execution_count": null,
   "metadata": {},
   "outputs": [],
   "source": [
    "freq_response, response = scipy.signal.freqz(h, fs=sample_rate)\n",
    "fig = plt.figure(figsize=(7, 4), tight_layout=True)\n",
    "ax1 = plt.subplot2grid((2, 2 ), (0, 0)); ax1.set_title(\"Respuesta al impulso\")\n",
    "ax2 = plt.subplot2grid((2, 2 ), (0, 1)); ax2.set_title(\"Respuesta en frecuencia\")\n",
    "ax3 = plt.subplot2grid((2, 2 ), (1, 0), colspan=2, rowspan=1)\n",
    "ax1.plot(h); \n",
    "ax2.semilogy(freq_response, np.abs(response));\n",
    "plot_spectrogram(ax3, data_filt)\n",
    "Audio(data_filt, rate=int(sample_rate), normalize=False)"
   ]
  },
  {
   "cell_type": "code",
   "execution_count": null,
   "metadata": {},
   "outputs": [],
   "source": []
  }
 ],
 "metadata": {
  "kernelspec": {
   "display_name": "INFO183",
   "language": "python",
   "name": "info183"
  },
  "language_info": {
   "codemirror_mode": {
    "name": "ipython",
    "version": 3
   },
   "file_extension": ".py",
   "mimetype": "text/x-python",
   "name": "python",
   "nbconvert_exporter": "python",
   "pygments_lexer": "ipython3",
   "version": "3.8.5"
  }
 },
 "nbformat": 4,
 "nbformat_minor": 2
}
