{
 "cells": [
  {
   "cell_type": "markdown",
   "metadata": {},
   "source": [
    "# Cancelación de eco con filtros LMS y RLS\n",
    "\n",
    "Supongamos que nos comunicamos por teléfono con otra persona y que dicha persona tiene su telefono conectado a un alto-parlante\n",
    "\n",
    "Cuando la persona nos conteste, lo que ingresará a su micrófono será su respuesta más posibles repeteciones indeseadas de nuestro mensaje original como muestra el siguiente esquema\n",
    "\n",
    "<img src=\"../clases/images/echo-room.png\" width=\"300\">\n",
    "\n",
    "Podemos eliminar el \"eco\" indeseado con un filtro adaptivo como muestra el siguiente diagrama\n",
    "\n",
    "<img src=\"../clases/images/adaptive-echo-canceller.png\" width=\"500\">\n",
    "\n",
    "Detalles del filtro cancelador de eco\n",
    "\n",
    "- Se usa como entrada la señal enviada\n",
    "- Se usa como salida deseada la señal recibida (contiene eco)\n",
    "- El objetivo es que el filtro aprenda los coeficientes del sistema reverberante del primer diagrama\n",
    "- El error entre la salida y la entrada será la señal recibida limpia\n",
    "- En general el éco no va a ocurrir al mismo tiempo que el habla. Se debe tener cuidado de adaptar el filtro solo al eco\n",
    "- El filtro debe tener suficientes coeficientes para poder cancelar el eco, mientras más tiempo alla entre voz y eco más largo debe ser el filtro\n",
    "\n",
    "Referencia: http://dsp-book.narod.ru/307.pdf\n",
    "\n",
    "Veamos como se programa paso a paso"
   ]
  },
  {
   "cell_type": "code",
   "execution_count": null,
   "metadata": {},
   "outputs": [],
   "source": [
    "%matplotlib notebook\n",
    "import librosa\n",
    "import numpy as np\n",
    "import scipy.signal\n",
    "import matplotlib.pyplot as plt\n",
    "from IPython.display import Audio\n",
    "\n",
    "# Esta será la señal r(t) es decir \"nuestra voz transmitida\"\n",
    "# Se usa la frecuencia de muestreo típica de las comunicaciones telefónicas: 8000 Hz\n",
    "\n",
    "r, Fs = librosa.load(\"../data/hola2.ogg\", sr=8000)\n",
    "r = np.pad(r, pad_width=(0, 6000))\n",
    "Audio(r, rate=int(Fs), normalize=False)"
   ]
  },
  {
   "cell_type": "markdown",
   "metadata": {},
   "source": [
    "A continuación simularemos una sala que introduce reverberación con un filtro FIR"
   ]
  },
  {
   "cell_type": "code",
   "execution_count": null,
   "metadata": {},
   "outputs": [],
   "source": [
    "T = 200\n",
    "h = np.concatenate((np.zeros(T), \n",
    "                    [0.4], np.zeros(T), \n",
    "                    [0.3], np.zeros(T), \n",
    "                    [0.2]))\n",
    "\n",
    "# Esta es la voz con eco agregado\n",
    "#r += np.random.randn(len(r))*0.005\n",
    "rh = scipy.signal.convolve(r, h, mode='full')[:len(r)]\n",
    "\n",
    "fig, ax = plt.subplots(figsize=(8, 3), tight_layout=True)\n",
    "ax.plot(r[:6000], label='r')\n",
    "ax.plot(rh[:6000], label='r*h')\n",
    "ax.legend()\n",
    "Audio(rh, rate=int(Fs), normalize=False)"
   ]
  },
  {
   "cell_type": "code",
   "execution_count": null,
   "metadata": {},
   "outputs": [],
   "source": [
    "# Esta es la respuesta de la persona denotada por s(t)\n",
    "\n",
    "s, Fs = librosa.load(\"../data/hola1.ogg\", sr=8000)\n",
    "s = np.pad(s, pad_width=(3000, 0))\n",
    "Audio(s, rate=int(Fs), normalize=False)"
   ]
  },
  {
   "cell_type": "code",
   "execution_count": null,
   "metadata": {},
   "outputs": [],
   "source": [
    "# Esta es la señal de nuestro amigo que nos llega a nosotros\n",
    "# Es una mezcla de la voz de nuestro amig@ + el eco nuestro\n",
    "srh = rh.copy()\n",
    "srh[:len(s)] += s\n",
    "fig, ax = plt.subplots(figsize=(8, 3), tight_layout=True)\n",
    "ax.plot(r, label='r')\n",
    "ax.plot(srh, label='r*h + s')\n",
    "ax.legend()\n",
    "Audio(srh, rate=int(Fs), normalize=False)"
   ]
  },
  {
   "cell_type": "code",
   "execution_count": null,
   "metadata": {},
   "outputs": [],
   "source": [
    "class Filtro_RLS:\n",
    "    \n",
    "    def __init__(self, L, beta=0.99, delta=1e-2):\n",
    "        self.L = L\n",
    "        self.w = np.zeros(shape=(L+1, ))\n",
    "        self.beta = beta\n",
    "        self.delta = delta\n",
    "        self.Phi_inv = delta*np.eye(L+1)\n",
    "        \n",
    "    def update(self, un, dn):\n",
    "        # Cálculo de la ganancia\n",
    "        pi = np.dot(un.T, self.Phi_inv)\n",
    "        kn = pi.T/(self.beta + np.inner(pi, un))\n",
    "        # Actualizar el vector de pesos\n",
    "        error = dn - np.dot(self.w, un)\n",
    "        self.w += kn*error\n",
    "        # Actualizar el inverso de Phi\n",
    "        self.Phi_inv = (self.Phi_inv - np.outer(kn, pi))*self.beta**-1\n",
    "        return np.dot(self.w, un)"
   ]
  },
  {
   "cell_type": "markdown",
   "metadata": {},
   "source": [
    "- Probar $\\beta = [0.999, 0.99, 0.9]$\n",
    "- Probar $\\delta = [1e-3, 1e-2, 1e-1, 1]$"
   ]
  },
  {
   "cell_type": "code",
   "execution_count": null,
   "metadata": {},
   "outputs": [],
   "source": [
    "filt = Filtro_RLS(500, beta=0.999, delta=1e-3)\n",
    "#filt = Filtro_RLS(500, beta=0.99, delta=1e+1)\n",
    "hhat = np.zeros(shape=(filt.L+1, len(r)))\n",
    "rhhat = np.zeros(shape=(len(r)))\n",
    "for k in range(L+1, len(r)):\n",
    "    hhat[:, k] = filt.w\n",
    "    if np.sum(r[k-filt.L-1:k]**2)/(filt.L+1) > 1e-4:\n",
    "        rhhat[k] = filt.update(r[k-filt.L-1:k][::-1], srh[k])\n",
    "    else: # El filtro se aplica solo cuando yo hablo\n",
    "        rhhat[k] = 0.\n",
    "# La estimación de la voz limpia de nuestro amig@\n",
    "shat = srh - rhhat\n",
    "\n",
    "fig, ax = plt.subplots(2, figsize=(7, 4), tight_layout=True, sharex=True)\n",
    "ax[0].plot(rh, alpha=0.5, label='r(t)*h(t)');\n",
    "ax[0].plot(rhhat, alpha=0.5, label='r(t)*hhat(t)');\n",
    "ax[0].legend()\n",
    "ax[1].plot(shat, alpha=0.75, label='shat(t)');\n",
    "ax[1].plot(s, alpha=0.75, label='s(t)');\n",
    "ax[1].legend()\n",
    "Audio(shat, rate=int(Fs), normalize=False)"
   ]
  },
  {
   "cell_type": "code",
   "execution_count": null,
   "metadata": {},
   "outputs": [],
   "source": []
  }
 ],
 "metadata": {
  "kernelspec": {
   "display_name": "INFO183",
   "language": "python",
   "name": "info183"
  },
  "language_info": {
   "codemirror_mode": {
    "name": "ipython",
    "version": 3
   },
   "file_extension": ".py",
   "mimetype": "text/x-python",
   "name": "python",
   "nbconvert_exporter": "python",
   "pygments_lexer": "ipython3",
   "version": "3.8.5"
  }
 },
 "nbformat": 4,
 "nbformat_minor": 4
}
