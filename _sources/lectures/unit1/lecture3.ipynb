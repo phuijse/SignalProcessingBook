{
 "cells": [
  {
   "cell_type": "code",
   "execution_count": null,
   "metadata": {},
   "outputs": [],
   "source": [
    "import holoviews as hv\n",
    "hv.extension('bokeh')"
   ]
  },
  {
   "cell_type": "code",
   "execution_count": null,
   "metadata": {},
   "outputs": [],
   "source": [
    "import numpy as np\n",
    "import scipy.signal"
   ]
  },
  {
   "cell_type": "markdown",
   "metadata": {},
   "source": [
    "# Transformada de Fourier para señales digitales"
   ]
  },
  {
   "cell_type": "markdown",
   "metadata": {},
   "source": [
    "## Transformada de Fourier Discreta (DFT)\n",
    "\n",
    "\n",
    "En este curso nos enfocaremos en el procesamiento de señales usando software\n",
    "\n",
    "Por ende asumiremos que existe un proceso que sensa y convierte la señal analógica continua en una señal digital, como muestre el siguiente diagrama\n",
    "\n",
    "<img src=\"../images/signal-sampling1.png\" width=\"500\">\n",
    "\n",
    "- La señal análogica $s(t)$ se muestrea cada $T_s$ durante un tiempo $T$\n",
    "- El tiempo asociado a $s_n$ es $t_n = n \\cdot T_s$ [s]\n",
    "- El inverso del periódo de muestreo se denomina **frecuencia de muestreo**: $F_s = \\frac{1}{T_s}$ [Hz]\n",
    "- La cantidad de muestras del arreglo $\\{s_n\\}$ es equivalente a $N = \\lfloor T F_s \\rfloor $\n"
   ]
  },
  {
   "cell_type": "markdown",
   "metadata": {
    "slideshow": {
     "slide_type": "slide"
    }
   },
   "source": [
    "Más formalmente diremos que existe un sistema muestreador con frecuencia de muestreo $F_s$ [Hz] tal que\n",
    "\n",
    "$$\n",
    "s(t) = \\sum_{n=0}^{N-1} s[n] \\delta(t - n/F_s),\n",
    "$$\n",
    "\n",
    "La transformada de Fourier de esta expresión es\n",
    "\n",
    "$$\n",
    "\\begin{align}\n",
    "S(\\omega) &= \\int s(t) e^{-j\\omega t} dt \\nonumber \\\\\n",
    "&= \\int \\sum_{n=0}^{N-1} s[n] \\delta(t - n/F_s) e^{-j\\omega t} dt \\nonumber \\\\\n",
    "&=  \\sum_{n=0}^{N-1} s[n] \\int \\delta(t - n/F_s) e^{-j\\omega t} dt \\nonumber \\\\\n",
    "&=  \\sum_{n=0}^{N-1} s[n] e^{-j\\omega n/F_s} \\nonumber \n",
    "\\end{align}\n",
    "$$\n",
    "\n",
    "Finalmente definiendo $\\omega = 2 \\pi f = 2 \\pi k \\Delta f$ donde $\\Delta f = \\frac{1}{T} = \\frac{F_s}{N}$ y reemplazando obtenemos\n",
    "\n",
    "$$\n",
    "S[k] =  \\sum_{n=0}^{N-1} s[n] e^{-j \\frac{2 \\pi}{N} k n},\n",
    "$$\n",
    "\n",
    "donde $k = [0, 1, \\ldots N-1]$, que se conoce como la **transformada de Fourier discreta** o *discrete Fourier Transform (DFT)\n",
    "\n",
    "En esta expresión:\n",
    "\n",
    "- El índice $n$ representa la discretización en el tiempo\n",
    "- El índice $k$ representa la discretización en frecuencia"
   ]
  },
  {
   "cell_type": "markdown",
   "metadata": {
    "slideshow": {
     "slide_type": "subslide"
    }
   },
   "source": [
    "### Propiedades de la DFT\n",
    "\n",
    "La DFT comparte las propiedades de la FT que vimos en la lección anterior\n",
    "\n",
    "Sin embargo, a diferencia de la FT para señales continuas, la DFT es periódica y su período $N$, como muestra la siguiente expresión\n",
    "\n",
    "$$\n",
    "\\begin{align}\n",
    "S[k+N] &= \\sum_{n=0}^{N-1} s[n] e^{-j \\frac{2 \\pi}{N} (k+N) n} \\nonumber \\\\\n",
    "&=   \\sum_{n=0}^{N-1} s[n] e^{-j \\frac{2 \\pi}{N} k n} e^{-j 2 \\pi n} \\nonumber \\\\\n",
    "&= \\sum_{n=0}^{N-1} s[n] e^{-j \\frac{2 \\pi}{N} k n} = S[k]\\nonumber \n",
    "\\end{align}\n",
    "$$"
   ]
  },
  {
   "cell_type": "markdown",
   "metadata": {
    "slideshow": {
     "slide_type": "subslide"
    }
   },
   "source": [
    "### Rango frecuencial de la DFT y frecuencia de Nyquist\n",
    "\n",
    "Considerando la periodicidad de la DFT, la correspondencia entre el índice entero $k$ y la frecuencia en Hertz es\n",
    "\n",
    "$$\n",
    "\\begin{matrix}\n",
    "k &  : & 0, & 1, & 2, & \\ldots & N/2 -1, & N/2, & N/2+1, & \\ldots & N-2, & N-1 \\\\\n",
    "f = k \\frac{F_s}{N} & : & 0, & \\frac{F_s}{N}, & \\frac{2 F_s}{N}, & \\ldots & \\frac{F_s}{2} - \\frac{F_s}{N}, & \\frac{F_s}{2} = -\\frac{F_s}{2}, &  \\frac{F_s}{2} + \\frac{F_s}{N} = - \\frac{F_s}{2}  + \\frac{F_s}{N}, & \\ldots & -\\frac{2 F_s}{N},  & -\\frac{F_s}{N}\n",
    "\\end{matrix}\n",
    "$$\n",
    "\n",
    "donde $\\frac{F_s}{2}$ se conoce como **frecuencia de Nyquist**, y es la frecuencia más alta a la que se puede calcular la DFT. Hablaremos más sobre esto en la próximo lección"
   ]
  },
  {
   "cell_type": "markdown",
   "metadata": {
    "slideshow": {
     "slide_type": "subslide"
    }
   },
   "source": [
    "### Interpretación de la DFT es  un producto matricial\n",
    "\n",
    "Sea $\\{s_n\\}_{n=0,\\ldots,N-1}$ y definiendo \n",
    "\n",
    "$$\n",
    "W_N = e^{-j \\frac{2\\pi}{N}} = \\cos \\left(\\frac{2\\pi}{N}\\right) - j \\sin \\left(\\frac{2\\pi}{N}\\right)\n",
    "$$\n",
    "\n",
    "podemos expresar la transformada de Fourier discreta como\n",
    "\n",
    "$$\n",
    "S[k] =  \\sum_{n=0}^{N-1} s[n] W_N^{kn}, \\quad k = [0, 1, \\ldots N-1],\n",
    "$$\n",
    "\n",
    "que también puede ser expresado matricialmente como\n",
    "\n",
    "$$\n",
    "\\begin{align}\n",
    "\\begin{pmatrix} \n",
    "S[0] \\\\\n",
    "S[1] \\\\\n",
    "S[2] \\\\\n",
    "\\vdots \\\\\n",
    "S[N-1] \\\\\n",
    "\\end{pmatrix} &=\n",
    "\\begin{pmatrix}\n",
    "1 & 1 & 1 & \\cdots & 1 \\\\\n",
    "1 & W_N & W_N^2 & \\cdots & W_N^{N-1} \\\\\n",
    "1 & W_N^2 & W_N^4 & \\cdots & W_N^{N-2} \\\\\n",
    "\\vdots & \\dots & \\dots & \\ddots &  \\vdots \\\\\n",
    "1 & W_N^{N-1} & W_N^{N-2} & \\cdots & W_N \\\\\n",
    "\\end{pmatrix} \n",
    "\\begin{pmatrix} \n",
    "s[0] \\\\\n",
    "s[1] \\\\\n",
    "s[2] \\\\\n",
    "\\vdots \\\\\n",
    "s[N-1] \\\\\n",
    "\\end{pmatrix} \\nonumber  \\\\\n",
    "S &= \\Omega s,\n",
    "\\end{align}\n",
    "$$\n",
    "\n",
    "\n",
    "Notemos que:\n",
    "\n",
    "- Por definición $W_N^{kn} = \\left(e^{-j \\frac{2\\pi}{N}}\\right)^{kn} = e^{-j \\frac{2\\pi}{N}kn}$\n",
    "- Por periodicidad $W_N^{2(N-1)} = W_N^{2(N-1) - N}  = W_N^{N-2}$\n",
    "- También se tiene simetría hermítica: $W_N^{k(-n)} = W_N^{-kn} = (W_N^{kn})^*$\n",
    "- $\\Omega$ es una matriz cuadrada y simétrica \n",
    "- El cálculo de la DFT tiene complejidad cuadrática: $N^2$ multiplicaciones y $N$ sumas\n"
   ]
  },
  {
   "cell_type": "markdown",
   "metadata": {},
   "source": [
    "### DFT inversa\n",
    "\n",
    "Sea $S=\\{S[0], S[1], S[2], S[3]\\}$, la DFT de una señal $s=\\{s[0], s[1], s[2], s[3]\\}$. \n",
    "\n",
    "Como vimos anteriormente podemos escribir la relación entre $S$ y $s$ como el siguiente sistema de ecuaciones\n",
    "\n",
    "$$\n",
    "S= \n",
    "\\begin{pmatrix} \n",
    "S[0] \\\\\n",
    "S[1] \\\\\n",
    "S[2] \\\\\n",
    "S[3] \n",
    "\\end{pmatrix} =\n",
    "\\begin{pmatrix}\n",
    "1 & 1  & 1 & 1\\\\\n",
    "1 & W_4  & W_4^2 & W_4^3 \\\\\n",
    "1 & W_4^2  & W_4^4 & W_4^2 \\\\\n",
    "1 & W_4^3  & W_4^2 & W_4 \\\\\n",
    "\\end{pmatrix} \n",
    "\\begin{pmatrix} \n",
    "s[0] \\\\\n",
    "s[1] \\\\\n",
    "s[2] \\\\\n",
    "s[3] \n",
    "\\end{pmatrix} = \\begin{pmatrix}\n",
    "1 & 1  & 1 & 1\\\\\n",
    "1 & -j  & -1 & j \\\\\n",
    "1 & -1  & 1 & -1 \\\\\n",
    "1 & j  & -1 & -j \\\\\n",
    "\\end{pmatrix} \n",
    "\\begin{pmatrix} \n",
    "s[0] \\\\\n",
    "s[1] \\\\\n",
    "s[2] \\\\\n",
    "s[3] \n",
    "\\end{pmatrix} = \\Omega s\n",
    "$$\n",
    "\n",
    "Si conocemos $S$ y queremos encontrar $s$, sólo necesitamos invertir la matriz $\\Omega$\n",
    "\n",
    "Por ejemplo"
   ]
  },
  {
   "cell_type": "code",
   "execution_count": null,
   "metadata": {},
   "outputs": [],
   "source": [
    "np.set_printoptions(precision=4, suppress=True)\n",
    "\n",
    "N = 4\n",
    "WN = np.exp(-1j*2.0*np.pi/N)\n",
    "index = np.array(range(N))[:, np.newaxis]\n",
    "Omega = WN**(index*index.T)\n",
    "\n",
    "Omega"
   ]
  },
  {
   "cell_type": "code",
   "execution_count": null,
   "metadata": {},
   "outputs": [],
   "source": [
    "# La siguiente función calcula el inverso de una matriz cuadrada\n",
    "np.linalg.inv(Omega) "
   ]
  },
  {
   "cell_type": "markdown",
   "metadata": {},
   "source": [
    "Como veremos a continuación la matriz $\\Omega$ de la DFT es una matriz bastante especial. \n",
    "\n",
    "El inverso de $\\Omega$ es equivalente a su complejo conjugado dividido N. El complejo conjugado de una matriz es una matriz donde todos los elementos complejos se reemplazan por su conjugado \n",
    "\n",
    "$$\n",
    "(a + j b)^{*} = a - j b\n",
    "$$\n",
    "\n",
    "En este caso particular ($N=4$) tenemos que el inverso de la matriz es \n",
    "\n",
    "$$\n",
    "\\Omega^{-1} = \\frac{1}{4}\n",
    "\\begin{pmatrix}\n",
    "1 & 1 & 1 &  1 \\\\\n",
    "1 & j & -1 &  -j \\\\\n",
    "1 & -1 & 1 &  -1 \\\\\n",
    "1 & -j & -1  & j \\\\\n",
    "\\end{pmatrix} = \\frac{1}{4} \\Omega^*\n",
    "$$\n",
    "\n",
    "Notar que esta propiedad se cumple para todo $N$. Esto es muy útil pues el costo de obtener el complejo conjugado es mucho menor que el de invertir una matriz cuadrada arbitraria\n",
    "\n",
    "Resumiendo, podemos recuperar $s$ a partir de $S$ usando\n",
    "\n",
    "$$\n",
    "s = \\frac{1}{N} \\Omega^* S\n",
    "$$\n",
    "\n",
    "o lo que es equivalente\n",
    "\n",
    "$$\n",
    "s[n] = \\frac{1}{N} \\sum_{k=0}^{N-1} S[k] W_N^{-kn}, \\quad n = [0, 1, \\ldots N-1]\n",
    "$$\n",
    "\n",
    "que se conoce como la DFT inversa y cuya únicas diferencias con la DFT son el factor $\\frac{1}{N}$ y el signo del exponente"
   ]
  },
  {
   "cell_type": "markdown",
   "metadata": {
    "slideshow": {
     "slide_type": "slide"
    }
   },
   "source": [
    "## Transformada Rápida de Fourier (FFT)\n",
    "\n",
    "Como vimos antes la computación de la DFT tiene complejidad $\\mathcal{O}(N^2)$, lo cual es muy costoso de aplicar en la práctica\n",
    "\n",
    "Existe una aproximación exacta de la DFT con complejidad $\\mathcal{O}(N\\log N)$: la **Fast Fourier Transform** (FFT). \n",
    "\n",
    "En esta lección veremos el algoritmo de Cooley-Tukey, un algoritmo FFT, que se basa en expresiones recursiva que explotan las simetrías que vimos en la matriz $\\Omega$\n",
    "\n",
    "La DFT se separa en dos \"medias\" DFT, donde una mitad se enfoca en los índices pares (even) y la otra en los impares (odd) como muestra la siguiente ecuación\n",
    "\n",
    "$$\n",
    "\\begin{align}\n",
    "S[k] &=  \\sum_{n=0}^{N-1} s[n] W_N^{kn} \\nonumber \\\\\n",
    "&= \\sum_{n=0}^{N/2-1} s[2n] W_N^{k 2n} + \\sum_{n=0}^{N/2-1} s[2n+1] W_N^{k(2n+1)} \\nonumber \\\\\n",
    "&= \\sum_{n=0}^{N/2-1} s[2n] W_{N/2}^{kn} + W_N^{k} \\sum_{n=0}^{N/2-1} s[2n+1] W_{N/2}^{kn} \\nonumber \\\\\n",
    "&= S_E[k] + W_N^{k} S_O[k] ~~ \\forall k \\in [0,N/2]  \\nonumber \n",
    "\\end{align} \n",
    "$$"
   ]
  },
  {
   "cell_type": "markdown",
   "metadata": {
    "slideshow": {
     "slide_type": "subslide"
    }
   },
   "source": [
    "Luego por periodicidad de la DFT tenemos que\n",
    "\n",
    "$$\n",
    "\\begin{align}\n",
    "S_E[k + N/2] &=  \\sum_{n=0}^{N/2-1} s[2n] W_{N/2}^{(k+N/2)n} \\nonumber \\\\\n",
    "&=  \\sum_{n=0}^{N/2-1} s[2n] W_{N/2}^{kn} \\exp \\left(-j2\\pi n \\right) = S_E[k], \\nonumber\n",
    "\\end{align}\n",
    "$$\n",
    "\n",
    "e igualmente\n",
    "\n",
    "$$\n",
    "S_O[k + N/2] = S_O[k],\n",
    "$$\n",
    "\n",
    "juntando ambos tenemos que\n",
    "\n",
    "$$\n",
    "\\begin{align}\n",
    "S[k + N/2] &=  S_E[k + N/2] + W_{N}^{(k+N/2)} S_O[k + N/2] \\nonumber  \\\\\n",
    "&=  S_E[k] + W_{N}^{k} \\exp \\left(-j\\pi\\right) S_O[k] \\nonumber \\\\\n",
    "&=  S_E[k] - W_{N}^{k} S_O[k] \\nonumber \n",
    "\\end{align}\n",
    "$$\n",
    "\n",
    "es decir que\n",
    "\n",
    "$$\n",
    "\\begin{align}\n",
    "S[k] &=  S_E[k] + W_{N}^{k} S_O[k] \\nonumber \\\\\n",
    "S[k + N/2] &=  S_E[k] - W_{N}^{k} S_O[k] \\quad \\forall k \\in [0,N/2]  \\nonumber \n",
    "\\end{align}\n",
    "$$\n",
    "\n",
    "La DFT de $k$ y $k+N/2$ difieren sólo en un signo. Cada ves que dividimos el intervalo podemos reducir los cómputos a la mitad. Podemos repetir la división $\\log N$ veces por lo que el costo de la FFT es $N \\log N$\n",
    "\n",
    "La siguiente esquema muestra la FFT para una señal $x$ de largo $N=16$, en $\\log_2 16=4$  pasos se calculan todos los componentes de su espectro $X$"
   ]
  },
  {
   "cell_type": "markdown",
   "metadata": {
    "slideshow": {
     "slide_type": "subslide"
    }
   },
   "source": [
    "<img src=\"../images/fft-16samples.png\">\n",
    "\n",
    "Imagen tomada de: [http://www.themobilestudio.net/the-fourier-transform-part-14](http://www.themobilestudio.net/the-fourier-transform-part-14)"
   ]
  },
  {
   "cell_type": "markdown",
   "metadata": {
    "slideshow": {
     "slide_type": "fragment"
    }
   },
   "source": [
    "La siguiente tabla compara la cantidad de multiplicaciones entre la DFT y la FFT\n",
    "\n",
    "| N | DFT | FFT | FFT/DFT [%] |\n",
    "|---|---|---|---|\n",
    "| 32 | 1024 | 160 | 15.6 |\n",
    "| 128 | 16,384 | 896 | 5.46 |\n",
    "| 1,024 | 1,048,576 | 10,240 | 0.97 |\n"
   ]
  },
  {
   "cell_type": "markdown",
   "metadata": {},
   "source": [
    "## Implementación de la FFT en Python\n",
    "\n",
    "Existen implementaciones de la FFT en múltiples lenguajes de programación. Entre las más famosas y eficientes destacan la librería [`FFTPACK`](https://www.netlib.org/fftpack/) para lenguaje Fortran y la librería [`FFTW`](https://www.fftw.org/) para lenguaje C. Python cuenta con varios *wrappers* a estas librerías, por ejemplo   [`pyFFTW` ](https://hgomersall.github.io/pyFFTW/) permite usar las funciones de `FFTW` desde Python\n",
    "\n",
    "En este curso utilizaremos principalmente la sub-librería [`scipy.fft`](https://docs.scipy.org/doc/scipy/reference/fft.html) disponible desde la versión 1.4 de la librería de cómputo científico `scipy` para lenguaje Python. Previo a dicha versión `scipy` contaba con un *wrapper* de la librería `FFTPACK` en `scipy.fftpack` que aun está disponible por retrocompatibilidad. \n",
    "\n",
    "> La recomendación general es usar `scipy.fft` que es una reimplementación moderna de los algoritmos de `FFTPACK` con mejoras importantes en desempeño como por ejemplo la posibilidad de ejecutar sus rutinas en paralelo. \n",
    "\n",
    "A continuación veremos algunas de las funciones que ofrece en detalle"
   ]
  },
  {
   "cell_type": "markdown",
   "metadata": {
    "slideshow": {
     "slide_type": "subslide"
    }
   },
   "source": [
    "### Función `scipy.fft.fft` y variantes\n",
    "\n",
    "Para calcular la FFT de un arreglo de números complejos o reales se usa\n",
    "\n",
    "```python\n",
    "scipy.fft.fft(x: np.ndarray, # Un arreglo de NumPy,\n",
    "              n: int=None, # El número de muestras que se usarán para calcular la FFT\n",
    "              axis: int=-1, # El eje del arreglo en que se calculara la FFT,\n",
    "              workers: Optional[int]=None, # Número de trabajadores para calcular la FFT en paralelo\n",
    "              norm: {\"backward\", \"ortho\", \"forward\"}, # El tipo de normalización\n",
    "              ...\n",
    "             )\n",
    "```\n",
    "\n",
    "Cabe destacar que:\n",
    "\n",
    "- Si no se especifica el argumento `n` entonces `n=len(x)`. \n",
    "    - Por otro lado si especificamos `n` y `n<len(x)` entonces `x` se truncara para quedar de largo `n`. \n",
    "    - En cambio si `n>len(x)` entonces se agregarán ceros al final de `x` para alargarlo (padding) \n",
    "- Si `x` es un arreglo multidimensional entonces la FFT se calculará sólo en la dimensión especificada por el argumento `axis` (por defecto la última). \n",
    "\n",
    ":::{note} \n",
    "\n",
    "Si trabajamos con señales unidimensionales podemos ignorar dicho argumento. En cambio si estamos trabajando con señales bidimensionales y multidimensionales la recomendación es usar las funciones `scipy.fft.fft2` y `scipy.fft.fftn`, respectivamente\n",
    "\n",
    ":::\n",
    "\n",
    "Otro detalle es que `scipy.fft.fft` funciona tanto para números reales como complejos, sin embargo si la señal `x` es de números reales entonces es más conveniente usar la función `scipy.fft.rfft` para evitar redundancia en el espectro. Más adelante explicaremos esto en más detalle pero primero pasemos a un ejemplo"
   ]
  },
  {
   "cell_type": "markdown",
   "metadata": {},
   "source": [
    "\n",
    "**Ejemplo** Sea una señal con \n",
    "\n",
    "- una exponencial compleja con frecuencia $1$ Hz, amplitud $1$ y desfase $0$ grados\n",
    "- una exponencial compleja con frecuencia $-4$ Hz, amplitud $1/4$ y desfase  $\\pi/3 \\approx 1.0472$\n",
    "\n",
    ":::{note}\n",
    "\n",
    "La [frecuencia negativa](https://en.wikipedia.org/wiki/Negative_frequency) como concepto sólo tiene sentido en una señal compleja. Puedes imaginarlo como el sentido en que rota la señal en el plano complejo (horario o antihorario)\n",
    "\n",
    ":::\n",
    "\n",
    "\n",
    "La señal está muestreada a 40 Hz"
   ]
  },
  {
   "cell_type": "code",
   "execution_count": null,
   "metadata": {},
   "outputs": [],
   "source": [
    "Fs = 40\n",
    "t = np.arange(0, 5, step=1./Fs); \n",
    "s = np.exp(1j*(2.0*np.pi*t)) + 0.25*np.exp(1j*(2.0*np.pi*-4*t + np.pi/3))\n",
    "display(s.shape, s.dtype)"
   ]
  },
  {
   "cell_type": "markdown",
   "metadata": {},
   "source": [
    "Para graficar la señal debemos graficar la parte real e imaginaria por separado"
   ]
  },
  {
   "cell_type": "code",
   "execution_count": null,
   "metadata": {},
   "outputs": [],
   "source": [
    "real_plot = hv.Curve((t, np.real(s)), 'Tiempo', 'Señal', label='Real')\n",
    "imag_plot = hv.Curve((t, np.imag(s)), 'Tiempo', 'Señal', label='Imaginaria')\n",
    "(real_plot * imag_plot).opts(width=500)"
   ]
  },
  {
   "cell_type": "markdown",
   "metadata": {},
   "source": [
    "El espectro que retorna la función `scipy.fft.fft` es una secuencia de números complejos"
   ]
  },
  {
   "cell_type": "code",
   "execution_count": null,
   "metadata": {},
   "outputs": [],
   "source": [
    "S = scipy.fft.fft(s, norm='forward')\n",
    "display(S.dtype, S.shape)"
   ]
  },
  {
   "cell_type": "markdown",
   "metadata": {},
   "source": [
    "Al igual que con la señal podemos graficar su parte real e imaginaria"
   ]
  },
  {
   "cell_type": "code",
   "execution_count": null,
   "metadata": {},
   "outputs": [],
   "source": [
    "real_plot = hv.Curve((np.real(S)), 'Frecuencia', 'Espectro', label='Real')\n",
    "imag_plot = hv.Curve((np.imag(S)), 'Frecuencia', 'Espectro', label='Imaginario')\n",
    "(real_plot + imag_plot).opts(width=500)"
   ]
  },
  {
   "cell_type": "markdown",
   "metadata": {},
   "source": [
    "Pero en general, el espectro es más fácil de interpretar si lo separaremos en valor absoluto y ángulo (coordenadas polares)"
   ]
  },
  {
   "cell_type": "code",
   "execution_count": null,
   "metadata": {},
   "outputs": [],
   "source": [
    "SA = np.absolute(S) # Espectro de magnitud \n",
    "SP = np.angle(S) # Espectro fase\n",
    "display(SA.dtype, SP.dtype)"
   ]
  },
  {
   "cell_type": "code",
   "execution_count": null,
   "metadata": {},
   "outputs": [],
   "source": [
    "abs_plot = hv.Curve((np.abs(S)), 'Frecuencia', 'Espectro de magnitud')\n",
    "ang_plot = hv.Curve((np.angle(S)), 'Frecuencia', 'Espectro de fase')\n",
    "(abs_plot + ang_plot).opts(width=500)"
   ]
  },
  {
   "cell_type": "markdown",
   "metadata": {},
   "source": [
    "Hasta ahora hemos omitido definir el eje de las frecuencias\n",
    "\n",
    "Si leemos la documentación veremos que `scipy.fft.fft` retorna un arreglo de Numpy de números complejos que corresponden al espectro y que por convención están ordenados en frecuencia según \n",
    "\n",
    "$$\n",
    "f = \\left[0, \\frac{F_s}{N},  \\frac{2 F_s}{N}, \\ldots, \\frac{F_s}{2},  \\ldots  -\\frac{2 F_s}{N},   -\\frac{F_s}{N} \\right]\n",
    "$$ \n",
    "\n",
    "es decir que primero van las frecuencias positivas y luego las negativas en orden invertido"
   ]
  },
  {
   "cell_type": "markdown",
   "metadata": {},
   "source": [
    "### Función utilitarias `scipy.fft.fftfreq` y `scipy.fft.fftshift`\n",
    "\n",
    "Para graficar el espectro resulta muy útil la función\n",
    "\n",
    "```python\n",
    "scipy.fft.fftfreq(n, #  El número de muestras de x\n",
    "                  d=1.0 # El inverso de la frecuencia de muestreo\n",
    "                 )\n",
    "```\n",
    "\n",
    "Que retorna el arreglo de frecuencias mostrado anteriormente. Existe también la función `scipy.fft.rfftfreq` que retorna las frecuencias asociadas a `scipy.fft.rfft`\n",
    "\n",
    "Otra función que facilita la lectura del espectro es \n",
    "\n",
    "```python\n",
    "scipy.fft.fftshift(S, #  Un arreglo de numpy\n",
    "                  ...\n",
    "                  )\n",
    "```\n",
    "\n",
    "que sirve para dar vuelta la primera y segunda mitad de `S` obtiendo un orden en frecuencia de menor a mayor como es más natural. \n",
    "\n",
    "Veamos como se ve el espectro usando estas funciones"
   ]
  },
  {
   "cell_type": "code",
   "execution_count": null,
   "metadata": {},
   "outputs": [],
   "source": [
    "# Se crean las frecuencias y se les hace el shift\n",
    "freqs = scipy.fft.fftshift(scipy.fft.fftfreq(n=len(s), d=1./Fs))\n",
    "# Luego le hago el shift al espectro\n",
    "S = scipy.fft.fftshift(S)"
   ]
  },
  {
   "cell_type": "code",
   "execution_count": null,
   "metadata": {},
   "outputs": [],
   "source": [
    "abs_plot = hv.Curve((freqs, np.abs(S)), 'Frecuencia [Hz]', 'Espectro de magnitud')\n",
    "ang_plot = hv.Curve((freqs, np.angle(S)), 'Frecuencia [Hz]', 'Espectro de fase')\n",
    "(abs_plot + ang_plot).opts(width=500)"
   ]
  },
  {
   "cell_type": "markdown",
   "metadata": {},
   "source": [
    "Del espectro de magnitud podemos ver que practicamente todas las frecuencias tienen magnitud nula a excepción de dos *peaks*\n",
    "\n",
    "El espectro de fase (ángulo) parece un poco más ruidoso, pero debemos recordar que sólo interesan los ángulos de los componentes de magnitud no nula\n",
    "\n",
    "¿Cuáles son estas frecuencias importantes?"
   ]
  },
  {
   "cell_type": "code",
   "execution_count": null,
   "metadata": {},
   "outputs": [],
   "source": [
    "# Ordenamos las magnitudes de mayor a menor y obtenemos su índice\n",
    "idx = np.argsort(np.abs(S))[::-1]\n",
    "# Finalmente observamos las frecuncies, magnitudes y ángulos de los dos principales\n",
    "for k, i in enumerate(idx[:2]):\n",
    "    print(f\"({k}), Frecuencia: {freqs[i]:0.2f} Hz\\t Magnitud: {np.abs(S)[i]:0.4f}\\t Angulo: {np.angle(S)[i]:0.4f}\")"
   ]
  },
  {
   "cell_type": "markdown",
   "metadata": {},
   "source": [
    ":::{note}\n",
    "\n",
    "Cada peak corresponde a uno de los componentes de la señal\n",
    "\n",
    ":::\n",
    "\n",
    "Esto es esperable pues la transformada de Fourier descompone las señales en exponenciales complejas\n",
    "\n"
   ]
  },
  {
   "cell_type": "markdown",
   "metadata": {},
   "source": [
    "### Ejemplos de espectros\n",
    "\n",
    "El sitio web: https://www.thefouriertransform.com/pairs/fourier.php tiene un listado de distintas señales y sus transformadas de Fourier analíticas. \n",
    "\n",
    "A continuación se muestran los espectros obtenidos con la FFT de algunas de estas señales. Contraste lo que observa con el resultado teórico"
   ]
  },
  {
   "cell_type": "code",
   "execution_count": null,
   "metadata": {},
   "outputs": [],
   "source": [
    "# Señal coseno\n",
    "Fs = 40\n",
    "t = np.arange(0, 5, step=1./Fs)\n",
    "s = np.cos(2.0*np.pi*t*1)\n",
    "f = scipy.fft.fftshift(scipy.fft.fftfreq(n=len(s), d=1/Fs))\n",
    "S = scipy.fft.fftshift(scipy.fft.fft(s))\n",
    "\n",
    "real_plot = hv.Curve((f, np.real(S)), 'Frecuencia', 'Espectro', label='Real')\n",
    "imag_plot = hv.Curve((f, np.imag(S)), 'Frecuencia', 'Espectro', label='Imaginario')\n",
    "(real_plot + imag_plot).opts(width=500)"
   ]
  },
  {
   "cell_type": "code",
   "execution_count": null,
   "metadata": {},
   "outputs": [],
   "source": [
    "# Señal seno\n",
    "Fs = 40\n",
    "t = np.arange(0, 5, step=1./Fs)\n",
    "s = np.sin(2.0*np.pi*t*1)\n",
    "f = scipy.fft.fftshift(scipy.fft.fftfreq(n=len(s), d=1/Fs))\n",
    "S = scipy.fft.fftshift(scipy.fft.fft(s))\n",
    "\n",
    "real_plot = hv.Curve((f, np.real(S)), 'Frecuencia', 'Espectro', label='Real')\n",
    "imag_plot = hv.Curve((f, np.imag(S)), 'Frecuencia', 'Espectro', label='Imaginario')\n",
    "(real_plot + imag_plot).opts(width=500)"
   ]
  },
  {
   "cell_type": "code",
   "execution_count": null,
   "metadata": {},
   "outputs": [],
   "source": [
    "# Señal Gaussiana\n",
    "Fs = 40\n",
    "t = np.arange(0, 5, step=1./Fs)\n",
    "s = np.exp(-10*t**2)\n",
    "f = scipy.fft.fftshift(scipy.fft.fftfreq(n=len(s), d=1/Fs))\n",
    "S = scipy.fft.fftshift(scipy.fft.fft(s))\n",
    "\n",
    "real_plot = hv.Curve((f, np.real(S)), 'Frecuencia', 'Espectro', label='Real')\n",
    "imag_plot = hv.Curve((f, np.imag(S)), 'Frecuencia', 'Espectro', label='Imaginario')\n",
    "(real_plot + imag_plot).opts(width=500)"
   ]
  },
  {
   "cell_type": "code",
   "execution_count": null,
   "metadata": {},
   "outputs": [],
   "source": [
    "# Señal rectangular\n",
    "Fs = 40\n",
    "t = np.arange(0, 5, step=1./Fs)\n",
    "s = np.zeros_like(t)\n",
    "s[np.abs(t)<1] = 1\n",
    "f = scipy.fft.fftshift(scipy.fft.fftfreq(n=len(s), d=1/Fs))\n",
    "S = scipy.fft.fftshift(scipy.fft.fft(s))\n",
    "\n",
    "real_plot = hv.Curve((f, np.real(S)), 'Frecuencia', 'Espectro', label='Real')\n",
    "imag_plot = hv.Curve((f, np.imag(S)), 'Frecuencia', 'Espectro', label='Imaginario')\n",
    "(real_plot + imag_plot).opts(width=500)"
   ]
  },
  {
   "cell_type": "markdown",
   "metadata": {},
   "source": [
    "### Diferencia en desempeño "
   ]
  },
  {
   "cell_type": "markdown",
   "metadata": {},
   "source": [
    "Comparemos ahora la diferencia en tiempo de cómputo entra la DFT calculada como producto matricial y la FFT \n",
    "\n",
    "Usaremos la magia `timeit` de IPython para medir el tiempo de las rutinas"
   ]
  },
  {
   "cell_type": "code",
   "execution_count": null,
   "metadata": {
    "slideshow": {
     "slide_type": "fragment"
    }
   },
   "outputs": [],
   "source": [
    "time_dft, time_fft = [], []\n",
    "for N in [2, 5, 10, 20, 50, 100, 200, 1000]:\n",
    "    t = np.linspace(0, N-1, num=N)\n",
    "    s = np.cos(2.0*np.pi*t)\n",
    "    ans=%timeit -q -o -n10 -r10 scipy.fft.fftshift(scipy.fft.fft(s))\n",
    "    time_fft.append(ans)\n",
    "    f = scipy.fft.fftfreq(n=N, d=1)\n",
    "    tf = t[:, np.newaxis]*f[:, np.newaxis].T\n",
    "    ans=%timeit -q -o -n10 -r10 np.dot(s, np.exp(-1j*2.0*np.pi*tf))\n",
    "    time_dft.append(ans)\n",
    "    #display(np.allclose(scipy.fft.fft(s), np.dot(s, np.exp(-1j*2.0*np.pi*tf))))"
   ]
  },
  {
   "cell_type": "code",
   "execution_count": null,
   "metadata": {},
   "outputs": [],
   "source": [
    "plot_time_dft = hv.Curve((np.array([2, 5, 10, 20, 50, 100, 200, 1000]), \n",
    "                          np.array([time.average for time in time_dft])), 'N', 'Tiempo [s]', label='DFT')\n",
    "plot_time_fft = hv.Curve((np.array([2, 5, 10, 20, 50, 100, 200, 1000]), \n",
    "                          np.array([time.average for time in time_fft])), 'N', 'Tiempo [s]', label='FFT')\n",
    "(plot_time_dft * plot_time_fft).opts(width=500, logx=True, logy=True, legend_position='top_left')"
   ]
  },
  {
   "cell_type": "markdown",
   "metadata": {},
   "source": [
    "- Para $N<20$ la DFT es más rápida, aunque la diferencia no es muy notoria. \n",
    "- Para $N>20$ la FFT mantiene un tiempo casi constante, mientras que la DFT termina siendo casi dos órdenes de magnitud más costosa"
   ]
  },
  {
   "cell_type": "code",
   "execution_count": null,
   "metadata": {},
   "outputs": [],
   "source": []
  }
 ],
 "metadata": {
  "kernelspec": {
   "display_name": "Python 3",
   "language": "python",
   "name": "python3"
  },
  "language_info": {
   "codemirror_mode": {
    "name": "ipython",
    "version": 3
   },
   "file_extension": ".py",
   "mimetype": "text/x-python",
   "name": "python",
   "nbconvert_exporter": "python",
   "pygments_lexer": "ipython3",
   "version": "3.9.6"
  },
  "toc": {
   "base_numbering": 1,
   "nav_menu": {},
   "number_sections": true,
   "sideBar": true,
   "skip_h1_title": false,
   "title_cell": "Table of Contents",
   "title_sidebar": "Contents",
   "toc_cell": false,
   "toc_position": {},
   "toc_section_display": true,
   "toc_window_display": true
  }
 },
 "nbformat": 4,
 "nbformat_minor": 2
}
