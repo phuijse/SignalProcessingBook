{
 "cells": [
  {
   "cell_type": "code",
   "execution_count": null,
   "metadata": {},
   "outputs": [],
   "source": [
    "import holoviews as hv\n",
    "hv.extension('bokeh')"
   ]
  },
  {
   "cell_type": "code",
   "execution_count": null,
   "metadata": {},
   "outputs": [],
   "source": [
    "import numpy as np\n",
    "import scipy.signal"
   ]
  },
  {
   "cell_type": "markdown",
   "metadata": {},
   "source": [
    "# Espectro y Transformada de Fourier"
   ]
  },
  {
   "cell_type": "markdown",
   "metadata": {
    "slideshow": {
     "slide_type": "slide"
    }
   },
   "source": [
    "## Espectro de frecuencia\n",
    "\n",
    "### Breve historia\n",
    "\n",
    "- Isaac Newton llamó **espectros** a los componentes que forman la luz blanca y que normalmente no se pueden ver\n",
    "- Newton mostró usando prismas que la luz blanca puede descomponerse en colores y viceverza\n",
    "- Hoy entendemos que la luz como onda tiene una **frecuencia asociada** y que cada color es una frecuencia particular\n",
    "\n",
    "\n",
    "<table><tr><td>\n",
    "\n",
    "<img src=\"../images/fourier-newton.jpg\" width=\"400\" align=\"center\">  \n",
    "\n",
    "</td><td>\n",
    "\n",
    "<img src=\"../images/fourier-prism.jpg\" width=\"400\" align=\"center\">  \n",
    "\n",
    "</td></tr></table>\n",
    "\n",
    "\n",
    "Paradójicamente, Newton nunca acepto que esto se debía a la frecuencia de la radiación ya que creía en la teoría corpuscular de la luz\n"
   ]
  },
  {
   "cell_type": "markdown",
   "metadata": {
    "slideshow": {
     "slide_type": "subslide"
    }
   },
   "source": [
    "### Ondas y señales sinusoidales\n",
    "\n",
    "\n",
    "Una onda es una perturbación que transporta energía a través del espacio\n",
    "\n",
    "Tipicamente se describe por su frecuencia, amplitud y desfase. La frecuencia (Hertz) es el recíproco del período (segundos)\n",
    "\n",
    "La siguiente es una función del tiempo completamente descrita por su amplitud $A$, frecuencia $f$ (período $P=1/f$) y fase $\\phi$\n",
    "\n",
    "$$\n",
    "s(t) = A \\cos (2 \\pi f t + \\phi)\n",
    "$$\n",
    "\n",
    "Observe en el siguiente ejemplo como cambia la señal al modificar sus parámetros"
   ]
  },
  {
   "cell_type": "code",
   "execution_count": null,
   "metadata": {},
   "outputs": [],
   "source": [
    "def wave(time, frequency, phase, amplitude):\n",
    "    return amplitude*np.cos(2.0*np.pi*time*frequency + phase)"
   ]
  },
  {
   "cell_type": "code",
   "execution_count": null,
   "metadata": {},
   "outputs": [],
   "source": [
    "signal_plot = hv.HoloMap(kdims=['Amplitud', 'Frecuencia', 'Desfase'])\n",
    "\n",
    "t = np.linspace(0, 2, num=1000)\n",
    "for A in [0.5, 1.]:\n",
    "    for f in [0.5, 1, 2]:\n",
    "        for phi in np.arange(0., np.pi, np.pi/10):\n",
    "            signal_plot[(A, f, phi)] = hv.Curve((t, wave(t, f, phi, A)))\n",
    "            \n",
    "signal_plot.opts(hv.opts.Curve(width=500, height=300))"
   ]
  },
  {
   "cell_type": "markdown",
   "metadata": {},
   "source": [
    "### Componentes frecuenciales y descomposiciones armónicas\n",
    "\n",
    "Una sinusoide que es períodica en una fracción\n",
    "\n",
    "$$\n",
    "\\frac{P}{k} ~ \\forall k \\in \\mathbb{N}\n",
    "$$ \n",
    "\n",
    "también es periódica en $P$\n",
    "\n",
    "En general llamamos a \n",
    "\n",
    "- $f_0 = 1/P$ la **frecuencia fundamental**\n",
    "- $f_k = k/P = kf_0$ el **k-esimo armónico de $f_0$**\n",
    "\n",
    "Si sumamos armónicos con distintas amplitudes el resultado es una nueva función periódica que tiene la misma frecuencia fundamental\n",
    "\n",
    "En el siguiente ejemplo modifique las amplitudes de cada armónico y observe la señal resultante\n",
    "\n",
    "$$\n",
    "s(t) = A_1 \\cos(2\\pi f_0 t ) + A_2 \\cos(2\\pi 2 f_0 t) + A_3 \\cos(2\\pi 3 f_0 t)\n",
    "$$\n",
    "\n",
    "Note que la suma de tres sinusoides no es necesariamente otra sinusoide"
   ]
  },
  {
   "cell_type": "code",
   "execution_count": null,
   "metadata": {},
   "outputs": [],
   "source": [
    "t = np.linspace(0, 2, num=1000)\n",
    "\n",
    "def my_signal(time, frequency, Amplitudes):\n",
    "    s = 0\n",
    "    for k, A in enumerate(Amplitudes):\n",
    "        s += A*np.cos(2.0*np.pi*time*(k+1)*frequency) \n",
    "    return s"
   ]
  },
  {
   "cell_type": "code",
   "execution_count": null,
   "metadata": {},
   "outputs": [],
   "source": [
    "signal_plot = hv.HoloMap(kdims=['Amplitud fundamental', \n",
    "                                'Amplitud 1er armónico', \n",
    "                                'Amplitud 2do armónico', \n",
    "                                'Frecuencia'])\n",
    "for f in [1, 2]:\n",
    "    for A1 in [0.5, 1.]:\n",
    "        for A2 in [0, 0.5, 1.]:\n",
    "            for A3 in [0, 0.5, 1.]:\n",
    "                signal_plot[(A1, A2, A3, f)] = hv.Curve((t, my_signal(t, f, [A1, A2, A3])))\n",
    "                \n",
    "signal_plot.opts(hv.opts.Curve(width=500, height=300))"
   ]
  },
  {
   "cell_type": "markdown",
   "metadata": {
    "slideshow": {
     "slide_type": "subslide"
    }
   },
   "source": [
    "La noción de sintetizar señales en base a sinusoides se generaliza por medio de la **serie trigonométrica**\n",
    "\n",
    "$$\n",
    "\\begin{align}\n",
    "s(t) &= \\sum_{k=0}^\\infty A_k \\cos(2\\pi k f t + \\phi_k) \\nonumber \\\\\n",
    "&= \\sum_{k=0}^\\infty a_k \\cos(2\\pi k f t) + b_k \\sin(2\\pi k f t), \\nonumber\n",
    "\\end{align}\n",
    "$$\n",
    "\n",
    "donde $a_k = A_k \\cos(\\phi_k)$ y $b_k = -A_k \\sin(\\phi_k)$ se obtienen de $\\cos(x+y) = \\cos(x)\\cos(y) - \\sin(x)\\sin(y)$\n",
    "\n",
    "Con esto podemos generar funciones periódicas arbitrarias definiendo $\\{a_k, b_k\\}$ y $f$"
   ]
  },
  {
   "cell_type": "markdown",
   "metadata": {},
   "source": [
    "**Ejemplo**\n",
    "\n",
    "Sea por ejemplo $a_k = 0$ y $b_k = 1/k$  $\\forall k$\n",
    "\n",
    "¿Qué señal se obtiene al agregar cada vez más armónicos?"
   ]
  },
  {
   "cell_type": "code",
   "execution_count": null,
   "metadata": {},
   "outputs": [],
   "source": [
    "t = np.linspace(0, 5, num=1000)\n",
    "\n",
    "def trigonometric_series(time, frequency, K):\n",
    "    s = 0\n",
    "    for k in range(1, K):\n",
    "        s += np.sin(2.0*np.pi*time*k*frequency)/(k) \n",
    "    return s"
   ]
  },
  {
   "cell_type": "code",
   "execution_count": null,
   "metadata": {},
   "outputs": [],
   "source": [
    "signal_plot = hv.HoloMap(kdims=['Cantidad de armónicos', 'Frecuencia'])\n",
    "for f in [1, 2]:\n",
    "    for K in [1, 2, 3, 5, 10, 20, 50, 100]:     \n",
    "        signal_plot[(K, f)] = hv.Curve((t, trigonometric_series(t, f, K)))\n",
    "                \n",
    "signal_plot.opts(hv.opts.Curve(width=500, height=300))"
   ]
  },
  {
   "cell_type": "markdown",
   "metadata": {
    "slideshow": {
     "slide_type": "subslide"
    }
   },
   "source": [
    "```{note}\n",
    "Hasta ahora hemos visto como sintetizar señales a partir de sus armónicos, pero también podemos hacer el proceso inverso, es decir encontrar los armónicos de una señal dada\n",
    "```    \n",
    "\n",
    "\n",
    "Tal como Newton descompuso la luz blanca en colores, nosotros podemos descomponer una señal en sus armónicos usando la **serie de Fourier**"
   ]
  },
  {
   "cell_type": "markdown",
   "metadata": {
    "slideshow": {
     "slide_type": "subslide"
    }
   },
   "source": [
    "## Serie de Fourier\n",
    "\n",
    "Un poco de historia: En 1807 *Jean Baptiste Joseph Fourier* presenta un teorema indicando que una función periódica arbitraria con periódo $P=1/f_0$ puede representarse como una suma ponderada de senos y cosenos\n",
    "\n",
    "\n",
    "La serie de Fourier (FS) es una generalización de la serie trigonométrica a los números complejos. Puede revisar el apéndice de esta lección si necesita refrescar la memoria sobre los números complejos y sus representaciones\n",
    "\n",
    "La FS se define como\n",
    "\n",
    "$$\n",
    "s(t) = \\sum_{k=-\\infty}^{\\infty} c_k e^{j 2\\pi k f_0 t}, ~~ c_k \\in \\mathbb{C}\n",
    "$$\n",
    "\n",
    "\n",
    "A continuación veremos como obtener los coeficientes de Fourier $c_k$ para una señal periódicas arbitraria"
   ]
  },
  {
   "cell_type": "markdown",
   "metadata": {
    "slideshow": {
     "slide_type": "subslide"
    }
   },
   "source": [
    "### Base de Fourier\n",
    "\n",
    "El conjunto de funciones \n",
    "\n",
    "$$\n",
    "v_k (t) = \\frac{1}{\\sqrt{P}} e^{j2\\pi k t / P} ~~ \\forall k \\in \\mathbb{Z}\n",
    "$$\n",
    "\n",
    "se conoce como base de Fourier y cumple con\n",
    "\n",
    "$$\n",
    "\\langle v_n (t), v_m (t) \\rangle = \\int_0^P v_n (t) v_m^* (t) dt = \\frac{1}{P} \\int_0^P e^{j2\\pi (n-m)t/P} dt =\\begin{cases}1 & n=m \\\\ 0 & n \\neq m\\end{cases}\n",
    "$$\n",
    "\n",
    "La base de Fourier es un conjunto ortonormal en el espacio de funciones periódicas con periódo $P$. Esto es facilmente comprobable si estudiamos\n",
    "\n",
    "$$\n",
    "\\int_0^P e^{j2\\pi k t / P} dt = \\int_0^P \\cos(2\\pi k t/P) dt + j \\int_0^P \\sin(2\\pi k t/P) dt \n",
    "$$"
   ]
  },
  {
   "cell_type": "markdown",
   "metadata": {
    "slideshow": {
     "slide_type": "subslide"
    }
   },
   "source": [
    "Podemos usar esta propiedad y escribir el producto punto entre una señal y el m-esimo elemento de la base de Fourier\n",
    "\n",
    "$$\n",
    "\\begin{align}\n",
    "\\langle s(t),  e^{j 2\\pi m t/ P} \\rangle &= \\int_0^P s(t) e^{-j 2\\pi m t/ P} dt \\nonumber \\\\\n",
    "&= \\int_0^P \\sum_{k=-\\infty}^{\\infty} c_k e^{j 2\\pi k t/P} e^{-j 2\\pi m t/P} dt \\nonumber \\\\\n",
    "&= \\sum_{k=-\\infty}^{\\infty} c_k  \\int_0^P e^{j 2\\pi (k-m) t/P}  dt \\nonumber \\\\\n",
    "&=  c_m  P \\nonumber \\\\\n",
    "\\end{align}\n",
    "$$\n",
    "\n",
    "Esto nos da una forma sencilla para obtener los $c_m$ de una señal periódica arbitraria\n",
    "\n",
    "$$\n",
    "c_m = \\frac{1}{P} \\int_0^P s(t) e^{-j 2\\pi m t/P} dt\n",
    "$$\n"
   ]
  },
  {
   "cell_type": "markdown",
   "metadata": {
    "slideshow": {
     "slide_type": "subslide"
    }
   },
   "source": [
    "### Ejemplo formativo: FS de señal cuadrada\n",
    "\n",
    "Sea \n",
    "\n",
    "$$\n",
    "s(t) = \\begin{cases} 1 & t \\in[0, \\frac{P}{2}] \\\\ 0 & t \\in [\\frac{P}{2}, P] \\end{cases}\n",
    "$$\n",
    "\n",
    "Los coeficientes de su FS son\n",
    "\n",
    "$$\n",
    "c_0 = \\frac{1}{P} \\int_0^P s(t) dt = \\frac{1}{P} \\int_0^{P/2} dt = \\frac{1}{2}\n",
    "$$\n",
    "\n",
    "y\n",
    "\n",
    "$$\n",
    "\\begin{align}\n",
    "c_k &= \\frac{1}{P} \\int_0^\\frac{P}{2} e^{-j2\\pi kt/P} dt  \\nonumber  \\\\  \n",
    "&= -\\frac{j}{P}  \\int_0^\\frac{P}{2} \\sin(2\\pi kt/P) dt \\nonumber \\\\\n",
    "&=  0 + j \\frac{\\cos(\\pi k)  - 1}{2\\pi k} \\nonumber \n",
    "\\end{align}\n",
    "$$\n",
    "\n",
    "Notemos que a excepción de $c_0$ los coeficientes sólo tienen parte imaginaria. Además sólo los armónicos impares (senos) son distintos de cero"
   ]
  },
  {
   "cell_type": "markdown",
   "metadata": {
    "slideshow": {
     "slide_type": "fragment"
    }
   },
   "source": [
    "Finalmente la FS está dada por\n",
    "\n",
    "$$\n",
    "\\begin{align}\n",
    "s(t) &= \\sum_{k=-\\infty}^{\\infty} j \\frac{\\cos(\\pi k)  - 1}{2\\pi k}  e^{j 2\\pi k t/P} \\nonumber \\\\\n",
    "&= \\frac{1}{2} + \\sum_{k=1}^{\\infty}  \\frac{1 - \\cos(\\pi k)}{\\pi k} \\sin(2\\pi k t/P)  \\nonumber \n",
    "\\end{align}\n",
    "$$\n",
    "\n",
    "Programemos esta expresión y visualicemos el resultado al incrementar cada vez la cantidad de armónicos"
   ]
  },
  {
   "cell_type": "code",
   "execution_count": null,
   "metadata": {},
   "outputs": [],
   "source": [
    "t = np.linspace(0, 5, num=1000)\n",
    "\n",
    "def FS_square(tiempo, frecuencia, K):\n",
    "    s = 0.5 # C_0\n",
    "    for k in range(1, K):\n",
    "        c_k = (1-np.cos(np.pi*k))/(np.pi*k)\n",
    "        s += c_k*np.sin(2.0*np.pi*tiempo*k*frecuencia)\n",
    "    return s"
   ]
  },
  {
   "cell_type": "code",
   "execution_count": null,
   "metadata": {},
   "outputs": [],
   "source": [
    "signal_plot = hv.HoloMap(kdims=['Cantidad de armónicos', 'Frecuencia', ])\n",
    "\n",
    "for f in [1, 2]:\n",
    "    for K in [1, 2, 3, 5, 10, 20, 50, 100]:     \n",
    "        signal_plot[(K, f)] = hv.Curve((t, FS_square(t, f, K)))\n",
    "                \n",
    "signal_plot.opts(hv.opts.Curve(width=500, height=300))"
   ]
  },
  {
   "cell_type": "markdown",
   "metadata": {
    "slideshow": {
     "slide_type": "subslide"
    }
   },
   "source": [
    "### Propiedades de la FS\n",
    "\n",
    "A continuación se enumeran algunas de las propiedades más importantes de la FS\n",
    "\n",
    "- Si $s(t)$ es par entonces $c_k$ es par\n",
    "- Si $s(t)$ es impar entonces $c_k$ es impar\n",
    "- Si $s(t + P/2) = -s(t)$ (antiperiódica) entonces $c_k=0$ para k par\n",
    "- Si $s(t)$ es real y par entonces $c_k$ es real y par\n",
    "- Si $s(t)$ es real e impar entonces $c_k$ es imaginario e impar\n",
    "- **La FS es lineal**\n",
    "\n",
    "El **Teorema de Parseval** relaciona la potencia de una señal periódica arbitraria con sus coeficientes de Fourier\n",
    "\n",
    "$$\n",
    "\\begin{align}\n",
    "P_s &= \\frac{1}{P} \\int_0^P |s(t)|^2 dt \\nonumber \\\\\n",
    "&= \\frac{1}{P} \\int_0^P |\\sum_{k=-\\infty}^{\\infty} c_k e^{j 2\\pi k t/P }|^2 dt \\nonumber \\\\\n",
    "&= \\frac{1}{P} \\int_0^P \\sum_{k=-\\infty}^{\\infty} |c_k |^2 dt \\nonumber \\\\\n",
    "&= \\sum_{k=-\\infty}^\\infty |c_k|^2 \\nonumber\n",
    "\\end{align}\n",
    "$$"
   ]
  },
  {
   "cell_type": "markdown",
   "metadata": {
    "slideshow": {
     "slide_type": "slide"
    }
   },
   "source": [
    "## Transformada de Fourier\n",
    "\n",
    "Podemos extender el concepto de descomposición armónica a señales no periódicas usando la **Transformada de Fourier**. Esta herramienta matemática será fundamental en este curso\n",
    "    \n",
    "\n",
    "- El concepto de frecuencia puede aplicarse también a señales no-periódicas\n",
    "- Según **Joseph Fourier** una señal no-periódica puede ser vista como una señal periódica **con un período infinito**\n",
    "- El único requisito es que ahora las frecuencias son un continuo, con un espaciado infinitesimal\n",
    "\n",
    "\n",
    "A continuación veremos que una señal analógica puede ser vista como continua en el tiempo o continua en frecuencia. En la próxima lección veremos la Transformada de Fourier discreta (DFT) para señales digitales\n"
   ]
  },
  {
   "cell_type": "markdown",
   "metadata": {
    "slideshow": {
     "slide_type": "subslide"
    }
   },
   "source": [
    "### Derivación de la transformada de Fourier a partir de la FS\n",
    "\n",
    "Sea un tren de pulsos cuadrado con periódo P y ancho $2T < P$ definido en un período como\n",
    "\n",
    "$$\n",
    "s(t) = \\begin{cases} 1, & |t| < T \\\\ 0, & T<|t| < P/2 \\end{cases}\n",
    "$$"
   ]
  },
  {
   "cell_type": "markdown",
   "metadata": {
    "slideshow": {
     "slide_type": "fragment"
    }
   },
   "source": [
    "Los coeficientes de su serie de Fourier son\n",
    "\n",
    "$$\n",
    "c_0 = \\frac{1}{P} \\int_{-P/2}^{P/2} s(t) dt = \\frac{1}{P} \\int_{-T}^{T}  dt = \\frac{2T}{P}\n",
    "$$\n",
    "\n",
    "y\n",
    "\n",
    "$$\n",
    "\\begin{align}\n",
    "c_k &= \\frac{1}{P} \\int_{-T}^{T} e^{-j2\\pi kt/P} dt  \\nonumber \\\\\n",
    "&= \\frac{1}{\\pi k} \\sin \\left (2\\pi k \\frac{T}{P} \\right)  \\nonumber \n",
    "\\end{align}\n",
    "$$\n",
    "\n",
    "\n",
    "En el siguiente ejemplo la figura izquierda muestra la señal de pulso cuadrado mientras que la derecha muestra $c_k$ en función de $k$\n",
    "\n",
    "¿Qué ocurre con $c_k$ a medida que $P$ aumenta ($f$ disminuye)?"
   ]
  },
  {
   "cell_type": "code",
   "execution_count": null,
   "metadata": {},
   "outputs": [],
   "source": [
    "def fs_coef(P, T, maxK=200):\n",
    "    K = np.arange(-maxK, maxK)\n",
    "    ck = np.zeros_like(K, dtype='float32')\n",
    "    ck[len(K)//2] = 2*T/P\n",
    "    for k in range(1, K[-1]):\n",
    "        ck[len(K)//2+k] = np.sin(2*np.pi*k*T/P)/(np.pi*k)\n",
    "        ck[len(K)//2-k] = ck[len(K)//2+k]\n",
    "    return K, ck\n",
    "\n",
    "def synthesis(time, ck, P):\n",
    "    maxK = len(ck)//2\n",
    "    s = ck[maxK]\n",
    "    for k in range(1, maxK):    \n",
    "        s += 2*np.cos(2*np.pi*time*k/P)*ck[maxK+k]\n",
    "    return s   "
   ]
  },
  {
   "cell_type": "code",
   "execution_count": null,
   "metadata": {},
   "outputs": [],
   "source": [
    "t = np.linspace(-3, 3, num=2000)\n",
    "T = 0.25\n",
    "\n",
    "signal_plot = hv.HoloMap(kdims=['Periodo'])\n",
    "fs_plot = hv.HoloMap(kdims=['Periodo'])\n",
    "for P in [1, 2, 3, 5, 10]:\n",
    "    K, ck = fs_coef(P, T)\n",
    "    fs_plot[P] =  hv.Spikes((K, P*ck), 'Frecuencia (k)', 'P x ck').opts(xlim=(-50, 50))\n",
    "    signal_plot[P] =  hv.Curve((t, synthesis(t, ck, P)), 'Tiempo (segundos)', 'Señal')\n",
    "    \n",
    "\n",
    "(signal_plot+fs_plot)"
   ]
  },
  {
   "cell_type": "markdown",
   "metadata": {
    "slideshow": {
     "slide_type": "fragment"
    }
   },
   "source": [
    "De la figura tenemos que cuando P es grande (o equivalentemente f es pequeño) \n",
    "\n",
    "- el tren de pulsos tiende a un único pulso\n",
    "- los coeficientes toman una \"forma suave\"\n"
   ]
  },
  {
   "cell_type": "markdown",
   "metadata": {
    "slideshow": {
     "slide_type": "subslide"
    }
   },
   "source": [
    "Llamaremos a esta forma suave de $P \\cdot c_k$ la \"envolvente\" de los coeficientes. Si tomamos el caso $P \\to \\infty$ la envolvente resultante es\n",
    "\n",
    "$$\n",
    "\\lim_{P\\to \\infty} P c_k = S(f) = \\int_{-\\infty}^{\\infty} s(t) e^{-j 2\\pi t  f} dt,\n",
    "$$\n",
    "\n",
    "o también\n",
    "\n",
    "$$\n",
    "S(\\omega) = \\int_{-\\infty}^{\\infty} s(t) e^{-j\\omega t } dt,\n",
    "$$\n",
    "\n",
    "donde $\\omega = 2\\pi f$ se llama frecuencia angular.\n",
    "\n",
    "```{note}\n",
    "Esto se conoce como transformada de Fourier directa o integral de Fourier\n",
    "```\n"
   ]
  },
  {
   "cell_type": "markdown",
   "metadata": {},
   "source": [
    "Reemplazando $c_k = f_0 S(k f_0)$ y tomando el límite cuando $f_0 = \\frac{1}{P} \\to 0$ tenemos\n",
    "\n",
    "$$\n",
    "\\begin{align}\n",
    "s(t) &= \\lim_{f_0 \\to 0} \\sum_{k=-\\infty}^{\\infty} f_0 S(k f_0) e^{j 2\\pi t  k f_0} \\nonumber  \\\\\n",
    "&= \\int_{-\\infty}^{\\infty} S(f) e^{j 2\\pi t  f} df \\nonumber \n",
    "\\end{align}\n",
    "$$\n",
    "\n",
    "o también\n",
    "\n",
    "$$\n",
    "s(t) = \\frac{1}{2\\pi} \\int_{-\\infty}^{\\infty} S(\\omega) e^{j \\omega t } d\\omega, \n",
    "$$\n",
    "\n",
    "que se conoce como la transformada de Fourier inversa\n",
    "\n",
    "\n"
   ]
  },
  {
   "cell_type": "markdown",
   "metadata": {},
   "source": [
    "### Par de Fourier\n",
    "\n",
    "Los operadores (transformada de Fourier directa) \n",
    "\n",
    "$$\n",
    "S(\\omega) = \\mathbb{FT} [s(t)] = \\int_{-\\infty}^{\\infty} s(t) e^{-j\\omega t } dt\n",
    "$$\n",
    "\n",
    "y (transformada de Fourier inversa)\n",
    "\n",
    "$$\n",
    "s(t) = \\mathbb{FT}^{-1} [S(\\omega)] = \\frac{1}{2\\pi} \\int_{-\\infty}^{\\infty} S(\\omega) e^{j \\omega t } d\\omega, \\nonumber \n",
    "$$\n",
    "\n",
    "se conocen como par de Fourier y nos permiten analizar una señal en el dominio del tiempo o en el dominio de la frecuencia sin pérdidas"
   ]
  },
  {
   "cell_type": "markdown",
   "metadata": {
    "slideshow": {
     "slide_type": "subslide"
    }
   },
   "source": [
    "### Ejemplo: Transformada del pulso cuadrado\n",
    "\n",
    "Consideremos nuevamente el pulso cuadrado\n",
    "\n",
    "$$\n",
    "s(t) = \\begin{cases} 1, & |t| < T \\\\ 0, & |t| > T\\end{cases}\n",
    "$$\n",
    "\n",
    "su transformada de Fourier es\n",
    "\n",
    "$$\n",
    "\\begin{align}\n",
    "S(\\omega) &= \\int_{-\\infty}^{\\infty} s(t) e^{-j\\omega t } dt \\nonumber \\\\\n",
    "&= \\int_{-T}^{T} e^{-j\\omega t } dt \\nonumber \\\\\n",
    "&= \\frac{1}{-j\\omega} \\left(e^{-j\\omega T }  - e^{j\\omega T } \\right) \\nonumber \\\\\n",
    "&= \\frac{2}{\\omega}  \\sin(\\omega T) = 2T \\text{sinc}(\\omega T) \\nonumber \n",
    "\\end{align}\n",
    "$$\n",
    "\n",
    "Esto calza precisamente con la \"envolvente\" que vimos anteriomente"
   ]
  },
  {
   "cell_type": "code",
   "execution_count": null,
   "metadata": {},
   "outputs": [],
   "source": [
    "T = 0.25\n",
    "\n",
    "w = np.arange(-100, 100)\n",
    "S = 2*np.sin(w*T)/w\n",
    "S[w==0] = 0.5"
   ]
  },
  {
   "cell_type": "code",
   "execution_count": null,
   "metadata": {},
   "outputs": [],
   "source": [
    "hv.Curve((w, S), 'Frecuencia angular', 'Espectro').opts(width=500)"
   ]
  },
  {
   "cell_type": "markdown",
   "metadata": {
    "slideshow": {
     "slide_type": "subslide"
    }
   },
   "source": [
    "### Propiedades de la transformada de Fourier\n",
    "\n",
    "\n",
    "1) La transformada de Fourier es un operador lineal, si tenemos dos señales y dos valores escalares entonces\n",
    "\n",
    "$$\n",
    "\\mathbb{FT}[c_1 s_1(t) + c_2 s_2(t)] = c_1\\mathbb{FT}[s_1(t)] + c_2\\mathbb{FT}[s_2(t)] \n",
    "$$\n",
    "\n",
    "2) El operador de convolución en el tiempo se convierte en multiplicación en frecuencia \n",
    "\n",
    "$$\n",
    "\\mathbb{FT}[(s_1 * s_2)(t)] =  \\mathbb{FT}[s_1(t)] \\cdot \\mathbb{FT}[s_2(t)],\n",
    "$$\n",
    "\n",
    "donde \n",
    "\n",
    "$$\n",
    "(s_1 * s_2)(t) = \\int s_1(\\tau) s_2(t-\\tau) d\\tau\n",
    "$$\n",
    "\n",
    "es la operación de convolución\n",
    "\n",
    "3) Así mismo, la multiplicación en frecuencia se convierte en multiplicación en el tiempo\n",
    "\n",
    "$$\n",
    "\\mathbb{FT}[s_1(t)\\cdot s_2(t)] =  \\frac{1}{2\\pi}\\mathbb{FT}[s_1(t)] * \\mathbb{FT}[s_2(t)]  \n",
    "$$\n",
    "\n",
    "Finalmente el Teorema de Parseval nos dice que la energía se preserva entre frecuencia y tiempo\n",
    "\n",
    "$$\n",
    "\\int | s(t) |^2 dt = \\frac{1}{2\\pi} \\int | S(\\omega) |^2 d\\omega\n",
    "$$\n"
   ]
  },
  {
   "cell_type": "markdown",
   "metadata": {
    "slideshow": {
     "slide_type": "subslide"
    }
   },
   "source": [
    "### Definición: Espectros de amplitud y fase\n",
    "\n",
    "Llamamos a $S(\\omega)$ el espectro (transformada de Fourier) de una señal $s(t)$ \n",
    "\n",
    "El espectro es un número complejo que podemos escribir en notación polar como\n",
    "\n",
    "$$\n",
    "S(\\omega) = |S(\\omega)| e^{j\\Phi(\\omega)},\n",
    "$$\n",
    "\n",
    "donde $|S(\\omega)|$ se conoce como **espectro de amplitud** y $\\Phi(\\omega)$ como **espectro de fase**"
   ]
  },
  {
   "cell_type": "markdown",
   "metadata": {},
   "source": [
    "## Resumen de la lección\n",
    "\n",
    "En esta lección aprendimos\n",
    "\n",
    "- a realizar síntesis de señales usando sinusoides\n",
    "- a descomponer señales periódicas usando la serie de Fourier\n",
    "- a descomponer señales periódicas y no periódicas usando la transformada de Fourier\n",
    "\n"
   ]
  },
  {
   "cell_type": "markdown",
   "metadata": {
    "slideshow": {
     "slide_type": "slide"
    }
   },
   "source": [
    "## Apéndice: Números complejos\n",
    "\n",
    "Sea z un número complejo, lo podemos escribir en forma cartesiana \n",
    "\n",
    "$$\n",
    "z = \\Re[z] + j \\Im[z] = a + j b\n",
    "$$\n",
    "\n",
    "donde $a \\in \\mathbb{R}$, $b \\in \\mathbb{R}$ y $j = \\sqrt{-1}$ es el número imaginario.\n",
    "\n",
    "\n",
    "También podemos escribirlo en forma polar\n",
    "\n",
    "$$\n",
    "z = c e^{j\\phi} = c \\cos(\\phi) + j c \\sin(\\phi)\n",
    "$$\n",
    "\n",
    "donde \n",
    "- $c = |z| = \\sqrt{a^2 + b^2} \\in [0, \\infty]$ es la magnitud \n",
    "- $\\phi = \\angle z = \\tan^{-1} \\left (\\frac{b}{a} \\right) \\in [-\\frac{\\pi}{2}, \\frac{\\pi}{2}]$ es el ángulo\n",
    "- $a = c \\cos(\\phi)$\n",
    "- $b = c\\sin(\\phi)$\n",
    "\n",
    "se pueden escribir las siguientes relaciones \n",
    "\n",
    "$$\n",
    "\\cos(\\phi) = \\frac{1}{2} (e^{j\\phi} + e^{-j\\phi}) ~\\wedge~ \\sin(\\phi) = \\frac{1}{2j} (e^{j\\phi} - e^{-j\\phi})\n",
    "$$\n",
    "\n",
    "el complejo conjugado de $z = a + j b = c e^{j\\phi}$ es\n",
    "\n",
    "$$\n",
    "z^* = a - jb = c e^{-j\\phi}\n",
    "$$"
   ]
  },
  {
   "cell_type": "code",
   "execution_count": null,
   "metadata": {},
   "outputs": [],
   "source": []
  }
 ],
 "metadata": {
  "kernelspec": {
   "display_name": "Python 3",
   "language": "python",
   "name": "python3"
  },
  "language_info": {
   "codemirror_mode": {
    "name": "ipython",
    "version": 3
   },
   "file_extension": ".py",
   "mimetype": "text/x-python",
   "name": "python",
   "nbconvert_exporter": "python",
   "pygments_lexer": "ipython3",
   "version": "3.9.6"
  },
  "toc": {
   "base_numbering": 1,
   "nav_menu": {},
   "number_sections": true,
   "sideBar": true,
   "skip_h1_title": false,
   "title_cell": "Table of Contents",
   "title_sidebar": "Contents",
   "toc_cell": false,
   "toc_position": {},
   "toc_section_display": true,
   "toc_window_display": true
  }
 },
 "nbformat": 4,
 "nbformat_minor": 2
}
