{
 "cells": [
  {
   "cell_type": "code",
   "execution_count": null,
   "metadata": {},
   "outputs": [],
   "source": [
    "import holoviews as hv\n",
    "hv.extension('bokeh')\n",
    "hv.opts.defaults(hv.opts.Curve(width=500), \n",
    "                 hv.opts.Image(width=500, colorbar=True, cmap='Viridis'))"
   ]
  },
  {
   "cell_type": "code",
   "execution_count": null,
   "metadata": {},
   "outputs": [],
   "source": [
    "import numpy as np\n",
    "import scipy.signal\n",
    "import scipy.fft"
   ]
  },
  {
   "cell_type": "markdown",
   "metadata": {},
   "source": [
    "# Diseño de sistemas y filtros FIR\n",
    "\n",
    "En la lección anterior definimos un sistema FIR que transforma una obtiene una salida $y$ a partir de una entrada $x$ como\n",
    "\n",
    "$$\n",
    "y[n] = (h * x)[n]\n",
    "$$\n",
    "\n",
    "donde $h$ es un vector de largo $L+1$ que tiene los coeficientes del sistema y $*$ es la operación de convolución\n",
    "\n",
    "En esta lección veremos\n",
    "\n",
    "- La respuesta al impulso y respuesta en frecuencia de un sistema\n",
    "- La definición de filtro y los tipos básicos de filtros\n",
    "- Como diseñar un filtro FIR, es decir como decidir los valores del vector $h$"
   ]
  },
  {
   "cell_type": "markdown",
   "metadata": {},
   "source": [
    "## Respuesta al impulso de un sistema\n",
    "\n",
    "\n",
    "Sea el impulso unitario o delta de Kronecker\n",
    "\n",
    "$$\n",
    "\\delta[n-m] = \\begin{cases} 1 & n=m \\\\ 0 & n \\neq m \\end{cases}\n",
    "$$\n",
    "\n",
    "La **respuesta al impulso de un sistema discreto** es la salida obtenida cuando la entrada es un impulso unitario\n",
    "\n",
    "\n",
    "Para un sistema FIR arbitrario tenemos\n",
    "\n",
    "$$\n",
    "y[n]|_{x=\\delta} = (h * \\delta)[n] = \\sum_{j=0}^L h[j] \\delta[n-j] = \\begin{cases} h[n] & n \\in [0, L] \\\\ 0 & \\text{en otro caso} \\end{cases} \\\\\n",
    "$$\n",
    "\n",
    "es decir que la respuesta al impulso:\n",
    "\n",
    "-  tiene **una duración finita y luego decae a zero**\n",
    "-  recupera los coeficientes $h[j]$ del sistema\n",
    "\n",
    "En un sistema causal se tiene que $h[n] = 0 \\quad \\forall n < 0$\n",
    "\n",
    "Llamamos **soporte** del sistema a todos aquellos valores de $n$ tal que  $h[n] \\neq 0$\n"
   ]
  },
  {
   "cell_type": "markdown",
   "metadata": {},
   "source": [
    "### Ejemplo: Respuesta al impulso del sistema reverberante\n",
    "\n",
    "Para el sistema reverberante\n",
    "\n",
    "$$\n",
    "y[n] = x[n] + A x[n-m]\n",
    "$$\n",
    "\n",
    "la respuesta al impulso es\n",
    "\n",
    "$$\n",
    "y[n] = \\delta[n] + A \\delta[n-m] = \\begin{cases} 1 & n=0\\\\ A& n=m \\\\ 0 & \\text{en otro caso} \\end{cases}\n",
    "$$\n",
    "\n",
    "La respuesta al impulse me permite a recuperar los coeficientes del sistema en caso de que no los conociera"
   ]
  },
  {
   "cell_type": "markdown",
   "metadata": {},
   "source": [
    "## Respuesta en frecuencia de un sistema\n",
    "\n",
    "Sea un sistema lineal cuyos coeficientes no cambian en el tiempo, como el sistema FIR que hemos estado estudiando\n",
    "\n",
    "Por propiedad de la transformada de Fourier sabemos que \n",
    "\n",
    "$$\n",
    "\\begin{align}\n",
    "\\text{DFT}_N [y[n]] & = \\text{DFT}_N [(h * x)[n]] \\nonumber \\\\\n",
    "\\text{DFT}_N [y[n]] & = \\text{DFT}_N [h[n]]  \\cdot \\text{DFT}_N [x[n]] \\nonumber \\\\\n",
    "Y[k] &= H[k] \\cdot X[k] , \n",
    "\\end{align}\n",
    "$$\n",
    "\n",
    "donde llamamos a $H[k]$ la **respuesta en frecuencia del sistema** \n",
    "\n",
    "La respuesta en frecuencia es **la transformada de Fourier de la respuesta al impulso**\n"
   ]
  },
  {
   "cell_type": "markdown",
   "metadata": {},
   "source": [
    "### Respuesta en frecuencia utilizando Python\n",
    "\n",
    "Podemos calcular la respuesta en frecuencia de un filtro a partir de su respuesta al impulso $h$ usando la función\n",
    "\n",
    "```python\n",
    "scipy.signal.freqz(b, # Coeficientes en el numerador h\n",
    "                   a=1, # Coeficientes en el denominador de h\n",
    "                   fs=6.28318 # Frecuencia de muestreo\n",
    "                   ...\n",
    "                  )\n",
    "```\n",
    "\n",
    "Para el caso de un filtro FIR solo existen coeficientes en el numerador por lo que no utilizamos el argumento $a$\n",
    "\n",
    "La función retorna \n",
    "\n",
    "```python\n",
    "freq, H = scipy.signal.freqz(b=h)\n",
    "```\n",
    "\n",
    "un arreglo de frecuencias y la respuesta en frecuencia (compleja)"
   ]
  },
  {
   "cell_type": "markdown",
   "metadata": {},
   "source": [
    "### Ejemplo: Respuesta en frecuencia del sistema promediador\n",
    "\n",
    "El sistema promediador que vimos la lección anterior tiene respuesta al impulso\n",
    "\n",
    "$$\n",
    "h[i] = \\begin{cases} 1/L & i < L \\\\ 0 & i > L \\end{cases}\n",
    "$$\n",
    "\n",
    "El valor absoluto de su respuesta en frecuencia es"
   ]
  },
  {
   "cell_type": "code",
   "execution_count": null,
   "metadata": {},
   "outputs": [],
   "source": [
    "p1, p2 = [], []\n",
    "\n",
    "for L in [10, 20, 50]:\n",
    "    h = np.zeros(shape=(100,))\n",
    "    h[:L] = 1/L\n",
    "    freq, H = scipy.signal.freqz(b=h, fs=1)\n",
    "    p1.append(h)\n",
    "    p2.append(np.abs(H))"
   ]
  },
  {
   "cell_type": "code",
   "execution_count": null,
   "metadata": {
    "tags": [
     "hide-input"
    ]
   },
   "outputs": [],
   "source": [
    "ph = hv.Overlay([hv.Curve((range(100), p), 'Tiempo', 'Respuesta al impulso') for p in p1]) \n",
    "pH = hv.Overlay([hv.Curve((freq, p), 'Frecuencia', 'Respuesta en frecuencia') for p in p2])\n",
    "hv.Layout([ph, pH]).cols(1).opts(hv.opts.Curve(height=200))"
   ]
  },
  {
   "cell_type": "markdown",
   "metadata": {},
   "source": [
    ":::{note}\n",
    "\n",
    "Mientras más ancho es el sistema en el dominio del tiempo ($L$ grande), más concentrada se vuelve su respuesta en frecuencia\n",
    "\n",
    ":::\n",
    "\n",
    "Si multiplicamos $H$ con el espectro de una señal, lo que estamos haciendo es atenuar las frecuencias altas\n",
    "\n",
    "Formalizaremos este concepto a continuación"
   ]
  },
  {
   "cell_type": "markdown",
   "metadata": {
    "slideshow": {
     "slide_type": "slide"
    }
   },
   "source": [
    "## Filtros digitales\n",
    "\n",
    "Un **filtro** es un sistema cuyo objetivo es reducir o resaltar un aspecto específico de una señal\n",
    "\n",
    "Por ejemplo\n",
    "\n",
    "- Disminuir el nivel de ruido\n",
    "- Separar dos o más señales que están mezcladas\n",
    "- Ecualizar la señal\n",
    "- Restaurar la señal (eliminar desenfoque o artefactos de grabación)\n",
    "\n",
    "Llamamos **filtro digital** a los filtros aplicados a señales digitales y hablamos de **señal filtrada** para referirnos a la salida del filtro\n",
    "\n",
    "En esta unidad nos enfocaremos en filtros cuyos coeficientes son fijos y no se modifican en el tiempo. En la próxima unidad veremos filtros que se adaptan continuamente a los cambios de la entrada"
   ]
  },
  {
   "cell_type": "markdown",
   "metadata": {},
   "source": [
    "### Tipos básicos de filtro \n",
    "\n",
    "Como vimos el filtro lineal e invariante en el tiempo puede estudiarse en frecuencia usando \n",
    "\n",
    "$$\n",
    "Y[k] = H[k] X[k] ,\n",
    "$$\n",
    "\n",
    "donde $H[k]$ es la DFT del filtro (respuesta en frecuencia)\n",
    "\n",
    "El filtro actua como una **máscara multiplicativa** que modifica el espectro de la señal entrada\n",
    "\n",
    ":::{important}\n",
    "\n",
    "Esto significa que el filtro sólo puede acentuar, atenuar o remover ciertas frecuencias pero **nunca crear nuevas frecuencias**\n",
    "\n",
    ":::\n",
    "\n",
    "Consideremos los siguienes filtros o máscaras ideales\n"
   ]
  },
  {
   "cell_type": "markdown",
   "metadata": {},
   "source": [
    "<img src=\"../images/ideal_filters.gif\">"
   ]
  },
  {
   "cell_type": "markdown",
   "metadata": {},
   "source": [
    "De izquierda a derecha tenemos:\n",
    "\n",
    "- Filtro pasa bajo: Anula las frecuencias altas. Sirve para suavizar\n",
    "- Filtro pasa alto: Anula las frecuencias bajas. Sirve para detectar cambios\n",
    "- Filtro pasa banda: Anula todo excepto una banda continua de frecuencias\n",
    "- Filtro rechaza banda: Anula sólo una banda continua de frecuencias\n",
    "\n",
    "Las llamamos \"ideales\" por que en general los cortes de los filtros no pueden ser tan abruptos como se muestra en la figura\n",
    "\n",
    "A continuación veremos un método para diseñar filtros FIR partiendo desde el dominio de la frecuencia"
   ]
  },
  {
   "cell_type": "markdown",
   "metadata": {
    "slideshow": {
     "slide_type": "slide"
    }
   },
   "source": [
    "## Diseño de un filtro FIR: Método de la ventana\n",
    "\n",
    "Diseñar un filtro consisten en definir \n",
    "\n",
    "- L: El largo de la respuesta al impulso\n",
    "- h: Los valores de la respuesta al impulso\n",
    "\n",
    "El siguiente algoritmo de diseño de filtro se llama el \"método de la ventana\" y parte de la base de una respuesta en frecuencia ideal\n",
    "\n",
    "1. Especificar una **respuesta en frecuencia** ideal $H_d[k]$ dependiendo de los requerimientos\n",
    "1. Usar la transformada de Fourier inversa para obtener la **respuesta al impulso ideal** $h_d[n]$\n",
    "1. Truncar la respuesta al impulso ideal usando **una ventana** tal que $h[n] = h_d[n] w[n]$\n",
    "\n",
    "Finalmente $h[n]$ nos da los coeficientes del filtro FIR y $w[n]$ nos da el largo del filtro\n",
    "\n",
    "La ventana $w[n]$ puede ser cualquiera de las funciones vistas en la unidad anterior, por ejemplo una ventana rectangular\n",
    "\n",
    "$$\n",
    "w[n] = \\begin{cases} 1 & n \\leq L \\\\ 0 & n > L \\end{cases}\n",
    "$$\n",
    "\n",
    "o la ventana de Hann\n",
    "\n",
    "$$\n",
    "w[n] = 0.5 - 0.5 \\cos \\left( \\frac{2\\pi n}{L-1} \\right)\n",
    "$$\n",
    "\n",
    "A continuación veremos paso a paso como se crea un filtro pasa-bajo utilizando este método. Más adelante veremos unas funciones de `scipy` que facilitan este proceso"
   ]
  },
  {
   "cell_type": "markdown",
   "metadata": {
    "slideshow": {
     "slide_type": "subslide"
    }
   },
   "source": [
    "### Diseño de un filtro pasa bajo (LPF)\n",
    "\n",
    "Un filtro pasa bajo es aquel que sólo deja pasar las **bajas** frecuencias\n",
    "\n",
    "Sus usos son:\n",
    "\n",
    "- Recuperar una tendencia o comportamiento lento en la señal\n",
    "- Suavizar la señal y disminuir la influencia del ruido aditivo\n",
    "\n",
    "Diseñemos un filtro que elimine todas las frecuencias mayores a $f_c$ [Hz] de una señal $x[n]$ muestreada con frecuencia $F_s$\n"
   ]
  },
  {
   "cell_type": "markdown",
   "metadata": {},
   "source": [
    "**Paso 1: Respuesta en frecuencia ideal**\n",
    "\n",
    "Propongamos la siguiente respuesta en frecuencia que solo deja pasar las frecuencias menores a $f_c$, es decir que sólo es distinta de cero en el rango $[-f_c, f_c]$\n",
    "\n",
    "$$\n",
    "\\begin{align}\n",
    "H_d(\\omega) &= \\begin{cases} 1 & |f| < f_c\\\\ 0 & |f| > f_c \\end{cases} \\nonumber \\\\\n",
    "&= \\text{rect}(f/f_c) \\nonumber \n",
    "\\end{align}\n",
    "$$\n",
    "\n"
   ]
  },
  {
   "cell_type": "code",
   "execution_count": null,
   "metadata": {},
   "outputs": [],
   "source": [
    "fc = 0.1 # Frecuencia de corte\n",
    "Fs = 1 # Frecuencia de muestreo\n",
    "n = np.arange(-50, 50, step=1/Fs);\n",
    "f = scipy.fft.fftshift(scipy.fft.fftfreq(n=len(n), d=1/Fs))\n",
    "\n",
    "# Diseño de la respuesta en frecuencia ideal\n",
    "kc = int(len(n)*fc)\n",
    "Hd = np.zeros_like(n, dtype=np.float64); \n",
    "Hd[:kc] = 1.\n",
    "Hd[len(Hd)-kc+1:] = 1."
   ]
  },
  {
   "cell_type": "markdown",
   "metadata": {},
   "source": [
    "**Paso 2: Respuesta al impulso ideal**\n",
    "\n",
    "Obtenemos la transformada de Fourier inversa de la respuesta en frecuencia\n",
    "\n",
    "$$\n",
    "\\begin{align}\n",
    "h_d(t) &=  \\int_{-f_c}^{f_c} e^{j 2 \\pi f t} df \\nonumber \\\\\n",
    "& = \\frac{2j  f_c}{2 j \\pi f_c t} \\sin(2 \\pi f_c t) = 2  f_c \\text{sinc}(2 \\pi f_c t) \\nonumber \n",
    "\\end{align}\n",
    "$$\n",
    "\n",
    "donde la versión en tiempo discreto sería\n",
    "\n",
    "$$\n",
    "h_d[n] = 2 f_c\\text{sinc}(2 \\pi f_c n/ F_s)/F_s \n",
    "$$\n",
    "\n",
    "Notemos que es una función infinitamente larga\n"
   ]
  },
  {
   "cell_type": "code",
   "execution_count": null,
   "metadata": {},
   "outputs": [],
   "source": [
    "# Cálculo de la respuesta al impulso ideal\n",
    "#hd = np.real(sfft.ifftshift(sfft.ifft(Hd)))\n",
    "hd = 2*fc*np.sinc(2*fc*n/Fs)/Fs # Se omite Pi por que está incluido en np.sinc"
   ]
  },
  {
   "cell_type": "code",
   "execution_count": null,
   "metadata": {
    "tags": [
     "hide-input"
    ]
   },
   "outputs": [],
   "source": [
    "p1 = hv.Curve((f, scipy.fft.fftshift(Hd)), 'Frecuencia', 'Respuesta en\\n frecuencia ideal')\n",
    "p2 = hv.Curve((n, hd), 'Tiempo', 'Respuesta al\\n impulso ideal')\n",
    "hv.Layout([p1, p2]).opts(hv.opts.Curve(width=300, height=200))"
   ]
  },
  {
   "cell_type": "markdown",
   "metadata": {},
   "source": [
    "**Paso 3: Truncar la respuesta al impulso ideal**\n",
    "\n",
    "Para obtener una respuesta al impulso finita multiplicamos por una ventana finita de largo $L+1$\n",
    "\n",
    "$$\n",
    "h[n] = 2  f_c \\text{sinc}(2 \\pi f_c n /F_s) \\cdot \\text{rect}(n/(L+1))\n",
    "$$"
   ]
  },
  {
   "cell_type": "code",
   "execution_count": null,
   "metadata": {},
   "outputs": [],
   "source": [
    "# Cálculo de la respuesta al impulso truncada\n",
    "def truncar(hd, L=100):\n",
    "    w = np.zeros_like(hd); \n",
    "    w[len(w)//2-L//2:len(w)//2+L//2+1] = 1.\n",
    "    return w*hd\n",
    "\n",
    "# Cálculo de la respuesta en frecuencia truncada\n",
    "h = truncar(hd)\n",
    "H = scipy.fft.fft(h)"
   ]
  },
  {
   "cell_type": "markdown",
   "metadata": {},
   "source": [
    "Comparemos la respuesta en frecuencia ideal con la que en realidad aplicamos a la señal"
   ]
  },
  {
   "cell_type": "code",
   "execution_count": null,
   "metadata": {
    "tags": [
     "hide-input"
    ]
   },
   "outputs": [],
   "source": [
    "p = []\n",
    "p.append(hv.Curve((f, scipy.fft.fftshift(Hd)), 'Frecuencia', 'Respuesta en frecuencia', label='Ideal'))\n",
    "\n",
    "for L in [20, 40]:\n",
    "    H = scipy.fft.fft(truncar(hd, L))\n",
    "    p.append(hv.Curve((f, scipy.fft.fftshift(np.abs(H))), label=f'Truncada L={L}'))\n",
    "\n",
    "hv.Overlay(p).opts(hv.opts.Curve(line_width=3, alpha=0.75))"
   ]
  },
  {
   "cell_type": "markdown",
   "metadata": {
    "slideshow": {
     "slide_type": "fragment"
    }
   },
   "source": [
    "La respuesta en frecuencia \"ideal\" $H_d[k]$ es plana y tiene discontinuidades fuertes\n",
    "\n",
    "La respuesta en frecuencia \"truncada\" $H[k]$ busca aproximar a $H_d[k]$. Pero observando $H[k]$ notamos que\n",
    "\n",
    "- Aparecen ondulaciones (ripple). No tiene zonas de paso y/o rechazo perfectamente planas \n",
    "- La frecuencia de corte es una transición. La discontinuidad no es abrupta como el caso ideal\n",
    "\n",
    "El siguiente esquema muestra estos comportamientos\n",
    "\n",
    "<img src=\"../images/system-real-filter.png\" width=\"500\">\n",
    "\n",
    "La función de ventana que se ocupa para truncar la respuesta ideal influye en el trade-off entre cuan abrupta es la caida del filtro y las ondulaciones (ripple) que aparece en las zonas planas.\n",
    "\n",
    "En general\n",
    "\n",
    "- más larga es la ventana ($L$) más fiel será la respuesta en frecuencia\n",
    "- mientras más suave es la ventana más lenta será la transición en la respuesta en frecuencia y habrán menos ondulaciones en las bandas de paso y rechazo"
   ]
  },
  {
   "cell_type": "markdown",
   "metadata": {
    "slideshow": {
     "slide_type": "fragment"
    }
   },
   "source": [
    "## Diseño de filtro FIR usando scipy\n",
    "\n",
    "Podemos diseñar un filtro usando la técnica de enventando con la función de scipy\n",
    "\n",
    "```python\n",
    "scipy.signal.firwin(numtaps, # Largo del filtro\n",
    "                    cutoff, # Frecuencia(s) de corte\n",
    "                    window='hamming', # Función de ventana\n",
    "                    pass_zero=True, # Se explicará a continuación\n",
    "                    fs=None # Frecuencia de muestreo\n",
    "                    ...\n",
    "                    )\n",
    "```\n",
    "\n",
    "El argumento `pass_zero` es un booleano que indica si la frecuencia cero pasa o se rechaza por el filtro. Se darán más detalles en los ejemplos que se muestran a continuación.\n",
    "\n",
    "La función `firwin` retorna un arreglo con $h$ que corresponde a la respuesta al impulso del filtro FIR. Luego podemos usar el arreglo $h$ para convolucionar con nuestra señal de entrada."
   ]
  },
  {
   "cell_type": "markdown",
   "metadata": {},
   "source": [
    "### Diseño de un filtro pasa bajo (LPF)\n",
    "\n",
    "Veamos como se ocupa esta función para diseñar el filtro pasa-bajo que creamos manualmente en la sección anterior"
   ]
  },
  {
   "cell_type": "code",
   "execution_count": null,
   "metadata": {},
   "outputs": [],
   "source": [
    "fc = 0.1 # Frecuencia de corte\n",
    "Fs = 1 # Frecuencia de muestreo\n",
    "L = 100+1 # Largo del filtro\n",
    "\n",
    "h = scipy.signal.firwin(L, fc, window='boxcar', pass_zero=True, fs=Fs)\n",
    "freq, H = scipy.signal.freqz(h, fs=Fs)"
   ]
  },
  {
   "cell_type": "markdown",
   "metadata": {},
   "source": [
    "El argumento `pass_zero` debe ser `True` para diseñar un filtro pasa-bajo"
   ]
  },
  {
   "cell_type": "code",
   "execution_count": null,
   "metadata": {
    "scrolled": false,
    "tags": [
     "hide-input"
    ]
   },
   "outputs": [],
   "source": [
    "p1 = hv.Curve((range(len(h)), h), 'Tiempo', 'Respuesta al\\n impulso')\n",
    "p2 = hv.Curve((freq, np.absolute(H)), 'Frecuencia', 'Respuesta en\\n frecuencia')\n",
    "\n",
    "hv.Layout([p1, p2 * hv.VLine(fc).opts(color='r', alpha=0.25)]).opts(hv.opts.Curve(width=300, height=200))"
   ]
  },
  {
   "cell_type": "markdown",
   "metadata": {},
   "source": [
    "El resultado es equivalente al proceso manual que mostramos antes \n",
    "\n",
    "Podemos cambiar el compromiso (trade-off) entre la velocidad de la transición y las ondulaciones si utilizamos otra ventana. Por ejemplo para la ventana de *Hamming* tenemos\n",
    "\n"
   ]
  },
  {
   "cell_type": "code",
   "execution_count": null,
   "metadata": {},
   "outputs": [],
   "source": [
    "fc = 0.1 # Frecuencia de corte\n",
    "Fs = 1 # Frecuencia de muestreo\n",
    "L = 100+1 # Largo del filtro\n",
    "\n",
    "h = scipy.signal.firwin(L, fc, window='hamming', pass_zero=True, fs=Fs)\n",
    "freq, H = scipy.signal.freqz(h, fs=Fs)"
   ]
  },
  {
   "cell_type": "code",
   "execution_count": null,
   "metadata": {
    "tags": [
     "hide-input"
    ]
   },
   "outputs": [],
   "source": [
    "p1 = hv.Curve((range(len(h)), h), 'Tiempo', 'Respuesta al\\n impulso')\n",
    "p2 = hv.Curve((freq, np.absolute(H)), 'Frecuencia', 'Respuesta en\\n frecuencia')\n",
    "\n",
    "hv.Layout([p1, p2 * hv.VLine(fc).opts(color='r', alpha=0.25)]).opts(hv.opts.Curve(width=300, height=200))"
   ]
  },
  {
   "cell_type": "markdown",
   "metadata": {},
   "source": [
    ":::{note}\n",
    "\n",
    "Las ondulaciones disminuye pero el corte en frecuencia es ahora más lento\n",
    "\n",
    ":::"
   ]
  },
  {
   "cell_type": "markdown",
   "metadata": {
    "slideshow": {
     "slide_type": "subslide"
    }
   },
   "source": [
    "### Diseño de un filtro pasa alto (HPF)\n",
    "\n",
    "Un filtro pasa alto es aquel que sólo deja pasar las **altas** frecuencias\n",
    "\n",
    "Sus usos son:\n",
    "\n",
    "- Identificar cambios/detalles, es decir comportamientos rápidos en una señal\n",
    "- Eliminar tendencias\n",
    "\n",
    "\n",
    "Con respecto al ejemplo anterior, para diseñar un filtro pasa alto con `firwin` sólo debemos cambiar el valor del argumento `pass_zero`"
   ]
  },
  {
   "cell_type": "code",
   "execution_count": null,
   "metadata": {},
   "outputs": [],
   "source": [
    "Fs = 1 # Frecuencia de muestreo\n",
    "fc = 0.2 # Frecuencia de corte\n",
    "L = 100+1 # Largo del filtro\n",
    "\n",
    "h = scipy.signal.firwin(L, fc, window='hamming', pass_zero=False, fs=Fs)\n",
    "freq, H = scipy.signal.freqz(h, fs=Fs)"
   ]
  },
  {
   "cell_type": "code",
   "execution_count": null,
   "metadata": {
    "tags": [
     "hide-input"
    ]
   },
   "outputs": [],
   "source": [
    "p1 = hv.Curve((range(L), h), 'Tiempo', 'Respuesta al\\n impulso')\n",
    "p2 = hv.Curve((freq, np.absolute(H)), 'Frecuencia', 'Respuesta en\\n frecuencia')\n",
    "\n",
    "hv.Layout([p1, p2]).opts(hv.opts.Curve(width=300, height=200))"
   ]
  },
  {
   "cell_type": "markdown",
   "metadata": {},
   "source": [
    ":::{note}\n",
    "\n",
    "La respuesta en frecuecia muestra que este filtro anula las frecuencias bajas de la señal\n",
    "\n",
    ":::          "
   ]
  },
  {
   "cell_type": "markdown",
   "metadata": {},
   "source": [
    "### Diseño de un filtro pasa banda (BPF) y rechaza banda (BRF)\n",
    "\n",
    "Como sus nombres lo indican estos filtros \n",
    "\n",
    "- BPF: Dejan pasar sólo una cierta banda de frecuencia \n",
    "- BRF: Dejan pasar todas las frecuencias excepto una banda determinada \n",
    "\n",
    "La banda de frecuencia está definida por sus frecuencias de corte mínima y máxima $f_{c1} < f_{c2}$\n",
    "\n",
    "Para crear un filtro BPF o BRF con `firwin` debemos entregar una tupla o lista con estas frecuencias. Por ejemplo para un filtro BPF"
   ]
  },
  {
   "cell_type": "code",
   "execution_count": null,
   "metadata": {},
   "outputs": [],
   "source": [
    "Fs = 1 # Frecuencia de muestreo\n",
    "fc1, fc2 = 0.2, 0.3 # Frecuencias de cortes\n",
    "L = 100+1 # Largo del filtro\n",
    "\n",
    "h = scipy.signal.firwin(L, (fc1, fc2), window='hamming', pass_zero=False, fs=Fs)\n",
    "freq, H = scipy.signal.freqz(h, fs=Fs)"
   ]
  },
  {
   "cell_type": "code",
   "execution_count": null,
   "metadata": {
    "tags": [
     "hide-input"
    ]
   },
   "outputs": [],
   "source": [
    "p1 = hv.Curve((range(L), h), 'Tiempo', 'Respuesta al\\n impulso')\n",
    "p2 = hv.Curve((freq, np.absolute(H)), 'Frecuencia', 'Respuesta en\\n frecuencia')\n",
    "\n",
    "hv.Layout([p1, p2]).opts(hv.opts.Curve(width=300, height=200))"
   ]
  },
  {
   "cell_type": "markdown",
   "metadata": {},
   "source": [
    ":::{note}\n",
    "\n",
    "La respuesta en frecuecia muestra que este filtro anula las frecuencias **fuera** del rango definido\n",
    "\n",
    ":::          "
   ]
  },
  {
   "cell_type": "markdown",
   "metadata": {},
   "source": [
    "Un filtro rechaza-banda se crea con el argumento `pass_zero=True`"
   ]
  },
  {
   "cell_type": "code",
   "execution_count": null,
   "metadata": {},
   "outputs": [],
   "source": [
    "h = scipy.signal.firwin(L, (fc1, fc2), window='hamming', pass_zero=True, fs=Fs)\n",
    "freq, H = scipy.signal.freqz(h, fs=Fs)"
   ]
  },
  {
   "cell_type": "code",
   "execution_count": null,
   "metadata": {
    "tags": [
     "hide-input"
    ]
   },
   "outputs": [],
   "source": [
    "p1 = hv.Curve((range(L), h), 'Tiempo', 'Respuesta al\\n impulso')\n",
    "p2 = hv.Curve((freq, np.absolute(H)), 'Frecuencia', 'Respuesta en\\n frecuencia')\n",
    "\n",
    "hv.Layout([p1, p2]).opts(hv.opts.Curve(width=300, height=200))"
   ]
  },
  {
   "cell_type": "markdown",
   "metadata": {},
   "source": [
    ":::{note}\n",
    "\n",
    "La respuesta en frecuecia muestra que este filtro anula las frecuencias **dentro** del rango definido\n",
    "\n",
    "::: "
   ]
  },
  {
   "cell_type": "markdown",
   "metadata": {
    "slideshow": {
     "slide_type": "subslide"
    }
   },
   "source": [
    "## Resumen\n",
    "\n",
    "El diseño del filtro está dado entonces por su\n",
    "\n",
    "- **Aplicación:** Definida por la respuesta en frecuencia ideal , por ejemplo: Pasa-bajo, Pasa-alto, etc\n",
    "- **Fidelidad:** El error tolerable entre la respuesta en frecuencia ideal y la real\n",
    "\n",
    "El tipo de filtro y sus frecuencias de corte definen su Aplicación. Esto es un requisito del problema que buscamos resolver.\n",
    "\n",
    "El parámetro $L$ nos da un trade-off para la fidelidad. Si agrandamos $L$ tendremos mayor fidelidad pero más costo computacional. \n",
    "\n",
    "El tipo de función de ventana que se ocupa para truncar también afecta la fidelidad entregando un segundo trade-off entre artefactos (ondulaciones) en las zonas de paso/rechazo y que tan abrupto es el corte en frecuencia\n",
    "\n",
    "\n",
    "\n",
    "\n"
   ]
  },
  {
   "cell_type": "code",
   "execution_count": null,
   "metadata": {},
   "outputs": [],
   "source": []
  }
 ],
 "metadata": {
  "celltoolbar": "Edit Metadata",
  "kernelspec": {
   "display_name": "Python 3",
   "language": "python",
   "name": "python3"
  },
  "language_info": {
   "codemirror_mode": {
    "name": "ipython",
    "version": 3
   },
   "file_extension": ".py",
   "mimetype": "text/x-python",
   "name": "python",
   "nbconvert_exporter": "python",
   "pygments_lexer": "ipython3",
   "version": "3.9.6"
  },
  "toc": {
   "base_numbering": 1,
   "nav_menu": {},
   "number_sections": true,
   "sideBar": true,
   "skip_h1_title": false,
   "title_cell": "Table of Contents",
   "title_sidebar": "Contents",
   "toc_cell": false,
   "toc_position": {},
   "toc_section_display": true,
   "toc_window_display": true
  }
 },
 "nbformat": 4,
 "nbformat_minor": 2
}
