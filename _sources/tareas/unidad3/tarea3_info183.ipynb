{
 "cells": [
  {
   "cell_type": "markdown",
   "metadata": {},
   "source": [
    "### Instrucciones generales <a class=\"tocSkip\"></a>\n",
    "\n",
    "1. Forme un grupo de **máximo dos estudiantes**\n",
    "1. Versione su trabajo usando un **repositorio <font color=\"red\">privado</font> de github**. Agregue a su compañero y a su profesor (usuario github: phuijse) en la pestaña *Settings/Manage access*. No se aceptarán consultas si la tarea no está en github. No se evaluarán tareas que no estén en github.\n",
    "1. Se evaluará el **resultado, la profundidad de su análisis y la calidad/orden de sus códigos** en base al último commit antes de la fecha y hora de entrega\". Se bonificará a quienes muestren un método de trabajo incremental y ordenado según el histórico de *commits*\n",
    "1. Sean honestos, ríganse por el [código de ética de la ACM](https://www.acm.org/about-acm/code-of-ethics-in-spanish)\n",
    "\n"
   ]
  },
  {
   "cell_type": "markdown",
   "metadata": {},
   "source": [
    "# Tarea 3: Predicción de una serie de tiempo caótica\n",
    "\n",
    "En esta tarea se pide entrenar y evaluar un predictor para el sistema no-lineal [Mackey-Glass](https://en.wikipedia.org/wiki/Mackey-Glass_equations)\n",
    "\n",
    "Esta serie de tiempo se obtiene de la solución de la siguiente ecuación diferencial"
   ]
  },
  {
   "cell_type": "markdown",
   "metadata": {},
   "source": [
    "$$\n",
    "\\frac{dy}{dt} = \\beta \\frac{ y(t-\\tau)}{1 + y(t-\\tau)^{n}} - \\gamma y(t),\n",
    "$$"
   ]
  },
  {
   "cell_type": "markdown",
   "metadata": {},
   "source": [
    "donde el parámetro $\\tau$ controla el comportamiento dinámico de la serie de tiempo \n",
    "\n",
    "En esta tarea nos limitaremos en estudiar el caso con $n=10$, $\\gamma = 0.1$ y $\\beta = 0.2$\n",
    "\n",
    "El valor del parámetro $\\tau$ modifica el comportamiento dinámico del sistema, en particular se tiene que\n",
    "\n",
    "- $\\tau = 17$ el sistema tiene un comportamiento debilmente caótico\n",
    "- $\\tau = 30$ el sistema tiene un comportamiento fuertemente caótico\n",
    "\n",
    "La ecuación de diferencial anterior fue propuesta por Michael Mackey and Leon Glass en 1977 como modelo para procesos fisiológicos asociados a la [homeostasis](https://es.wikipedia.org/wiki/Homeostasis)"
   ]
  },
  {
   "cell_type": "markdown",
   "metadata": {},
   "source": [
    "El código adjunto a esta tarea genera la serie de tiempo en función \n",
    "\n",
    "Se generan 1000 muestras de la serie de tiempo. Use los primeros 500 puntos para entrenar, los siguientes 250 puntos para calibrar los hiperparámetros y los últimos 250 para evaluar y comparar los filtros"
   ]
  },
  {
   "cell_type": "code",
   "execution_count": null,
   "metadata": {},
   "outputs": [],
   "source": [
    "import numpy as np\n",
    "%matplotlib notebook\n",
    "import matplotlib.pylab as plt\n",
    "from mackey import MackeyGlass\n",
    "\n",
    "# Puede calcular el error medio cuadrático normalizado usando:\n",
    "NMSE = lambda y, yhat : np.sum((y - yhat)**2)/np.var(y)\n",
    "\n",
    "# Gráfico\n",
    "(t_train, y_train), (t_valid, y_valid), (t_test, y_test) = MackeyGlass(tau=30.)\n",
    "fig, ax = plt.subplots(figsize=(6, 3), tight_layout=True)\n",
    "ax.plot(t_train, y_train, label='Entrenamiento')\n",
    "ax.plot(t_valid, y_valid, label='Validación')\n",
    "ax.plot(t_test, y_test, label='Prueba')\n",
    "ax.set_title('Serie de tiempo Mackey-Glass');\n",
    "ax.legend();"
   ]
  },
  {
   "cell_type": "markdown",
   "metadata": {},
   "source": [
    "\n",
    "## (45%) Predicción con algoritmo LMS\n",
    "\n",
    "1. Describa en detalle el algoritmo LMS e implemente un predictor a un paso basado en el **algoritmo LMS normalizado**\n",
    "1. Considere el caso $\\tau=17$. Entrene su predictor en el conjunto de entrenamiento y encuentre la combinación de parámetros $\\mu$ y $L$ que minimiza el NMSE en el conjunto de validación. Se recomienda realizar un barrido logarítmo para $\\mu$. Para $L$ pruebe al menos los siguientes valores [5, 10, 20, 30]. Comente sobre lo que observa.\n",
    "1. Repita el paso anterior para el caso $\\tau = 30$\n",
    "1. Compare los resultados obtenidos con cada serie de tiempo ($\\tau=17$ y $\\tau=30$). Muestre la predicción en el conjunto de prueba versus su valor real. Muestre también los residuos. Discuta y analice sus resultados"
   ]
  },
  {
   "cell_type": "markdown",
   "metadata": {},
   "source": [
    "## (45%) Predicción con algoritmo RLS\n",
    "\n",
    "1. Describa en detalle el algoritmo RLS e implemente un predictor a un paso basado en el algoritmo RLS. Resalte las diferencias con el algoritmo LMS\n",
    "1. Considere el caso $\\tau=17$. Entrene su predictor en el conjunto de entrenamiento y encuentre la combinación de parámetros $\\beta$ y $L$ que minimiza el NMSE en el conjunto de validación. Para $L$ pruebe al menos los siguientes valores [5, 10, 20, 30]. Comente sobre lo que observa.\n",
    "1. Repita el paso anterior para el caso $\\tau = 30$\n",
    "1. Compare los resultados obtenidos con cada serie de tiempo. Muestre la predicción en el conjunto de prueba versus su valor real. Muestre también los residuos. Discuta y analice sus resultados"
   ]
  },
  {
   "cell_type": "markdown",
   "metadata": {},
   "source": [
    "## (10%) Comparación entre LMS y RLS\n",
    "\n",
    "1. Compare el mejor predictor LMS y RLS en el conjunto de test en términos de la calidad de la predicción y la velocidad a la que sigue los cambios. Comente y discuta\n"
   ]
  },
  {
   "cell_type": "code",
   "execution_count": null,
   "metadata": {},
   "outputs": [],
   "source": []
  }
 ],
 "metadata": {
  "kernelspec": {
   "display_name": "INFO183",
   "language": "python",
   "name": "info183"
  },
  "language_info": {
   "codemirror_mode": {
    "name": "ipython",
    "version": 3
   },
   "file_extension": ".py",
   "mimetype": "text/x-python",
   "name": "python",
   "nbconvert_exporter": "python",
   "pygments_lexer": "ipython3",
   "version": "3.8.5"
  }
 },
 "nbformat": 4,
 "nbformat_minor": 2
}
