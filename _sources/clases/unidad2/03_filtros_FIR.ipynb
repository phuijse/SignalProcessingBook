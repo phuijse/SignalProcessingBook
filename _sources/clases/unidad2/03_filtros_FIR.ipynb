{
 "cells": [
  {
   "cell_type": "code",
   "execution_count": null,
   "metadata": {
    "ExecuteTime": {
     "end_time": "2020-11-02T01:27:51.329562Z",
     "start_time": "2020-11-02T01:27:50.589567Z"
    }
   },
   "outputs": [],
   "source": [
    "%matplotlib inline\n",
    "import numpy as np\n",
    "import scipy.signal\n",
    "import scipy.fft as sfft\n",
    "import matplotlib.pylab as plt\n",
    "from matplotlib import animation, patches, rc\n",
    "import ipywidgets as widgets\n",
    "import matplotlib as mpl\n",
    "rc('animation', html='html5')\n",
    "rc('savefig', dpi=80)\n",
    "rc('figure', dpi=80)\n",
    "from IPython.display import YouTubeVideo, HTML, Audio"
   ]
  },
  {
   "cell_type": "markdown",
   "metadata": {},
   "source": [
    "# Diseño de sistemas y filtros FIR"
   ]
  },
  {
   "cell_type": "markdown",
   "metadata": {},
   "source": [
    "## Sistema invariante al desplazamiento\n",
    "\n",
    "Un sistema es invariante al desplazamiento  (*shift-invariant*) de su entrada si \n",
    "\n",
    "$$\n",
    "f(x[n-m]) = y[n-m] \n",
    "$$\n",
    "\n",
    "Es decir que \n",
    "- Aplicar un retardo en la entrada provoca un retardo equivalente en la salida\n",
    "    - Un *blip* en la entrada produce un *blop* en la salida sin importar **cuando** ocurre el blip\n",
    "- Las características del sistema no cambian con $n$\n",
    "- Si $n$ representa el tiempo decimos que el sistema es **invariante en el tiempo**\n",
    "\n",
    "\n",
    "***\n",
    "Un sistema FIR es invariante al desplazamiento si los valores de $h$ son constantes para todo $n$\n",
    "\n",
    "$$\n",
    "h[n] = \\text{Cte} \\quad \\forall n\n",
    "$$\n",
    "\n",
    "***"
   ]
  },
  {
   "cell_type": "code",
   "execution_count": null,
   "metadata": {},
   "outputs": [],
   "source": [
    "fig, ax = plt.subplots(2, figsize=(8, 5), tight_layout=True)\n",
    "n = np.arange(0, 500)\n",
    "l0 = ax[0].plot(n, np.zeros_like(n)); \n",
    "ax[0].set_ylim([-0.1, 1.1]); ax[0].set_title('Input')\n",
    "l1 = ax[1].plot(n, np.zeros_like(n));\n",
    "\n",
    "def update(m):\n",
    "    x = 0.5 + 0.5*scipy.signal.square((n-m)/(2.*np.pi*5), duty=0.3)      \n",
    "    ax[1].set_ylim([-0.1, 1.1]); ax[1].set_title('Output')\n",
    "    L = 50; h = np.ones(shape=(L, ))\n",
    "    # h = 1.+ np.cos(2.0*np.pi*2.*(n-m)/len(n))\n",
    "    h = h/np.sum(np.absolute(h))\n",
    "    l0[0].set_ydata(x); l1[0].set_ydata(scipy.signal.convolve(x, h, mode='same'))\n",
    "    return ()\n",
    "\n",
    "anim = animation.FuncAnimation(fig, update, frames=500, interval=200, blit=True);"
   ]
  },
  {
   "cell_type": "markdown",
   "metadata": {},
   "source": [
    "## Respuesta al impulso de un sistema\n",
    "\n",
    "\n",
    "Sea el impulso unitario o delta de Kronecker\n",
    "\n",
    "$$\n",
    "\\delta[n-m] = \\begin{cases} 1 & n=m \\\\ 0 & n \\neq m \\end{cases}\n",
    "$$\n",
    "\n",
    "La **respuesta al impulso de un sistema discreto** es la salida obtenida cuando la entrada es un impulso unitario\n",
    "\n",
    "\n",
    "Para un sistema FIR arbitrario tenemos\n",
    "\n",
    "$$\n",
    "y[n]|_{x=\\delta} = (h * \\delta)[n] = \\sum_{j=0}^L h[j] \\delta[n-j] = \\begin{cases} h[n] & n \\in [0, L] \\\\ 0 & \\text{en otro caso} \\end{cases} \\\\\n",
    "$$\n",
    "\n",
    "es decir que la respuesta al impulso:\n",
    "\n",
    "-  tiene **una duración finita y luego decae a zero**\n",
    "-  recupera los coeficientes $h[j]$ del sistema\n",
    "\n",
    "En un sistema causal se tiene que $h[n] = 0 \\quad \\forall n < 0$\n",
    "\n",
    "Llamamos **soporte** del sistema a todos aquellos valores de $n$ tal que  $h[n] \\neq 0$\n",
    "\n",
    "\n",
    "\n",
    "### Ejemplo\n",
    "\n",
    "Para el sistema reverberante\n",
    "\n",
    "$$\n",
    "y[n] = x[n] + A x[n-m]\n",
    "$$\n",
    "\n",
    "la respuesta al impulso es\n",
    "\n",
    "$$\n",
    "y[n] = \\delta[n] + A \\delta[n-m] = \\begin{cases} 1 & n=0\\\\ A& n=m \\\\ 0 & \\text{en otro caso} \\end{cases}\n",
    "$$\n",
    "\n",
    "La respuesta al impulse me permite a recuperar los coeficientes del sistema en caso de que no los conociera"
   ]
  },
  {
   "cell_type": "markdown",
   "metadata": {},
   "source": [
    "## Sistema LTI y respuesta en frecuencia de un sistema\n",
    "\n",
    "Los sistemas LTI (*linear time-invariant*) cumplen \n",
    "\n",
    "- linealidad: homogeneo y aditivo\n",
    "- invarianza al desplazamiento de la entrada\n",
    "\n",
    "y se expresan como\n",
    "\n",
    "$$\n",
    "y[n] = (h * x)[n] = \\sum_j h[j] x[n-j]\n",
    "$$\n",
    "- h es la respuesta al impulso\n",
    "- h guarda los coeficientes del sistema\n",
    "\n",
    "***\n",
    "Por propiedad de la DFT sabemos que un sistema LTI cumple\n",
    "\n",
    "$$\n",
    "\\begin{align}\n",
    "\\text{DFT}_N [y[n]] & = \\text{DFT}_N [(h * x)[n]] \\nonumber \\\\\n",
    "\\text{DFT}_N [y[n]] & = \\text{DFT}_N [h[n]]  \\text{DFT}_N [x[n]] \\nonumber \\\\\n",
    "Y[k] &= H[k] X[k] , \\nonumber\n",
    "\\end{align}\n",
    "$$\n",
    "\n",
    "donde convertimos la convolución temporal en una multiplicación frecuencial\n",
    "\n",
    "\n",
    "- Llamamos a $H[k]$ la **respuesta en frecuencia del sistema** \n",
    "- La respuesta en frecuencia es la transformada de Fourier de la respuesta al impulso\n",
    "\n",
    "***\n",
    "\n",
    "Los sistemas LTI tienen intepretación directa en el dominio del frecuencia\n",
    "\n",
    "***\n",
    "\n",
    "En la próxima lección usaremos sistemas LTI para diseñar **filtros**"
   ]
  },
  {
   "cell_type": "markdown",
   "metadata": {
    "slideshow": {
     "slide_type": "slide"
    }
   },
   "source": [
    "## Filtros digitales\n",
    "\n",
    "Un **filtro** es un sistema cuyo objetivo es reducir o resaltar un cierto aspecto de una señal\n",
    "\n",
    "Por ejemplo\n",
    "\n",
    "- Disminuir el nivel de ruido\n",
    "- Separar señales mezcladas\n",
    "- Ecualizar\n",
    "- Restaurar (eliminar desenfoque o artefactos de grabación)\n",
    "\n",
    "Llamamos filtro digital a los filtros aplicados a señales digitales\n",
    "\n",
    "Hablamos de \"señal filtrada\" para referirnos a la salida del filtro\n",
    "\n",
    "A continuación estudiaremos filtros LTI, más adelante extenderemos a filtros adaptivos (no-TI) y filtros no-lineales (no-L)\n",
    "\n",
    "***\n",
    "\n",
    "El **filtro LTI** se puede estudiar en frecuencia usando \n",
    "\n",
    "$$\n",
    "Y[k] = H[k] X[k] ,\n",
    "$$\n",
    "\n",
    "donde $H[k]$ es la DFT del filtro (respuesta en frecuencia)\n",
    "\n",
    "- El **filtro LTI** actua como una máscara que modifica el espectro de la entrada\n",
    "- Solo puede acentuar, atenuar o remover ciertas frecuencias pero **nunca crear nuevas frecuencias**\n",
    "\n",
    "Consideremos los siguienes filtros (máscaras) ideales\n",
    "\n",
    "<img src=\"../images/ideal_filters.gif\">"
   ]
  },
  {
   "cell_type": "markdown",
   "metadata": {
    "slideshow": {
     "slide_type": "slide"
    }
   },
   "source": [
    "***\n",
    "\n",
    "## Diseño de un filtro FIR: Método de la ventana\n",
    "\n",
    "\n",
    "Recordemos, un filtro FIR \n",
    "\n",
    "$$\n",
    "\\begin{align}\n",
    "y[n] &= h[0] x[n] + h[1] x[n-1] + h[2] x[n-2] + \\ldots + h[L] x[n-L] \\nonumber \\\\\n",
    "&= \\sum_{j=0}^{L} h[j] x[n-j] \\nonumber \\\\\n",
    "&= (h* x)[n] \\nonumber \n",
    "\\end{align}\n",
    "$$\n",
    "\n",
    "está definido por su orden (L) y sus coeficientes $h[j], j=0,\\ldots, L$\n",
    "***\n",
    "Diseñar un filtro consisten en encontrar L y los valores de los coeficientes\n",
    "***\n",
    "Podemos diseñar un filtro FIR siguiendo estos pasos\n",
    "\n",
    "1. Especificar una **respuesta en frecuencia** ideal $H_d[k]$\n",
    "1. Usar la transformada de Fourier inversa para obtener la **respuesta al impulso ideal** $h_d[n]$\n",
    "1. Truncar la respuesta al impulso ideal usando **una ventana** tal que $h[n] = h_d[n] w[n]$\n",
    "1. $h[n]$ nos da los coeficientes del filtro FIR y w[n] nos da el largo del filtro\n",
    "\n",
    "La ventana $w[n]$ puede ser cualquiera de las funciones vistas en la unidad anterior, por ejemplo una ventana rectangular\n",
    "\n",
    "$$\n",
    "w[n] = \\begin{cases} 1 & n \\leq L \\\\ 0 & n > L \\end{cases}\n",
    "$$\n",
    "\n",
    "o la ventana de Hann\n",
    "\n",
    "$$\n",
    "w[n] = 0.5 - 0.5 \\cos \\left( \\frac{2\\pi n}{L-1} \\right)\n",
    "$$\n",
    "\n"
   ]
  },
  {
   "cell_type": "markdown",
   "metadata": {
    "slideshow": {
     "slide_type": "subslide"
    }
   },
   "source": [
    "***\n",
    "\n",
    "### Ejemplo: Filtro pasa bajo (LPF)\n",
    "\n",
    "Un filtro pasa bajo es aquel que sólo deja pasar las **bajas** frecuencias\n",
    "\n",
    "Sus usos son:\n",
    "- Recuperar una tendencia o comportamiento lento en la señal\n",
    "- Eliminar el ruido aditivo\n",
    "\n",
    "Diseñemos un filtro que elimine todas las frecuencias mayores a $f_c$ [Hz] de una señal $x[n]$ muestreada con frecuencia $F_s$. \n",
    "\n",
    "1. Propongamos la siguiente respuesta en frecuencia ideal que solo deja pasar las frecuencias menores a $f_c$\n",
    "$$\n",
    "\\begin{align}\n",
    "H_d(\\omega) &= \\begin{cases} K & |f| < f_c\\\\ 0 & |f| > f_c \\end{cases} \\nonumber \\\\\n",
    "&= K \\text{rect}(f/f_c) \\nonumber \n",
    "\\end{align}\n",
    "$$\n",
    "\n",
    "1. Obtenemos su transformada de Fourier inversa\n",
    "$$\n",
    "\\begin{align}\n",
    "h_d(t) &= K \\int_{-f_c}^{f_c} e^{j 2 \\pi f t} df \\nonumber \\\\\n",
    "& = \\frac{2j K f_c}{2 j \\pi f_c t} \\sin(2 \\pi f_c t) = 2 K f_c \\text{sinc}(2 \\pi f_c t) \\nonumber \n",
    "\\end{align}\n",
    "$$\n",
    "que es una función infinitamente larga\n",
    "\n",
    "1. La versión discreta sería\n",
    "$$\n",
    "h_d[n] = 2 K f_c\\text{sinc}(2 \\pi f_c n/ F_s) \n",
    "$$\n",
    "\n",
    "1. Para obtener una respuesta al impulso finita multiplicamos por una ventana de largo finito\n",
    "\n",
    "$$\n",
    "h[n] = 2 K f_c \\text{sinc}(2 \\pi f_c n /F_s) \\text{rect}(n/(L+1))\n",
    "$$\n",
    "\n",
    "que implica esto en la respuesta en frecuencia real?\n"
   ]
  },
  {
   "cell_type": "code",
   "execution_count": null,
   "metadata": {
    "slideshow": {
     "slide_type": "fragment"
    }
   },
   "outputs": [],
   "source": [
    "plt.close('all'); fig, ax = plt.subplots(5, 2, figsize=(8, 9))\n",
    "n = np.arange(0, 100, step=1); \n",
    "f = fftpack.fftshift(fftpack.fftfreq(n=len(n), d=1))\n",
    "np.random.seed(0); C = 5*np.exp(-0.5*(n[:, np.newaxis] - n[:, np.newaxis].T)**2/10**2)\n",
    "x_clean = np.random.multivariate_normal(np.zeros_like(n), C)\n",
    "x_clean -= np.mean(x_clean)\n",
    "x = x_clean + 2*np.random.randn(len(n))\n",
    "def update(fc, L, window='rect'):\n",
    "    [axx.cla() for axx in ax.ravel()]\n",
    "    # Señal limpia\n",
    "    ax[0, 0].plot(n, x_clean); \n",
    "    ax[0, 1].plot(f, fftpack.fftshift(np.absolute(fftpack.fft(x_clean))))\n",
    "    ax[0, 0].set_title(\"Tiempo\"); ax[0, 1].set_title(\"Frecuencia\")    \n",
    "    # Señal contaminada\n",
    "    ax[1, 0].plot(n, x); ylims = ax[1, 0].get_ylim(); ax[0, 0].set_ylim(ylims)\n",
    "    X = fftpack.fft(x); \n",
    "    ax[1, 1].plot(f, fftpack.fftshift(np.absolute(X)))\n",
    "    # Filtro ideal\n",
    "    kc = int(len(n)*fc)\n",
    "    Hd = np.zeros_like(n, dtype=np.float); Hd[:kc] = 1.; Hd[len(Hd)-kc+1:] = 1.\n",
    "    ax[2, 1].plot(f, fftpack.fftshift(Hd))\n",
    "    hd = np.real(fftpack.ifftshift(fftpack.ifft(Hd)))\n",
    "    ax[2, 0].plot(n, hd)\n",
    "    # Filtro real\n",
    "    w = np.zeros_like(n, dtype=np.float); \n",
    "    if window == 'rect':\n",
    "        w[len(w)//2-L//2:len(w)//2+L//2+1] = 1.;\n",
    "    elif window == 'hann':\n",
    "        w[len(w)//2-L//2:len(w)//2+L//2+1] = scipy.signal.hann(L+1)\n",
    "    h = w*hd; H = fftpack.fft(h); \n",
    "    print(\"NMSE entre H y Hd %0.4f\" % (np.mean((np.absolute(H) - Hd)**2)/np.mean(Hd**2)))\n",
    "    ax[3, 0].plot(n, h);  ylims2 = ax[3, 0].get_ylim(); \n",
    "    ax[3, 0].plot(n, w, '--'); ax[3, 0].set_ylim(ylims2)\n",
    "    ax[3, 1].plot(f, fftpack.fftshift(np.absolute(H)))\n",
    "    # Señal filtrada\n",
    "    xf = scipy.signal.convolve(x, h, mode='same')\n",
    "    ax[4, 0].plot(n, np.real(xf)); \n",
    "    ax[4, 1].plot(f, fftpack.fftshift(np.absolute(fftpack.fft(xf)))); ax[4, 0].set_ylim(ylims)\n",
    "    \n",
    "interact(update, fc=FloatSlider_nice(min=0.01, max=0.5, step=0.01, value=0.1),\n",
    "         L=SelectionSlider_nice(options=[4, 6, 10, 20, 40, 60, 80], value=60),\n",
    "         window=SelectionSlider_nice(options=['rect', 'hann']));"
   ]
  },
  {
   "cell_type": "markdown",
   "metadata": {
    "slideshow": {
     "slide_type": "fragment"
    }
   },
   "source": [
    "- La respuesta en frecuencia \"ideal\" $H_d[k]$ es plana y tiene discontinuidades\n",
    "- La respuesta en frecuencia \"real\" $H[k]$ busca aproximar a $H_d[k]$\n",
    "- Observando $H[k]$ notamos que\n",
    "    - No tiene zonas perfectamente planas (ni es perfectamente zero)\n",
    "    - No tiene discontinuidades fuertes como el caso ideal\n",
    "- Esto se debe al recorte que hacemos con la ventana\n",
    "\n",
    "<img src=\"../images/system-real-filter.png\" width=\"500\">\n",
    "\n",
    "- Podemos usar una ventana suave (Hann) para disminuir los *ripples* al costo de hacer más lenta las transiciones\n",
    "***\n",
    "El diseño del filtro está dado entonces por su\n",
    "- **Función:** Definida por la respuesta en frecuencia ideal $|H_d[k]| \\angle H_d[k]$ \n",
    "    - Podemos definir la magnitud o el ángulo dependiendo de la aplicación\n",
    "- **Fidelidad:** El error tolerable entre la respuesta en frecuencia ideal y la real\n",
    "***"
   ]
  },
  {
   "cell_type": "markdown",
   "metadata": {
    "slideshow": {
     "slide_type": "subslide"
    }
   },
   "source": [
    "***\n",
    "\n",
    "### Ejemplo: Filtro pasa alto (HPF)\n",
    "\n",
    "Un filtro pasa alto es aquel que sólo deja pasar las **altas** frecuencias\n",
    "\n",
    "Sus usos son:\n",
    "- Identificar cambios/detalles, es decir comportamientos rápidos en una señal\n",
    "- Eliminar tendencias\n",
    "\n",
    "Diseñemos un filtro que elimine todas las frecuencias menores a $f_c$ [Hz] de una señal $x[n]$ muestreada con frecuencia $F_s$. \n",
    "\n",
    "1. Propongamos la siguiente respuesta en frecuencia ideal que solo deja pasar las frecuencias **mayores** a $f_c$\n",
    "$$\n",
    "H_d(\\omega) = \\begin{cases} K & |f| \\geq f_c\\\\ 0 & |f| < f_c \\end{cases} \n",
    "$$\n",
    "\n",
    "1. Obtenemos su transformada de Fourier inversa\n",
    "$$\n",
    "\\begin{align}\n",
    "h_d(t) &= K \\int_{-\\infty}^{-f_c} e^{j 2 \\pi f t} df  + K \\int_{f_c}^{\\infty} e^{j 2 \\pi f t} df\\nonumber \\\\\n",
    "&= K \\int_{-\\infty}^{\\infty} e^{j 2 \\pi f t} df  - K \\int_{-f_c}^{f_c} e^{j 2 \\pi f t} df\\nonumber \\\\\n",
    "& = K \\delta(t) - 2 K f_c \\text{sinc}(2 \\pi f_c t) \\nonumber \n",
    "\\end{align}\n",
    "$$\n",
    "\n",
    "1. La versión discreta sería\n",
    "$$\n",
    "h_d[n] = K (\\delta[n] - 2 F_c\\text{sinc}(2 \\pi f_c n/ F_s) )\n",
    "$$\n",
    "\n",
    "1. Finalmente la hacemos finita multiplicando por una ventana de largo finito\n",
    "$$\n",
    "h[n] = K (\\delta[n] - 2 f_c\\text{sinc}(2 \\pi f_c n/ F_s) ) \\text{rect}(n/(L+1))\n",
    "$$\n",
    "\n",
    "***\n",
    "- Un filtro pasa alto se obtiene de forma trivial **restandole un filtro pasa bajo a un impulso unitario**\n",
    "- Este \"truco\" se conoce como  **inversión espectral**\n",
    "\n",
    "\n",
    "<img src=\"../images/system-hpf.png\" width=\"400\">\n"
   ]
  },
  {
   "cell_type": "markdown",
   "metadata": {
    "slideshow": {
     "slide_type": "subslide"
    }
   },
   "source": [
    "### Ejemplo: Filtro pasa banda (BPF) y rechaza banda (BRF)\n",
    "\n",
    "- Como sus nombres lo indicam estos filtros \n",
    "    - Dejan pasar una cierta banda de frecuencia (BPF) o\n",
    "    - Dejan pasar todas las frecuencias excepto una banda determinada (BRF)\n",
    "- La banda de frecuencia está definida por sus frecuencias de corte mínima y máxima \n",
    "- Se pueden construir combinando el filtro pasa bajo y pasa alto\n",
    "\n",
    "**Filtro pasa banda**: \n",
    "Para recuperar solo una cierta banda de frecuencia seguimos:\n",
    "1. Definir frecuencias de corte $f_{c1} < f_{c2}$\n",
    "- Construir un filtro pasa bajo con frecuencia de corte $f_{c2}$\n",
    "- Convolucionar la señal con la respuesta al impulso resultante\n",
    "- Construir un filtro pasa alto con frecuencia de corte $f_{c1}$\n",
    "- Convolucionar la señal filtrada con la respuesta al impulso resultante\n",
    "\n",
    "<img src=\"../images/system-bpf.png\" width=\"400\">\n",
    "\n",
    "**Filtro rechazabanda**: \n",
    "Para eliminar una cierta banda de frecuencia seguimos:\n",
    "1. Definir frecuencias de corte $f_{c1} > f_{c2}$\n",
    "- Construir un filtro pasa bajo con frecuencia de corte $f_{c2}$\n",
    "- Construir un filtro pasa alto con frecuencia de corte $f_{c1}$\n",
    "- Sumar ambos las respuestas al impulso de ambos filtros\n",
    "- Convolucionar la señal con la respuesta al impulso resultante\n",
    "\n",
    "<img src=\"../images/system-rbf.png\" width=\"400\">"
   ]
  },
  {
   "cell_type": "markdown",
   "metadata": {
    "slideshow": {
     "slide_type": "fragment"
    }
   },
   "source": [
    "Respuesta en frecuencia de un filtro:\n",
    "\n",
    "`scipy.signal.freqz(b, a=1, worN=512, whole=False, plot=None)`\n",
    "- b (arreglo): coeficientes del numerador de $H[k]$\n",
    "- a (arreglo): coeficientes del denominador de $H[k]$"
   ]
  },
  {
   "cell_type": "code",
   "execution_count": null,
   "metadata": {
    "ExecuteTime": {
     "end_time": "2020-11-02T01:27:58.650400Z",
     "start_time": "2020-11-02T01:27:57.866779Z"
    },
    "slideshow": {
     "slide_type": "fragment"
    }
   },
   "outputs": [],
   "source": [
    "plt.close('all'); fig, ax = plt.subplots(4, figsize=(8, 8), tight_layout=True)\n",
    "\n",
    "def low_pass_h(L, fc, fs):\n",
    "    h = np.sinc(2*fc*np.arange(-L//2, L//2)/fs) \n",
    "    return h/np.sum(h) # ganancia unitaria K = 1/(2fc sum h)\n",
    "\n",
    "L = 200+1; fc_lp, fc_hp, fs = 2, 3, 10\n",
    "h_lp = low_pass_h(L, fc_lp, fs)\n",
    "h_hp = -low_pass_h(L, fc_hp, fs); h_hp[L//2+1] += 1\n",
    "\n",
    "h = h_lp\n",
    "# h = h_hp + h_lp\n",
    "# h = scipy.signal.convolve(h_hp, h_lp)\n",
    "\n",
    "ax[0].plot(h); ax[0].set_ylabel(\"h[n]\")\n",
    "freq, response = scipy.signal.freqz(h)\n",
    "\n",
    "ax[1].plot(0.5*fs*freq/np.pi, np.abs(response));\n",
    "ax[2].plot(0.5*fs*freq/np.pi, np.unwrap(np.angle(response)));\n",
    "freq, delay = scipy.signal.group_delay((h, 1))\n",
    "ax[3].plot(0.5*fs*freq/np.pi, delay); ax[3].set_ylabel(\"Retardo\")\n",
    "ax[3].set_ylim([-50, 150])\n",
    "ax[1].set_ylabel(\"|H[k]|\"); ax[2].set_ylabel(\"angle H[k]\"); "
   ]
  },
  {
   "cell_type": "code",
   "execution_count": null,
   "metadata": {
    "ExecuteTime": {
     "end_time": "2020-11-02T01:29:20.339639Z",
     "start_time": "2020-11-02T01:29:19.975089Z"
    },
    "slideshow": {
     "slide_type": "subslide"
    }
   },
   "outputs": [],
   "source": [
    "import librosa\n",
    "data, sample_rate = librosa.load(\"../../data/nomekop.ogg\", sr=44100)\n",
    "\n",
    "fig, ax = plt.subplots(1, figsize=(8, 3))\n",
    "freq, ttime, Sxx = scipy.signal.spectrogram(data, fs=sample_rate, window=('tukey', 0.25), \n",
    "                                            nperseg=256, noverlap=None, detrend=False,\n",
    "                                            return_onesided=True, scaling='density', mode='magnitude')\n",
    "ax.pcolormesh(ttime, freq, 20*np.log10(Sxx+1e-4), cmap=plt.cm.magma); ax.set_ylim([0.0, 1e+4]);\n",
    "\n",
    "Audio(data, rate=int(sample_rate), normalize=False)"
   ]
  },
  {
   "cell_type": "markdown",
   "metadata": {
    "slideshow": {
     "slide_type": "fragment"
    }
   },
   "source": [
    "`scipy.signal.firwin(numtaps, cutoff, width=None, window='hamming', pass_zero=True, scale=True, nyq=None, fs=None)`\n",
    "- numtaps (entero): Largo del filtro \n",
    "- cutoff (arreglo flotante): frecuencias de corte\n",
    "- window (string): tipo de ventana\n",
    "- pass_zero (bool): pasa bajo o pasa alto\n",
    "- fs (flotante): Frecuencia de muestreo"
   ]
  },
  {
   "cell_type": "code",
   "execution_count": null,
   "metadata": {
    "ExecuteTime": {
     "end_time": "2020-11-02T01:29:51.273535Z",
     "start_time": "2020-11-02T01:29:49.946168Z"
    },
    "slideshow": {
     "slide_type": "fragment"
    }
   },
   "outputs": [],
   "source": [
    "h = scipy.signal.firwin(numtaps=1000+1, cutoff=[200, 500], \n",
    "                        pass_zero=False, window='hann',\n",
    "                        fs=sample_rate)\n",
    "\n",
    "fig = plt.figure(figsize=(8, 6), tight_layout=True)\n",
    "ax1 = plt.subplot2grid((2, 2 ), (0, 0)); ax1.set_title(\"Respuesta al impulso\")\n",
    "ax2 = plt.subplot2grid((2, 2 ), (0, 1)); ax2.set_title(\"Respuesta en frecuencia\")\n",
    "ax3 = plt.subplot2grid((2, 2 ), (1, 0), colspan=2, rowspan=1)\n",
    "\n",
    "freq, response = scipy.signal.freqz(h)\n",
    "ax1.plot(h); ax2.semilogy(0.5*sample_rate*freq/np.pi, np.abs(response));\n",
    "data_filt = scipy.signal.convolve(data, h)\n",
    "freq, ttime, Sxx = scipy.signal.spectrogram(data_filt, fs=sample_rate, window=('tukey', 0.25), \n",
    "                                            nperseg=256, noverlap=None, detrend=False,\n",
    "                                            return_onesided=True, scaling='density', mode='magnitude')\n",
    "ax3.pcolormesh(ttime, freq, 20*np.log10(Sxx+1e-4), cmap=plt.cm.magma); ax3.set_ylim([0.0, 1e+4]);\n",
    "\n",
    "Audio(data_filt, rate=int(sample_rate), normalize=False)"
   ]
  },
  {
   "cell_type": "markdown",
   "metadata": {
    "slideshow": {
     "slide_type": "subslide"
    }
   },
   "source": [
    "## Filtro FIR con respuesta en frecuencia arbitraria\n",
    "\n",
    "Consideremos un filtro FIR \n",
    "- De orden $L$ (par) con $L+1$ coeficientes \n",
    "- Centrado en el origen (cero fase)\n",
    "- Con respuesta al impulso simétrica: $h_{n} = h_{-n}$\n",
    "\n",
    "Podemos escribir su respuesta en frecuencia como \n",
    "\n",
    "$$\n",
    "H[k] = \\sum_{n=-L/2}^{L/2} h[n] e^{-j \\frac{2\\pi}{N} k n} = h[0] + \\sum_{n=1}^{L/2} h[n]\\cos \\left(\\frac{2\\pi}{N} k n\\right)\n",
    "$$\n",
    "que para $k=0, \\ldots, N-1$ en forma matricial es\n",
    "\n",
    "$$ \n",
    "\\begin{align} \n",
    "\\begin{pmatrix} H[0] \\\\ H[1] \\\\ H[2] \\\\ \\vdots \\\\ H[N-1] \\\\ \\end{pmatrix} \n",
    "&= \n",
    "\\begin{pmatrix} \n",
    "1 & 1 & 1 & \\cdots & 1 \\\\ \n",
    "1 & \\cos \\left(\\frac{2\\pi}{N} \\right) & \\cos \\left(\\frac{2\\pi}{N} 2\\right) & \\cdots & \\cos \\left(\\frac{2\\pi}{N} L/2\\right) \\\\ \n",
    "1 & \\cos \\left(\\frac{2\\pi}{N} 2 \\right) & \\cos \\left(\\frac{2\\pi}{N} 4 \\right) & \\cdots & \\cos \\left(\\frac{2\\pi}{N} 2 L/2\\right) \\\\ \n",
    "\\vdots & \\dots & \\dots & \\ddots & \\vdots \\\\ \n",
    "1 & \\cos \\left(\\frac{2\\pi}{N} (N-1)\\right) & \\cos \\left(\\frac{2\\pi}{N} (N-1) 2\\right) & \\cdots & \\cos \\left(\\frac{2\\pi}{N} (N-1) L/2\\right) \\\\ \n",
    "\\end{pmatrix} \n",
    "\\begin{pmatrix} h[0] \\\\ h[1] \\\\ h[2] \\\\ \\vdots \\\\ h[L/2] \\\\ \\end{pmatrix} \\nonumber \\\\\n",
    "H &= A h, \\nonumber\n",
    "\\end{align} \n",
    "$$\n",
    "\n",
    "donde $A \\in \\mathbb{R}^{NxL/2}$\n",
    "\n",
    "Si especificamos $H$ podemos despejar $h$ pero no podemos invertir A ya que no es cuadrada.\n",
    "***\n",
    "Una alternativa es buscar $\\hat h \\approx h$ que minimice el error cuadrático medio\n",
    "\n",
    "$$\n",
    "\\min_h \\| H - Ah\\|^2,\n",
    "$$\n",
    "derivando e igualando a cero obtenemos el sistema de **ecuaciones normales**\n",
    "\n",
    "$$\n",
    "\\begin{align}\n",
    "\\frac{d}{dh} \\| H - Ah\\|^2 &= 0 \\nonumber \\\\\n",
    "- 2 A^T (H - Ah) &= 0 \\nonumber \\\\\n",
    "A^T A h &= A^T H \\nonumber \\\\\n",
    "\\hat h &= (A^T A)^{-1} A^T H  \\nonumber \\\\\n",
    "\\hat h &= A^{\\dagger} H, \\nonumber\n",
    "\\end{align}\n",
    "$$\n",
    "\n",
    "donde \n",
    "- $A^{\\dagger} = (A^T A)^{-1} A^T$ se conoce como la pseudo-inversa de A\n",
    "- $\\hat h$ se conoce como el **estimador de mínimos cuadrados** de h\n",
    "\n",
    "***"
   ]
  },
  {
   "cell_type": "markdown",
   "metadata": {
    "slideshow": {
     "slide_type": "subslide"
    }
   },
   "source": [
    "`scipy.signal.firls(numtaps, bands, desired, weight=None, nyq=None, fs=None)`\n",
    "\n",
    "- numtaps (entero impar): número de coeficientes\n",
    "- bands: secuencia creciente de frecuencias\n",
    "- desired: secuencia creciente de ganancias\n",
    "- fs (flotante): Frecuencia de muestreo"
   ]
  },
  {
   "cell_type": "code",
   "execution_count": null,
   "metadata": {
    "slideshow": {
     "slide_type": "fragment"
    }
   },
   "outputs": [],
   "source": [
    "# Estimador de minimos cuadrados para filtro FIR usando scipy.signal\n",
    "h = scipy.signal.firls(numtaps=1000+1, \n",
    "                       bands=(0., 640, 650, 2340, 2350, 2750, 2760, sample_rate//2), \n",
    "                       desired=(5., 5., 0., 0., 1., 1., 0., 0.), fs=sample_rate)\n",
    "\n",
    "plt.close('all'); fig = plt.figure(figsize=(8, 6))\n",
    "ax1 = plt.subplot2grid((2, 2 ), (0, 0)); ax1.set_title(\"Respuesta al impulso\")\n",
    "ax2 = plt.subplot2grid((2, 2 ), (0, 1)); ax2.set_title(\"Respuesta en frecuencia\")\n",
    "ax3 = plt.subplot2grid((2, 2 ), (1, 0), colspan=2, rowspan=1)\n",
    "\n",
    "freq, response = scipy.signal.freqz(h)\n",
    "ax1.plot(h); ax2.semilogy(0.5*sample_rate*freq/np.pi, np.abs(response));\n",
    "data_filt = scipy.signal.convolve(data, h)\n",
    "freq, ttime, Sxx = scipy.signal.spectrogram(data_filt, fs=sample_rate, window=('tukey', 0.25), \n",
    "                                            nperseg=256, noverlap=None, detrend=False,\n",
    "                                            return_onesided=True, scaling='density', mode='magnitude')\n",
    "ax3.pcolormesh(ttime, freq, 20*np.log10(Sxx+1e-4), cmap=plt.cm.magma); ax3.set_ylim([0.0, 1e+4]);\n",
    "Audio(data_filt, rate=int(sample_rate))"
   ]
  }
 ],
 "metadata": {
  "kernelspec": {
   "display_name": "Python 3",
   "language": "python",
   "name": "python3"
  },
  "language_info": {
   "codemirror_mode": {
    "name": "ipython",
    "version": 3
   },
   "file_extension": ".py",
   "mimetype": "text/x-python",
   "name": "python",
   "nbconvert_exporter": "python",
   "pygments_lexer": "ipython3",
   "version": "3.8.5"
  },
  "toc": {
   "base_numbering": 1,
   "nav_menu": {},
   "number_sections": true,
   "sideBar": true,
   "skip_h1_title": false,
   "title_cell": "Table of Contents",
   "title_sidebar": "Contents",
   "toc_cell": false,
   "toc_position": {},
   "toc_section_display": true,
   "toc_window_display": true
  }
 },
 "nbformat": 4,
 "nbformat_minor": 2
}
