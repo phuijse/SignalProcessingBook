{
 "cells": [
  {
   "cell_type": "markdown",
   "metadata": {},
   "source": [
    "## Filtro FIR con respuesta en frecuencia arbitraria\n",
    "\n",
    "Consideremos un filtro FIR \n",
    "- De orden $L$ (par) con $L+1$ coeficientes \n",
    "- Centrado en el origen (cero fase)\n",
    "- Con respuesta al impulso simétrica: $h_{n} = h_{-n}$\n",
    "\n",
    "Podemos escribir su respuesta en frecuencia como \n",
    "\n",
    "$$\n",
    "H[k] = \\sum_{n=-L/2}^{L/2} h[n] e^{-j \\frac{2\\pi}{N} k n} = h[0] + \\sum_{n=1}^{L/2} h[n]\\cos \\left(\\frac{2\\pi}{N} k n\\right)\n",
    "$$\n",
    "que para $k=0, \\ldots, N-1$ en forma matricial es\n",
    "\n",
    "$$ \n",
    "\\begin{align} \n",
    "\\begin{pmatrix} H[0] \\\\ H[1] \\\\ H[2] \\\\ \\vdots \\\\ H[N-1] \\\\ \\end{pmatrix} \n",
    "&= \n",
    "\\begin{pmatrix} \n",
    "1 & 1 & 1 & \\cdots & 1 \\\\ \n",
    "1 & \\cos \\left(\\frac{2\\pi}{N} \\right) & \\cos \\left(\\frac{2\\pi}{N} 2\\right) & \\cdots & \\cos \\left(\\frac{2\\pi}{N} L/2\\right) \\\\ \n",
    "1 & \\cos \\left(\\frac{2\\pi}{N} 2 \\right) & \\cos \\left(\\frac{2\\pi}{N} 4 \\right) & \\cdots & \\cos \\left(\\frac{2\\pi}{N} 2 L/2\\right) \\\\ \n",
    "\\vdots & \\dots & \\dots & \\ddots & \\vdots \\\\ \n",
    "1 & \\cos \\left(\\frac{2\\pi}{N} (N-1)\\right) & \\cos \\left(\\frac{2\\pi}{N} (N-1) 2\\right) & \\cdots & \\cos \\left(\\frac{2\\pi}{N} (N-1) L/2\\right) \\\\ \n",
    "\\end{pmatrix} \n",
    "\\begin{pmatrix} h[0] \\\\ h[1] \\\\ h[2] \\\\ \\vdots \\\\ h[L/2] \\\\ \\end{pmatrix} \\nonumber \\\\\n",
    "H &= A h, \\nonumber\n",
    "\\end{align} \n",
    "$$\n",
    "\n",
    "donde $A \\in \\mathbb{R}^{NxL/2}$\n",
    "\n",
    "Si especificamos $H$ podemos despejar $h$ pero no podemos invertir A ya que no es cuadrada.\n",
    "***\n",
    "Una alternativa es buscar $\\hat h \\approx h$ que minimice el error cuadrático medio\n",
    "\n",
    "$$\n",
    "\\min_h \\| H - Ah\\|^2,\n",
    "$$\n",
    "derivando e igualando a cero obtenemos el sistema de **ecuaciones normales**\n",
    "\n",
    "$$\n",
    "\\begin{align}\n",
    "\\frac{d}{dh} \\| H - Ah\\|^2 &= 0 \\nonumber \\\\\n",
    "- 2 A^T (H - Ah) &= 0 \\nonumber \\\\\n",
    "A^T A h &= A^T H \\nonumber \\\\\n",
    "\\hat h &= (A^T A)^{-1} A^T H  \\nonumber \\\\\n",
    "\\hat h &= A^{\\dagger} H, \\nonumber\n",
    "\\end{align}\n",
    "$$\n",
    "\n",
    "donde \n",
    "- $A^{\\dagger} = (A^T A)^{-1} A^T$ se conoce como la pseudo-inversa de A\n",
    "- $\\hat h$ se conoce como el **estimador de mínimos cuadrados** de h\n",
    "\n",
    "***"
   ]
  },
  {
   "cell_type": "markdown",
   "metadata": {},
   "source": [
    "`scipy.signal.firls(numtaps, bands, desired, weight=None, nyq=None, fs=None)`\n",
    "\n",
    "- numtaps (entero impar): número de coeficientes\n",
    "- bands: secuencia creciente de frecuencias\n",
    "- desired: secuencia creciente de ganancias\n",
    "- fs (flotante): Frecuencia de muestreo"
   ]
  },
  {
   "cell_type": "code",
   "execution_count": null,
   "metadata": {},
   "outputs": [],
   "source": [
    "# Estimador de minimos cuadrados para filtro FIR usando scipy.signal\n",
    "h = scipy.signal.firls(numtaps=1000+1, \n",
    "                       bands=(0., 640, 650, 2340, 2350, 2750, 2760, sample_rate//2), \n",
    "                       desired=(5., 5., 0., 0., 1., 1., 0., 0.), fs=sample_rate)\n",
    "\n",
    "plt.close('all'); fig = plt.figure(figsize=(8, 6))\n",
    "ax1 = plt.subplot2grid((2, 2 ), (0, 0)); ax1.set_title(\"Respuesta al impulso\")\n",
    "ax2 = plt.subplot2grid((2, 2 ), (0, 1)); ax2.set_title(\"Respuesta en frecuencia\")\n",
    "ax3 = plt.subplot2grid((2, 2 ), (1, 0), colspan=2, rowspan=1)\n",
    "\n",
    "freq, response = scipy.signal.freqz(h)\n",
    "ax1.plot(h); ax2.semilogy(0.5*sample_rate*freq/np.pi, np.abs(response));\n",
    "data_filt = scipy.signal.convolve(data, h)\n",
    "freq, ttime, Sxx = scipy.signal.spectrogram(data_filt, fs=sample_rate, window=('tukey', 0.25), \n",
    "                                            nperseg=256, noverlap=None, detrend=False,\n",
    "                                            return_onesided=True, scaling='density', mode='magnitude')\n",
    "ax3.pcolormesh(ttime, freq, 20*np.log10(Sxx+1e-4), cmap=plt.cm.magma); ax3.set_ylim([0.0, 1e+4]);\n",
    "Audio(data_filt, rate=int(sample_rate))"
   ]
  },
  {
   "cell_type": "code",
   "execution_count": null,
   "metadata": {},
   "outputs": [],
   "source": []
  }
 ],
 "metadata": {
  "kernelspec": {
   "display_name": "Python 3",
   "language": "python",
   "name": "python3"
  },
  "language_info": {
   "codemirror_mode": {
    "name": "ipython",
    "version": 3
   },
   "file_extension": ".py",
   "mimetype": "text/x-python",
   "name": "python",
   "nbconvert_exporter": "python",
   "pygments_lexer": "ipython3",
   "version": "3.8.5"
  },
  "toc": {
   "base_numbering": 1,
   "nav_menu": {},
   "number_sections": true,
   "sideBar": true,
   "skip_h1_title": false,
   "title_cell": "Table of Contents",
   "title_sidebar": "Contents",
   "toc_cell": false,
   "toc_position": {},
   "toc_section_display": true,
   "toc_window_display": false
  }
 },
 "nbformat": 4,
 "nbformat_minor": 4
}
