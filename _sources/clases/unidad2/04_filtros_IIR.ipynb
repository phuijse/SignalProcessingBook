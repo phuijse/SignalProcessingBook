{
 "cells": [
  {
   "cell_type": "code",
   "execution_count": 2,
   "metadata": {
    "ExecuteTime": {
     "end_time": "2020-11-02T01:27:51.329562Z",
     "start_time": "2020-11-02T01:27:50.589567Z"
    }
   },
   "outputs": [],
   "source": [
    "%matplotlib inline\n",
    "import numpy as np\n",
    "import scipy.signal\n",
    "import scipy.fft as sfft\n",
    "import matplotlib.pylab as plt\n",
    "from matplotlib import animation, patches, rc\n",
    "import ipywidgets as widgets\n",
    "import matplotlib as mpl\n",
    "rc('animation', html='html5')\n",
    "rc('savefig', dpi=80)\n",
    "rc('figure', dpi=80)\n",
    "from IPython.display import YouTubeVideo, HTML, Audio"
   ]
  },
  {
   "cell_type": "markdown",
   "metadata": {},
   "source": [
    "# Diseño de filtros IIR"
   ]
  },
  {
   "cell_type": "markdown",
   "metadata": {
    "slideshow": {
     "slide_type": "slide"
    }
   },
   "source": [
    "Un filtro FIR de buena calidad puede requerir una gran cantidad de coeficientes\n",
    "\n",
    "Es posible implementar filtros más eficientes usando recursividad\n",
    "\n",
    "## Sistema IIR (infinite impulse response)\n",
    "\n",
    "Generalizando el sistema FIR para incluir versiones pasadas de la salida y asumiendo $a[0] = 1$ llegamos a \n",
    "\n",
    "$$\n",
    "\\begin{align}\n",
    "y[n] &= b[0] x[n] + b[1] x[n-1] + b[2] x[n-2] + \\ldots + b[L] x[n-L]  \\nonumber \\\\\n",
    "& - a[1] y[n-1] - a[2] y[n-2] - \\ldots - a[M] y[n-M] \\nonumber \\\\\n",
    "&= \\sum_{l=0}^{L} b[l] x[n-l] - \\sum_{m=1}^{M} a[m] y[n-m]  \\nonumber  \\\\\n",
    "\\sum_{m=0}^{M} a[m] y[n-m] &= \\sum_{l=0}^{L} b[l] x[n-l] \\nonumber \\\\\n",
    "(a * y)[n] &= (b * x)[n], \\nonumber\n",
    "\\end{align}\n",
    "$$\n",
    "\n",
    "es decir dos convoluciones discretas que definen una **ecuación de diferencias**\n",
    "\n",
    "Este tipo de sistema se conoce como \n",
    "- sistema IIR (infinite impulse response)\n",
    "- sistema *auto-regresive moving average* (ARMA)\n",
    "    - autoregresivo de orden M: incluye valores pasados de la salida\n",
    "    - media movil de orden L+1: pondera el valor presente y pasados de la entrada\n",
    "\n",
    "¿Cuando se recupera un sistema FIR?\n",
    "\n",
    "R: Si $a[m] = 0$ para $m=[1, \\ldots, M]$"
   ]
  },
  {
   "cell_type": "markdown",
   "metadata": {
    "slideshow": {
     "slide_type": "subslide"
    }
   },
   "source": [
    "## Respuesta en frecuencia del sistema IIR\n",
    "\n",
    "Aplicando la transformada de Fourier convertimos las convoluciones en multiplicaciones y encontramos la respuesta en frecuencia como\n",
    "\n",
    "$$\n",
    "\\begin{align}\n",
    "\\text{DFT}_N[(a * y)[n]] &= \\text{DFT}_N[(b * x)[n]] \\nonumber \\\\\n",
    "A[k] Y[k] &= B[k] X[k] \\nonumber \\\\\n",
    "H[k] = \\frac{Y[k]}{X[k]} &= \\frac{B[k]}{A[k]} = \\frac{ \\sum_{l=0}^L b[l]e^{-j \\frac{2\\pi}{N} nl} }{ \\sum_{m=0}^M a[m]e^{-j \\frac{2\\pi}{N} mk}} \\nonumber\n",
    "\\end{align}\n",
    "$$\n",
    "siempre que $A[k] \\neq 0$. \n",
    "\n",
    "Se llega a un resultado equivalente usando la propiedad de traslación de la DFT\n",
    "\n",
    "$$\n",
    "\\begin{align}\n",
    "\\text{DFT}_N\\left[\\sum_{m=0}^{M} a[m] y[n-m]\\right] &= \\text{DFT}_N\\left[\\sum_{l=0}^{L} b[l] x[n-l]\\right] \\nonumber \\\\\n",
    "\\sum_{m=0}^{M} a[m] \\mathbb{DFT}_N\\left[y[n-m]\\right] &= \\sum_{l=0}^{L} b[l] \\mathbb{DFT}_N\\left[x[n-l]\\right] \\nonumber \\\\\n",
    "\\sum_{m=0}^{M} a[m] Y[k] e^{-j \\frac{2\\pi}{N} km} &= \\sum_{l=0}^{L} b[l] X[k] e^{-j \\frac{2\\pi}{N} kl} \\nonumber \\\\\n",
    "Y[k] \\sum_{m=0}^{M} a[m] e^{-j \\frac{2\\pi}{N} km} &= X[k] \\sum_{l=0}^{L} b[l] e^{-j \\frac{2\\pi}{N} kl} \\nonumber \\\\\n",
    "H[k] = \\frac{Y[k]}{X[k]} &= \\frac{ \\sum_{l=0}^L b[l]e^{-j \\frac{2\\pi}{N} lk} }{ \\sum_{m=0}^M a[m]e^{-j \\frac{2\\pi}{N} mk}} \\nonumber\n",
    "\\end{align}\n",
    "$$\n",
    "\n",
    "que también puede expresarse de forma alternativa como \n",
    "\n",
    "$$\n",
    "H[k] = K \\frac{ \\prod_{l=1}^L (e^{j \\frac{2\\pi}{N} k}- \\beta[l]) }{ \\prod_{m=1}^M (e^{j \\frac{2\\pi}{N} k}- \\alpha[m])} \n",
    "$$\n",
    "\n",
    "donde $K$ es la **ganancia** y las raices de los polinomios se llaman **ceros** (numerador) y **polos** (denominador)"
   ]
  },
  {
   "cell_type": "markdown",
   "metadata": {
    "slideshow": {
     "slide_type": "subslide"
    }
   },
   "source": [
    "### Ejemplo:\n",
    "\n",
    "Consideremos el siguiente sistema IIR \n",
    "\n",
    "$$\n",
    "\\begin{align}\n",
    "y[n] &= (1-\\gamma) x[n] + \\gamma y[n-1] \\nonumber \\\\\n",
    "y[n] - \\gamma y[n-1] &= (1-\\gamma) x[n] \\nonumber\n",
    "\\end{align}\n",
    "$$\n",
    "\n",
    "¿Cuántos coeficientes tiene este sistema?\n",
    "\n",
    "R: $a[0] = 1$, $a[1] = -\\gamma$ y $b[0] = (1-\\gamma)$, es decir MA de orden 1 y AR de orden 1\n",
    "\n",
    "¿Cúal es su respuesta al impulso? (asumiendo $y[n]=0, n<0$)\n",
    "\n",
    "$$\n",
    "\\begin{matrix}\n",
    "n & \\delta[n] & y[n] \\\\\n",
    "-2 & 0 & 0 \\\\\n",
    "-1 & 0 & 0 \\\\\n",
    "0 & 1 & (1-\\gamma) \\\\\n",
    "1 & 0 & \\gamma(1-\\gamma) \\\\\n",
    "2 & 0 & \\gamma^2(1-\\gamma)  \\\\\n",
    "3 & 0 & \\gamma^3(1-\\gamma) \\\\\n",
    "4 & 0 & \\gamma^4(1-\\gamma) \\\\\n",
    "\\end{matrix}\n",
    "$$\n",
    "\n",
    "¿Qué pasa si $\\gamma \\geq 1$?"
   ]
  },
  {
   "cell_type": "code",
   "execution_count": null,
   "metadata": {
    "scrolled": true,
    "slideshow": {
     "slide_type": "fragment"
    }
   },
   "outputs": [],
   "source": [
    "plt.close('all'); fig, ax = plt.subplots(1, figsize=(9, 5))\n",
    "\n",
    "def update(gamma):\n",
    "    t, y = scipy.signal.dimpulse(([1-gamma, 0], [1, -gamma], 1), x0=0, n=30)\n",
    "    ax.cla(); ax.plot(t, y[0], lw=4); \n",
    "\n",
    "interact(update, gamma=FloatSlider_nice(min=-1.1, max=2.1, step=0.01), msg_throttle=1);"
   ]
  },
  {
   "cell_type": "markdown",
   "metadata": {
    "slideshow": {
     "slide_type": "fragment"
    }
   },
   "source": [
    "- La respuesta al impulso puede tender a infinito!\n",
    "- A diferencia de un sistema FIR el sistema IIR puede tener una configuración\n",
    "    - Estable: $h$ tiende a cero\n",
    "    - Condicionalmente estable: $h$ oscila a una taza constante\n",
    "    - Inestable: $h$ crece/decrece infinitamente\n",
    "\n",
    "Consideremos el sistema anterior y asumamos que $|\\gamma|<1$, desenrollando tenemos que \n",
    "\n",
    "$$\n",
    "\\begin{align}\n",
    "y[0] &= (1-\\gamma) x[0] \\nonumber \\\\\n",
    "y[1] &= (1-\\gamma) (x[1] + \\gamma x[0]) \\nonumber \\\\\n",
    "y[2] &= (1-\\gamma) (x[2] + \\gamma x[1] + \\gamma^2 x[0]) \\nonumber \\\\\n",
    "y[3] &= (1-\\gamma) (x[3] + \\gamma x[2] + \\gamma^2 x[1] + \\gamma^3 x[0]) \\nonumber \\\\\n",
    "y[4] &= (1-\\gamma) (x[4] + \\gamma x[3] + \\gamma^2 x[2] + \\gamma^3 x[1]  + \\gamma^4 x[0]) \\nonumber \\\\\n",
    "y[5] &= \\ldots \\nonumber \n",
    "\\end{align}\n",
    "$$\n",
    "\n",
    "Con un sistema IIR de 3 coeficientes podemos representar un sistema FIR considerablemente más grande\n",
    "\n",
    "Por ejemplo si escogemos $\\gamma$ tal que $\\gamma^{20 }\\approx 0$ entonces aproximamos un sistema FIR de orden 20"
   ]
  },
  {
   "cell_type": "markdown",
   "metadata": {
    "slideshow": {
     "slide_type": "fragment"
    }
   },
   "source": [
    "Por otra parte la respuesta en frecuencia de este sistema\n",
    "\n",
    "$$\n",
    "\\begin{align}\n",
    "Y[k] &= (1-\\gamma) X[k] + \\gamma Y[k] e^{-j \\frac{2\\pi}{N} k} \\nonumber \\\\\n",
    "H[k] = \\frac{Y[k]}{X[k]} &= \\frac{1-\\gamma}{1 - \\gamma e^{-j \\frac{2\\pi}{N} k} } = (1-\\gamma)\\frac{e^{j \\frac{2\\pi}{N} k} - 0}{e^{j \\frac{2\\pi}{N} k} - \\gamma  } \\nonumber \n",
    "\\end{align}\n",
    "$$\n",
    "\n",
    "que tiene un cero en $0$, un polo en $\\gamma$ y ganancia $1-\\gamma$\n",
    "\n",
    "Para entender mejor este sistema estudiemos la magnitud de $|H[k]|$ para $\\gamma < 1$\n",
    "\n",
    "$$\n",
    "\\begin{align}\n",
    "| H[k]| &= \\frac{|1-\\gamma|}{|1 - \\gamma e^{-j \\frac{2\\pi}{N} k}|}  \\nonumber \\\\\n",
    "&=  \\frac{1-\\gamma}{\\sqrt{1 - 2\\gamma \\cos(\\frac{2\\pi}{N} k) + \\gamma^2}} \\nonumber\n",
    "\\end{align}\n",
    "$$\n",
    "\n",
    "¿Cómo se ve $|H[k]|$? ¿Qué función cumple este sistema?"
   ]
  },
  {
   "cell_type": "code",
   "execution_count": null,
   "metadata": {
    "slideshow": {
     "slide_type": "fragment"
    }
   },
   "outputs": [],
   "source": [
    "plt.close('all'); fig, ax = plt.subplots(1, figsize=(9, 5))\n",
    "k = np.arange(-24, 25)/50\n",
    "Hk = lambda gamma, k : (1-gamma)/np.sqrt(1 - 2*gamma*np.cos(2.0*np.pi*k) + gamma**2)\n",
    "l = ax.plot(k, np.zeros_like(k), lw=4); ax.set_ylim([-0.05, 1.05]); ax.set_xlabel('Frequency')\n",
    "def update(gamma):\n",
    "    l[0].set_ydata(Hk(gamma, k));\n",
    "    ax.set_title(r\"$\\gamma$: %0.2f\" %(gamma))\n",
    "interact(update, gamma=FloatSlider_nice(min=0., max=0.99, step=0.01), msg_throttle=1);"
   ]
  },
  {
   "cell_type": "markdown",
   "metadata": {
    "slideshow": {
     "slide_type": "fragment"
    }
   },
   "source": [
    "- Este sistema actua como filtro pasa bajo!"
   ]
  },
  {
   "cell_type": "markdown",
   "metadata": {
    "slideshow": {
     "slide_type": "slide"
    }
   },
   "source": [
    "## Diseño de filtros IIR simples\n",
    "\n",
    "Los filtros IIR más simples son los de un polo y un cero\n",
    "\n",
    "$$\n",
    "H[k] = \\frac{b[0] + b[1] e^{-j \\frac{2\\pi}{N} k}}{1 + a[1] e^{-j \\frac{2\\pi}{N} k}}  = K\\frac{e^{j \\frac{2\\pi}{N} k} - \\beta}{e^{j \\frac{2\\pi}{N} k} - \\alpha  } \n",
    "$$\n",
    "\n",
    "donde podemos reconocer $b[0]=K$, $\\beta = - b[1]K$ y $\\alpha=-a[1]$\n",
    "\n",
    "- Definimos la frecuencia de corte $f_c$ como aquella frecuencia en la que el filtro alcanza una atenuación de 0.7 (-3 dB)\n",
    "- En este caso $\\gamma = e^{-2\\pi f_c}$\n",
    "\n",
    "**Receta para un filtro pasa bajo IIR con frecuencia de corte $f_c$**\n",
    "\n",
    "- $b[0] = 1 - e^{-2\\pi f_c}$\n",
    "- $b[1] = 0$\n",
    "- $a[1] = -e^{-2\\pi f_c}$\n",
    "\n",
    "$$\n",
    "H[k] = \\frac{1-e^{-2\\pi f_c}}{1 - e^{-2\\pi f_c} e^{-j \\frac{2\\pi}{N} k}} = (1-e^{-2\\pi f_c}) \\frac{(e^{j \\frac{2\\pi}{N} k}- 0)}{(e^{j \\frac{2\\pi}{N} k} - e^{-2\\pi f_c} )}\n",
    "$$\n",
    "- Un cero en $0$, un polo en $e^{-2\\pi f_c}$ y ganancia $1-e^{-2\\pi f_c}$\n",
    "\n",
    "**Receta para un filtro pasa alto IIR con frecuencia de corte $f_c$**\n",
    "- $b[0] = (1 + e^{-2\\pi f_c})/2$\n",
    "- $b[1] = -(1 + e^{-2\\pi f_c})/2$\n",
    "- $a[1] = -e^{-2\\pi f_c}$\n",
    "\n",
    "$$\n",
    "H[k] = \\frac{1+e^{-2\\pi f_c}}{2} \\frac{(e^{j \\frac{2\\pi}{N} k} - 1)}{(e^{j \\frac{2\\pi}{N} k} - e^{-2\\pi f_c})}\n",
    "$$\n",
    "- Un cero en $1$, un polo en $e^{-2\\pi f_c}$ y ganancia $\\frac{1+e^{-2\\pi f_c}}{2}$\n",
    "\n"
   ]
  },
  {
   "cell_type": "code",
   "execution_count": null,
   "metadata": {
    "slideshow": {
     "slide_type": "fragment"
    }
   },
   "outputs": [],
   "source": [
    "plt.close('all'); fig, ax = plt.subplots(3, figsize=(9, 7))\n",
    "\n",
    "def update(fc):\n",
    "    gamma = np.exp(2*np.pi*fc)\n",
    "    b, a = [(1-gamma), 0], [1, -gamma]\n",
    "    #gamma = np.exp(-2*np.pi*(fc))\n",
    "    #b, a = [(1+gamma)/2, -(1+gamma)/2], [1, -gamma]\n",
    "    freq, response = scipy.signal.freqz(b, a)\n",
    "    ax[0].cla(); ax[0].plot(0.5*freq/np.pi, np.abs(response))\n",
    "    ax[0].set_ylabel('Espectro de\\n magnitud')\n",
    "    ax[1].cla(); ax[1].plot(0.5*freq/np.pi, np.unwrap(np.angle(response)));\n",
    "    ax[1].set_ylabel('Espectro de\\n ángulo')\n",
    "    freq, delay = scipy.signal.group_delay(system=(b, a))\n",
    "    ax[2].cla(); ax[2].plot(0.5*freq/np.pi, delay); ax[2].set_ylabel(\"Retardo\")\n",
    "\n",
    "interact(update, fc=FloatSlider_nice(min=0.01, max=0.49, step=0.01, value=0.01));"
   ]
  },
  {
   "cell_type": "markdown",
   "metadata": {
    "slideshow": {
     "slide_type": "fragment"
    }
   },
   "source": [
    "- Su retardo no es igual para todas las frecuencias! ¿Qué consecuencia tiene esto?\n"
   ]
  },
  {
   "cell_type": "markdown",
   "metadata": {
    "slideshow": {
     "slide_type": "fragment"
    }
   },
   "source": [
    "Aplicar un filtro a una señal:\n",
    "\n",
    "`scipy.signal.lfilter(b, a, x, axis=-1, zi=None)`\n",
    "- b (arreglo): coeficientes del numerador\n",
    "- a (arreglo): coeficientes del denominador\n",
    "- x (arreglo): señal de entrada"
   ]
  },
  {
   "cell_type": "code",
   "execution_count": null,
   "metadata": {
    "slideshow": {
     "slide_type": "fragment"
    }
   },
   "outputs": [],
   "source": [
    "plt.close('all'); fig, ax = plt.subplots(2, figsize=(8, 7))\n",
    "fc = 0.05; gamma = np.exp(-2*np.pi*(fc))\n",
    "# b, a = [(1-gamma), 0], [1, -gamma]  # Low Pass\n",
    "b, a = [(1+gamma)/2, -(1+gamma)/2], [1, -gamma]  # High pass\n",
    "n = np.arange(0, 500)\n",
    "l0 = ax[0].plot(n, np.zeros_like(n)); ax[0].set_ylim([-0.05, 1.05]); ax[0].set_title('Input')\n",
    "l1 = ax[1].plot(n, np.zeros_like(n)); ax[1].set_ylim([-0.5, 1.05]); ax[1].set_title('Output')\n",
    "\n",
    "def update(m):\n",
    "    x = 0.5 + 0.5*scipy.signal.square((n-m)/(2.*np.pi*5), duty=0.3)\n",
    "    l0[0].set_ydata(x);\n",
    "    y = scipy.signal.lfilter(b, a, x)\n",
    "    l1[0].set_ydata(y);\n",
    "\n",
    "anim = animation.FuncAnimation(fig, update, frames=200, interval=100, blit=True); \n",
    "#plt.close(); HTML(anim.to_html5_video())"
   ]
  },
  {
   "cell_type": "markdown",
   "metadata": {
    "slideshow": {
     "slide_type": "skip"
    }
   },
   "source": [
    "## Diseño de filtros IIR de segundo orden\n",
    "\n",
    "Los filtros IIR de segundo orden o **biquad** tienen dos polos y dos ceros.\n",
    "\n",
    "Su respuesta en frecuencia es\n",
    "$$\n",
    "H[k] = \\frac{b[0] + b[1] W_N^k + b[2] W_N^{2k}}{1 + a[1] W_N^k + a[2] W_N^{2k}} = K \\frac{(W_N^{-k} - \\beta_1) (W_N^{-k} - \\beta_2)}{(W_N^{-k} - \\alpha_1)(W_N^{-k} - \\alpha_2)},\n",
    "$$\n",
    "donde $W_N = e^{-j \\frac{2 \\pi}{N}}$ y la relación entreo coeficientes y polos/ceros es: \n",
    "$$\n",
    "b[0] = K, \\quad b[1] = -K (\\beta_1 + \\beta_2), \\quad b[2]= K \\beta_1\\beta_2\n",
    "$$\n",
    "$$\n",
    "a[1] = - (\\alpha_1 + \\alpha_2), \\quad a[2]=\\alpha_1 \\alpha_2\n",
    "$$\n",
    "\n",
    "\n",
    "- Con arquitecturas de segundo orden se pueden crear filtros pasabanda y rechaza banda\n",
    "- Los filtros IIR de primer y segundo orden son menos propensos a inestabilidades\n",
    "- https://www.dsprelated.com/showarticle/1137.php\n"
   ]
  },
  {
   "cell_type": "code",
   "execution_count": null,
   "metadata": {
    "slideshow": {
     "slide_type": "skip"
    }
   },
   "outputs": [],
   "source": [
    "#https://www.slideshare.net/op205/basics-of-digital-filters-presentation\n",
    "\n",
    "plt.close('all'); fig, ax = plt.subplots(3, figsize=(8, 6))\n",
    "\n",
    "def update(fc1, fc2):\n",
    "    gamma1 = np.exp(-2*np.pi*fc1)\n",
    "    # gamma2 = np.exp(-2*np.pi*fc2)\n",
    "    # b, a = [(1-gamma), 0], [1, -gamma]\n",
    "    #b, a = [(1+gamma)/2, -(1+gamma)/2], [1, -gamma]\n",
    "    z = [1, -1]\n",
    "    p = [0.9*np.exp(-1j*2*np.pi*fc1), 0.9*np.exp(1j*2*np.pi*fc1)]\n",
    "    k=1\n",
    "    freq, response = scipy.signal.freqz_zpk(z=z, k=k, p=p)\n",
    "    ax[0].cla(); ax[0].plot(0.5*freq/np.pi, np.abs(response))\n",
    "    ax[0].set_ylabel('Espectro de\\n magnitud')\n",
    "    ax[1].cla(); ax[1].plot(0.5*freq/np.pi, np.unwrap(np.angle(response)));\n",
    "    ax[1].set_ylabel('Espectro de\\n ángulo')\n",
    "    #freq, delay = scipy.signal.group_delay(system=(b, a))\n",
    "    #ax[2].cla(); ax[2].plot(0.5*freq/np.pi, delay); ax[2].set_ylabel(\"Retardo\")\n",
    "\n",
    "interact(update, fc1=FloatSlider_nice(min=0.01, max=0.49, step=0.01, value=0.25),\n",
    "         fc2=FloatSlider_nice(min=0.01, max=0.49, step=0.01, value=0.3));"
   ]
  },
  {
   "cell_type": "markdown",
   "metadata": {
    "slideshow": {
     "slide_type": "slide"
    }
   },
   "source": [
    "## Diseño de filtros IIR de orden mayor\n",
    "\n",
    "Crear coeficientes de filtro IIR de orden mayor\n",
    "\n",
    "`scipy.signal.iirfilter(N, Wn, rp=None, rs=None, btype='bandpass', analog=False, ftype='butter', output='ba')`\n",
    "\n",
    "- N (entero): orden del filtro\n",
    "- Wn (arreglo): Frecuencias de corte (normalizadas en [0, 1])\n",
    "- btype (string): Tipo de filtro {'bandpass', 'lowpass', 'highpass', 'bandstop'}\n",
    "- ftype (string): Tipo de filtro {'butter', 'ellip', 'cheby1', 'cheby2', 'bessel'}\n",
    "- output (string): Tipo de retorno\n",
    "\n",
    "El filtro Butterworth ('butter') es óptimo en el sentido de tener la banda de paso lo más plana posible. Otros filtros se diseñaron con otras consideraciones. Los filtros IIR digitales están basados en los filtros IIR analógicos."
   ]
  },
  {
   "cell_type": "code",
   "execution_count": null,
   "metadata": {
    "slideshow": {
     "slide_type": "fragment"
    }
   },
   "outputs": [],
   "source": [
    "plt.close('all'); fig, ax = plt.subplots(3, figsize=(9, 7))\n",
    "\n",
    "def update(order, ftype):\n",
    "    b, a = scipy.signal.iirfilter(N=order, Wn=0.2, ftype=ftype, btype='lowpass', output='ba')\n",
    "    freq, response = scipy.signal.freqz(b, a)\n",
    "    ax[0].cla(); ax[0].plot(freq/np.pi, np.abs(response))\n",
    "    ax[0].set_ylabel('Espectro\\nde magnitud')\n",
    "    ax[1].cla(); ax[1].plot(freq/np.pi, np.unwrap(np.angle(response)));\n",
    "    ax[1].set_ylabel('Espectro\\nde ángulo')\n",
    "    freq, delay = scipy.signal.group_delay(system=(b, a))\n",
    "    ax[2].cla(); ax[2].plot(freq/np.pi, delay); ax[2].set_ylabel(\"Retardo\")\n",
    "    \n",
    "interact(update, order=SelectionSlider_nice(options=[1, 2, 3, 5, 10, 15, 25], value=1),\n",
    "         ftype=SelectionSlider_nice(options=['butter', 'bessel']));"
   ]
  },
  {
   "cell_type": "code",
   "execution_count": null,
   "metadata": {
    "scrolled": false,
    "slideshow": {
     "slide_type": "fragment"
    }
   },
   "outputs": [],
   "source": [
    "plt.close('all'); fig, ax = plt.subplots(2, figsize=(8, 6))\n",
    "\n",
    "b, a = scipy.signal.iirfilter(N=10, Wn=0.03, ftype='butter', btype='lowpass', output='ba')\n",
    "n = np.arange(0, 500)\n",
    "l0 = ax[0].plot(n, np.zeros_like(n)); ax[0].set_ylim([-0.05, 1.05]); ax[0].set_title('Input')\n",
    "l1 = ax[1].plot(n, np.zeros_like(n)); ax[1].set_ylim([-0.2, 1.2]); ax[1].set_title('Output')\n",
    "\n",
    "def update(m):\n",
    "    x = 0.5 + 0.5*scipy.signal.square((n-m)/(2.*np.pi*5), duty=0.3)\n",
    "    l0[0].set_ydata(x);\n",
    "    y = scipy.signal.lfilter(b, a, x)\n",
    "    #y = scipy.signal.filtfilt(b, a, x)\n",
    "    l1[0].set_ydata(y);\n",
    "\n",
    "anim = animation.FuncAnimation(fig, update, frames=200, interval=100, blit=True); \n",
    "#plt.close(); HTML(anim.to_html5_video())"
   ]
  },
  {
   "cell_type": "markdown",
   "metadata": {
    "slideshow": {
     "slide_type": "slide"
    }
   },
   "source": [
    "## Respuesta en frecuencia de filtros FIR e IIR del orden equivalente"
   ]
  },
  {
   "cell_type": "code",
   "execution_count": null,
   "metadata": {
    "slideshow": {
     "slide_type": "fragment"
    }
   },
   "outputs": [],
   "source": [
    "plt.close('all'); fig, ax = plt.subplots(2, 2, figsize=(9, 6))\n",
    "b, a = scipy.signal.iirfilter(N=20, Wn=0.2, ftype='butter', btype='lowpass', output='ba')\n",
    "h = scipy.signal.firwin(numtaps=20, cutoff=0.2, pass_zero=True, window='hann', fs=2)\n",
    "freq_fir, response_fir = scipy.signal.freqz(h, 1)\n",
    "freq_iir, response_iir = scipy.signal.freqz(b, a)\n",
    "\n",
    "ax[0, 0].set_title('Espectro\\nde magnitud'); ax[0, 1].set_title('Retardo')\n",
    "ax[0, 0].plot(freq_fir/np.pi, np.abs(response_fir))\n",
    "ax[1, 0].plot(freq_iir/np.pi, np.abs(response_iir)); \n",
    "ax[0, 0].set_ylabel('FIR'); ax[1, 0].set_ylabel('IIR'); \n",
    "freq_fir, delay_fir = scipy.signal.group_delay(system=(h, 1))\n",
    "ax[0, 1].plot(freq_fir/np.pi, delay_fir); ax[0, 1].set_ylim([np.mean(delay_fir)-1, np.mean(delay_fir)+1])\n",
    "freq_iir, delay_iir = scipy.signal.group_delay(system=(b, a))\n",
    "ax[1, 1].plot(freq_iir/np.pi, delay_iir); "
   ]
  },
  {
   "cell_type": "markdown",
   "metadata": {
    "slideshow": {
     "slide_type": "subslide"
    }
   },
   "source": [
    "## Efectos de audio: <a href=\"https://en.wikipedia.org/wiki/Wah-wah_(music)\">Wah-wah</a> \n",
    "\n",
    "- Filtro pasabanda modulado\n",
    "- Ancho de pasada fijo $f_b$ [Hz]\n",
    "- Frecuencia central variable $f_c$ [Hz]\n",
    "- La frecuencia central se modula con una onda lenta\n",
    "- Se modela como el siguiente sistema **IIR**\n",
    "$$\n",
    "H[k] = \\frac{(1+c)W_N^{2k} -(1+c) }{W_N^{2k} + d(1-c)W_N^k -c}\n",
    "$$\n",
    "donde $d=-\\cos(2\\pi f_c/f_s)$ y $c = \\frac{\\tan(\\pi f_b/f_s) -1}{\\tan(2\\pi f_b /f_s)+1}$\n",
    "\n",
    "\n",
    "\n",
    "Ref: https://www.ee.columbia.edu/~ronw/adst-spring2010/lectures/lecture2.pdf"
   ]
  },
  {
   "cell_type": "code",
   "execution_count": null,
   "metadata": {
    "slideshow": {
     "slide_type": "fragment"
    }
   },
   "outputs": [],
   "source": [
    "data, fs = sf.read(\"data/nomekop.ogg\")\n",
    "Audio(data, rate=int(fs))"
   ]
  },
  {
   "cell_type": "code",
   "execution_count": null,
   "metadata": {
    "slideshow": {
     "slide_type": "fragment"
    }
   },
   "outputs": [],
   "source": [
    "fb, N, Nw = 200, len(data), 5\n",
    "c  = (np.tan(np.pi*fb/fs) - 1.)/(np.tan(2*np.pi*fb/fs) +1)\n",
    "data_wah = []\n",
    "zi = np.zeros(shape=(2,))\n",
    "for k in range(int(N/Nw)+1):\n",
    "    fc = 500 + 2000*(np.cos(2.0*np.pi*k*30./fs) +1)/2\n",
    "    d = -np.cos(2*np.pi*fc/fs)\n",
    "    data2, zi = scipy.signal.lfilter([(1+c), 0, -(1+c)], [1, d*(1-c), -c], \n",
    "                                     x=data[k*Nw:(k+1)*Nw], zi=zi)\n",
    "    data_wah.append(data2)\n",
    "Audio(np.hstack(data_wah), rate=int(fs))"
   ]
  },
  {
   "cell_type": "code",
   "execution_count": null,
   "metadata": {},
   "outputs": [],
   "source": []
  },
  {
   "cell_type": "markdown",
   "metadata": {},
   "source": [
    "Design of recursive filters\n",
    "http://www-pagines.fib.upc.es/~pds/Lect06.pdf"
   ]
  }
 ],
 "metadata": {
  "kernelspec": {
   "display_name": "Python 3",
   "language": "python",
   "name": "python3"
  },
  "language_info": {
   "codemirror_mode": {
    "name": "ipython",
    "version": 3
   },
   "file_extension": ".py",
   "mimetype": "text/x-python",
   "name": "python",
   "nbconvert_exporter": "python",
   "pygments_lexer": "ipython3",
   "version": "3.8.5"
  },
  "toc": {
   "base_numbering": 1,
   "nav_menu": {},
   "number_sections": true,
   "sideBar": true,
   "skip_h1_title": false,
   "title_cell": "Table of Contents",
   "title_sidebar": "Contents",
   "toc_cell": false,
   "toc_position": {},
   "toc_section_display": true,
   "toc_window_display": true
  }
 },
 "nbformat": 4,
 "nbformat_minor": 2
}
