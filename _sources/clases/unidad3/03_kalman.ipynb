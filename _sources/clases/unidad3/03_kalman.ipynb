{
 "cells": [
  {
   "cell_type": "code",
   "execution_count": null,
   "metadata": {
    "slideshow": {
     "slide_type": "skip"
    }
   },
   "outputs": [],
   "source": [
    "%%HTML\n",
    "<!-- Mejorar visualización en proyector -->\n",
    "<style>\n",
    ".rendered_html {font-size: 1.2em; line-height: 150%;}\n",
    "div.prompt {min-width: 0ex; padding: 0px;}\n",
    ".container {width:90% !important;}\n",
    "</style>"
   ]
  },
  {
   "cell_type": "code",
   "execution_count": null,
   "metadata": {
    "slideshow": {
     "slide_type": "skip"
    }
   },
   "outputs": [],
   "source": [
    "import numpy as np\n",
    "import scipy.signal\n",
    "%matplotlib notebook\n",
    "import matplotlib.pylab as plt\n",
    "from matplotlib import animation, patches\n",
    "from IPython.display import display, Audio, HTML\n",
    "import soundfile as sf\n",
    "from style import *"
   ]
  },
  {
   "cell_type": "markdown",
   "metadata": {
    "slideshow": {
     "slide_type": "slide"
    }
   },
   "source": [
    "### Universidad Austral de Chile \n",
    "\n",
    "## INFO183: Análisis de sistemas lineales\n",
    "\n",
    "# Unidad 4: Sistemas y filtros adaptivos\n",
    "\n",
    "### Dr. Pablo Huijse, phuijse at inf dot uach dot cl \n",
    "\n",
    "### <a href=\"https://github.com/phuijse/UACH-INFO183\"> github.com/phuijse/UACH-INFO183 </a>\n"
   ]
  },
  {
   "cell_type": "markdown",
   "metadata": {
    "slideshow": {
     "slide_type": "slide"
    }
   },
   "source": [
    "***\n",
    "<a id=\"index\"></a>\n",
    "\n",
    "# Contenidos de la unidad\n",
    "\n",
    "***\n",
    "\n",
    "1. [Estimador lineal óptimo](#section1)\n",
    "1. [Gradiente descendente](#section2)\n",
    "1. [Algoritmo de mínimos cuadrados (LMS)](#section3)\n",
    "1. [Algoritmo de mínimos cuadrados recursivo (RLS)](#section4)\n",
    "1. [Algoritmo perceptrón](#section5)\n",
    "\n",
    "### Bibliografía\n",
    "\n",
    "1. Simon Haykin, \"Adaptive filter theory\" 5ed, Pearson\n"
   ]
  },
  {
   "cell_type": "markdown",
   "metadata": {
    "slideshow": {
     "slide_type": "slide"
    }
   },
   "source": [
    "# Introducción\n",
    "***\n",
    "\n",
    "- **Estimador:** Sistema diseñado para **extraer información** a partir de una **señal**\n",
    "- La señal contiene **información y ruido** \n",
    "- La señal es representada como una secuencia de **datos**\n",
    "\n",
    "Tipos de estimador\n",
    "- **Filtro:** Estimo el valor actual de mi señal acentuando o eliminando una o más características\n",
    "- **Predictor:** Estimo el valor futuro de mi señal\n",
    "\n",
    "Estimador lineal óptimo\n",
    "- Lineal: La cantidad estimada es una función lineal de la entrada\n",
    "- Óptimo: El estimador es la mejor solución posible de acuerdo a un criterio (*e.g.* Error cuadrático medio)\n",
    "\n",
    "Estimador lineal adaptivo\n",
    "- Es lineal pero no LTI\n",
    "- Sus parámetros cambian en función del tiempo\n",
    "- Diseñamos una regla para actualizar sus parámetros\n",
    "- Usualmente las reglas están basadas en criterios de optimización\n",
    "\n",
    "\n",
    "<img src=\"img/adaptive-systems1.png\">"
   ]
  },
  {
   "cell_type": "markdown",
   "metadata": {
    "slideshow": {
     "slide_type": "subslide"
    }
   },
   "source": [
    "## Proceso aleatorio/estocástico\n",
    "***\n",
    "\n",
    "- Colección de variables aleatorias indexadas en el tiempo\n",
    "- Evolución de un fenomeno estadístico en el tiempo\n",
    "- El fenomeno se rige por leyes probabilísticas\n",
    "\n",
    "\n",
    "Un proceso aleatorio $U_n = (u_n, u_{n-1}, u_{n-2}, \\ldots, u_{n-L})$ se describe a través de sus momentos\n",
    "\n",
    "Si consideramos una caracterízación de segundo orden necesitamos definir\n",
    "- Momento central o media \n",
    "$$\n",
    "\\mu(n) = \\mathbb{E}[U_n]\n",
    "$$\n",
    "- Segundo momento o correlación\n",
    "$$\n",
    "r_{uu}(n, n-k) = \\mathbb{E}[U_n U_{n-k}]\n",
    "$$\n",
    "- Segundo momento centrado o covarianza\n",
    "$$\n",
    "\\begin{align}\n",
    "c_{uu}(n, n-k) &= \\mathbb{E}[(U_n-\\mu_n) (U_{n-k}- \\mu_{n-k})] \\nonumber \\\\\n",
    "&= r(n,n-k) - \\mu_n \\mu_{n-k} \\nonumber\n",
    "\\end{align}\n",
    "$$\n",
    "- correlación cruzada entre dos procesos \n",
    "$$\n",
    "r_{ud}(n, n-k) = \\mathbb{E}[U_n D_{n-k}]\n",
    "$$\n",
    "\n",
    "***\n",
    "En general consideraremos el caso simplificado donde el proceso es estacionario\n",
    "\n",
    "$$\n",
    "\\mu(n)  = \\mu, \\forall n\n",
    "$$\n",
    "y\n",
    "$$\n",
    "r_{uu}(n, n-k)  = r_{uu}(k), \\forall n\n",
    "$$\n",
    "es decir los estadísticos se mantienen constantes en el tiempo (no depende de $n$)\n",
    "\n",
    "Otra simplificación es que el proceso sea ergódico\n",
    "\n",
    "$$\n",
    "\\mathbb{E}[U_n] = \\frac{1}{N} \\sum_{n=1}^N u_n\n",
    "$$\n",
    "\n",
    "es decir podemos reemplazar el valor esperado por la media en el tiempo\n",
    "***\n",
    "\n",
    "### Densidad espectral de potencia\n",
    "\n",
    "Otra cantidad de interés es la PSD (*power spectral density*) que mide la distribución de la potencia en frecuencia\n",
    "\n",
    "$$\n",
    "\\begin{align}\n",
    "S_{uu}(f) &= \\sum_{k=-\\infty}^{\\infty} r_{uu}(k) e^{-j 2\\pi f k} \\nonumber \\\\\n",
    "&= \\lim_{N\\to\\infty} \\frac{1}{2N+1} \\mathbb{E} \\left [\\left|\\sum_{n=-N}^{N} u_n e^{-j 2\\pi f n} \\right|^2 \\right]\n",
    "\\end{align}\n",
    "$$\n",
    "que corresponde a la transformada de Fourier de la correlación (caso estacionario)\n",
    "\n",
    "La PSD y la correlación forman un par de Fourier"
   ]
  },
  {
   "cell_type": "markdown",
   "metadata": {
    "slideshow": {
     "slide_type": "skip"
    }
   },
   "source": [
    "[&larr; Volver al índice](#index)"
   ]
  },
  {
   "cell_type": "markdown",
   "metadata": {
    "slideshow": {
     "slide_type": "slide"
    }
   },
   "source": [
    "***\n",
    "<a id=\"section1\"></a>\n",
    "\n",
    "# Estimadores óptimos\n",
    "***\n",
    "[Óptimo](http://dle.rae.es/?id=R7bbor7): adj. Sumamente bueno, que no puede ser mejor.\n",
    "\n",
    "Para diseñar un estimador óptimo necesitamos un **criterio**\n",
    "\n",
    "Luego el estimador será **óptimo según dicho criterio**\n",
    "\n",
    "Usualmente también consideramos supuestos. Podríamos asumir que\n",
    "- el ruido es aditivo y blanco o que tiene una cierta covarianza conocida\n",
    "- conocemos la media y covarianza de la señal\n",
    "- el proceso es estacionario\n",
    "\n"
   ]
  },
  {
   "attachments": {
    "wiener.png": {
     "image/png": "[encoded data removed]"
    }
   },
   "cell_type": "markdown",
   "metadata": {
    "slideshow": {
     "slide_type": "subslide"
    }
   },
   "source": [
    "## Filtro de Wiener\n",
    "\n",
    "- Filtro LTI de tiempo discreto\n",
    "- Estructura FIR con $L+1$ coeficientes: $h_0, h_1, h_2, \\ldots, h_{L}$\n",
    "- La entrada es una señal $u_0, u_1, u_2, \\ldots$\n",
    "- Para cada tiempo el filtro produce una salida $y_0, y_1, y_2, \\ldots$\n",
    "\n",
    "Adaptamos los coeficientes del filtro con dos ingredientes\n",
    "- Una respuesta \"deseada\" $d_0, d_1, d_2, \\ldots$\n",
    "- Un criterio de optimalidad que opera sobre el error entre la respuesta deseada y la salida\n",
    "$$\n",
    "e_n = d_n - y_n = d_n - \\sum_{k=0}^{L} h_k u_{n-k} \n",
    "$$\n",
    "\n",
    "Diagrama del filtro de Wiener\n",
    "\n",
    "![wiener.png](attachment:wiener.png)\n",
    "\n",
    "(Este filtro fue publicado por Norbert Wiener en 1949)"
   ]
  },
  {
   "cell_type": "markdown",
   "metadata": {
    "slideshow": {
     "slide_type": "subslide"
    }
   },
   "source": [
    "## Ajuste del filtro de Wiener\n",
    "\n",
    "El criterio más común para adaptar el filtro de Wiener es **el error medio cuadrático** entre la respuesta deseada y la salida del filtro. Asumiendo que la $u$ e $d$ son secuencias reales\n",
    "\n",
    "$$\n",
    "\\begin{align}\n",
    "\\text{MSE} &= \\mathbb{E}\\left [e_n^2 \\right] \\nonumber \\\\\n",
    "&= \\mathbb{E}\\left [(d_n - y_n)^2 \\right] \\nonumber \\\\\n",
    "&= \\mathbb{E}\\left [d_n^2 \\right]  - 2\\mathbb{E}\\left [ d_n y_n \\right] + \\mathbb{E}\\left [ y_n^2 \\right] \\nonumber \n",
    "\\end{align}\n",
    "$$\n",
    "donde $\\sigma_d^2 = \\mathbb{E}\\left [d_n^2 \\right]$ es la varianza de la señal deseada y $\\sigma_y^2 = \\mathbb{E}\\left [ y_n^2 \\right]$ es la varianza de nuestro estimador\n",
    " \n",
    "***\n",
    "Minimizar el MSE implica acercar la salida del filtro a la respuesta deseada\n",
    "***\n",
    "En este caso igualando la derivada del MSE a cero tenemos \n",
    "\n",
    "$$\n",
    "\\begin{align}\n",
    "\\frac{d}{d h_j} \\text{MSE} &= -2\\mathbb{E}\\left[ d_n \\frac{d y_n}{d h_j}  \\right]  + 2 \\mathbb{E}\\left[ y_n \\frac{d y_n}{d h_j}    \\right]  \\nonumber \\\\\n",
    "&= -2\\mathbb{E}\\left[ d_n u_{n-j} \\right]  + 2 \\mathbb{E}\\left[ y_n u_{n-j}    \\right]  \\nonumber \\\\\n",
    "&= -2\\mathbb{E}\\left[ d_n u_{n-j} \\right]  + 2 \\mathbb{E}\\left[ \\sum_{k=0}^{L} h_k u_{n-k}  u_{n-j} \\right] \\nonumber \\\\\n",
    "&= -2\\mathbb{E}\\left[ d_n u_{n-j} \\right]  + 2 \\sum_{k=0}^{L} h_k \\mathbb{E}\\left[ u_{n-k}  u_{n-j} \\right] = 0 \\nonumber \\end{align}\n",
    "$$\n",
    "\n",
    "Si despejamos y repetimos para $j=0, \\ldots, L$ obtenemos el siguiente sistema de ecuaciones\n",
    "\n",
    "$$\n",
    "\\begin{align}\n",
    "\\begin{pmatrix}\n",
    "r_{uu}(0) & r_{uu}(1) & r_{uu}(2) & \\ldots & r_{uu}(L) \\\\\n",
    "r_{uu}(1) & r_{uu}(0) & r_{uu}(1) & \\ldots & r_{uu}(L-1) \\\\\n",
    "r_{uu}(2) & r_{uu}(1) & r_{uu}(0) & \\ldots & r_{uu}(L-2) \\\\\n",
    "\\vdots & \\vdots & \\vdots & \\ddots &\\vdots \\\\\n",
    "r_{uu}(L) & r_{uu}(L-1) & r_{uu}(L-2) & \\ldots & r_{uu}(0) \\\\\n",
    "\\end{pmatrix}\n",
    "\\begin{pmatrix}\n",
    "h_0  \\\\\n",
    "h_1  \\\\\n",
    "h_2  \\\\\n",
    "\\vdots  \\\\\n",
    "h_L \\\\\n",
    "\\end{pmatrix} &= \n",
    "\\begin{pmatrix}\n",
    "r_{ud}(0)  \\\\\n",
    "r_{ud}(1)  \\\\\n",
    "r_{ud}(2) \\\\\n",
    "\\vdots  \\\\\n",
    "r_{ud}(L) \\\\\n",
    "\\end{pmatrix} \\nonumber \\\\\n",
    "R_{uu} \\textbf{h} &= R_{ud},\n",
    "\\end{align}\n",
    "$$\n",
    "\n",
    "que se conoce como las ecuaciones de Wiener-Hopf. \n",
    "\n",
    "Además $R_{uu}$ se conoce como matriz de auto-correlación. Asumiendo que $R_{uu}$ es no-singular, la **solución óptima en el sentido de mínimo MSE** es \n",
    "\n",
    "$$\n",
    "\\textbf{h}^{*} = R_{uu} ^{-1} R_{ud}\n",
    "$$\n",
    "\n",
    "En general $R_{uu}$ es una matriz definida-positiva (su inversa existe) y el sistema puede resolverse en $\\mathcal{O}(L^2)$ usando la [recursión de Levison-Durbin](https://en.wikipedia.org/wiki/Levinson_recursion)\n",
    "\n",
    "Requisitos/supuestos de este filtro\n",
    "- la salida deseada y la entrada tienen media cero, *i.e.* $\\mathbb{E}[d_n] = \\mathbb{E}[u_n] = 0$ (si existe podemos restarla)\n",
    "- la salida deseada y la entrada son estacionarias en el sentido amplio, *i.e.* la correlación solo depende de $m$"
   ]
  },
  {
   "cell_type": "markdown",
   "metadata": {
    "slideshow": {
     "slide_type": "subslide"
    }
   },
   "source": [
    "## Error mínimo del filtro de Wiener\n",
    "\n",
    "Dado que $y_n = \\textbf{h}^T U_n = U_n^T \\textbf{h} $, podemos expresar el MSE como\n",
    "$$\n",
    "\\begin{align}\n",
    "\\text{MSE} &= \\mathbb{E}\\left [d_n^2 \\right]  - 2\\mathbb{E}\\left [ d_n y_n \\right] + \\mathbb{E}\\left [ y_n^2 \\right] \\nonumber \\\\\n",
    "&= \\mathbb{E}\\left [d_n^2 \\right] - 2 \\textbf{h}^T \\mathbb{E}\\left [ d_n U_n \\right]  + \\textbf{h}^T \\mathbb{E}\\left [U_n U_n^T \\right]  \\textbf{h}  \\nonumber \\\\\n",
    "&= \\sigma_d^2 - 2 \\textbf{h}^T R_{ud} + \\textbf{h}^T R_{uu} \\textbf{h} \\nonumber \n",
    "\\end{align}\n",
    "$$\n",
    "\n",
    "Luego el mínimo error que se puede obtener es\n",
    "\n",
    "$$\n",
    "\\begin{align}\n",
    "\\text{MSE}_{\\text{min}} &= \\sigma_d^2 - (R_{uu}^{-1} R_{ud})^T R_{ud} \\nonumber \\\\\n",
    "&= \\sigma_d^2 - R_{ud}^T R_{uu}^{-1} R_{ud} < \\sigma_d^2\n",
    "\\end{align}\n",
    "$$"
   ]
  },
  {
   "cell_type": "markdown",
   "metadata": {
    "slideshow": {
     "slide_type": "subslide"
    }
   },
   "source": [
    "## Filtro de wiener: Regresión (identificación de sistema)\n",
    "\n",
    "En regresión buscamos encontrar los coeficientes $h$ a partir de $(X, Y)$ tal que\n",
    "$$\n",
    "Y = h^T X + \\epsilon,\n",
    "$$\n",
    "donde $X \\in \\mathbb{R}^{N\\times D}$ son las variables dependientes (entrada), $Y \\in \\mathbb{R}^N$ es la  variable dependiente (salida) y $\\epsilon$ es ruido.\n",
    "\n",
    "\n",
    "### Entrenamiento del predictor\n",
    "\n",
    "- Asumimos que hemos observado N muestras de $X$ e $Y$ \n",
    "- A partir de $u=X$ construimos $R_{uu}$\n",
    "- A partir de $d=Y$ construimos $R_{ud}$\n",
    "- Finalmente recuperamos $\\textbf{h}$ usando $R_{uu} ^{-1} R_{ud}$\n",
    "- Con esto podemos interpolar $Y$ "
   ]
  },
  {
   "cell_type": "code",
   "execution_count": null,
   "metadata": {
    "slideshow": {
     "slide_type": "fragment"
    }
   },
   "outputs": [],
   "source": [
    "fig, ax = plt.subplots(1, figsize=(9, 4))\n",
    "N = 100; t = np.linspace(0, 10, num=N)\n",
    "U = np.ones(shape=(N, 5))\n",
    "for i in range(1, 5):\n",
    "    U[:, i] = t**i\n",
    "h_real = [-1, 1, -0.1, 0.01, -0.001]\n",
    "def update(rseed, order):\n",
    "    np.random.seed(rseed)\n",
    "    Y = np.dot(U, h_real) + np.random.randn(N)\n",
    "    Ruu = np.dot(U[:, :order+1].T, U[:, :order+1])\n",
    "    Rud = np.dot(U[:, :order+1].T, Y[:, np.newaxis])\n",
    "    h = np.linalg.solve(Ruu, Rud)[:, 0]\n",
    "    ax.cla();\n",
    "    ax.plot(t, np.dot(U, h_real), lw=4, alpha=0.7, label='true')\n",
    "    ax.plot(t, Y, '.', label='observed', markersize=10)\n",
    "    ax.plot(t, np.dot(U[:, :order+1], h), lw=4, alpha=0.7, label='estimated'); plt.legend();\n",
    "interact(update, rseed=IntSlider_nice(), order=SelectionSlider_nice(options=[0, 1, 2, 3, 4]));"
   ]
  },
  {
   "cell_type": "markdown",
   "metadata": {
    "slideshow": {
     "slide_type": "subslide"
    }
   },
   "source": [
    "## Filtro de wiener: Predicción \n",
    "\n",
    "En este caso asumimos que la señal deseada es la entrada en el futuro\n",
    "$$\n",
    "d_n = \\{u_{n+1}, u_{n+2}, \\ldots, u_{n+m}\\}\n",
    "$$ \n",
    "\n",
    "- Donde $m$ es el horizonte de predicción\n",
    "- Llamamos *predicción a un paso* al caso $m=1$\n",
    "- El largo del filtro $L$ define la cantidad de muestras pasadas que usamos para predecir\n",
    "- Por ejemplo un sistema de predicción a un paso con $L+1 = 3$ coeficientes:\n",
    "$$\n",
    "h_0 u_n +  h_1 u_{n-1} + h_2 u_{n-2}= y_n = \\hat u_{n+1} \\approx u_{n+1}\n",
    "$$\n",
    "\n",
    "### Entrenamiento del predictor\n",
    "\n",
    "- Asumimos que la señal ha sido observada y que se cuenta con $N$ muestras\n",
    "- Podemos formar una matriz cuyas filas son $[u_n, u_{n-1}, \\ldots, u_{n-L}]$ para $n=L,L+1,\\ldots, N-1$\n",
    "- Podemos formar un vector $[u_N, u_{N-1}, \\ldots, u_{L+1}]^T$ (caso $m=1$)\n",
    "- Con esto podemos formar las matrices de correlación y obtener $\\textbf{h}$\n",
    "- Finalmente usamos $\\textbf{h}$ para predecir el futuro no observado de $u$\n",
    "\n",
    "¿Cómo afectan $L$ y $N$ en la calidad del predictor lineal?"
   ]
  },
  {
   "cell_type": "code",
   "execution_count": null,
   "metadata": {
    "slideshow": {
     "slide_type": "fragment"
    }
   },
   "outputs": [],
   "source": [
    "from numpy.lib.stride_tricks import as_strided\n",
    "fig, ax = plt.subplots(1, figsize=(9, 4))\n",
    "t = np.linspace(0, 10, num=200)\n",
    "u = np.sin(2.0*np.pi*0.5*t) + 0.25*np.random.randn(len(t))\n",
    "#u += 0.5*t\n",
    "def update(L, N_train):    \n",
    "    ax.cla();\n",
    "    U = as_strided(u, [len(u)-L+1 , L+1], strides=[u.strides[0], u.strides[0]])\n",
    "    Ruu = np.dot(U[:N_train, :L].T, U[:N_train, :L])\n",
    "    Rud = np.dot(U[:N_train, :L].T, U[:N_train, L][:, np.newaxis])\n",
    "    h = np.linalg.solve(Ruu, Rud)[:, 0]\n",
    "    ax.plot(t[:N_train], u[:N_train], label='Train'); \n",
    "    ax.plot(t[N_train:], u[N_train:], label='Test'); \n",
    "    u_pred = np.zeros(shape=(len(u), ))\n",
    "    u_pred[:N_train] = u[:N_train]\n",
    "    for k in range(N_train, len(u)):\n",
    "        u_pred[k] = np.sum(h*u_pred[k-L:k])    \n",
    "    ax.plot(t[N_train:], u_pred[N_train:], linewidth=4, alpha=0.7,\n",
    "            label='Predicted'); ax.legend(loc=3);\n",
    "\n",
    "interact(update, L=SelectionSlider_nice(options=[1, 5, 10, 20, 30, 50], value=5), \n",
    "         N_train=SelectionSlider_nice(options=[len(u)//3, len(u)//2, len(u)*2//3], value=len(u)//2));"
   ]
  },
  {
   "cell_type": "markdown",
   "metadata": {
    "slideshow": {
     "slide_type": "skip"
    }
   },
   "source": [
    "# Filtro de Wiener: Eliminar ruido blanco aditivo\n",
    "\n",
    "En este caso asumimos que la señal de entrada corresponde a una señal deseada (información) que ha sido contaminada con ruido aditivo\n",
    "\n",
    "$$\n",
    "u_n = d_n + \\nu_n,\n",
    "$$\n",
    "\n",
    "adicionalmente asumimos que\n",
    "- el ruido es estacionario en el sentido amplio y de media cero $\\mathbb{E}[\\nu_n] = 0$\n",
    "- el ruido es blanco, es decir no tiene correlación consigo mismo o con la señal deseada\n",
    "$$\n",
    "r_{\\nu d}(k) = 0, \\forall k\n",
    "$$\n",
    "- el ruido tiene una cierta varianza $\\mathbb{E}[\\nu_n^2] = \\sigma_\\nu^2, \\forall n$\n",
    "\n",
    "Notemos que en este caso $R_{uu} = R_{dd} + R_{\\nu\\nu}$ y $R_{ud} = R_{dd}$, luego\n",
    "\n",
    "la señal recuperada es $\\hat d_n = h^{*} u_n$ y el filtro es\n",
    "\n",
    "$$\n",
    "\\vec h^{*} = \\frac{R_{dd}}{R_{dd} + R_{\\nu\\nu}}\n",
    "$$\n",
    "\n",
    "y su respuesta en frecuencia\n",
    "\n",
    "$$\n",
    "H(f) = \\frac{S_{dd}(f)}{S_{dd}(f) + S_{\\nu\\nu}(f)}\n",
    "$$\n",
    "\n",
    "es decir que \n",
    "- en frecuencias donde la $S_{dd}(f) > S_{\\nu\\nu}(f)$, entonces $H(f) = 1$\n",
    "- en frecuencias donde la $S_{dd}(f) < S_{\\nu\\nu}(f)$, entonces $H(f) = 0$"
   ]
  },
  {
   "cell_type": "markdown",
   "metadata": {
    "slideshow": {
     "slide_type": "slide"
    }
   },
   "source": [
    "# Sistemas adaptivos\n",
    "\n",
    "Hasta ahora hemos estudiando sistemas LTI: \n",
    "- sus coeficientes quedan fijos luego del diseño y son constantes en el tiempo\n",
    "- hacen supuestos sobre los estadísticos de la señal/ruido\n",
    "\n",
    "Qué hacer si\n",
    "- no podemos hacer supuestos sobre los estadísticos\n",
    "- los estadísticos de la señal/ruido cambian en el tiempo (no estacionaridad)\n",
    "- estamos en un escenario donde los datos llegan continuamente (streaming)\n",
    "\n",
    "Estimador **adaptivo**: \n",
    "- Sistemas cuyos coeficientes se pueden adaptar a medida que llegan nuevos datos\n",
    "- Se diseñan de acuerdo a un método de optimización *online*\n",
    "\n"
   ]
  },
  {
   "cell_type": "markdown",
   "metadata": {
    "slideshow": {
     "slide_type": "skip"
    }
   },
   "source": [
    "[&larr; Volver al índice](#index)"
   ]
  },
  {
   "cell_type": "markdown",
   "metadata": {
    "slideshow": {
     "slide_type": "slide"
    }
   },
   "source": [
    "***\n",
    "<a id=\"section2\"></a>\n",
    "\n",
    "# Gradiente descendente\n",
    "***\n",
    "\n",
    "- Sea un vector de pesos $w$ de largo $L+1$ que guarda los coeficientes de un filtro\n",
    "- Sea ahora una función de costo que mapea el vector de pesos a un número real: $J(w): \\mathbb{R}^{L+1} \\to \\mathbb{R}$\n",
    "    - A menor $J$ mejor es nuestro filtro (menor error)\n",
    "\n",
    "Para entrenar un filtro adaptivo \n",
    "1. Partimos de una solución inicial $w_0$\n",
    "1. Modificamos iterativamente $w$ tal que $J(w_{t+1}) < J(w_t)$\n",
    "1. Nos detenemos al cumplir un cierto criterio \n",
    "\n",
    "***\n",
    "Una alternativa de bajo costo para lograr esto es la regla del **gradiente descendente** (GD)\n",
    "\n",
    "$$\n",
    "w_{t+1} = w_t - \\mu \\frac{dJ(w)}{dw},\n",
    "$$\n",
    "\n",
    "donde $\\mu$ se conoce como tasa de aprendizaje o \"paso\"\n"
   ]
  },
  {
   "cell_type": "code",
   "execution_count": null,
   "metadata": {
    "slideshow": {
     "slide_type": "fragment"
    }
   },
   "outputs": [],
   "source": [
    "plt.close('all'); fig, ax = plt.subplots(1, figsize=(7, 3))\n",
    "x = np.linspace(-4, 6, num=100)\n",
    "L = lambda x : (x-1)**2 + 3*np.sin(np.pi*x)\n",
    "p = 10*np.random.rand(10) - 4.\n",
    "ax.plot(x, L(x))\n",
    "sc = ax.scatter(p, L(p), s=100)\n",
    "mu = 0.01\n",
    "\n",
    "def update(n):\n",
    "    p = sc.get_offsets()[:, 0]\n",
    "    p = p - mu*2*(p-1) - mu*3*np.pi*np.cos(np.pi*p)\n",
    "    sc.set_offsets(np.c_[p, L(p)])\n",
    "    \n",
    "anim = animation.FuncAnimation(fig, update, frames=100, interval=200, repeat=False, blit=True)\n",
    "#plt.close(); HTML(anim.to_html5_video())"
   ]
  },
  {
   "cell_type": "markdown",
   "metadata": {
    "slideshow": {
     "slide_type": "fragment"
    }
   },
   "source": [
    "***\n",
    "\n",
    "- Imaginemos $J$ como una superficie de $L+1$ dimensiones\n",
    "- En cada punto el gradiente negativo de $J$ nos indica hacia donde está el descenso más abrupto\n",
    "- La tasa $\\mu$ nos da el largo del salto entre $w_t$ y $w_{t+1}$\n",
    "\n",
    "Notemos de la **expansión de Taylor de primer orden** de $J$ en $w_{t}$ que\n",
    "\n",
    "$$\n",
    "\\begin{align}\n",
    "J(w_{t+1}) &= J(w_t) + \\frac{dJ(w_t)}{dw} (w_{t+1} - w_{t})  \\nonumber \\\\\n",
    "&= J(w_t) -\\mu \\left \\| \\frac{dJ(w_t)}{dw} \\right \\|^2 \\leq J(w_t) \\nonumber \n",
    "\\end{align}\n",
    "$$\n",
    "\n",
    "es decir que dado usando la regla GD con $\\mu>0$ se cumple que $J$ decrece monotonicamente\n",
    "\n",
    "- Relación con método de Newton!"
   ]
  },
  {
   "cell_type": "markdown",
   "metadata": {
    "slideshow": {
     "slide_type": "subslide"
    }
   },
   "source": [
    "## Gradiente descendente en el filtro de Wiener\n",
    "\n",
    "Para el filtro de Wiener teniamos\n",
    "$$\n",
    "J(h) = \\sigma_d^2 - 2 \\textbf{h}^T R_{ud} + \\textbf{h}^T R_{uu} \\textbf{h},\n",
    "$$\n",
    "por ende\n",
    "$$\n",
    "\\frac{dJ(h)}{dh} = -2 R_{ud} + 2 R_{uu} \\textbf{h}\n",
    "$$\n",
    "y finalmente\n",
    "$$\n",
    "\\textbf{h}_{t+1} = \\textbf{h}_{t} (I - 2 \\mu R_{uu}) + 2\\mu R_{ud}\n",
    "$$\n",
    "En este caso la condición de convergencia estable es \n",
    "$$\n",
    "0 < \\mu < \\frac{1}{\\lambda_{\\text{max}}},\n",
    "$$\n",
    "donde $\\lambda_{\\text{max}}$ es valor propio más grande de $R_{uu}$\n",
    "\n",
    "Esto último viene de formar una ecuación de diferencia del estilo $\\hat w_{k, t+1} = (1-\\mu \\lambda_k)^t \\hat w_{k, t=0}$\n",
    "\n",
    "Ref: Haykin, \"Adaptive filter theory\", 4.3"
   ]
  },
  {
   "cell_type": "markdown",
   "metadata": {
    "slideshow": {
     "slide_type": "subslide"
    }
   },
   "source": [
    "# Gradiente descendente estocástico (SGD)\n",
    "\n",
    "El filtro de Wiener es óptimo pero no adaptivo\n",
    "- Requiere de $N$ muestras de $u$ y $d$ para estimar $R_{ud}$ y $R_{uu}$\n",
    "- Asume estacionaridad: $J(h) = \\mathbb{E}\\left[e_n^2\\right]$\n",
    "- El gradiente descendente (GD) es un método deterministico\n",
    "- Los pesos se adaptan luego de haber presentado las $N$ muestras (batch)\n",
    "\n",
    "Consideremos el caso en que los datos no son estacionarios\n",
    "- Significa que debemos adaptar el filtro en cada paso a medida que nuevas muestras son observadas\n",
    "- Para esto usamos la versión estocástica del GD: SGD\n",
    "- Los pesos se adaptan luego de haber presentado una muestra o un conjunto pequeño (mini-batch)\n",
    "- No hay garantía de llegar al óptimo en un problema convexo, pero es más eficiente computacionalmente que GD\n",
    "\n",
    "<img src=\"img/adaptive-sgd.png\" width=\"600\">"
   ]
  },
  {
   "cell_type": "markdown",
   "metadata": {
    "slideshow": {
     "slide_type": "skip"
    }
   },
   "source": [
    "[&larr; Volver al índice](#index)"
   ]
  },
  {
   "cell_type": "markdown",
   "metadata": {
    "slideshow": {
     "slide_type": "slide"
    }
   },
   "source": [
    "***\n",
    "<a id=\"section3\"></a>\n",
    "# Algoritmo Least Mean Square (LMS)\n",
    "***\n",
    "\n",
    "\n",
    "Podemos extender el filtro de Wiener al caso no-estacionario usando SGD\n",
    "- El resultado es un algoritmo es simple (filtro FIR) que además es robusto\n",
    "- A diferencia del filtro de Wiener no se requiere conocimiento estadístico del proceso\n",
    "- Tampoco se requiere calcular e invertir la matriz de correlación\n",
    "- Se entrena de manera recursiva y online\n",
    "\n",
    "Consideremos la función de costo estocástica para la arquitectura FIR\n",
    "\n",
    "$$\n",
    "\\begin{align}\n",
    "J^s_n(\\textbf{w}) &= e_n^2 \\nonumber \\\\\n",
    "&= (d_n - y_n)^2 \\nonumber \\\\\n",
    "&= (d_n - \\textbf{w}^T \\textbf{u}_n )^2 \\nonumber \\\\\n",
    "&= (d_n - \\sum_{k=0}^{L} w_{n, k} u_{n-k} )^2 \\nonumber \n",
    "\\end{align}\n",
    "$$\n",
    "donde definimos $\\textbf{u}_n = [u_n, u_{n-1}, \\ldots, u_{n-L}]$ \n",
    "\n",
    "Notemos que usamos el error cuadrático instantaneo en lugar del MSE (filtro de Wiener)\n",
    "\n",
    "El gradiente en función del peso $w_{n, k}$ es \n",
    "$$\n",
    "\\frac{d J^s_n (\\textbf{w})}{d w_{n, k}} = - 2 e_n u_{n-k}\n",
    "$$\n",
    "Usando la regla SGD llegamos a \n",
    "$$\n",
    "w_{n+1, k} = w_{n, k} + 2 \\mu e_n u_{n-k}, k=0, 1, \\ldots, L\n",
    "$$\n",
    "o en forma matricial\n",
    "$$\n",
    "\\begin{align}\n",
    "\\textbf{w}_{n+1} &= \\textbf{w}_{n} + 2 \\mu e_n \\textbf{u}_{n}\\nonumber \\\\\n",
    "&= \\textbf{w}_{n} + 2 \\mu (d_n -  \\textbf{w}_{n}^T \\textbf{u}_{n}) \\textbf{u}_{n}, \\nonumber \n",
    "\\end{align}\n",
    "$$\n",
    "\n",
    "- Estimamos la matriz de correlación instantanea y actualizamos los pesos recursivamente\n",
    "- La complejidad de este algoritmo es $L+1$, es decir la complejidad del filtro\n",
    "- Esto se conoce como algoritmo LMS o regla Widrow-Hoff\n",
    "- Inventado en 1960 por [Bernard Widrow](https://en.wikipedia.org/wiki/Bernard_Widrow) y Ted Hoff"
   ]
  },
  {
   "cell_type": "markdown",
   "metadata": {
    "slideshow": {
     "slide_type": "subslide"
    }
   },
   "source": [
    "# Interpretación geométrica del algoritmo LMS\n",
    "\n",
    "Tenemos la siguiente regla iterativa\n",
    "$$\n",
    "\\textbf{w}_{n+1} = \\textbf{w}_{n} + 2 \\mu e_n \\textbf{u}_{n} = \\textbf{w}_{n} + \\Delta \\textbf{w}_n\n",
    "$$\n",
    "que se puede interpretar graficamente como\n",
    "<a href=\"https://www.commsp.ee.ic.ac.uk/~mandic/SE_ASP_LN/ASP_MI_Lecture_5_Adaptive_Filters_2017.pdf\"><img src=\"img/adaptive-lms-geometry.png\" width=\"400px\"></a>\n",
    "\n",
    "Notemos que\n",
    "\n",
    "- Los cambios en el vector de peso $\\Delta \\textbf{w}_n$ son paralelos a $\\textbf{u}_{n}$\n",
    "- Estos cambios podrían estar dominados por $\\max_k \\textbf{u}_{n} = [u_n, u_{n-1}, \\ldots, u_{n-L}]$\n",
    "- El algoritmo Normalized LMS (NLMS) corrige esto ponderando por la varianza de $\\textbf{u}_{n}$ \n",
    "$$\n",
    "\\textbf{w}_{n+1} = \\textbf{w}_{n} + 2 \\mu e_n \\frac{\\textbf{u}_{n}}{\\left(\\|\\textbf{u}_{n}\\|^2 + \\delta\\right)}\n",
    "$$\n",
    "donde la constante $\\delta$ es un valor pequeño que se usa para evitar divisiones por cero\n",
    "\n",
    "\n"
   ]
  },
  {
   "cell_type": "markdown",
   "metadata": {
    "slideshow": {
     "slide_type": "subslide"
    }
   },
   "source": [
    "### LMS: Adaptive line enhancement (ALE)\n",
    "\n",
    "- Sistema adaptivo para eliminar ruido aditivo de un canal\n",
    "- El sistema aprende un filtro pasabanda en torno a la frecuencia de interés\n",
    "- Notece como es posible filtrar incluso ante cambios bruscos en la señal "
   ]
  },
  {
   "cell_type": "code",
   "execution_count": null,
   "metadata": {
    "slideshow": {
     "slide_type": "fragment"
    }
   },
   "outputs": [],
   "source": [
    "from numpy.lib.stride_tricks import as_strided\n",
    "fig, ax = plt.subplots(3, figsize=(9, 5))\n",
    "t, dt = np.linspace(0, 5, num=500, retstep=True)\n",
    "u = np.sin(2.0*np.pi*t*5)\n",
    "#u[250:] += 5  # Cambio abrupto en la media\n",
    "#u += 2*t  #  Tendencia lineal\n",
    "#u += u*(0.5 + 0.5*np.cos(2.0*np.pi*t/2))  # Tremolo (AM)\n",
    "def update(mu, L, rseed):\n",
    "    np.random.seed(rseed)\n",
    "    u_noise = u + 0.5*np.random.randn(len(t)) \n",
    "    w = np.zeros(shape=(L+1, ))\n",
    "    ax[0].cla(); ax[1].cla(); ax[2].cla(); \n",
    "    #LMS\n",
    "    u_pred = np.zeros(shape=(len(u), ))\n",
    "    for k in range(L+1, len(u)-1):\n",
    "        norm = np.sum(u_noise[k-L-1:k]**2) + 1e-6\n",
    "        u_pred[k] = np.dot(w, u_noise[k-L-1:k])\n",
    "        w += 2*mu*(u_noise[k] - u_pred[k])*u_noise[k-L-1:k]/norm\n",
    "    u_pred[k+1] = np.dot(w, u_noise[k-L-1:k])\n",
    "    ax[0].plot(t, u_noise, 'k.', alpha=0.5); \n",
    "    ax[0].plot(t, u, 'g-', alpha=0.5);  ax[0].plot(t, u_pred); \n",
    "    \n",
    "    ax[1].plot((u - u_pred)**2, label='LMS')\n",
    "    k, Hk = scipy.signal.freqz(b=w, a=1)\n",
    "    ax[2].plot(k/(2*dt*np.pi), np.abs(Hk))\n",
    "    \n",
    "interact(update, mu=SelectionSlider_nice(options=[1e-4, 1e-3, 0.01, 0.1, 0.2, 1.]),\n",
    "         L=SelectionSlider_nice(options=[1, 5, 10, 20, 50], value=10), rseed=IntSlider_nice());"
   ]
  },
  {
   "cell_type": "markdown",
   "metadata": {
    "slideshow": {
     "slide_type": "subslide"
    }
   },
   "source": [
    "- El algoritmo LMS es un sistema de control con retroalimentación\n",
    "- En el ejemplo anterior notamos la desestabilidad que ocurre con ciertos valores de $\\mu$\n",
    "- La convergencia del algoritmo depende de $\\mu$\n",
    "    - Muy pequeño: Convergencia lenta\n",
    "    - Muy grande: Desestabilidad\n",
    "\n",
    "### Comparación entre Filtro de Wiener/GD y algoritmo LMS/SGD\n",
    "- Wiener: Ambiente estacionario lo cual nos permite calcular $R_{uu}$ y $R_{ud}$. El aprendizaje es determinista.\n",
    "- LMS: El aprendizaje viene promediando a nivel de los estimadores de $w$. Esta sujeto al ruido de los estimadores de gradiente. El aprendizaje es estadístico.\n",
    "- Wiener es óptimo en cambio LMS es sub-óptimo (localmente óptimo). LMS tiende a la solución de Wiener\n",
    "- LMS se actualiza online y tiene costo $L$. Wiener se entrena offline y tiene costo $L^2$\n",
    "\n",
    "<img src=\"img/adaptive-lms.png\">\n",
    "\n",
    "\n",
    "Convergencia del algoritmo LMS (Haykin 6.5)\n",
    "- El algoritmo LMS tiende en la media $\\mathbb{E}[\\textbf{w}_n] \\to \\textbf{w}^*$ para $n\\to \\infty$\n",
    "- Convergencia en la media cuadrada: La varianza de $\\textbf{w}_n - \\textbf{w}^*$ tiene al valor mínimo de $J$ para $n\\to \\infty$\n",
    "- Esto se cumple si \n",
    "$$\n",
    "0 < \\mu < \\frac{1}{\\lambda_{\\text{max}}}\n",
    "$$\n",
    "donde $\\lambda_{\\text{max}}$ es el valor propio más grande de $R_{uu}$\n"
   ]
  },
  {
   "cell_type": "markdown",
   "metadata": {
    "slideshow": {
     "slide_type": "subslide"
    }
   },
   "source": [
    "### LMS: Cancelación de eco\n",
    "\n",
    "- Supongamos que enviamos una señal de voz a un amig@ \n",
    "- Nuestro amig@ escucha lo que enviamos en un parlante y responde\n",
    "- Nosotros escuchamos la respuesta de nuestro amig@ y adicionalmente nuestro mensaje original\n",
    "\n",
    "<img src=\"img/adaptive-echo-canceller.png\" width=\"500\">\n",
    "\n",
    "- Podemos usar un filtro adaptivo para cancelar el eco\n",
    "- Usamos como entrada la señal enviada y como salida deseada la señal recibida (con eco)\n",
    "- El filtro aprende el sistema reverberante\n",
    "- El error es la nueva señal recibida limpia"
   ]
  },
  {
   "cell_type": "code",
   "execution_count": null,
   "metadata": {
    "slideshow": {
     "slide_type": "fragment"
    }
   },
   "outputs": [],
   "source": [
    "# la señal enviada original\n",
    "r, fs = sf.read(\"data/hola1.ogg\")\n",
    "Audio(r, rate=int(fs))"
   ]
  },
  {
   "cell_type": "code",
   "execution_count": null,
   "metadata": {
    "slideshow": {
     "slide_type": "fragment"
    }
   },
   "outputs": [],
   "source": [
    "# El sistema que introduce ecos, por ejemplo una sala\n",
    "h = np.concatenate(([1.0], np.zeros(10), [0.7], np.zeros(10), [0.5], \n",
    "                    np.zeros(10), [0.3], np.zeros(10), [0.1], np.zeros(10), [0.05]))\n",
    "# la señal enviada con eco\n",
    "rh = np.convolve(r, h)[:len(r)]\n",
    "# la señal recibida limpia \n",
    "s, fs = sf.read(\"data/hola2.ogg\")\n",
    "s = np.concatenate((s, np.zeros(shape=(len(r)-len(s)))))\n",
    "# la señal recibida + señal enviada con eco + ruido blanco\n",
    "srh = s + 0.3*rh + np.random.randn(len(s))*0.005\n",
    "Audio(srh, rate=int(fs))"
   ]
  },
  {
   "cell_type": "code",
   "execution_count": null,
   "metadata": {
    "slideshow": {
     "slide_type": "fragment"
    }
   },
   "outputs": [],
   "source": [
    "L, mu = 100, 0.02\n",
    "fig, ax = plt.subplots(2, figsize=(9, 4))\n",
    "w = np.zeros(shape=(L+1, ))\n",
    "rhhat = np.zeros(shape=(len(srh), ))\n",
    "for k in range(L+1, len(srh)-1):\n",
    "    norm = np.sum(r[k-L-1:k]**2) + 1e-10\n",
    "    rhhat[k] = np.dot(w, r[k-L-1:k])\n",
    "    w += 2*mu*(srh[k] - rhhat[k])*r[k-L-1:k]/(norm)\n",
    "rhhat[k+1] = np.dot(w, r[k-L-1:k])\n",
    "shat = srh - rhhat\n",
    "ax[0].plot(srh, alpha=0.5, label='hola2+hola1');\n",
    "ax[0].plot(shat, alpha=0.75, label='error');\n",
    "ax[0].plot(s, alpha=0.75, label='hola2 puro');\n",
    "ax[0].legend()\n",
    "ax[1].plot((s - shat)**2)\n",
    "Audio(shat, rate=int(fs))\n"
   ]
  },
  {
   "cell_type": "markdown",
   "metadata": {
    "slideshow": {
     "slide_type": "skip"
    }
   },
   "source": [
    "[&larr; Volver al índice](#index)"
   ]
  },
  {
   "cell_type": "markdown",
   "metadata": {
    "slideshow": {
     "slide_type": "slide"
    }
   },
   "source": [
    "<a id=\"section4\"></a>\n",
    "***\n",
    "# Algoritmo Recursive Least Squares (RLS)\n",
    "***\n",
    "\n",
    "El algoritmo LMS\n",
    "- minimiza el error instantaneo\n",
    "- es simple y eficiente \n",
    "- en algunos casos su convergencia es demasiado lenta\n",
    "\n",
    "Podemos obtener un filtro adaptivo que converge más rápido si reemplazamos el error instantaneo por el error histórico\n",
    "\n",
    "Sigamos considerando un filtro tipo FIR con $L+1$ pesos que se actualizan de en cada época\n",
    "\n",
    "$$\n",
    "y_i = \\sum_{k=0}^L w_{i, k} u_{n-k}\n",
    "$$\n",
    "\n",
    "El algoritmo RLS (recursive least squares) es un método online que minimiza el error histórico, es decir la suma de errores entre la muestra actual y la inicial\n",
    "\n",
    "$$\n",
    "\\begin{align}\n",
    "J^H_n(\\textbf{w}) &= \\sum_{i=L}^n   \\beta^{n-i} |e_i|^2 \\nonumber \\\\\n",
    "&= \\sum_{i=L+1}^n \\beta^{n-i} (d_i - \\sum_{k=0}^{L} w_{i, k} u_{i-k} )^2, \\nonumber\n",
    "\\end{align}\n",
    "$$\n",
    "\n",
    "donde $n$ es el índice del instante actual y $\\beta \\in [0, 1]$ es el \"factor de olvido\" y que usualmente es un valor cercano a $1$ \n",
    "\n",
    "Adicionalmente se agrega un regularizador a los pesos\n",
    "$$\n",
    "J^w_n = \\delta  \\| \\textbf{w}_{n} \\|^2\n",
    "$$\n",
    "\n",
    "La solución cerrada sería\n",
    "\n",
    "$$\n",
    "\\textbf{w}_n = (U_n^T \\pmb{\\beta} U_n + \\delta I)^{-1}  U_n^T \\pmb{\\beta} \\textbf{d}_n\n",
    "$$\n",
    "donde \n",
    "$$\n",
    "\\textbf{d}_n = \\begin{pmatrix}  d_n \\\\ d_{n-1} \\\\ \\vdots \\\\ d_{L+1} \\end{pmatrix} \\quad\n",
    "\\textbf{u}_n = \\begin{pmatrix}  u_n \\\\ u_{n-1} \\\\ \\vdots \\\\ u_{n-(L+1)} \\end{pmatrix} \\quad\n",
    "\\pmb{\\beta} = I \\begin{pmatrix} \\beta \\\\ \\beta^{1} \\\\ \\beta^{2}  \\vdots \\\\ \\beta^{n-L-1} \\end{pmatrix}\n",
    "\\quad \n",
    "U_n = \\begin{pmatrix}\n",
    "\\textbf{u}_n^T \\\\ \\textbf{u}_{n-1}^T \\\\ \\vdots \\\\ \\textbf{u}_{L+1}^T \\\\\n",
    "\\end{pmatrix} \\in \\mathbb{R}^{n - (L+1) \\times L+1}\n",
    "$$\n",
    "\n",
    "e $I$ es la matriz identidad. \n",
    "\n",
    "- Notemos la similitud con el filtro de Wiener\n",
    "    - Matriz de correlación ponderada y regularizada: $\\Phi_n = U_n^T \\pmb{\\beta} U_n + \\delta I$\n",
    "    - Vector de correalación cruzada ponderada:  $\\theta_n = U_n^T \\pmb{\\beta} \\textbf{d}_n$\n",
    "- Queremos recomputar esta solución cuando llegan nuevas observaciones\n",
    "- En particular queremos evitar invertir $\\Phi_n$"
   ]
  },
  {
   "cell_type": "markdown",
   "metadata": {
    "slideshow": {
     "slide_type": "subslide"
    }
   },
   "source": [
    "El algoritmo **RLS** propone una solución que actualiza los pesos de forma recursiva\n",
    "\n",
    "Las condiciones iniciales son \n",
    "- $\\Phi_0 = \\delta I$\n",
    "- $\\theta_0 = 0$\n",
    "\n",
    "y luego la actualización viene dada por \n",
    "\n",
    "- $\\Phi_{n} = \\beta \\Phi_{n-1} + \\textbf{u}_n \\textbf{u}_n^T$ \n",
    "- $\\theta_{n} = \\beta \\theta_{n-1} + \\textbf{u}_n d_n $ \n",
    "- $\\textbf{w}_n = \\Phi_n^{-1} \\theta_n$\n",
    "\n",
    "Que es más eficiente si actualizamos $\\Phi_{n}^{-1}$ en lugar de $\\Phi_{n}$ \n",
    "\n",
    "Usando el lema de inversión de matrices \n",
    "$$\n",
    "(A + UCV)^{-1} = A^{-1} - A^{-1} U (C^{-1} + VA^{-1} U)^{-1} V A^{-1}\n",
    "$$\n",
    "\n",
    "con $A = \\Phi_{n-1}^{-1}$, $C=1$, $U= \\textbf{u}_n$ y $V = \\textbf{u}_n^T$ entonces\n",
    "\n",
    "$$\n",
    "\\begin{align}\n",
    "\\Phi_{n}^{-1} &= \\left(\\beta \\Phi_{n-1} + \\textbf{u}_n \\textbf{u}_n^T \\right)^{-1} \\nonumber \\\\\n",
    "&= \\beta^{-1} \\Phi_{n-1}^{-1} - \\beta^{-2} \\frac{\\Phi_{n-1}^{-1} \\textbf{u}_n \\textbf{u}_n^T \\Phi_{n-1}^{-1} }{1 + \\beta^{-1} \\textbf{u}_n^T \\Phi_{n-1}^{-1} \\textbf{u}_n} \\nonumber \\\\\n",
    "&= \\beta^{-1} \\Phi_{n-1}^{-1} - \\beta^{-1} \\textbf{k}_n \\textbf{u}_n^T \\Phi_{n-1}^{-1}, \\nonumber \n",
    "\\end{align}\n",
    "$$\n",
    "\n",
    "donde llamamos **ganancia** a $\\textbf{k}_n$\n",
    "\n",
    "Podemos continuar para encontrar una regla de actualización recursiva para los pesos\n",
    "\n",
    "$$\n",
    "\\begin{align}\n",
    "\\textbf{w}_n &= \\Phi_n^{-1} \\theta_n \\nonumber \\\\\n",
    "&=  \\Phi_n^{-1} \\beta \\theta_{n-1} + \\Phi_n^{-1} \\textbf{u}_n d_n\\nonumber \\\\\n",
    "&=  \\Phi_{n-1}^{-1} \\theta_{n-1} - \\textbf{k}_n \\textbf{u}_n^T \\Phi_{n-1}^{-1} \\theta_{n-1} + \\Phi_n^{-1} \\textbf{u}_n d_n \\nonumber \\\\\n",
    "&=  \\textbf{w}_{n-1} - \\textbf{k}_n \\textbf{u}_n^T  \\textbf{w}_{n-1} + \\Phi_n^{-1} \\textbf{u}_n d_n \\nonumber \\\\\n",
    "&=  \\textbf{w}_{n-1} + \\textbf{k}_n ( d_n - \\textbf{u}_n^T  \\textbf{w}_{n-1} ) \\nonumber \\\\\n",
    "&=  \\textbf{w}_{n-1} + \\textbf{k}_n e_n \\nonumber \n",
    "\\end{align}\n",
    "$$\n",
    "donde reemplazamos $\\textbf{w}_{n-1} = \\Phi_{n-1}^{-1} \\theta_{n-1}$ y usamos que \n",
    "$$\n",
    "\\begin{align}\n",
    "\\textbf{k}_n &= \\left(\\beta^{-1} \\Phi_{n-1}^{-1} - \\beta^{-1} \\textbf{k}_n \\textbf{u}_n^T \\Phi_{n-1}^{-1} \\right)  \\textbf{u}_n \\nonumber \\\\ &= \\Phi_n^{-1} u_n \\nonumber\n",
    "\\end{align}\n",
    "$$\n",
    "\n",
    "\n",
    "### Notas\n",
    "- Con esto tenemos un algoritmo de complejidad $L^2$ en vez de $L^3$\n",
    "- Esto sigue siendo mayor que LMS (complejidad $L$) pero con la ventaja de converger más rapidamente \n",
    "- En la literatura suele usarse el nombre $P_n$ para $\\Phi_n^{-1}$\n",
    "\n"
   ]
  },
  {
   "cell_type": "markdown",
   "metadata": {
    "slideshow": {
     "slide_type": "subslide"
    }
   },
   "source": [
    "***\n",
    "## Resumen algoritmo RLS\n",
    "\n",
    "- Inicializar $\\Phi_0 = \\delta I$ y $\\textbf{w}_0 = 0$\n",
    "- Para $n \\in [1, \\infty]$\n",
    "    1. Calcular la ganancia\n",
    "    $$\n",
    "    \\textbf{k}_n =  \\frac{\\beta^{-1} \\Phi_{n-1}^{-1} \\textbf{u}_n }{1 + \\beta^{-1} \\textbf{u}_n^T \\Phi_{n-1}^{-1} \\textbf{u}_n}\n",
    "    $$\n",
    "    1. Calcular el error\n",
    "    $$\n",
    "    e_n = d_n - \\textbf{u}_n^T  \\textbf{w}_{n-1} \n",
    "    $$\n",
    "    1. Actualizar el error de pesos\n",
    "    $$\n",
    "    \\textbf{w}_n = \\textbf{w}_{n-1} + \\textbf{k}_n e_n \n",
    "    $$\n",
    "    1. Actualizar el inverso de la matriz de correlación\n",
    "    $$\n",
    "    \\Phi_{n}^{-1} = \\beta^{-1} \\Phi_{n-1}^{-1} - \\beta^{-1} \\textbf{k}_n \\textbf{u}_n^T \\Phi_{n-1}^{-1}\n",
    "    $$\n",
    "    \n",
    "### Recomendaciones\n",
    "- A menor $\\delta$ mayor regularización. Usar $\\delta$ pequeño para SNR bajo y $\\delta$ grande para SNR alto\n",
    "- Considerar un valor de $\\beta \\approx 0.9$ inicialmente\n",
    "- Calibre $\\delta$ y $\\beta$ usando validación cruzada\n",
    "***"
   ]
  },
  {
   "cell_type": "markdown",
   "metadata": {
    "slideshow": {
     "slide_type": "subslide"
    }
   },
   "source": [
    "### RLS versus LMS: Tracking\n",
    "\n",
    "- Notemos la diferencia en tiempo de convergencia entre los algoritmos LMS y RLS\n",
    "- RLS es capaz de adaptarse a cambios bruscos más rápido que LMS"
   ]
  },
  {
   "cell_type": "code",
   "execution_count": null,
   "metadata": {
    "slideshow": {
     "slide_type": "fragment"
    }
   },
   "outputs": [],
   "source": [
    "fig, ax = plt.subplots(2, figsize=(9, 6))\n",
    "t, dt = np.linspace(0, 5, num=500, retstep=True)\n",
    "np.random.seed(0)\n",
    "u = np.sin(2.0*np.pi*t*5)  \n",
    "# u[250:] += 5\n",
    "u += np.array([5*np.exp(-np.absolute(tt-1)/0.2) if tt>1 else 0 for tt in t])\n",
    "u += np.array([5*np.exp(-np.absolute(tt-3)/0.2) if tt>3 else 0 for tt in t])\n",
    "u_noisy = u + 0.5*np.random.randn(len(t))\n",
    "\n",
    "def update(mu, beta, L):\n",
    "    ax[0].cla(); ax[1].cla(); \n",
    "    u_pred = np.zeros(shape=(len(u_noisy), 2))\n",
    "    #LMS\n",
    "    w = np.zeros(shape=(L+1, ))\n",
    "    for k in range(L+1, len(u_noisy)):\n",
    "        u_window = u_noisy[k-L-1:k]\n",
    "        norm = np.sum(u_window**2) + 1e-6\n",
    "        u_pred[k, 0] = np.dot(w, u_window)\n",
    "        if k < len(u):\n",
    "            w += 2*mu*(u_noisy[k] - u_pred[k, 0])*u_window/norm\n",
    "    #RLS\n",
    "    w = np.zeros(shape=(L+1, ))\n",
    "    delta = 1.\n",
    "    Phi_inv = delta*np.eye(L+1); \n",
    "    for k in range(L+1, len(u_noisy)):\n",
    "        u_window = u_noisy[k-L-1:k]\n",
    "        # Calcular ganancia\n",
    "        gain = np.dot(Phi_inv, u_window)/(beta + np.dot(np.dot(u_window.T, Phi_inv), u_window))        \n",
    "        # Calcular error\n",
    "        u_pred[k, 1] = np.dot(w, u_window)\n",
    "        err = u_noisy[k] - u_pred[k, 1]\n",
    "        # Actualizar pesos\n",
    "        w += np.dot(gain, err)\n",
    "        # Actualizar el inverso de la matriz de correlación\n",
    "        Phi_inv = (1./beta)*(1. - np.sum(gain*u_window))*Phi_inv\n",
    "    \n",
    "    ax[0].plot(t, u_noisy, 'k.', alpha=0.5); \n",
    "    ax[0].plot(t, u, 'g-', alpha=0.5, label='Real');  \n",
    "    ax[0].plot(t, u_pred[:, 0], label='LMS'); \n",
    "    ax[0].plot(t, u_pred[:, 1], label='RLS'); ax[0].legend(loc=1)\n",
    "    ax[1].plot((u - u_pred[:, 0])**2, label='LMS')\n",
    "    ax[1].plot((u - u_pred[:, 1])**2, label='RLS'); ax[1].legend()\n",
    "\n",
    "    \n",
    "interact(update, \n",
    "         mu=FloatSlider_nice(step=0.01, max=0.1, min=0.01),\n",
    "         beta=FloatSlider_nice(step=0.01, max=1., min=0.5, value=0.9),\n",
    "         L=SelectionSlider_nice(options=[1, 5, 10, 20, 50], value=10));"
   ]
  },
  {
   "cell_type": "markdown",
   "metadata": {
    "slideshow": {
     "slide_type": "skip"
    }
   },
   "source": [
    "[&larr; Volver al índice](#index)"
   ]
  },
  {
   "cell_type": "markdown",
   "metadata": {
    "slideshow": {
     "slide_type": "slide"
    }
   },
   "source": [
    "<a id=\"section5\"></a>\n",
    "***\n",
    "# Algoritmo Perceptrón (Rosemblatt 1962)\n",
    "***\n",
    "\n",
    "- Podemos entrenar un filtro adaptivo para hacer **clasificación binaria de patrones**\n",
    "- En este caso la respuesta deseada tiene dos categorías: $d_n \\in \\{-1, +1\\}$ \n",
    "- La entrada se considera continua y de $M$ dimensiones: $u_n \\in \\mathbb{R}^M$\n",
    "- Asumimos que se tienen $N$ tuplas $(u_n, d_n)$\n",
    "- El filtro tiene arquitectura FIR con $M+1$ coeficientes pero se agrega una no linealidad $\\phi(\\cdot)$ en la salida\n",
    "$$\n",
    "\\begin{align}\n",
    "y_n &=  \\phi \\left(w_0 + \\sum_{k=1}^{M} w_k u_{nk} \\right) \\nonumber \\\\\n",
    "&= \\phi \\left(\\langle \\textbf{w}, \\text{concat}(1, u_n) \\rangle \\right), \\nonumber \n",
    "\\end{align}\n",
    "$$\n",
    "donde podemos usar $\\phi(z) = \\text{sign}(z) = \\begin{cases} +1 & z > 0 \\\\0 & z=0\\\\-1 & z<0 \\end{cases}$\n",
    "- Esto se conoce como el modelo matemático de una neurona de [McCulloch y Pitts](https://link.springer.com/article/10.1007/BF02478259)\n",
    "    - Las coeficientes del filtro son los pesos sinápticos de las dendritas\n",
    "    - La función no lineal corresponde al axón\n",
    "\n",
    "<img src=\"img/adaptive-neuron.png\" width=\"400\"><img src=\"img/adaptive-neuron2.jpeg\" width=\"400\">"
   ]
  },
  {
   "cell_type": "markdown",
   "metadata": {
    "slideshow": {
     "slide_type": "subslide"
    }
   },
   "source": [
    "- El algoritmo para entrenar la neurona artificial se conoce como **algoritmo percetrón**\n",
    "- Asumimos un vector de pesos inicial nulo $\\textbf{w}^{(t=0)} = [0, 0, ..., 0]$\n",
    "- La función de costo en el instante $t$ al presentar el ejemplo $(d_n, u_n)$ \n",
    "$$\n",
    "\\mathcal{L}( \\textbf{w}^{(t)} ) = \\text{max} \\Big(0 ~, - d_n \\langle \\textbf{w}^{(t)}, \\text{concat}(1, u_n) \\rangle \\Big)\n",
    "$$\n",
    "- y su derivada es \n",
    "$$\n",
    "\\frac{d \\mathcal{L}(\\textbf{w}^{(t)} )}{d \\textbf{w}}  = \\begin{cases} 0 & d_n \\langle \\textbf{w}, \\text{concat}(1, u_n) \\rangle \\geq 0 \\\\ - d_n \\text{concat}(1, u_n)  & d_n \\langle \\textbf{w}, \\text{concat}(1, u_n) \\rangle < 0\n",
    "\\end{cases}\n",
    "$$\n",
    "es decir que la derivada es cero si el ejemplo está bien clasificado\n",
    "- Finalmente la regla perceptron usando SGD con tasa de aprendizaje $\\mu$ es \n",
    "$$\n",
    "\\begin{align}\n",
    "\\textbf{w}^{(t+1)} &= \\textbf{w}^{(t)} - \\mu \\frac{d \\mathcal{L}(\\textbf{w}^{(t)} )}{d \\textbf{w}} \\nonumber \\\\\n",
    "& = \\textbf{w}^{(t)} + \\begin{cases} \\mu d_n \\text{concat}(1, u_n) & \\\\ 0 & \\text{en otro caso} \\end{cases}\n",
    "\\end{align}\n",
    "$$\n",
    "es decir que si el ejemplo está bien clasificado los pesos no se actualizan\n",
    "\n",
    "### Detalles del algoritmo perceptrón\n",
    "- En cada iteración se presenta un ejemplo \n",
    "- Se dice que se completa una época de entrenamiento cuando se han presentado los $N$ ejemplos\n",
    "- Presentar los ejemplos en distinto orden en cada época ayuda a evitar sesgos y acelera la convergencia\n",
    "- Detenemos el entrenamiento cuando todos los ejemplos están bien clasificados o al cumplir un cierto número de épocas sin cambio\n",
    "- El algoritmo perceptrón está garantizado a converger en tiempo finito si el problema es **linealmente separable**\n",
    "- Si el problema no es **linealmente separable** la convergencia se puede forzar disminuyendo gradualmente $\\mu$\n"
   ]
  },
  {
   "cell_type": "code",
   "execution_count": null,
   "metadata": {
    "slideshow": {
     "slide_type": "fragment"
    }
   },
   "outputs": [],
   "source": [
    "fig, ax = plt.subplots(figsize=(9, 6))\n",
    "N = 50\n",
    "u = np.concatenate((np.random.randn(N, 2), 2 + np.random.randn(N, 2)))\n",
    "d = np.ones(shape=(2*N,)); d[:N] = -1.\n",
    "w = np.zeros(shape=(3, ))\n",
    "ax.scatter(u[:N, 0], u[:N, 1]); ax.scatter(u[N:, 0], u[N:, 1])\n",
    "x_plot = np.linspace(np.amin(u), np.amax(u))\n",
    "plane = ax.plot(x_plot, -w[0]/(w[2]+1e-10) - x_plot*w[1]/(w[2]+1e-10), 'k-', lw=4, alpha=0.75) \n",
    "P = np.random.permutation(2*N)\n",
    "dot = ax.plot([], [], 'ko', markersize=10)\n",
    "mu = 1e-5\n",
    "\n",
    "def update(n):\n",
    "    global w\n",
    "    idx = P[n - 2*N*int(n / (2*N))]\n",
    "    if d[idx]*np.dot(w, np.concatenate((np.array([1]), u[idx]))) <= 0.:\n",
    "        w = w + mu*d[idx]*np.concatenate((np.array([1]), u[idx]))\n",
    "    dot[0].set_data(u[idx, 0], u[idx, 1])\n",
    "    plane[0].set_ydata(-w[0]/(w[2]+1e-10) - x_plot*w[1]/(w[2]+1e-10))\n",
    "    ax.set_title(\"Iteration %d\" %(n))\n",
    "        \n",
    "\n",
    "anim = animation.FuncAnimation(fig, update, frames=300, interval=100, repeat=False, blit=True)\n"
   ]
  },
  {
   "cell_type": "markdown",
   "metadata": {
    "slideshow": {
     "slide_type": "subslide"
    }
   },
   "source": [
    "### Más allá del perceptron \n",
    "\n",
    "- El modelo de neurona con salida sigmoide se conoce como **regresión logística**\n",
    "- Tanto el perceptrón como el regresor logístico se pueden extender a más de dos clases: **regresor softmax**\n",
    "- Conectando varias neuronas en cadena se forma lo que se conoce como una perceptrón multicapa\n",
    "- El perceptrón multicapa es un ejemplo de **red neuronal artificial**\n",
    "- Las redes neuronales artificiales se estudiarán en detalle en el curso de **inteligencia artificial**"
   ]
  },
  {
   "cell_type": "markdown",
   "metadata": {
    "slideshow": {
     "slide_type": "subslide"
    }
   },
   "source": [
    "### Tópicos extra\n",
    "\n",
    "- [On the Intrinsic Relationship Between the Least Mean Square and Kalman Filters](https://www.commsp.ee.ic.ac.uk/~mandic/LMS_Kalman_IEEE_SPM_2015.pdf)\n",
    "- [Adaptive notch filter](http://homes.esat.kuleuven.be/~tvanwate/courses/dsp2/1415/DSP2_slides_04_adaptievefiltering.pdf)\n",
    "- [Reconstruction using Wiener filter](https://wwwmpa.mpa-garching.mpg.de/~ensslin/lectures/Files/Wiener_Filter_Demo_NIFTy3.html)\n",
    "- [Kalman filter](https://scipy-cookbook.readthedocs.io/items/KalmanFiltering.html)\n",
    "\n"
   ]
  }
 ],
 "metadata": {
  "celltoolbar": "Slideshow",
  "kernelspec": {
   "display_name": "Python 3",
   "language": "python",
   "name": "python3"
  },
  "language_info": {
   "codemirror_mode": {
    "name": "ipython",
    "version": 3
   },
   "file_extension": ".py",
   "mimetype": "text/x-python",
   "name": "python",
   "nbconvert_exporter": "python",
   "pygments_lexer": "ipython3",
   "version": "3.8.5"
  },
  "toc": {
   "base_numbering": 1,
   "nav_menu": {},
   "number_sections": true,
   "sideBar": true,
   "skip_h1_title": false,
   "title_cell": "Table of Contents",
   "title_sidebar": "Contents",
   "toc_cell": false,
   "toc_position": {},
   "toc_section_display": true,
   "toc_window_display": false
  }
 },
 "nbformat": 4,
 "nbformat_minor": 2
}
