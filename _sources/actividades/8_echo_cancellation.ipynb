{
 "cells": [
  {
   "cell_type": "markdown",
   "metadata": {},
   "source": [
    "# Cancelación de eco\n",
    "\n",
    "Supongamos que enviamos una señal de voz a un amig@ \n",
    "\n",
    "Nuestro amig@ escucha lo que enviamos en un parlante y responde\n",
    "\n",
    "Nosotros escuchamos la respuesta de nuestro amig@ y adicionalmente nuestro mensaje original\n",
    "\n",
    "Podemos eliminar el \"eco\" con un filtro adaptivo como muestra el siguiente diagrama\n",
    "\n",
    "<img src=\"../clases/images/adaptive-echo-canceller.png\" width=\"500\">\n",
    "\n",
    "\n",
    "Se usa como entrada la señal enviada y como salida deseada la señal recibida (con tiene eco)\n",
    "\n",
    "El objetivo es que el filtro aprenda los coeficientes del sistema reverberante\n",
    "\n",
    "Finalmente el error entre la salida y la entrada será la señal recibida limpia\n",
    "\n",
    "Veamos como se programa paso a paso"
   ]
  },
  {
   "cell_type": "code",
   "execution_count": null,
   "metadata": {},
   "outputs": [],
   "source": [
    "import librosa\n",
    "\n",
    "# Esta será la señal s(t) es decir nuestra voz transmitida\n",
    "r, Fs = librosa.load(\"../../data/hola2.ogg\")\n",
    "Audio(r, rate=int(Fs), normalize=False)"
   ]
  },
  {
   "cell_type": "code",
   "execution_count": null,
   "metadata": {},
   "outputs": [],
   "source": [
    "T = 1000\n",
    "h = np.concatenate((np.zeros(100), \n",
    "                    [0.6], np.zeros(T), \n",
    "                    [0.4], np.zeros(T), \n",
    "                    ))\n",
    "\n",
    "# Esta es la voz con eco agregado\n",
    "rh = scipy.signal.convolve(r, h, mode='full')\n",
    "Audio(rh, rate=int(Fs), normalize=False)"
   ]
  },
  {
   "cell_type": "code",
   "execution_count": null,
   "metadata": {},
   "outputs": [],
   "source": [
    "fig, ax = plt.subplots()\n",
    "ax.plot(r, alpha=0.5)\n",
    "ax.plot(rh, alpha=.5)\n",
    "ax.plot(s, alpha=.5)"
   ]
  },
  {
   "cell_type": "markdown",
   "metadata": {},
   "source": [
    "En el lado receptor nuestra voz se contamina con eco\n",
    "\n",
    "<img src=\"../images/echo-room.png\" width=\"300\">"
   ]
  },
  {
   "cell_type": "markdown",
   "metadata": {},
   "source": [
    "http://dsp-book.narod.ru/307.pdf"
   ]
  },
  {
   "cell_type": "code",
   "execution_count": null,
   "metadata": {},
   "outputs": [],
   "source": [
    "# Esta es la voz de nuestro amig@ denotada por s(t)\n",
    "s, Fs = librosa.load(\"../../data/hola1.ogg\")\n",
    "s = np.pad(s, pad_width=(1000, 0))\n",
    "Audio(s, rate=int(Fs), normalize=False)"
   ]
  },
  {
   "cell_type": "code",
   "execution_count": null,
   "metadata": {},
   "outputs": [],
   "source": [
    "# Esta es la señal de nuestro amigo que nos llega a nosotros\n",
    "# Es una mezcla de la voz de nuestro amig@ + el eco nuestro + ruido blanco\n",
    "srh = s + np.pad(rh, pad_width=(0, len(s)-len(rh))) #+ np.random.randn(len(s))*0.005\n",
    "Audio(srh, rate=int(Fs), normalize=False)"
   ]
  },
  {
   "cell_type": "code",
   "execution_count": null,
   "metadata": {},
   "outputs": [],
   "source": [
    "from numpy.lib.stride_tricks import as_strided\n",
    "\n",
    "\n",
    "L, mu, delta = 500, 0.1, 1e-10\n",
    "for L in [100, 200, 500, 1000, 2000, 3000]:\n",
    "    for mu in [0.01, 0.02, 0.05, 0.1, 0.2, 0.5]:\n",
    "        hhat = np.zeros(shape=(L+1, ))\n",
    "        rhhat = np.zeros(shape=(len(srh), ))\n",
    "        for k in range(L+1, len(r)-1):\n",
    "            norm = np.sum(r[k-L-1:k]**2) + delta\n",
    "            rhhat[k] = np.dot(hhat, r[k-L-1:k])\n",
    "            hhat += 2*mu*(srh[k] - rhhat[k])*r[k-L-1:k]/(norm)\n",
    "        rhhat[k+1] = np.dot(hhat, r[k-L-1:k])\n",
    "        # Nuestra estimación de la voz limpia de nuestro amig@\n",
    "        shat = srh - rhhat\n",
    "        #shat = shat/np.amax(np.absolute(shat))\n",
    "\n",
    "        print(L, mu, np.sum((s - shat)**2))"
   ]
  },
  {
   "cell_type": "code",
   "execution_count": null,
   "metadata": {},
   "outputs": [],
   "source": [
    "L, mu, delta = 500, 0.1, 1e-10\n",
    "\n",
    "hhat = np.zeros(shape=(L+1, ))\n",
    "rhhat = np.zeros(shape=(len(srh), ))\n",
    "for k in range(L+1, len(r)-1):\n",
    "    norm = np.sum(r[k-L-1:k]**2) + delta\n",
    "    rhhat[k] = np.dot(hhat, r[k-L-1:k])\n",
    "    hhat += 2*mu*(srh[k] - rhhat[k])*r[k-L-1:k]/(norm)\n",
    "rhhat[k+1] = np.dot(hhat, r[k-L-1:k])\n",
    "# Nuestra estimación de la voz limpia de nuestro amig@\n",
    "shat = srh - rhhat\n",
    "#shat = shat/np.amax(np.absolute(shat))\n",
    "\n",
    "fig, ax = plt.subplots(3, figsize=(7, 4), tight_layout=True)\n",
    "ax[0].plot(r, alpha=0.5, label='r(t)');\n",
    "ax[0].plot(rh, alpha=0.5, label='r(t)*h(t)');\n",
    "ax[0].plot(rhhat, alpha=0.5, label='r(t)*hhat(t)');\n",
    "ax[0].legend()\n",
    "ax[1].plot(shat, alpha=0.75, label='shat(t)');\n",
    "ax[1].plot(s, alpha=0.75, label='s(t)');\n",
    "ax[1].legend()\n",
    "ax[2].plot((s - shat)**2)\n",
    "\n",
    "print(np.sum((s - shat)**2))\n",
    "Audio(shat, rate=int(Fs), normalize=False)"
   ]
  },
  {
   "cell_type": "code",
   "execution_count": null,
   "metadata": {},
   "outputs": [],
   "source": [
    "L, mu, delta = 4000, 0.1, 1e-4\n",
    "\n",
    "hhat = np.zeros(shape=(L+1, ))\n",
    "rhhat = np.zeros(shape=(len(srh), ))\n",
    "for k in range(L+1, len(r)-1):\n",
    "    norm = np.sum(r[k-L-1:k]**2) + delta\n",
    "    rhhat[k] = np.dot(hhat, r[k-L-1:k])\n",
    "    hhat += 2*mu*(rh[k] - rhhat[k])*r[k-L-1:k]/(norm)\n",
    "rhhat[k+1] = np.dot(hhat, r[k-L-1:k])\n",
    "# Nuestra estimación de la voz limpia de nuestro amig@\n",
    "shat = srh - rhhat\n",
    "#shat = shat/np.amax(np.absolute(shat))\n",
    "\n",
    "fig, ax = plt.subplots(3, figsize=(7, 4), tight_layout=True)\n",
    "ax[0].plot(r, alpha=0.5, label='r(t)');\n",
    "ax[0].plot(rh, alpha=0.5, label='r(t)*h(t)');\n",
    "ax[0].plot(rhhat, alpha=0.5, label='r(t)*hhat(t)');\n",
    "ax[0].legend()\n",
    "ax[1].plot(shat, alpha=0.75, label='shat(t)');\n",
    "ax[1].plot(s, alpha=0.75, label='s(t)');\n",
    "ax[1].legend()\n",
    "ax[2].plot((s - shat)**2)\n",
    "Audio(shat, rate=int(Fs), normalize=False)"
   ]
  },
  {
   "cell_type": "code",
   "execution_count": null,
   "metadata": {},
   "outputs": [],
   "source": []
  },
  {
   "cell_type": "code",
   "execution_count": null,
   "metadata": {},
   "outputs": [],
   "source": []
  },
  {
   "cell_type": "code",
   "execution_count": null,
   "metadata": {},
   "outputs": [],
   "source": []
  }
 ],
 "metadata": {
  "kernelspec": {
   "display_name": "INFO183",
   "language": "python",
   "name": "info183"
  },
  "language_info": {
   "codemirror_mode": {
    "name": "ipython",
    "version": 3
   },
   "file_extension": ".py",
   "mimetype": "text/x-python",
   "name": "python",
   "nbconvert_exporter": "python",
   "pygments_lexer": "ipython3",
   "version": "3.8.5"
  }
 },
 "nbformat": 4,
 "nbformat_minor": 4
}
