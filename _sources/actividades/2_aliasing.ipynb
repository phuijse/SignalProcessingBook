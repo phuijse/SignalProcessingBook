{
 "cells": [
  {
   "cell_type": "markdown",
   "metadata": {},
   "source": [
    "# Actividad 2: Aliasing\n",
    "\n",
    "- Consideremos la siguiente señal periódica con componentes 1Hz, 12Hz y 23Hz, respectivamente\n",
    "\n",
    "$$\n",
    "s(t) = \\cos(2\\pi t) + 0.5 \\cos(2\\pi 12 t) + 0.25 \\cos(2\\pi 23 t)\n",
    "$$\n",
    "\n",
    "- Escribamos una función que calcule y gráfique el espectro de amplitud y fase. Estudiemos y entendamos sus componentes\n",
    "- Remuestremos la señal (disminuir su frecuecia de muestreo) y observemos el espectro resultante. Detectemos los componentes erroneos o aliases en el nuevo espectro\n",
    "- Use el resultado del teorema del muestreo para reconstruir la señal original en cada caso \n",
    "\n",
    "$$\n",
    "s(t) = \\sum_{n=-\\infty}^{\\infty} s[n] \\text{sinc}(\\pi F_s (t - n /F_s) )\n",
    "$$\n",
    "\n",
    "\n"
   ]
  },
  {
   "cell_type": "code",
   "execution_count": null,
   "metadata": {},
   "outputs": [],
   "source": [
    "%matplotlib notebook\n",
    "import numpy as np\n",
    "import matplotlib.pyplot as plt\n",
    "\n",
    "Fs = 100\n",
    "t = np.arange(0, 5, step=1/Fs)\n",
    "s = lambda t: np.cos(2.0*np.pi*t) + 0.5*np.cos(2.0*np.pi*t*12) + 0.25*np.cos(2.0*np.pi*t*23)\n",
    "\n",
    "fig, ax = plt.subplots(figsize=(5, 3))\n",
    "ax.plot(t, s(t))"
   ]
  },
  {
   "cell_type": "code",
   "execution_count": null,
   "metadata": {},
   "outputs": [],
   "source": []
  }
 ],
 "metadata": {
  "kernelspec": {
   "display_name": "INFO183",
   "language": "python",
   "name": "info183"
  },
  "language_info": {
   "codemirror_mode": {
    "name": "ipython",
    "version": 3
   },
   "file_extension": ".py",
   "mimetype": "text/x-python",
   "name": "python",
   "nbconvert_exporter": "python",
   "pygments_lexer": "ipython3",
   "version": "3.8.5"
  }
 },
 "nbformat": 4,
 "nbformat_minor": 4
}
