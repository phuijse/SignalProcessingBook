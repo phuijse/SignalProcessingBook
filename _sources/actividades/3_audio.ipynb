{
 "cells": [
  {
   "cell_type": "markdown",
   "metadata": {},
   "source": [
    "# Actividad 3: Espectrogramas\n",
    "\n",
    "Construiremos y estudiaremos espectrogamas de señales no estacionarias sintéticas y reales"
   ]
  },
  {
   "cell_type": "code",
   "execution_count": null,
   "metadata": {},
   "outputs": [],
   "source": [
    "%matplotlib notebook\n",
    "import numpy as np\n",
    "import scipy.signal\n",
    "import matplotlib.pylab as plt\n",
    "from IPython.display import Audio"
   ]
  },
  {
   "cell_type": "code",
   "execution_count": null,
   "metadata": {},
   "outputs": [],
   "source": [
    "T = 3 # segundos\n",
    "Fs = 44100 # Hz\n",
    "time = np.arange(0, T, step=1.0/Fs)\n",
    "f0 = 440"
   ]
  },
  {
   "cell_type": "code",
   "execution_count": null,
   "metadata": {},
   "outputs": [],
   "source": [
    "# Señal modulada AM\n",
    "\n",
    "mod_am = 0.25 + (1.0 + np.cos(2*np.pi*4*time))*0.75\n",
    "data = mod_am*np.sin(2.*np.pi*f0*time)\n",
    "\n",
    "Audio(data, rate=Fs)"
   ]
  },
  {
   "cell_type": "code",
   "execution_count": null,
   "metadata": {},
   "outputs": [],
   "source": [
    "fig, ax = plt.subplots(1, figsize=(8, 3), tight_layout=True)\n",
    " \n",
    "freq, ttime, Sxx = scipy.signal.spectrogram(data, fs=Fs, window=('tukey', 0.25), \n",
    "                                            nperseg=512, noverlap=None, detrend=False,\n",
    "                                            return_onesided=True, scaling='density', mode='magnitude')\n",
    "ax.pcolormesh(ttime, freq, np.log10(Sxx + 1e-5), cmap=plt.cm.magma, shading='auto'); "
   ]
  },
  {
   "cell_type": "code",
   "execution_count": null,
   "metadata": {},
   "outputs": [],
   "source": [
    "# Señal modulada FM\n",
    "\n",
    "mod_fm = 100*np.cos(2.*np.pi*8*time);\n",
    "phase_fix = np.add.accumulate(time*np.concatenate((np.zeros(1), 2*np.pi*(mod_fm[:-1]-mod_fm[1:]))))\n",
    "data = mod_am*np.sin(2.*np.pi*(f0 + mod_fm)*time + phase_fix)\n",
    "\n",
    "Audio(data, rate=Fs)"
   ]
  },
  {
   "cell_type": "code",
   "execution_count": null,
   "metadata": {},
   "outputs": [],
   "source": [
    "fig, ax = plt.subplots(1, figsize=(8, 3), tight_layout=True)\n",
    " \n",
    "freq, ttime, Sxx = scipy.signal.spectrogram(data, fs=Fs, window=('tukey', 0.25), \n",
    "                                            nperseg=512, noverlap=None, detrend=False,\n",
    "                                            return_onesided=True, scaling='density', mode='magnitude')\n",
    "ax.pcolormesh(ttime, freq, np.log10(Sxx + 1e-5), cmap=plt.cm.magma, shading='auto'); \n"
   ]
  },
  {
   "cell_type": "markdown",
   "metadata": {},
   "source": [
    "## Espectrograma audio\n",
    "\n",
    "Para importar archivos de audio usaremos [librosa](https://pypi.org/project/PySoundFile/)\n",
    "\n",
    "    conda install librosa -c conda-forge\n",
    "    \n",
    "    "
   ]
  },
  {
   "cell_type": "code",
   "execution_count": null,
   "metadata": {},
   "outputs": [],
   "source": [
    "import librosa\n",
    "data, sample_rate = librosa.load(\"../data/DPSAU.ogg\", sr=Fs)\n",
    "# data, sample_rate = librosa.load(\"../data/123.ogg\", sr=Fs)\n",
    "\n",
    "print(sample_rate)\n",
    "print(type(data))\n",
    "print(data.shape)"
   ]
  },
  {
   "cell_type": "code",
   "execution_count": null,
   "metadata": {},
   "outputs": [],
   "source": [
    "fig, ax = plt.subplots(2, figsize=(6, 4), tight_layout=True)\n",
    "\n",
    "time = np.arange(0.0, len(data)/Fs, step=1/Fs)\n",
    "ax[0].plot(time, data);\n",
    "freq, ttime, Sxx = scipy.signal.spectrogram(data, fs=Fs, window=('tukey', 0.25), \n",
    "                                            nperseg=512, noverlap=None, detrend=False,\n",
    "                                            return_onesided=True, scaling='density', mode='magnitude')\n",
    "ax[1].pcolormesh(ttime, freq, np.log10(Sxx+1e-3), cmap=plt.cm.magma, shading='auto'); \n",
    "ax[1].set_ylim([0.0, 2e+3]);\n",
    "\n",
    "Audio(data, rate=Fs)"
   ]
  },
  {
   "cell_type": "code",
   "execution_count": null,
   "metadata": {},
   "outputs": [],
   "source": []
  }
 ],
 "metadata": {
  "kernelspec": {
   "display_name": "INFO183",
   "language": "python",
   "name": "info183"
  },
  "language_info": {
   "codemirror_mode": {
    "name": "ipython",
    "version": 3
   },
   "file_extension": ".py",
   "mimetype": "text/x-python",
   "name": "python",
   "nbconvert_exporter": "python",
   "pygments_lexer": "ipython3",
   "version": "3.8.5"
  }
 },
 "nbformat": 4,
 "nbformat_minor": 4
}
