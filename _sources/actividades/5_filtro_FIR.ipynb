{
 "cells": [
  {
   "cell_type": "code",
   "execution_count": null,
   "metadata": {},
   "outputs": [],
   "source": [
    "from ipywidgets import interact, FloatSlider, SelectionSlider\n",
    "\n",
    "plt.close('all'); fig, ax = plt.subplots(5, 2, figsize=(8, 9))\n",
    "n = np.arange(0, 100, step=1); \n",
    "f = sfft.fftshift(sfft.fftfreq(n=len(n), d=1))\n",
    "np.random.seed(0); C = 5*np.exp(-0.5*(n[:, np.newaxis] - n[:, np.newaxis].T)**2/10**2)\n",
    "x_clean = np.random.multivariate_normal(np.zeros_like(n), C)\n",
    "x_clean -= np.mean(x_clean)\n",
    "x = x_clean + 2*np.random.randn(len(n))\n",
    "def update(fc, L, window='rect'):\n",
    "    [axx.cla() for axx in ax.ravel()]\n",
    "    # Señal limpia\n",
    "    ax[0, 0].plot(n, x_clean); \n",
    "    ax[0, 1].plot(f, sfft.fftshift(np.absolute(sfft.fft(x_clean))))\n",
    "    ax[0, 0].set_title(\"Tiempo\"); ax[0, 1].set_title(\"Frecuencia\")    \n",
    "    # Señal contaminada\n",
    "    ax[1, 0].plot(n, x); ylims = ax[1, 0].get_ylim(); ax[0, 0].set_ylim(ylims)\n",
    "    X = sfft.fft(x); \n",
    "    ax[1, 1].plot(f, sfft.fftshift(np.absolute(X)))\n",
    "    # Filtro ideal\n",
    "    kc = int(len(n)*fc)\n",
    "    Hd = np.zeros_like(n, dtype=np.float); Hd[:kc] = 1.; Hd[len(Hd)-kc+1:] = 1.\n",
    "    ax[2, 1].plot(f, sfft.fftshift(Hd))\n",
    "    hd = np.real(sfft.ifftshift(sfft.ifft(Hd)))\n",
    "    ax[2, 0].plot(n, hd)\n",
    "    # Filtro real\n",
    "    w = np.zeros_like(n, dtype=np.float); \n",
    "    if window == 'rect':\n",
    "        w[len(w)//2-L//2:len(w)//2+L//2+1] = 1.;\n",
    "    elif window == 'hann':\n",
    "        w[len(w)//2-L//2:len(w)//2+L//2+1] = scipy.signal.hann(L+1)\n",
    "    h = w*hd; H = sfft.fft(h); \n",
    "    print(\"NMSE entre H y Hd %0.4f\" % (np.mean((np.absolute(H) - Hd)**2)/np.mean(Hd**2)))\n",
    "    ax[3, 0].plot(n, h);  ylims2 = ax[3, 0].get_ylim(); \n",
    "    ax[3, 0].plot(n, w, '--'); ax[3, 0].set_ylim(ylims2)\n",
    "    ax[3, 1].plot(f, sfft.fftshift(np.absolute(H)))\n",
    "    # Señal filtrada\n",
    "    xf = scipy.signal.convolve(x, h, mode='same')\n",
    "    ax[4, 0].plot(n, np.real(xf)); \n",
    "    ax[4, 1].plot(f, sfft.fftshift(np.absolute(sfft.fft(xf)))); ax[4, 0].set_ylim(ylims)\n",
    "    \n",
    "interact(update, fc=FloatSlider(min=0.01, max=0.5, step=0.01, value=0.1),\n",
    "         L=SelectionSlider(options=[4, 6, 10, 20, 40, 60, 80], value=60),\n",
    "         window=SelectionSlider(options=['rect', 'hann']));"
   ]
  },
  {
   "cell_type": "code",
   "execution_count": null,
   "metadata": {},
   "outputs": [],
   "source": [
    "import librosa\n",
    "data, sample_rate = librosa.load(\"../../data/nomekop.ogg\", sr=44100)\n",
    "\n",
    "fig, ax = plt.subplots(1, figsize=(8, 3))\n",
    "freq, ttime, Sxx = scipy.signal.spectrogram(data, fs=sample_rate, window=('tukey', 0.25), \n",
    "                                            nperseg=256, noverlap=None, detrend=False,\n",
    "                                            return_onesided=True, scaling='density', mode='magnitude')\n",
    "ax.pcolormesh(ttime, freq, 20*np.log10(Sxx+1e-4), cmap=plt.cm.magma); ax.set_ylim([0.0, 1e+4]);\n",
    "\n",
    "Audio(data, rate=int(sample_rate), normalize=False)"
   ]
  },
  {
   "cell_type": "code",
   "execution_count": null,
   "metadata": {},
   "outputs": [],
   "source": [
    "h = scipy.signal.firwin(numtaps=1000+1, cutoff=[200, 500], \n",
    "                        pass_zero=False, window='hann',\n",
    "                        fs=sample_rate)\n",
    "\n",
    "fig = plt.figure(figsize=(8, 6), tight_layout=True)\n",
    "ax1 = plt.subplot2grid((2, 2 ), (0, 0)); ax1.set_title(\"Respuesta al impulso\")\n",
    "ax2 = plt.subplot2grid((2, 2 ), (0, 1)); ax2.set_title(\"Respuesta en frecuencia\")\n",
    "ax3 = plt.subplot2grid((2, 2 ), (1, 0), colspan=2, rowspan=1)\n",
    "\n",
    "freq, response = scipy.signal.freqz(h)\n",
    "ax1.plot(h); ax2.semilogy(0.5*sample_rate*freq/np.pi, np.abs(response));\n",
    "data_filt = scipy.signal.convolve(data, h)\n",
    "freq, ttime, Sxx = scipy.signal.spectrogram(data_filt, fs=sample_rate, window=('tukey', 0.25), \n",
    "                                            nperseg=256, noverlap=None, detrend=False,\n",
    "                                            return_onesided=True, scaling='density', mode='magnitude')\n",
    "ax3.pcolormesh(ttime, freq, 20*np.log10(Sxx+1e-4), cmap=plt.cm.magma); ax3.set_ylim([0.0, 1e+4]);\n",
    "\n",
    "Audio(data_filt, rate=int(sample_rate), normalize=False)"
   ]
  }
 ],
 "metadata": {
  "kernelspec": {
   "display_name": "INFO183",
   "language": "python",
   "name": "info183"
  },
  "language_info": {
   "codemirror_mode": {
    "name": "ipython",
    "version": 3
   },
   "file_extension": ".py",
   "mimetype": "text/x-python",
   "name": "python",
   "nbconvert_exporter": "python",
   "pygments_lexer": "ipython3",
   "version": "3.8.5"
  }
 },
 "nbformat": 4,
 "nbformat_minor": 2
}
