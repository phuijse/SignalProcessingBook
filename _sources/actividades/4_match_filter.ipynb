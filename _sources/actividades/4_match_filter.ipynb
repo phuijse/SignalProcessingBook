{
 "cells": [
  {
   "cell_type": "markdown",
   "metadata": {},
   "source": [
    "# Actividad: Match filter\n",
    "\n"
   ]
  },
  {
   "cell_type": "code",
   "execution_count": null,
   "metadata": {},
   "outputs": [],
   "source": [
    "%matplotlib notebook\n",
    "import numpy as np\n",
    "import scipy.signal\n",
    "import matplotlib.pylab as plt\n",
    "from matplotlib import animation\n",
    "from IPython.display import Audio"
   ]
  },
  {
   "cell_type": "code",
   "execution_count": null,
   "metadata": {},
   "outputs": [],
   "source": [
    "def sine_pulse(n, k0, center):\n",
    "    x = np.zeros_like(n, dtype=np.float); L = int(1/k0)\n",
    "    x[center:center+L] = np.sin(2.0*np.pi*k0*(n[center:center+L] - n[center]))\n",
    "    return x\n",
    "\n",
    "fig, ax = plt.subplots(3, figsize=(8, 6), tight_layout=True)\n",
    "np.random.seed(0); \n",
    "n = np.arange(0, 100, step=1)\n",
    "x_clean = sine_pulse(n, k0=0.05, center=50) \n",
    "ax[0].plot(n, x_clean)\n",
    "s = 1.;  x = x_clean + s*np.random.randn(len(n))\n",
    "ax[0].plot(n, x, 'k.'); ylims = ax[0].get_ylim()\n",
    "ax[0].set_title(\"SNR %0.2f [dB]\" %(10*np.log(0.5/s**2)))\n",
    "# System:\n",
    "h = np.sin(2.0*np.pi*0.05*n[:int(len(n)/5)] + np.pi); h = h/np.sum(np.absolute(h))\n",
    "# Acumulator\n",
    "y = np.zeros_like(n, dtype=np.float)\n",
    "def init():\n",
    "    global y\n",
    "    y = np.zeros_like(n, dtype=np.float)\n",
    "    return ()\n",
    "    \n",
    "def update(m):\n",
    "    c = np.zeros_like(n, dtype=np.float); c[m:m+len(h)] = h\n",
    "    ax[1].cla(); ax[1].plot(c); \n",
    "    y[m] = np.sum(h*x[m:m+len(h)])\n",
    "    ax[2].cla(); ax[2].plot(n, y**2);  #ax[2].set_ylim(ylims)\n",
    "    ax[2].plot([m, m], [np.amin(y**2), np.amax(y**2)], 'r--', alpha=0.5)\n",
    "    return ()\n",
    "\n",
    "anim = animation.FuncAnimation(fig, update, init_func=init, \n",
    "                               frames=100-len(h), interval=200, blit=True)"
   ]
  },
  {
   "cell_type": "code",
   "execution_count": null,
   "metadata": {},
   "outputs": [],
   "source": []
  }
 ],
 "metadata": {
  "kernelspec": {
   "display_name": "INFO183",
   "language": "python",
   "name": "info183"
  },
  "language_info": {
   "codemirror_mode": {
    "name": "ipython",
    "version": 3
   },
   "file_extension": ".py",
   "mimetype": "text/x-python",
   "name": "python",
   "nbconvert_exporter": "python",
   "pygments_lexer": "ipython3",
   "version": "3.8.5"
  },
  "toc": {
   "base_numbering": 1,
   "nav_menu": {},
   "number_sections": true,
   "sideBar": true,
   "skip_h1_title": false,
   "title_cell": "Table of Contents",
   "title_sidebar": "Contents",
   "toc_cell": false,
   "toc_position": {},
   "toc_section_display": true,
   "toc_window_display": false
  }
 },
 "nbformat": 4,
 "nbformat_minor": 4
}
