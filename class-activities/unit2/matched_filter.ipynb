{
 "cells": [
  {
   "cell_type": "code",
   "execution_count": null,
   "metadata": {},
   "outputs": [],
   "source": [
    "%matplotlib ipympl\n",
    "import numpy as np\n",
    "import scipy.signal\n",
    "import matplotlib.pylab as plt\n",
    "from ipywidgets import interact, FloatSlider, IntSlider\n",
    "from IPython.display import YouTubeVideo"
   ]
  },
  {
   "cell_type": "markdown",
   "metadata": {},
   "source": [
    "# Detectando ondas gravitacionales con un matched filter\n",
    "\n",
    "## Introducción\n",
    "\n",
    "Una onda gravitacional es una perturbación en el espacio-tiempo causada por la interacción de dos cuerpos super masivos. Su existencia fue predicha por Einstein en base a su teoría de relatividad general.\n",
    "\n",
    "Sin embargo, no fue hasta 2016 cuando el Laser Interferometer Gravitational-Wave Observatory (LIGO) observó la primera onda gravitacional\n",
    "\n",
    "Las ondas graviatacionales nos permiten estudiar objetos astronómicos que son dificiles o imposibles de observar por otros medios, por ejemplo los agujeros negros"
   ]
  },
  {
   "cell_type": "code",
   "execution_count": null,
   "metadata": {},
   "outputs": [],
   "source": [
    "YouTubeVideo('p43sb92YOww')"
   ]
  },
  {
   "cell_type": "markdown",
   "metadata": {},
   "source": [
    "Las ondas gravitacionales deben viajar distancias enormes para llegar a la Tierra. Por ende lo que recibimos es una señal muy débil y altamente contaminada por ruido como muestra la siguiente figura\n",
    "\n",
    "<img src=\"https://www.researchgate.net/publication/320975513/figure/fig1/AS:613937242452040@1523385453807/Sample-signal-injected-into-real-LIGO-noise-The-red-time-series-is-an-example-of-the.png\" width=\"500\">\n",
    "\n",
    "Podemos utilizar un filtro FIR para encontrar esta señal en el ruido. La técnica usada por la colaboración LIGO para detectar ondas gravitacionales es el [matched filter](https://www.ligo.org/science/Publication-GW150914CBC/index.php)"
   ]
  },
  {
   "cell_type": "markdown",
   "metadata": {},
   "source": [
    "## Matched filter\n",
    "\n",
    "EL match filter es un filtro muy sencillo pero muy robusto. Se usa para detectar una señal $s$ a partir de datos $x$ contaminados con ruido aditivo $\\epsilon$\n",
    "\n",
    "$$\n",
    "x[n] = s[n] + \\epsilon[n],\n",
    "$$\n",
    "\n",
    "definamos ahora un filtro FIR\n",
    "\n",
    "$$\n",
    "y[n] = (h * x)[n] = \\sum_{k} h[n-k] x[k],\n",
    "$$\n",
    "\n",
    "Siguiendo el supuesto de ruido aditivo tendríamos que\n",
    "\n",
    "$$\n",
    "y[n] = y_s[n] + y_\\epsilon[n]\n",
    "$$\n",
    "\n",
    "Luego podemos escribir la razón señal a ruido como\n",
    "\n",
    "$$\n",
    "\\text{SNR} = \\frac{|y_s|^2}{\\mathbb{E}[y_\\epsilon^2]} = \\frac{(h * s)^T (h * s)}{\\sigma^2 |h|^2}\n",
    "$$\n",
    "\n",
    "Si [maximizamos el numerador](https://en.wikipedia.org/wiki/Matched_filter#Derivation_via_Lagrangian) bajo la restricción de que el filtro es ortogonal ($|h|^2=I$) se obtiene el filtro óptimo\n",
    "\n",
    "$$\n",
    "h = \\frac{s}{|s|}\n",
    "$$\n",
    "\n",
    "Es decir que el filtro óptimo para encontrar $s$ está basado en $s$. \n"
   ]
  },
  {
   "cell_type": "markdown",
   "metadata": {},
   "source": [
    "## Un modelo de onda gravitacional\n",
    "\n",
    "Para encontrar ondas gravitacionales con el matched filter necesitamos un modelo matemático que represente $s$. Este modelo viene dado por los modelos físicos (teóricos) del fenómeno.\n",
    "\n",
    "Este modelo tiene parámetros que al variarlos producen una familia de plantillas (templates) \n",
    "\n",
    "En este caso utilizaremos una simplificación de dicho modelo con dos parámetros: El largo temporal y la frecuencia"
   ]
  },
  {
   "cell_type": "code",
   "execution_count": null,
   "metadata": {},
   "outputs": [],
   "source": [
    "def gravitational_wave(length, freq, Fs=100):\n",
    "    time = np.arange(0, length*1.1, step=1/Fs)\n",
    "    signal = scipy.signal.chirp(time, freq, length, 5*freq, method='hyperbolic')\n",
    "    time = time - length\n",
    "    signal[time <= 0] *= (time[time<=0]+length)*0.01\n",
    "    signal[time > 0] *= -(time[time>0]-length*0.1)*0.1\n",
    "    return time, signal\n",
    "\n",
    "def update_plot(length, freq):\n",
    "    ax.cla()\n",
    "    time, template = gravitational_wave(length, freq, Fs=100)\n",
    "    ax.plot(time, template)\n",
    "    \n",
    "fig, ax = plt.subplots(figsize=(6, 3), tight_layout=True)\n",
    "interact(update_plot, length=IntSlider(min=10, max=500, step=10, value=50),\n",
    "         freq=FloatSlider(min=0.01, max=0.2, step=1e-2, value=0.1));"
   ]
  },
  {
   "cell_type": "markdown",
   "metadata": {},
   "source": [
    "## Buscando señales en el ruido utilizando plantillas\n",
    "\n",
    "\n",
    "Simulemos los datos que recibe el sensor de LIGO. En estos datos con muy baja SNR hay escondida una onda gravitacional"
   ]
  },
  {
   "cell_type": "code",
   "execution_count": null,
   "metadata": {},
   "outputs": [],
   "source": [
    "np.random.seed(1234)\n",
    "\n",
    "true_length, true_freq, Fs = 50, 0.1234, 100\n",
    "_, template = gravitational_wave(true_length, true_freq, Fs)\n",
    "\n",
    "s = np.zeros(shape=(100*Fs,))\n",
    "s[1234:1234+len(template)] = template\n",
    "x =  s + 0.5*np.random.randn(*s.shape)\n",
    "\n",
    "fig, ax = plt.subplots(2, figsize=(6, 4), tight_layout=True)\n",
    "ax[0].plot(np.arange(0, 100, step=1/Fs), x)\n",
    "freqs, times, Sxx = scipy.signal.spectrogram(x, fs=Fs, nperseg=512)\n",
    "ax[1].pcolormesh(times, freqs, np.log10(Sxx+1e-4), shading='gouraud', cmap=plt.cm.Reds)\n",
    "#ax[1].set_ylim(0, 5)"
   ]
  },
  {
   "cell_type": "markdown",
   "metadata": {},
   "source": [
    "Para encontrarle generaremos una serie de plantillas y las usaremos como filtro para convolucionar la señal\n",
    "\n",
    "Para cada filtro $h$ registraremos el valor máximo de $y = h*x$ y también el retardo donde ocurre este máximo\n",
    "\n",
    "El más grande entre todos los máximos será el mejor template o plantilla"
   ]
  },
  {
   "cell_type": "code",
   "execution_count": null,
   "metadata": {},
   "outputs": [],
   "source": [
    "lengths = np.arange(20, 500, step=10)\n",
    "freqs = np.arange(0.01, 0.2, step=1e-2)\n",
    "best_value = np.zeros(shape=(len(lengths), len(freqs)))\n",
    "best_lag = np.zeros_like(best_value)\n",
    "\n",
    "for i, length in enumerate(lengths):\n",
    "    for j, freq in enumerate(freqs):\n",
    "        _, h = gravitational_wave(length, freq, Fs)\n",
    "        y = scipy.signal.correlate(x, h, mode='valid')/np.sqrt(np.sum(h**2))\n",
    "        best_lag[i, j] = np.argmax(y)\n",
    "        best_value[i, j] = np.max(y)\n",
    "        \n",
    "fig, ax = plt.subplots(figsize=(6 ,4), tight_layout=True)\n",
    "ax.pcolormesh(freqs, lengths, best_value, shading='auto', cmap=plt.cm.Blues)\n",
    "\n",
    "idx = np.unravel_index(np.argmax(best_value), best_value.shape)\n",
    "\n",
    "print(lengths[idx[0]], freqs[idx[1]])\n",
    "print(best_lag[idx[0], idx[1]])"
   ]
  },
  {
   "cell_type": "markdown",
   "metadata": {},
   "source": [
    "Visualicemos el mejor template encontrado (naranjo) y el resultado de la convolución. \n",
    "\n",
    "En azul se muestra la señal deseada. En la práctica no tenemos esta señal pero aquí la podemos visualizar como referencia.\n",
    "\n",
    "¿Cómo cambia el resultado si cambiamos los arreglos `lengths` y `freqs`?"
   ]
  },
  {
   "cell_type": "code",
   "execution_count": null,
   "metadata": {},
   "outputs": [],
   "source": [
    "fig, ax = plt.subplots(2, 1, figsize=(6, 4), tight_layout=True)\n",
    "\n",
    "\n",
    "for _, h in [gravitational_wave(true_length, true_freq, Fs), \n",
    "          gravitational_wave(lengths[idx[0]], freqs[idx[1]], Fs)\n",
    "          ]:\n",
    "    \n",
    "    y = scipy.signal.correlate(x, h, mode='valid')/np.sqrt(np.sum(h**2))\n",
    "    ax[0].plot(y)    \n",
    "    ax[1].plot(h)\n",
    "    \n",
    "ax[0].set_title('Convolución (y)')\n",
    "ax[1].set_title('Template [h]');"
   ]
  },
  {
   "cell_type": "markdown",
   "metadata": {},
   "source": [
    "## Comentarios y discusión\n",
    "\n",
    "- El matched filter requiere que el ruido sea aditivo\n",
    "- El template debe ser idealmente idéntico a la señal que se busca\n",
    "- El método de fuerza bruta es muy costoso. Modelos más flexibles con más parámetros se vuelven rapidamente infactibles. Una alternativa es usar técnicas de optimización\n",
    "- Referencia: https://journals.aps.org/prl/pdf/10.1103/PhysRevLett.120.141103"
   ]
  },
  {
   "cell_type": "code",
   "execution_count": null,
   "metadata": {},
   "outputs": [],
   "source": []
  }
 ],
 "metadata": {
  "interpreter": {
   "hash": "d5241370169375f06c88bbce69143b43db2c28707aaaa71e6bfc35ac9df405b8"
  },
  "kernelspec": {
   "display_name": "Python 3",
   "language": "python",
   "name": "python3"
  },
  "language_info": {
   "codemirror_mode": {
    "name": "ipython",
    "version": 3
   },
   "file_extension": ".py",
   "mimetype": "text/x-python",
   "name": "python",
   "nbconvert_exporter": "python",
   "pygments_lexer": "ipython3",
   "version": "3.9.6"
  },
  "toc": {
   "base_numbering": 1,
   "nav_menu": {},
   "number_sections": true,
   "sideBar": true,
   "skip_h1_title": false,
   "title_cell": "Table of Contents",
   "title_sidebar": "Contents",
   "toc_cell": false,
   "toc_position": {},
   "toc_section_display": true,
   "toc_window_display": false
  }
 },
 "nbformat": 4,
 "nbformat_minor": 4
}
