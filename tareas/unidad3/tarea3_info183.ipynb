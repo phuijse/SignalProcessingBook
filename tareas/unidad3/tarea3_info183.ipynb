{
 "cells": [
  {
   "cell_type": "markdown",
   "metadata": {},
   "source": [
    "# Actividad 3 INFO183\n",
    "\n",
    "#### Instrucciones generales\n",
    "\n",
    "- Complete este cuadernillo jupyter con sus códigos y respuestas\n",
    "- Se trabajará en grupos de tres personas\n",
    "- Se entrega un cuadernillo por grupo\n",
    "- La entrega es a través de correo electrónico a phuijse@inf.uach.cl\n",
    "- La fecha de entrega es el Lunes 6 de Abril a las 23:59\n",
    "- Use las librerías `scipy`, `numpy` y `matplotlib`"
   ]
  },
  {
   "cell_type": "markdown",
   "metadata": {},
   "source": [
    "### Nombre completo de los integrantes: \n",
    "- A\n",
    "- B\n",
    "- C"
   ]
  },
  {
   "cell_type": "code",
   "execution_count": null,
   "metadata": {},
   "outputs": [],
   "source": [
    "import numpy as np\n",
    "%matplotlib notebook\n",
    "import matplotlib.pylab as plt\n",
    "\n",
    "NMSE = lambda y, yhat : np.sum((y - yhat)**2)/np.var(y)"
   ]
  },
  {
   "cell_type": "markdown",
   "metadata": {},
   "source": [
    "#### Enunciado\n",
    "\n",
    "En esta tarea se pide entrenar y evaluar un predictor para la serie de tiempo Mackey-Glass. Esta serie de tiempo se obtiene de la solución de la siguiente ecuación diferencial\n",
    "\n",
    "$$\n",
    "\\frac{dy}{dt} = 0.2 \\frac{ y(t-\\tau)}{1 + y(t-\\tau)^{10}} - 0.1 y(t),\n",
    "$$\n",
    "\n",
    "donde el parámetro $\\tau$ controla el comportamiento dinámico de la serie de tiempo "
   ]
  },
  {
   "cell_type": "markdown",
   "metadata": {},
   "source": [
    "***\n",
    "\n",
    "Use el código que se muestra a continuación para generar la serie de tiempo Mackey Glass\n",
    "\n",
    "- Considere una razón señal a ruido (SNR) de 2.\n",
    "- Considere $\\tau=17$ (comportamiento debilmente caótico)\n",
    "\n",
    "Se generaran 1000 muestras de la serie de tiempo. Use los primeros 500 puntos para entrenar y los siguientes 500 puntos para hacer predicción"
   ]
  },
  {
   "cell_type": "code",
   "execution_count": null,
   "metadata": {},
   "outputs": [],
   "source": [
    "# número de observaciones (no modificar)\n",
    "N = 1000\n",
    "# Razón señal a ruido (2., 0.5)\n",
    "SNR = 2.\n",
    "# constantes de la ecuación diferencial (no modificar)\n",
    "a, b = 0.1, 0.2\n",
    "# comportamiento dinámico de Mackey-Glass (17, 30)\n",
    "tau = 17.\n",
    "# paso de integración (no modificar)\n",
    "dt = 0.05\n",
    "# condición incial (no modificar)\n",
    "y0 = 0.9\n",
    "# largo temporal (no modificar)\n",
    "tt = 5.\n",
    "t = np.linspace(0, tt, num=N)\n",
    "\n",
    "N_full, tau_full = int(N*tt/dt), int(tau/dt)\n",
    "ymg = y0*np.ones(shape=(N_full, ))\n",
    "# Runge-Kutta integration\n",
    "for n in range(tau_full, N_full-1):\n",
    "    byd = b*ymg[n-tau_full]/(1.0 + ymg[n-tau_full]**10.0)\n",
    "    yk1 = dt*(-a*ymg[n] + byd)\n",
    "    yk2 = dt*(-a*(ymg[n]+yk1/2) + byd)\n",
    "    yk3 = dt*(-a*(ymg[n]+yk2/2) + byd)\n",
    "    yk4 = dt*(-a*(ymg[n]+yk3) + byd)\n",
    "    ymg[n+1] = ymg[n] + yk1/6 + yk2/3 +yk3/3 +yk4/6;\n",
    "ymg = ymg[::int(tt/dt)]\n",
    "#ymg = ymg - np.mean(ymg) \n",
    "# Contaminación con ruido blanco aditivo\n",
    "s_noise = np.sqrt(np.var(ymg)/SNR) \n",
    "np.random.seed(0)\n",
    "y_obs = ymg + s_noise*np.random.randn(len(ymg))\n",
    "# Gráfico\n",
    "fig, ax = plt.subplots(1, figsize=(9, 3), tight_layout=True)\n",
    "ax.plot(t[:500], y_obs[:500])\n",
    "ax.set_title('Serie de tiempo Mackey-Glass (entrenamiento)');"
   ]
  },
  {
   "cell_type": "markdown",
   "metadata": {},
   "source": [
    "***\n",
    "\n",
    "1. Describa en detalle el algoritmo LMS indicando sus semejanzas y diferencias con el filtro de Wiener \n",
    "1. Partiendo del error instantaneo $J_n^s(\\textbf{w}) = e_n^2$ derive la regla de actualización de pesos\n",
    "1. La siguiente clase de *Python* predice y entrena un filtro LMS. Complete la línea que dice \n",
    "\n",
    "` self.w = ? `\n",
    "\n",
    "con el valor correcto de actualización de peso del filtro LMS"
   ]
  },
  {
   "cell_type": "code",
   "execution_count": null,
   "metadata": {},
   "outputs": [],
   "source": [
    "class LMS_filter(object):\n",
    "    \n",
    "    def __init__(self, L=1, mu=0.5, normalized=True):\n",
    "        self.L = L\n",
    "        self.mu = mu\n",
    "        self.w = np.zeros(shape=(L, ))\n",
    "        self.normalized = normalized\n",
    "    \n",
    "    def __len__(self):\n",
    "        return self.L\n",
    "    \n",
    "    def predict(self, u):\n",
    "        return np.dot(self.w, u)\n",
    "    \n",
    "    def update(self, u, d):\n",
    "        d_pred = self.predict(u)\n",
    "        norm = 1.\n",
    "        if self.normalized:\n",
    "            norm = np.sum(u**2) + 1e-6\n",
    "        self.w = self.w + ?"
   ]
  },
  {
   "cell_type": "markdown",
   "metadata": {},
   "source": [
    "***\n",
    "## Predicción con algoritmo LMS\n",
    "\n",
    "1. Entrene el predictor con el algoritmo normalized LMS usando el siguiente bloque de código\n",
    "1. Construya una tabla con los NMSE de entrenamiento y prueba para distintos valores de $\\mu$ y $L$\n",
    "    - Se recomienda hacer un barrido logarítmico en $\\mu$ (por ejemplo `mu=np.logspace(-2, 0, num=20)`)\n",
    "    - Use al menos los siguientes valores de $L$: [5, 10, 20, 30]\n",
    "1. Describa cada experimento analizando sus resultados de forma cuantitativa y cualitativa\n",
    "    - ¿Se sobreajuste el filtro a los datos de entrenamiento? \n",
    "    - ¿Se desestabiliza el filtro?\n",
    "1. Indique que combinación obtiene menor MSE de prueba \n",
    "***\n",
    "\n",
    "1. Repita el experimento para $\\tau = 30$ (comportamiento fuertemente caótico) \n",
    "1. Compare los resultados obtenidos con cada serie de tiempo. ¿Qué casos son más sencillos y cuales más complicados?\n"
   ]
  },
  {
   "cell_type": "code",
   "execution_count": null,
   "metadata": {},
   "outputs": [],
   "source": [
    "lms = LMS_filter(L=30, mu=0.09, normalized=True)\n",
    "# Entrenamiento\n",
    "\n",
    "y_pred = np.zeros(shape=(len(y_obs), ))\n",
    "for k in range(lms.__len__(), 500):\n",
    "    y_window = y_obs[k-lms.__len__():k]\n",
    "    y_pred[k] = lms.predict(y_window)\n",
    "    lms.update(d=y_obs[k], u=y_window)\n",
    "# Prueba\n",
    "for k in range(500, len(y_obs)):\n",
    "    y_window = y_obs[k-lms.__len__():k]\n",
    "    y_pred[k] = lms.predict(y_window)\n",
    "    \n",
    "print(\"MSE entrenamiento %0.4f, prueba %0.4f\" %(NMSE(ymg[lms.__len__():500], y_pred[lms.__len__():500]), \n",
    "                                                NMSE(ymg[500:], y_pred[500:])))"
   ]
  },
  {
   "cell_type": "code",
   "execution_count": null,
   "metadata": {},
   "outputs": [],
   "source": [
    "fig, ax = plt.subplots(3, figsize=(9, 6), tight_layout=True)\n",
    "ax[0].plot(t, y_obs, 'k.', alpha=0.5, label='Observado'); ax[0].legend();\n",
    "ax[1].plot(t, ymg, 'g-', alpha=0.5, lw=2, label='Intrínseco'); \n",
    "ax[1].plot(t[:500], y_pred[:500], alpha=0.75, lw=2, label='Predicho train'); \n",
    "ax[1].plot(t[500:], y_pred[500:], alpha=0.75, lw=2, label='Predicho test'); ax[1].legend();\n",
    "\n",
    "ax[2].plot(t[:500], (ymg[:500] - y_pred[:500])**2, label='Error cuadrático train'); \n",
    "ax[2].plot(t[500:], (ymg[500:] - y_pred[500:])**2, label='Error cuadrático test'); ax[2].legend(); "
   ]
  },
  {
   "cell_type": "markdown",
   "metadata": {},
   "source": [
    "***\n",
    "## Predicción con algoritmo RLS\n",
    "\n",
    "1. Describa en detalle el algoritmo RLS indicando sus semejanzas y diferencias con el algoritmo LMS\n",
    "1. Partiendo del error histórico $J_N(\\textbf{w}) = \\sum_{i=1}^N \\beta^{N-i} e_i^2$ derive la regla recursiva de actualización de pesos \n",
    "1. La siguiente clase de *Python* predice y entrena un filtro RLS. Complete las líneas que dice \n",
    "\n",
    "` self.w = ? ` y `self.Phi_inv = ?`\n",
    "\n",
    "con el valor correcto de actualización de peso del filtro RLS"
   ]
  },
  {
   "cell_type": "code",
   "execution_count": null,
   "metadata": {},
   "outputs": [],
   "source": [
    "class RLS_filter(object):\n",
    "    \n",
    "    def __init__(self, L=1, beta=0.9, delta=10.):\n",
    "        self.L = L\n",
    "        self.beta = beta\n",
    "        self.w = np.zeros(shape=(L, ))\n",
    "        self.Phi_inv = delta*np.eye(L)\n",
    "    \n",
    "    def __len__(self):\n",
    "        return self.L\n",
    "    \n",
    "    def predict(self, u):\n",
    "        return np.dot(self.w, u)\n",
    "    \n",
    "    def update(self, u, d):          \n",
    "        invbeta = 1.0/self.beta\n",
    "        d_pred = self.predict(u)\n",
    "        e = d - d_pred\n",
    "        r = 1. + invbeta*np.dot(np.dot(u, self.Phi_inv), u.T)\n",
    "        k = invbeta*np.dot(self.Phi_inv, u)/r       \n",
    "        self.Phi_inv = ?\n",
    "        self.w = ?\n",
    "        "
   ]
  },
  {
   "cell_type": "markdown",
   "metadata": {},
   "source": [
    "***\n",
    "\n",
    "1. Entrene el predictor con el algoritmo RLS usando el siguiente bloque de código\n",
    "1. Considere primero  $\\tau=17$\n",
    "1. Construya una tabla con los NMSE de entrenamiento y prueba para distintos valores de $\\beta$ y $L$\n",
    "    - Se recomienda hacer un barrido lineal en $\\beta$ (por ejemplo `mu=np.linspace(0.8, 1.0, num=20)`)\n",
    "    - Use al menos los siguientes valores de $L$: [5, 10, 20, 30]\n",
    "1. Describa cada experimento analizando sus resultados de forma cuantitativa y cualitativa\n",
    "    - ¿Cuánto demora el filtro en estabilizarse? \n",
    "    - ¿Se sobreajuste el filtro a los datos de entrenamiento? \n",
    "    - ¿Se desestabiliza el filtro?\n",
    "1. Indique que combinación obtiene menor MSE de prueba \n",
    "1. Repita el experimento para $\\tau=30$\n",
    "1. Compare con los resultados obtenidos con el algoritmo LMS ¿Qué algoritmo demora menos en converger?\n"
   ]
  },
  {
   "cell_type": "code",
   "execution_count": null,
   "metadata": {},
   "outputs": [],
   "source": [
    "rls = RLS_filter(L=30, beta=0.9, delta=1.)\n",
    "# Entrenamiento\n",
    "y_pred = np.zeros(shape=(len(y_obs), ))\n",
    "for k in range(rls.__len__(), 500):\n",
    "    y_window = y_obs[k-rls.__len__():k]\n",
    "    rls.update(d=y_obs[k], u=y_window)\n",
    "    y_pred[k] = rls.predict(y_window)\n",
    "# Prueba\n",
    "for k in range(500, len(y_obs)):\n",
    "    y_window = y_obs[k-rls.__len__():k]\n",
    "    y_pred[k] = rls.predict(y_window)\n",
    "    \n",
    "print(\"MSE entrenamiento %0.4f, prueba %0.4f\" %(NMSE(ymg[rls.__len__():500], y_pred[rls.__len__():500]), \n",
    "                                                NMSE(ymg[500:], y_pred[500:])))"
   ]
  },
  {
   "cell_type": "code",
   "execution_count": null,
   "metadata": {},
   "outputs": [],
   "source": [
    "fig, ax = plt.subplots(3, figsize=(9, 6), tight_layout=True)\n",
    "ax[0].plot(t, y_obs, 'k.', alpha=0.5, label='Observado'); ax[0].legend();\n",
    "ax[1].plot(t, ymg, 'g-', alpha=0.5, lw=2, label='Intrínseco'); \n",
    "ax[1].plot(t[:500], y_pred[:500], alpha=0.75, lw=2, label='Predicho train'); \n",
    "ax[1].plot(t[500:], y_pred[500:], alpha=0.75, lw=2, label='Predicho test'); ax[1].legend();\n",
    "\n",
    "ax[2].plot(t[:500], (ymg[:500] - y_pred[:500])**2, label='Error cuadrático train'); \n",
    "ax[2].plot(t[500:], (ymg[500:] - y_pred[500:])**2, label='Error cuadrático test'); ax[2].legend(); \n",
    "\n",
    "NMSE = lambda y, yhat : np.sum((y - yhat)**2)/np.var(y)"
   ]
  },
  {
   "cell_type": "code",
   "execution_count": null,
   "metadata": {},
   "outputs": [],
   "source": []
  }
 ],
 "metadata": {
  "kernelspec": {
   "display_name": "Python 3",
   "language": "python",
   "name": "python3"
  },
  "language_info": {
   "codemirror_mode": {
    "name": "ipython",
    "version": 3
   },
   "file_extension": ".py",
   "mimetype": "text/x-python",
   "name": "python",
   "nbconvert_exporter": "python",
   "pygments_lexer": "ipython3",
   "version": "3.8.0"
  }
 },
 "nbformat": 4,
 "nbformat_minor": 2
}
