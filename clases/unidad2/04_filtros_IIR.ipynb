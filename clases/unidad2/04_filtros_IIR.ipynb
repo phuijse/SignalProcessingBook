{
 "cells": [
  {
   "cell_type": "code",
   "execution_count": null,
   "metadata": {
    "ExecuteTime": {
     "end_time": "2020-11-02T01:27:51.329562Z",
     "start_time": "2020-11-02T01:27:50.589567Z"
    }
   },
   "outputs": [],
   "source": [
    "%matplotlib notebook\n",
    "import numpy as np\n",
    "import scipy.signal\n",
    "import scipy.fft as sfft\n",
    "import matplotlib.pylab as plt\n",
    "from matplotlib import animation\n",
    "\n",
    "from IPython.display import YouTubeVideo, HTML, Audio\n",
    "from bokeh.layouts import column, row\n",
    "from bokeh.models import CustomJS, ColumnDataSource, Slider\n",
    "from bokeh.plotting import Figure, show, output_notebook\n",
    "output_notebook()"
   ]
  },
  {
   "cell_type": "markdown",
   "metadata": {},
   "source": [
    "# Diseño de sistemas y filtros IIR"
   ]
  },
  {
   "cell_type": "markdown",
   "metadata": {
    "slideshow": {
     "slide_type": "slide"
    }
   },
   "source": [
    "Un filtro FIR de buena calidad puede requerir una gran cantidad de coeficientes\n",
    "\n",
    "Es posible implementar filtros más eficientes usando recursividad\n",
    "\n",
    "Esta es la base de los filtros IIR\n",
    "\n"
   ]
  },
  {
   "cell_type": "markdown",
   "metadata": {},
   "source": [
    "## Definición de sistema IIR \n",
    "\n",
    "Generalizando el sistema FIR para incluir versiones pasadas de la salida y asumiendo $a[0] = 1$ llegamos a \n",
    "\n",
    "$$\n",
    "\\begin{align}\n",
    "y[n] &= b[0] x[n] + b[1] x[n-1] + b[2] x[n-2] + \\ldots + b[L] x[n-L]  \\nonumber \\\\\n",
    "& - a[1] y[n-1] - a[2] y[n-2] - \\ldots - a[M] y[n-M] \\nonumber \\\\\n",
    "&= \\sum_{l=0}^{L} b[l] x[n-l] - \\sum_{m=1}^{M} a[m] y[n-m]  \\nonumber  \\\\\n",
    "\\sum_{m=0}^{M} a[m] y[n-m] &= \\sum_{l=0}^{L} b[l] x[n-l] \\nonumber \\\\\n",
    "(a * y)[n] &= (b * x)[n], \\nonumber\n",
    "\\end{align}\n",
    "$$\n",
    "\n",
    "es decir dos convoluciones discretas que definen una **ecuación de diferencias**\n",
    "\n",
    "Este tipo de sistema se conoce como \n",
    "- sistema IIR (infinite impulse response)\n",
    "- sistema *auto-regresive moving average* (ARMA)\n",
    "    - autoregresivo de orden M: incluye valores pasados de la salida\n",
    "    - media movil de orden L+1: pondera el valor presente y pasados de la entrada\n",
    "\n",
    "El caso particular del sistema FIR se recupera si\n",
    "\n",
    "$a[m] = 0$ para $m=[1, \\ldots, M]$"
   ]
  },
  {
   "cell_type": "markdown",
   "metadata": {
    "slideshow": {
     "slide_type": "subslide"
    }
   },
   "source": [
    "## Respuesta en frecuencia del sistema IIR\n",
    "\n",
    "Aplicando la transformada de Fourier convertimos las convoluciones en multiplicaciones y encontramos la respuesta en frecuencia como\n",
    "\n",
    "$$\n",
    "\\begin{align}\n",
    "\\text{DFT}_N[(a * y)[n]] &= \\text{DFT}_N[(b * x)[n]] \\nonumber \\\\\n",
    "A[k] Y[k] &= B[k] X[k] \\nonumber \\\\\n",
    "H[k] = \\frac{Y[k]}{X[k]} &= \\frac{B[k]}{A[k]} = \\frac{ \\sum_{l=0}^L b[l]e^{-j \\frac{2\\pi}{N} nl} }{ \\sum_{m=0}^M a[m]e^{-j \\frac{2\\pi}{N} mk}} \\nonumber\n",
    "\\end{align}\n",
    "$$\n",
    "\n",
    "que existe siempre que $A[k] \\neq 0$. \n",
    "\n",
    "La respuesta en frecuencia también suele expresarse como\n",
    "\n",
    "$$\n",
    "H[k] = K \\frac{ \\prod_{l=1}^L (e^{j \\frac{2\\pi}{N} k}- \\beta[l]) }{ \\prod_{m=1}^M (e^{j \\frac{2\\pi}{N} k}- \\alpha[m])} \n",
    "$$\n",
    "\n",
    "donde $K$ se llama **ganancia**, las raices del polinomio del numerador $\\alpha$ se llaman conjuntamente **ceros** y las raices del polinomio del denominador $\\beta$ se llaman conjuntamente **polos**"
   ]
  },
  {
   "cell_type": "markdown",
   "metadata": {
    "slideshow": {
     "slide_type": "subslide"
    }
   },
   "source": [
    "### Ejemplo: Respuesta al impulso de un sistema IIR\n",
    "\n",
    "Consideremos el siguiente sistema IIR \n",
    "\n",
    "$$\n",
    "\\begin{align}\n",
    "y[n] &= (1-\\gamma) x[n] + \\gamma y[n-1] \\nonumber \\\\\n",
    "y[n] - \\gamma y[n-1] &= (1-\\gamma) x[n] \\nonumber\n",
    "\\end{align}\n",
    "$$\n",
    "\n",
    "Los coeficientes del sistema son\n",
    "\n",
    "$a[0] = 1$, $a[1] = -\\gamma$ y $b[0] = (1-\\gamma)$\n",
    "\n",
    "Es decir que es MA de orden 1 y AR de orden 1\n",
    "\n",
    "¿Cúal es su respuesta al impulso? \n",
    "\n",
    "Asumiendo $y[n]=0, n<0$, tenemos que\n",
    "\n",
    "$$\n",
    "\\begin{matrix}\n",
    "n & \\delta[n] & y[n] \\\\\n",
    "-2 & 0 & 0 \\\\\n",
    "-1 & 0 & 0 \\\\\n",
    "0 & 1 & (1-\\gamma) \\\\\n",
    "1 & 0 & \\gamma(1-\\gamma) \\\\\n",
    "2 & 0 & \\gamma^2(1-\\gamma)  \\\\\n",
    "3 & 0 & \\gamma^3(1-\\gamma) \\\\\n",
    "4 & 0 & \\gamma^4(1-\\gamma) \\\\\n",
    "\\end{matrix}\n",
    "$$\n",
    "\n",
    "¿Cómo cambia la respuesta al impulso con distintos valores de $\\gamma$? ¿Qué pasa si $\\gamma \\geq 1$?"
   ]
  },
  {
   "cell_type": "code",
   "execution_count": null,
   "metadata": {},
   "outputs": [],
   "source": [
    "p = [[Figure(plot_width=300, plot_height=230, toolbar_location=\"below\") for k1 in range(3)] for k2 in range(2)]\n",
    "gamma = [[-0.5, -1, -1.5], [0.5, 1., 1.5]]\n",
    "\n",
    "for k1 in range(3):\n",
    "    for k2 in range(2):\n",
    "\n",
    "        t, y = scipy.signal.dimpulse(([1-gamma[k2][k1], 0], \n",
    "                                      [1, -gamma[k2][k1]], 1), x0=0, n=30)\n",
    "        p[k2][k1].line(t, y[0][:, 0], \n",
    "                  line_width=3, legend_label=f\"gamma={gamma[k2][k1]}\"); \n",
    "show(row(column(p[0]), column(p[1])))"
   ]
  },
  {
   "cell_type": "markdown",
   "metadata": {
    "slideshow": {
     "slide_type": "fragment"
    }
   },
   "source": [
    "Notemos que\n",
    "\n",
    "- Para $\\gamma < 0$ los coeficientes del sistema son alternantes en signo\n",
    "- Para $|\\gamma| < 1$ los coeficientes del sistema tienden a cero\n",
    "- Para $|\\gamma| > 1$ los coeficientes del sistema divergen y tienen a infinito\n",
    "\n",
    "A diferencia de un sistema FIR el sistema IIR puede tener configuraciones inestables en que los coeficientes crecen o decrecen infinitamente\n",
    "\n",
    "Consideremos el sistema anterior y asumamos que $|\\gamma|<1$, desenrollando tenemos que \n",
    "\n",
    "$$\n",
    "\\begin{align}\n",
    "y[0] &= (1-\\gamma) x[0] \\nonumber \\\\\n",
    "y[1] &= (1-\\gamma) (x[1] + \\gamma x[0]) \\nonumber \\\\\n",
    "y[2] &= (1-\\gamma) (x[2] + \\gamma x[1] + \\gamma^2 x[0]) \\nonumber \\\\\n",
    "y[3] &= (1-\\gamma) (x[3] + \\gamma x[2] + \\gamma^2 x[1] + \\gamma^3 x[0]) \\nonumber \\\\\n",
    "y[4] &= (1-\\gamma) (x[4] + \\gamma x[3] + \\gamma^2 x[2] + \\gamma^3 x[1]  + \\gamma^4 x[0]) \\nonumber \\\\\n",
    "y[5] &= \\ldots \\nonumber \n",
    "\\end{align}\n",
    "$$\n",
    "\n",
    "Con un sistema IIR de 3 coeficientes podemos representar un sistema FIR considerablemente más grande\n",
    "\n",
    "Por ejemplo si escogemos $\\gamma$ tal que $\\gamma^{20 }\\approx 0$ entonces aproximamos un sistema FIR de orden 20"
   ]
  },
  {
   "cell_type": "markdown",
   "metadata": {
    "slideshow": {
     "slide_type": "fragment"
    }
   },
   "source": [
    "### Ejemplo: Respuesta en frecuencia de un sistema IIR\n",
    "\n",
    "Para el sistema del ejemplo anterior su respuesta en frecuencia es\n",
    "\n",
    "$$\n",
    "\\begin{align}\n",
    "Y[k] &= (1-\\gamma) X[k] + \\gamma Y[k] e^{-j \\frac{2\\pi}{N} k} \\nonumber \\\\\n",
    "H[k] = \\frac{Y[k]}{X[k]} &= \\frac{1-\\gamma}{1 - \\gamma e^{-j \\frac{2\\pi}{N} k} }  \\nonumber \n",
    "\\end{align}\n",
    "$$\n",
    "\n",
    "que en notación de polos y ceros se escribe como\n",
    "\n",
    "$$\n",
    "H[k] =  (1-\\gamma)\\frac{e^{j \\frac{2\\pi}{N} k} - 0}{e^{j \\frac{2\\pi}{N} k} - \\gamma  }\n",
    "$$\n",
    "\n",
    "es decir que tiene un cero en $0$, un polo en $\\gamma$ y una ganancia de $(1-\\gamma)$\n",
    "\n",
    "Para entender mejor este sistema estudiemos la magnitud de $|H[k]|$ para $\\gamma < 1$\n",
    "\n",
    "$$\n",
    "\\begin{align}\n",
    "| H[k]| &= \\frac{|1-\\gamma|}{|1 - \\gamma e^{-j \\frac{2\\pi}{N} k}|}  \\nonumber \\\\\n",
    "&=  \\frac{1-\\gamma}{\\sqrt{1 - 2\\gamma \\cos(\\frac{2\\pi}{N} k) + \\gamma^2}} \\nonumber\n",
    "\\end{align}\n",
    "$$\n",
    "\n",
    "¿Cómo se ve $|H[k]|$? ¿Qué función cumple este sistema?"
   ]
  },
  {
   "cell_type": "code",
   "execution_count": null,
   "metadata": {},
   "outputs": [],
   "source": [
    "from bokeh.palettes import Dark2_5 as palette\n",
    "\n",
    "p = Figure(plot_width=500, plot_height=280, toolbar_location=\"below\")\n",
    "\n",
    "k = np.arange(-24, 25)/50\n",
    "Hk = lambda gamma, k : (1-gamma)/np.sqrt(1 - 2*gamma*np.cos(2.0*np.pi*k) + gamma**2)\n",
    "\n",
    "for gamma, color in zip([0.25, 0.5, 0.75], palette):\n",
    "    p.line(k, Hk(gamma, k), \n",
    "           line_width=3, color=color, legend_label=f\"gamma={gamma}\"); \n",
    "\n",
    "p.xaxis.axis_label = 'Frecuencia'\n",
    "p.yaxis.axis_label = '|H|'\n",
    "show(p)"
   ]
  },
  {
   "cell_type": "markdown",
   "metadata": {
    "slideshow": {
     "slide_type": "fragment"
    }
   },
   "source": [
    "Este sistema atenua las frecuencias altas, es decir que actua como un filtro pasa bajos"
   ]
  },
  {
   "cell_type": "markdown",
   "metadata": {},
   "source": [
    "## Diseño de filtros IIR simples\n",
    "\n",
    "Los filtros IIR más simples son los de un polo y un cero, es decir filtros de primer orden\n",
    "\n",
    "$$\n",
    "H[k] = \\frac{b[0] + b[1] e^{-j \\frac{2\\pi}{N} k}}{1 + a[1] e^{-j \\frac{2\\pi}{N} k}}  = K\\frac{e^{j \\frac{2\\pi}{N} k} - \\beta}{e^{j \\frac{2\\pi}{N} k} - \\alpha  } \n",
    "$$\n",
    "\n",
    "donde podemos reconocer \n",
    "\n",
    "- $b[0]=K$\n",
    "- $\\beta = - b[1] \\cdot K$\n",
    "- $\\alpha=-a[1]$\n",
    "\n",
    "Definimos la frecuencia de corte $f_c$ como aquella frecuencia en la que el filtro alcanza una atenuación de 0.7 (-3 dB)\n",
    "\n",
    "Haciendo la equivalencia con el ejemplo anterior tenemos que $\\gamma = e^{-2\\pi f_c}$"
   ]
  },
  {
   "cell_type": "markdown",
   "metadata": {
    "slideshow": {
     "slide_type": "slide"
    }
   },
   "source": [
    "### Receta para un filtro pasa bajo IIR con frecuencia de corte $f_c$\n",
    "\n",
    "Asignamos\n",
    "\n",
    "- $b[0] = 1 - e^{-2\\pi f_c}$\n",
    "- $b[1] = 0$\n",
    "- $a[1] = -e^{-2\\pi f_c}$\n",
    "\n",
    "Lo que resulta en la siguiente respuesta en frecuencia\n",
    "\n",
    "$$\n",
    "H[k] = \\frac{1-e^{-2\\pi f_c}}{1 - e^{-2\\pi f_c} e^{-j \\frac{2\\pi}{N} k}} = (1-e^{-2\\pi f_c}) \\frac{(e^{j \\frac{2\\pi}{N} k}- 0)}{(e^{j \\frac{2\\pi}{N} k} - e^{-2\\pi f_c} )}\n",
    "$$\n",
    "\n",
    "Es decir un cero en $0$, un polo en $e^{-2\\pi f_c}$ y ganancia $1-e^{-2\\pi f_c}$\n",
    "\n",
    "### Receta para un filtro pasa alto IIR con frecuencia de corte $f_c$\n",
    "\n",
    "Asignamos\n",
    "\n",
    "- $b[0] = (1 + e^{-2\\pi f_c})/2$\n",
    "- $b[1] = -(1 + e^{-2\\pi f_c})/2$\n",
    "- $a[1] = -e^{-2\\pi f_c}$\n",
    "\n",
    "Lo que resulta en la siguiente respuesta en frecuencia\n",
    "\n",
    "$$\n",
    "H[k] = \\frac{1+e^{-2\\pi f_c}}{2} \\frac{(e^{j \\frac{2\\pi}{N} k} - 1)}{(e^{j \\frac{2\\pi}{N} k} - e^{-2\\pi f_c})}\n",
    "$$\n",
    "\n",
    "Es decir un cero en $1$, un polo en $e^{-2\\pi f_c}$ y ganancia $\\frac{1+e^{-2\\pi f_c}}{2}$\n",
    "\n"
   ]
  },
  {
   "cell_type": "markdown",
   "metadata": {
    "slideshow": {
     "slide_type": "fragment"
    }
   },
   "source": [
    "### Aplicar un filtro a una señal con scipy\n",
    "\n",
    "Para filtrar una señal unidimensional con un filtro IIR podemos utilizar la función\n",
    "\n",
    "\n",
    "```python\n",
    "    scipy.signal.lfilter(b, # Coeficientes del numerador\n",
    "                         a, # Coeficientes del denominador\n",
    "                         x, # Señal a filtrar\n",
    "                         ...\n",
    "                        )\n",
    "```\n",
    "\n",
    "Los siguientes ejemplos muestran un señal de tipo pulso rectangular filtrada con sistemas IIR de primer orden pasa bajo y pasa-alto diseñados con las recetas mostradas anteriormente"
   ]
  },
  {
   "cell_type": "code",
   "execution_count": null,
   "metadata": {},
   "outputs": [],
   "source": [
    "def iir_low_pass(signal, fc):\n",
    "    gamma = np.exp(-2*np.pi*(fc))\n",
    "    b, a = [(1-gamma), 0], [1, -gamma] \n",
    "    return scipy.signal.lfilter(b, a, signal)\n",
    "\n",
    "def iir_high_pass(signal, fc):\n",
    "    gamma = np.exp(-2*np.pi*(fc))\n",
    "    b, a = [(1+gamma)/2, -(1+gamma)/2], [1, -gamma]\n",
    "    return scipy.signal.lfilter(b, a, signal)"
   ]
  },
  {
   "cell_type": "code",
   "execution_count": null,
   "metadata": {},
   "outputs": [],
   "source": [
    "%%capture\n",
    "\n",
    "n = np.arange(0, 500)\n",
    "fig, ax = plt.subplots(2, figsize=(6, 4), tight_layout=True)\n",
    "l0 = ax[0].plot(n, np.zeros_like(n)); \n",
    "ax[0].set_ylim([-0.05, 1.05]); ax[0].set_title('Input')\n",
    "l1 = [ax[1].plot(n, np.zeros_like(n), label=f'fc={fc}') for fc in [0.01, 0.02, 0.05]]\n",
    "ax[1].set_ylim([-0.5, 1.05]); ax[1].set_title('Output')\n",
    "ax[1].legend(loc=4)\n",
    "\n",
    "def update(m):\n",
    "    x = 0.5 + 0.5*scipy.signal.square((n-m)/(2.*np.pi*5), duty=0.3)\n",
    "    l0[0].set_ydata(x);\n",
    "    for l, fc in zip(l1, [0.01, 0.02, 0.05]):\n",
    "        l[0].set_ydata(iir_low_pass(x, fc));\n",
    "\n",
    "anim = animation.FuncAnimation(fig, update, \n",
    "                               frames=200, interval=100, blit=True); "
   ]
  },
  {
   "cell_type": "code",
   "execution_count": null,
   "metadata": {},
   "outputs": [],
   "source": [
    "HTML(anim.to_html5_video())"
   ]
  },
  {
   "cell_type": "code",
   "execution_count": null,
   "metadata": {
    "slideshow": {
     "slide_type": "fragment"
    }
   },
   "outputs": [],
   "source": [
    "%%capture\n",
    "\n",
    "n = np.arange(0, 500)\n",
    "fig, ax = plt.subplots(2, figsize=(6, 4), tight_layout=True)\n",
    "l0 = ax[0].plot(n, np.zeros_like(n)); \n",
    "ax[0].set_ylim([-0.05, 1.05]); ax[0].set_title('Input')\n",
    "l1 = [ax[1].plot(n, np.zeros_like(n), label=f'fc={fc}') for fc in [0.01, 0.02, 0.05]]\n",
    "ax[1].set_ylim([-0.5, 1.05]); ax[1].set_title('Output')\n",
    "ax[1].legend(loc=4)\n",
    "\n",
    "def update(m):\n",
    "    x = 0.5 + 0.5*scipy.signal.square((n-m)/(2.*np.pi*5), duty=0.3)\n",
    "    l0[0].set_ydata(x);\n",
    "    for l, fc in zip(l1, [0.01, 0.02, 0.05]):\n",
    "        l[0].set_ydata(iir_high_pass(x, fc));\n",
    "\n",
    "anim = animation.FuncAnimation(fig, update, \n",
    "                               frames=200, interval=100, blit=True); "
   ]
  },
  {
   "cell_type": "code",
   "execution_count": null,
   "metadata": {},
   "outputs": [],
   "source": [
    "HTML(anim.to_html5_video())"
   ]
  },
  {
   "cell_type": "markdown",
   "metadata": {
    "slideshow": {
     "slide_type": "skip"
    }
   },
   "source": [
    "## Diseño de filtros IIR de segundo orden\n",
    "\n",
    "Los filtros IIR de segundo orden o **biquad** tienen dos polos y dos ceros.\n",
    "\n",
    "Su respuesta en frecuencia es\n",
    "\n",
    "$$\n",
    "H[k] = \\frac{b[0] + b[1] W_N^k + b[2] W_N^{2k}}{1 + a[1] W_N^k + a[2] W_N^{2k}} = K \\frac{(W_N^{-k} - \\beta_1) (W_N^{-k} - \\beta_2)}{(W_N^{-k} - \\alpha_1)(W_N^{-k} - \\alpha_2)},\n",
    "$$\n",
    "\n",
    "donde $W_N = e^{-j \\frac{2 \\pi}{N}}$ y la relación entreo coeficientes y polos/ceros es: \n",
    "\n",
    "$$\n",
    "b[0] = K, \\quad b[1] = -K (\\beta_1 + \\beta_2), \\quad b[2]= K \\beta_1\\beta_2\n",
    "$$\n",
    "\n",
    "$$\n",
    "a[1] = - (\\alpha_1 + \\alpha_2), \\quad a[2]=\\alpha_1 \\alpha_2\n",
    "$$\n",
    "\n",
    "\n",
    "Con arquitecturas de segundo orden se pueden crear filtros pasabanda y rechaza banda\n"
   ]
  },
  {
   "cell_type": "markdown",
   "metadata": {
    "slideshow": {
     "slide_type": "slide"
    }
   },
   "source": [
    "## Diseño de filtros IIR de orden mayor\n",
    "\n",
    "Para crear los coeficientes de filtro IIR de orden mayor podemos usar la función\n",
    "\n",
    "```python\n",
    "scipy.signal.iirfilter(N, # Orden del filtro\n",
    "                       Wn,  # Frecuencias de corte (normalizadas en [0,1])\n",
    "                       fs, # Frecuencia de muestreo\n",
    "                       btype='bandpass', # Tipo de filtro: 'bandpass', 'lowpass', 'highpass', 'bandstop'\n",
    "                       ftype='butter', # Familia del filtro: 'butter', 'ellip', 'cheby1', 'cheby2', 'bessel'\n",
    "                       output='ba', # Retornar coeficientes\n",
    "                       ...\n",
    "                       )\n",
    "```\n",
    "\n",
    "El filtro Butterworth es óptimo en el sentido de tener la banda de paso lo más plana posible. \n",
    "\n",
    "Otros filtros se diseñaron con otras consideraciones. \n",
    "\n",
    "Los filtros IIR digitales están basados en los filtros IIR analógicos.\n",
    "\n",
    "Observe como al aumentar el orden el filtro pasabajo IIR comienza a cortar de forma más abrupta"
   ]
  },
  {
   "cell_type": "code",
   "execution_count": null,
   "metadata": {},
   "outputs": [],
   "source": [
    "from bokeh.palettes import Dark2_5 as palette\n",
    "\n",
    "p = Figure(plot_width=500, plot_height=280, toolbar_location=\"below\")\n",
    "\n",
    "for order, color in zip([1, 2, 5, 20], palette):\n",
    "    b, a = scipy.signal.iirfilter(N=order, Wn=0.2, fs=1,\n",
    "                                  ftype='butter', btype='lowpass', output='ba')\n",
    "    freq, response = scipy.signal.freqz(b, a, fs=1)\n",
    "    p.line(freq, np.absolute(response),\n",
    "           line_width=3, color=color, legend_label=f\"N={order}\"); \n",
    "\n",
    "p.xaxis.axis_label = 'Frecuencia'\n",
    "p.yaxis.axis_label = '|H|'\n",
    "show(p)"
   ]
  },
  {
   "cell_type": "markdown",
   "metadata": {
    "slideshow": {
     "slide_type": "slide"
    }
   },
   "source": [
    "## Comparación de la respuesta en frecuencia de filtros FIR e IIR del orden equivalente\n",
    "\n",
    "Comparemos la respuesta en frecuencia de un filtro IIR y otro FIR ambos con 20 coeficientes\n",
    "\n",
    "Notemos como el filtro IIR es mucho más abrupto, es decir filtra mejor, que el filtro FIR equivalente\n",
    "\n",
    "Sin embargo como muestra la columna derecha, el filtro IIR introduce un retardo no lineal a las frecuencias que componen la señal. En general los filtros IIR de orden mayor no preservan la fase"
   ]
  },
  {
   "cell_type": "code",
   "execution_count": null,
   "metadata": {},
   "outputs": [],
   "source": [
    "p = [Figure(plot_width=600, plot_height=250, toolbar_location=\"below\") for k1 in range(2)]\n",
    "\n",
    "Fs = 1\n",
    "fc = 0.25\n",
    "h = scipy.signal.firwin(numtaps=20, cutoff=fc, pass_zero=True, window='hann', fs=Fs)\n",
    "b, a = scipy.signal.iirfilter(N=10, Wn=fc, fs=Fs, ftype='butter', btype='lowpass')\n",
    "\n",
    "freq_fir, response_fir = scipy.signal.freqz(h, 1, fs=Fs)\n",
    "freq_fir, delay_fir = scipy.signal.group_delay(system=(h, 1), fs=Fs)\n",
    "freq_iir, response_iir = scipy.signal.freqz(b, a, fs=Fs)\n",
    "freq_iir, delay_iir = scipy.signal.group_delay(system=(b, a), fs=Fs)\n",
    "\n",
    "\n",
    "p[0].line(freq_fir, np.absolute(response_fir), \n",
    "          color=palette[0], line_width=3, legend_label=\"FIR\"); \n",
    "p[0].line(freq_iir, np.absolute(response_iir), \n",
    "          color=palette[1], line_width=3, legend_label=\"IIR\"); \n",
    "p[0].line([fc, fc], [0, 1], color='red', line_width=3, line_dash='dashed'); \n",
    "\n",
    "p[1].line(freq_fir, delay_fir, \n",
    "          color=palette[0], line_width=3, legend_label=\"FIR\"); \n",
    "p[1].line(freq_iir, delay_iir, \n",
    "          color=palette[1], line_width=3, legend_label=\"IIR\"); \n",
    "p[1].xaxis.axis_label = 'Frecuencia [Hz]'\n",
    "p[0].yaxis.axis_label = '|H|'\n",
    "p[1].yaxis.axis_label = 'Desfase [º]'\n",
    "show(column(p))"
   ]
  },
  {
   "cell_type": "markdown",
   "metadata": {
    "slideshow": {
     "slide_type": "subslide"
    }
   },
   "source": [
    "## Ejemplo: Efectos de audio\n",
    "\n",
    "\n",
    "El siguiente ejemplo muestra como implementar el conocido filtro <a href=\"https://en.wikipedia.org/wiki/Wah-wah_(music)\">Wah-wah</a> usando un sistema IIR\n",
    "\n",
    "Este es un filtro pasabanda modulado con ancho de pasada fijo $f_b$ [Hz] y una frecuencia central variable $f_c$ [Hz], donde La frecuencia central se modula con una onda lenta\n",
    "\n",
    "\n",
    "Se modela como el siguiente sistema **IIR**\n",
    "\n",
    "$$\n",
    "H[k] = \\frac{(1+c)W_N^{2k} -(1+c) }{W_N^{2k} + d(1-c)W_N^k -c}\n",
    "$$\n",
    "\n",
    "donde \n",
    "\n",
    "$$\n",
    "d=-\\cos(2\\pi f_c/f_s)\n",
    "$$ \n",
    "\n",
    "y \n",
    "\n",
    "$$\n",
    "c = \\frac{\\tan(\\pi f_b/f_s) -1}{\\tan(2\\pi f_b /f_s)+1}\n",
    "$$\n"
   ]
  },
  {
   "cell_type": "code",
   "execution_count": null,
   "metadata": {
    "slideshow": {
     "slide_type": "fragment"
    }
   },
   "outputs": [],
   "source": [
    "import librosa\n",
    "data, fs = librosa.load(\"../../data/nomekop.ogg\")\n",
    "Audio(data, rate=fs)"
   ]
  },
  {
   "cell_type": "code",
   "execution_count": null,
   "metadata": {
    "slideshow": {
     "slide_type": "fragment"
    }
   },
   "outputs": [],
   "source": [
    "data_wah = []\n",
    "zi = np.zeros(shape=(2,))\n",
    "# Parámetros fijos del filtro\n",
    "fb, Nw = 200, 5 \n",
    "c  = (np.tan(np.pi*fb/fs) - 1.)/(np.tan(2*np.pi*fb/fs) +1)\n",
    "# Filtramos una ventana de la señal moviendo lentamente fc\n",
    "for k in range(len(data)//Nw):\n",
    "    # Cálculo de la frecuencia central\n",
    "    fc = 500 + 2000*(np.cos(2.0*np.pi*k*30./fs) +1)/2\n",
    "    d = -np.cos(2*np.pi*fc/fs)\n",
    "    # Coeficientes del filtro\n",
    "    b, a = [(1+c), 0, -(1+c)], [1, d*(1-c), -c]\n",
    "    # Filtramos, usando el filtrado anterior como borde (zi)\n",
    "    data2, zi = scipy.signal.lfilter(b, a, data[k*Nw:(k+1)*Nw], zi=zi)\n",
    "    # Guardamos\n",
    "    data_wah.append(data2)\n",
    "Audio(np.hstack(data_wah), rate=int(fs))"
   ]
  },
  {
   "cell_type": "markdown",
   "metadata": {},
   "source": [
    "Más sobre filtros IIR aplicados a efectos de audio: https://www.ee.columbia.edu/~ronw/adst-spring2010/lectures/lecture2.pdf\n"
   ]
  },
  {
   "cell_type": "code",
   "execution_count": null,
   "metadata": {},
   "outputs": [],
   "source": []
  }
 ],
 "metadata": {
  "kernelspec": {
   "display_name": "Python 3",
   "language": "python",
   "name": "python3"
  },
  "language_info": {
   "codemirror_mode": {
    "name": "ipython",
    "version": 3
   },
   "file_extension": ".py",
   "mimetype": "text/x-python",
   "name": "python",
   "nbconvert_exporter": "python",
   "pygments_lexer": "ipython3",
   "version": "3.8.5"
  },
  "toc": {
   "base_numbering": 1,
   "nav_menu": {},
   "number_sections": true,
   "sideBar": true,
   "skip_h1_title": false,
   "title_cell": "Table of Contents",
   "title_sidebar": "Contents",
   "toc_cell": false,
   "toc_position": {},
   "toc_section_display": true,
   "toc_window_display": true
  }
 },
 "nbformat": 4,
 "nbformat_minor": 2
}
