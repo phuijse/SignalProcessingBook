{
 "cells": [
  {
   "cell_type": "code",
   "execution_count": null,
   "metadata": {
    "ExecuteTime": {
     "end_time": "2020-10-26T16:35:30.260727Z",
     "start_time": "2020-10-26T16:35:30.244617Z"
    },
    "slideshow": {
     "slide_type": "skip"
    }
   },
   "outputs": [],
   "source": [
    "%matplotlib inline\n",
    "import numpy as np\n",
    "import scipy.signal\n",
    "import scipy.fft as sfft\n",
    "import matplotlib.pylab as plt\n",
    "from matplotlib import animation, patches, rc\n",
    "import ipywidgets as widgets\n",
    "import matplotlib as mpl\n",
    "rc('animation', html='html5')\n",
    "rc('savefig', dpi=80)\n",
    "rc('figure', dpi=80)\n",
    "from IPython.display import YouTubeVideo, HTML, Audio"
   ]
  },
  {
   "cell_type": "markdown",
   "metadata": {
    "slideshow": {
     "slide_type": "slide"
    }
   },
   "source": [
    "\n",
    "# Espectrograma\n",
    "\n",
    "## ¿Qué ocurre con el espectro de una señal si su frecuencia cambia en el tiempo?\n",
    "\n",
    "Consideremos por ejemplo este ejemplo sencillo de una señal donde la frecuencia cambia abruptamente en un tiempo determinado\n",
    "\n",
    "$$\n",
    "s(t) = \\begin{cases}\\cos(2\\pi f_1 t) & t <0  \\\\ \\cos(2\\pi f_2 t) & t \\geq 0 \\end{cases}\n",
    "$$\n",
    "\n",
    "Sea por ejemplo $f_1=440$ Hz y $f_2 = 220$ Hz. Si la graficamos:"
   ]
  },
  {
   "cell_type": "code",
   "execution_count": null,
   "metadata": {
    "ExecuteTime": {
     "end_time": "2020-10-26T19:14:26.928854Z",
     "start_time": "2020-10-26T19:14:26.695493Z"
    }
   },
   "outputs": [],
   "source": [
    "Fs = 44100\n",
    "f1, f2 = 440, 220\n",
    "t = np.arange(-0.5, 0.5, step=1/Fs)\n",
    "N = len(t)\n",
    "s = np.concatenate((np.cos(2.0*np.pi*f1*t[:N//2]), \n",
    "                    np.cos(2.0*np.pi*f2*t[N//2:])))\n",
    "\n",
    "fig, ax = plt.subplots(figsize=(7, 3), tight_layout=True)\n",
    "ax.plot(t, s);\n",
    "ax.set_xlim([-0.05, 0.05])\n",
    "ax.set_xlabel('Tiempo [s]');"
   ]
  },
  {
   "cell_type": "markdown",
   "metadata": {
    "ExecuteTime": {
     "end_time": "2020-10-26T19:11:12.761943Z",
     "start_time": "2020-10-26T19:11:12.755703Z"
    }
   },
   "source": [
    "y si la escuchamos"
   ]
  },
  {
   "cell_type": "code",
   "execution_count": null,
   "metadata": {
    "ExecuteTime": {
     "end_time": "2020-10-26T19:14:40.972031Z",
     "start_time": "2020-10-26T19:14:40.964490Z"
    }
   },
   "outputs": [],
   "source": [
    "Audio(s, rate=Fs)"
   ]
  },
  {
   "cell_type": "markdown",
   "metadata": {
    "ExecuteTime": {
     "end_time": "2020-10-26T19:12:24.908041Z",
     "start_time": "2020-10-26T19:12:24.902482Z"
    }
   },
   "source": [
    "Ahora, si calculamos la FFT de la señal para obtener su espectro tenemos que"
   ]
  },
  {
   "cell_type": "code",
   "execution_count": null,
   "metadata": {
    "ExecuteTime": {
     "end_time": "2020-10-26T19:12:44.237426Z",
     "start_time": "2020-10-26T19:12:43.979818Z"
    },
    "slideshow": {
     "slide_type": "fragment"
    }
   },
   "outputs": [],
   "source": [
    "fig, ax = plt.subplots(figsize=(7, 3), tight_layout=True)\n",
    "\n",
    "freq = sfft.rfftfreq(n=N, d=1./Fs)\n",
    "S = np.absolute(sfft.rfft(s))\n",
    "\n",
    "ax.plot(freq, S); \n",
    "ax.set_xlim([0, 1000]);\n",
    "ax.set_xlabel('Frecuencia [Hz]');"
   ]
  },
  {
   "cell_type": "markdown",
   "metadata": {},
   "source": [
    "La DFT/FFT nos entrega un \"resumen\" de todas las frecuencias  en la señal\n",
    "\n",
    "<div class=\"alert alert-info\">\n",
    "    No es posible diferenciar una señal donde ambas frecuencias ocurren al mismo tiempo de otra donde las frecuencias aparecen en tiempos distintos\n",
    "</div>\n",
    "\n"
   ]
  },
  {
   "cell_type": "markdown",
   "metadata": {},
   "source": [
    "## Frecuencia instantanea\n",
    "\n",
    "Hasta ahora hemos estudiando señales donde la frecuencia es constante en el tiempo\n",
    "\n",
    "Definamos la **frecuencia instantanea** como la tasa de cambio de la fase o ángulo en función del tiempo\n",
    "\n",
    "$$\n",
    "f(t) =  \\frac{1}{2\\pi} \\frac{d \\phi (t)}{dt}\n",
    "$$\n",
    "\n",
    "Una señal sinusoidal con una frecuencia que cambia en el tiempo sería entonces\n",
    "\n",
    "$$\n",
    "s(t) = A \\cos( \\phi(t) ) = A \\cos \\left(2\\pi \\int_0^t f(\\tau) d\\tau + \\phi(0) \\right)\n",
    "$$\n",
    "\n",
    "Notemos que si la frecuencia fuera constante, es decir $f(t) = f$ $\\forall t$, entonces $\\int_0^t f(\\tau) d\\tau = t f$ y recuperamos $A\\cos(2\\pi t f + \\phi)$ \n",
    "\n",
    "A continuación veamos algunos ejemplos de señales donde la frecuencia cambia con el tiempo"
   ]
  },
  {
   "cell_type": "markdown",
   "metadata": {},
   "source": [
    "### Ejemplo: Chirrido o *Chirp* \n",
    "\n",
    "Un *chirp* es una señal cuya frecuencia varía suavemente entre un valor inicial y otro final\n",
    "\n",
    "Esta variación puede seguir una forma lineal \n",
    "\n",
    "$$\n",
    "f(t) = f_{inicio} + (f_{fin} - f_{inicial}) \\frac{(t - t_{inicial})}{(t_{fin} - t_{inicio})}\n",
    "$$\n",
    "\n",
    "o también no lineal (cuadrática, exponencial, etc)\n",
    "\n",
    "Los *chirp* tienen aplicaciones en radar y sonar. También sirven como modelo para el canto de las aves \n",
    "\n",
    "Podemos crear un chirrido sintético usando `scipy.signal.chirp` como se muestra a continuación"
   ]
  },
  {
   "cell_type": "code",
   "execution_count": null,
   "metadata": {
    "ExecuteTime": {
     "end_time": "2020-10-27T19:42:33.237950Z",
     "start_time": "2020-10-27T19:42:32.907546Z"
    }
   },
   "outputs": [],
   "source": [
    "Fs = 44100\n",
    "f_inicio, f_fin = 4000, 2000\n",
    "t = np.arange(0, 0.5, step=1./Fs); \n",
    "s = 0.1*scipy.signal.chirp(t, f0=f_inicio, f1=f_fin, t1=t[-1], method='quadratic')\n",
    "\n",
    "fig, ax = plt.subplots(figsize=(7, 3), tight_layout=True)\n",
    "ax.plot(t, s); \n",
    "ax.set_xlim([0, 0.025])\n",
    "ax.set_xlabel('Tiempo [s]')\n",
    "Audio(s, rate=Fs, normalize=False)"
   ]
  },
  {
   "cell_type": "markdown",
   "metadata": {
    "slideshow": {
     "slide_type": "subslide"
    }
   },
   "source": [
    "### Ejemplo: Frecuencia Modulada (FM)\n",
    "\n",
    "La FM es una tecnología para guardar información en la frecuencia de una onda electromagnética. Es un tipo de **codificación** que se usa mucho en transmisiones de radio. \n",
    "\n",
    "- La onda electromagnética se llama **señal portadora**. En radio corresponde a una sinusoide con una frecuencia central en el rango de 88 a los 108 [MHz]\n",
    "- La información se llama **señal modulada**. En radio corresponde tipicamente a una señal de voz o a una canción, es decir que está en el rango de los 20 [Hz] a 20 [kHz] (rango audible humano)\n",
    "\n",
    "Una señal en el rango audible puede viajar algunos metros. En cambio, si va codificada en la señal portadora puede viajar cerca de 50 km\n",
    "\n",
    "El siguiente esquema muestra la operación que realiza una estación de radio que transmite señales\n",
    "\n",
    "<img src=\"../images/fm.png\" width=\"600\">\n",
    "\n",
    "La radio que recibe la señal debe realizar el proceso inverso, es decir decodifica la información a partir de la frecuencia de la señal que está recepcionando\n",
    "\n",
    "\n"
   ]
  },
  {
   "cell_type": "markdown",
   "metadata": {},
   "source": [
    "Matemáticamente la señal modulada $s_m(t)$ modifica la frecuencia central $f_c$ de la señal portadora como sigue\n",
    "\n",
    "$$\n",
    "\\begin{align}\n",
    "s(t) & = A_c \\cos \\left(2\\pi \\int_0^t \\left(f_c + K s_m(\\tau) \\right) d\\tau \\right) \\nonumber \\\\\n",
    "&= A_c \\cos \\left(2\\pi f_c t + 2\\pi K  \\int_0^t s_m(\\tau) d\\tau \\right), \\nonumber\n",
    "\\end{align}\n",
    "$$\n",
    "\n",
    "donde $K$ es el coeficiente de modulación y $s(t)$ es la señal que finalmente viaja por el medio\n",
    "\n",
    "Cada estación de radio transmite su información $s_m(t)$ usando una frecuencia portadora $f_c$ distinta para no traslaparse"
   ]
  },
  {
   "cell_type": "markdown",
   "metadata": {},
   "source": [
    "### Ejemplo: Vibrato\n",
    "\n",
    "Un [vibrato](https://es.wikipedia.org/wiki/Vibrato) es un efecto musical que consiste en una variar periódicamente el tono de una nota. \n",
    "\n",
    "Por ejemplo, un violinista logra este efecto presionando una cuerda y luego moviendo su dedo de forma regular como muestra la siguiente animación (en cámara lenta)\n",
    "\n",
    "<img src=\"../images/vibrato.gif\" width=\"400\">\n",
    "\n",
    "\n",
    "El vibrato es un caso particular de modulación de frecuencia. Si consideremos sólo tonos puros podríamos definir $s_m(t) = \\cos(2\\pi f_m t)$, con lo que nos queda la siguiente señal\n",
    "\n",
    "$$\n",
    "s(t) = A_c \\cos \\left(2\\pi f_c t + \\frac{K}{f_m} \\sin(2\\pi f_m t)  \\right),\n",
    "$$\n",
    "\n",
    "De la expresión tenemos que\n",
    "\n",
    "- $f_c$ es la frecuencia o tono central\n",
    "- $f_m$ es la velocidad a la que cambia el tono central\n",
    "- $K/f_m$ es la amplitud del cambio del tono cnetral\n",
    "\n",
    "¿Cómo se ve y escucha esta señal?"
   ]
  },
  {
   "cell_type": "code",
   "execution_count": null,
   "metadata": {
    "ExecuteTime": {
     "end_time": "2020-10-27T19:44:37.166394Z",
     "start_time": "2020-10-27T19:44:36.363747Z"
    }
   },
   "outputs": [],
   "source": [
    "Fs = 44100\n",
    "A_c, K, f_c, f_m = 1, 25, 440, 8\n",
    "t = np.arange(0, 2, step=1/Fs)\n",
    "sm = np.cos(2.0*np.pi*f_m*t)\n",
    "s = A_c*np.cos(2.0*np.pi*f_c*t + (K/f_m)*np.sin(2.0*np.pi*f_m*t))\n",
    "\n",
    "fig, ax = plt.subplots(figsize=(7, 3), tight_layout=True)\n",
    "ax.plot(t, s, label='portadora', alpha=0.75)\n",
    "ax.plot(t, sm, label='modulada')\n",
    "ax.set_xlabel('Timepo [s]')\n",
    "ax.set_xlim([0, 0.3])\n",
    "ax.legend()\n",
    "Audio(s, rate=Fs)"
   ]
  },
  {
   "cell_type": "markdown",
   "metadata": {},
   "source": [
    "<div class=\"alert alert-info\">\n",
    "    No es posible diferenciar una señal donde ambas frecuencias ocurren al mismo tiempo de otra donde las frecuencias aparecen en tiempos distintos\n",
    "</div>\n"
   ]
  },
  {
   "cell_type": "markdown",
   "metadata": {
    "slideshow": {
     "slide_type": "subslide"
    }
   },
   "source": [
    "## Representación en tiempo y frecuencia\n",
    "\n",
    "Para estudiar una señal cuya frecuencia cambia en el tiempo debemos estudiar la evolución temporal de su espectro\n",
    "\n",
    "La herramienta más utilizada para esto se llama espectrograma\n",
    "\n",
    "El **espectrograma** es una representación visual de la energía de señal distribuida en el tiempo y en la frecuencia. \n",
    "\n",
    "<img src=\"../images/spectrogram_speech.png\" width=\"600\">\n",
    "\n",
    "- El eje horizontal representa tiempo (segundos)\n",
    "- El eje vertical representa frecuencia (Hz)\n",
    "- Se usa color para representar la intensidad \n",
    "\n",
    "\n",
    "\n"
   ]
  },
  {
   "cell_type": "markdown",
   "metadata": {},
   "source": [
    "### ¿Cómo se obtiene el espectrograma?\n",
    "\n",
    "Para calcular el espectrograma se utiliza la *short-time Fourier transform* (STFT)\n",
    "\n",
    "Para el caso de una señal discreta la STFT se define como\n",
    "\n",
    "$$\n",
    "S[m, k] = \\sum_{n} s[n] w[n-m] e^{-j \\frac{2\\pi}{N} nk}\n",
    "$$\n",
    "\n",
    "Notemos como la STFT depende del tiempo (índice m) y de la frecuencia (índice k)\n",
    "\n",
    "En la práctica la STFT consiste en \n",
    "1. multiplicar la señal por una ventana localizada $w[n-m]$ \n",
    "2. calcular la FFT sobre esa ventana\n",
    "\n",
    "Esto se repite para distintas ventanas como muestra el siguiente diagrama donde la linea azul es la señal y las lineas rojas son las ventanas desplazadas\n",
    "\n",
    "<img src=\"../images/spectrogram-diagram.png\">\n",
    "\n",
    "Finalmente el espectrograma consiste en juntar los espectros de amplitud obtenidos para cada ventana\n",
    "\n",
    "Notemos que las ventanas pueden traslaparse para mejorar la resolución temporal del espectrograma"
   ]
  },
  {
   "cell_type": "markdown",
   "metadata": {},
   "source": [
    "### Ventanas y espectrogramas\n",
    "\n",
    "Para calcular el espectrograma debemos seleccionar \n",
    "\n",
    "- un tipo de ventana\n",
    "- un largo de ventana\n",
    "- un traslape de ventana\n",
    "\n",
    "Como vimos en la lección de \"Fuga espectral\" el tipo y largo de la ventana influyen de manera importante en el resultado\n",
    "\n",
    "- Una ventana debería ser suave para evitar agregar lóbulos laterales\n",
    "- Una ventana debe ser lo suficientemente larga para no perder resolución en frecuencia\n",
    "- Una ventana debe ser lo suficientemente corta para no perder resolución temporal\n",
    "\n",
    "\n",
    "\n"
   ]
  },
  {
   "cell_type": "markdown",
   "metadata": {},
   "source": [
    "### Espectrograma en Python\n",
    "\n",
    "Podemos usar la función de `scipy.signal.spectrogram` cuyos parámetros más relevantes son\n",
    "\n",
    "```python\n",
    "spectrogram(x, # Señal\n",
    "            fs=1.0, # Frecuencia de muestreo\n",
    "            window=('tukey', 0.25), # Tipo de ventana y parámetros de ventana\n",
    "            nperseg=None, # Largo de la ventana en número de muestras\n",
    "            noverlap=None, # Cantidad de traslape, por defecto es 1/8 del largo de ventana\n",
    "            ...\n",
    "           )\n",
    "```\n",
    "\n",
    "Esta función retorna\n",
    "\n",
    "- f: Un arreglo con las frecuencias del espectrograma de largo M\n",
    "- t: Un arreglo con los tiempos de las ventanas de largo N\n",
    "- Sxx: Una matriz de MxN con los valores del espectrograma\n",
    "\n",
    "Finalmente podemos graficar el espectrograma usando la función `pcolormesh` de `matplotlib`\n",
    "\n",
    "A continuación veremos dos ejemplos"
   ]
  },
  {
   "cell_type": "markdown",
   "metadata": {
    "slideshow": {
     "slide_type": "subslide"
    }
   },
   "source": [
    "### Ejemplo: Espectrograma de un vibrato\n",
    "\n",
    "La frecuencia de un vibrato sigue la formula\n",
    "\n",
    "$$\n",
    "f(t) = f_c + K \\cos(2.0\\pi f_m t)\n",
    "$$\n",
    "\n",
    "A continuación se muestra tres espectrogramas con distinto largo de ventana\n",
    "\n",
    "La linea linea negra punteada corresponde la formula que se muestra arriba\n",
    "\n",
    "- En este caso la ventana de 46 [ms] representa mejor la señal \n",
    "- La ventana de 11 [ms] tiene resolución temporal superior pero resolución frecuencial mala: gran dispersión en el eje vertical\n",
    "- La ventana de 180 [ms] tiene resolución frecuencial superior pero resolución temporal mala: gran dispersión en el eje horizontal\n",
    "\n",
    "En todos los espectrogramas se usó una ventana de Kaiser con $\\beta=6$"
   ]
  },
  {
   "cell_type": "code",
   "execution_count": null,
   "metadata": {
    "ExecuteTime": {
     "end_time": "2020-10-28T03:02:58.467358Z",
     "start_time": "2020-10-28T03:02:57.557002Z"
    },
    "slideshow": {
     "slide_type": "fragment"
    }
   },
   "outputs": [],
   "source": [
    "Fs = 44100\n",
    "A_c, K, f_c, f_m = 1, 25, 440, 8\n",
    "t = np.arange(0, 2, step=1/Fs)\n",
    "sm = np.cos(2.0*np.pi*f_m*t)\n",
    "s = A_c*np.cos(2.0*np.pi*f_c*t + (K/f_m)*np.sin(2.0*np.pi*f_m*t))\n",
    "\n",
    "beta = 6.\n",
    "\n",
    "fig, axs = plt.subplots(3, 1, figsize=(7, 9), tight_layout=True, sharex=True, sharey=True)\n",
    "for ax, Nw in zip(axs, [512, 2048, 8192]):\n",
    "    freqs, times, Sxx = scipy.signal.spectrogram(s, fs=Fs, nperseg=Nw, \n",
    "                                                 noverlap=Nw//1.5, window=('kaiser', beta))\n",
    "    ax.pcolormesh(times, freqs, Sxx, cmap=plt.cm.Reds, shading='auto'); \n",
    "    ax.plot(t, f_c + K*sm, 'k--', label='Fórmula vibrato')\n",
    "    ax.set_ylabel('Frequencia [Hz]');\n",
    "    ax.set_title(f\"Ventana de duración {Nw/Fs:0.4f} [s]\")\n",
    "axs[-1].set_ylim([200, 700])    \n",
    "axs[-1].set_xlabel('Tiempo [s]'); "
   ]
  },
  {
   "cell_type": "markdown",
   "metadata": {},
   "source": [
    "### Ejemplo: Espectrograma del *chirp*\n",
    "\n",
    "Veamos como evoluciona la frecuencia para el chirp que escuchamos antes (transición cuadrático)\n",
    "\n",
    "La conclusión es similar al caso anterior"
   ]
  },
  {
   "cell_type": "code",
   "execution_count": null,
   "metadata": {
    "ExecuteTime": {
     "end_time": "2020-10-28T03:03:26.835218Z",
     "start_time": "2020-10-28T03:03:26.211200Z"
    },
    "slideshow": {
     "slide_type": "fragment"
    }
   },
   "outputs": [],
   "source": [
    "Fs = 44100\n",
    "f_inicio, f_fin = 4000, 2000\n",
    "t = np.arange(0, 0.5, step=1./Fs); \n",
    "s = 0.1*scipy.signal.chirp(t, f0=f_inicio, f1=f_fin, t1=t[-1], method='quadratic')\n",
    "\n",
    "beta = 6.\n",
    "\n",
    "fig, axs = plt.subplots(3, 1, figsize=(7, 9), tight_layout=True, sharex=True, sharey=True)\n",
    "for ax, Nw in zip(axs, [256, 1024, 4096]):\n",
    "    freqs, times, Sxx = scipy.signal.spectrogram(s, fs=Fs, nperseg=Nw, \n",
    "                                                 noverlap=Nw//1.5, window=('kaiser', beta))\n",
    "    ax.pcolormesh(times, freqs, Sxx, cmap=plt.cm.Reds, shading='auto');\n",
    "    ax.set_ylabel('Frequencia [Hz]');\n",
    "    ax.set_title(f\"Ventana de duración {Nw/Fs:0.4f} [s]\")\n",
    "axs[-1].set_ylim([0, 5000])    \n",
    "axs[-1].set_xlabel('Tiempo [s]'); "
   ]
  },
  {
   "cell_type": "markdown",
   "metadata": {},
   "source": [
    "### Ejemplo: Espectrograma de una señal de voz\n",
    "\n",
    "Consideremos la siguiente señal de voz humana y su espectrograma"
   ]
  },
  {
   "cell_type": "code",
   "execution_count": null,
   "metadata": {
    "ExecuteTime": {
     "end_time": "2020-10-28T03:04:06.921630Z",
     "start_time": "2020-10-28T03:04:06.054876Z"
    }
   },
   "outputs": [],
   "source": [
    "import librosa\n",
    "Fs = 44100\n",
    "data, sample_rate = librosa.load(\"../../data/123.ogg\", sr=Fs)\n",
    "time = np.arange(0.0, len(data)/Fs, step=1/Fs)\n",
    "Nw = 2048\n",
    "f, t, Sxx = scipy.signal.spectrogram(data, fs=Fs, \n",
    "                                     window=('kaiser', 6), \n",
    "                                     nperseg=Nw, noverlap=Nw//1.5)\n",
    "\n",
    "fig, ax = plt.subplots(2, figsize=(7, 6), tight_layout=True, sharex=True)\n",
    "ax[0].plot(time, data);\n",
    "ax[1].pcolormesh(t, f, np.log10(Sxx+1e-10), cmap=plt.cm.Reds, shading='auto');\n",
    "ax[1].set_ylabel('Frequencia [Hz]');\n",
    "ax[1].set_xlabel('Tiempo [s]'); \n",
    "ax[1].set_ylim([0, 2000]);\n",
    "\n",
    "display(Audio(data, rate=sample_rate))"
   ]
  },
  {
   "cell_type": "markdown",
   "metadata": {},
   "source": [
    "Podemos observar que\n",
    "\n",
    "- Cada vocal tiene un tono y una distribución de energía distintos\n",
    "- A diferencia de una señal sintética la voz humana es rica en armónicos\n",
    "- A diferencia de una señal sintética hay ruido blanco que contamina el espectrograma\n",
    "\n"
   ]
  },
  {
   "cell_type": "code",
   "execution_count": null,
   "metadata": {},
   "outputs": [],
   "source": []
  }
 ],
 "metadata": {
  "kernelspec": {
   "display_name": "Python 3",
   "language": "python",
   "name": "python3"
  },
  "language_info": {
   "codemirror_mode": {
    "name": "ipython",
    "version": 3
   },
   "file_extension": ".py",
   "mimetype": "text/x-python",
   "name": "python",
   "nbconvert_exporter": "python",
   "pygments_lexer": "ipython3",
   "version": "3.8.5"
  },
  "toc": {
   "base_numbering": 1,
   "nav_menu": {},
   "number_sections": true,
   "sideBar": true,
   "skip_h1_title": false,
   "title_cell": "Table of Contents",
   "title_sidebar": "Contents",
   "toc_cell": false,
   "toc_position": {
    "height": "calc(100% - 180px)",
    "left": "10px",
    "top": "150px",
    "width": "353px"
   },
   "toc_section_display": true,
   "toc_window_display": true
  }
 },
 "nbformat": 4,
 "nbformat_minor": 2
}
