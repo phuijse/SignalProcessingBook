{
 "cells": [
  {
   "cell_type": "code",
   "execution_count": null,
   "metadata": {
    "ExecuteTime": {
     "end_time": "2020-11-02T01:10:04.664711Z",
     "start_time": "2020-11-02T01:10:00.492840Z"
    }
   },
   "outputs": [],
   "source": [
    "%matplotlib inline\n",
    "import numpy as np\n",
    "import scipy.signal\n",
    "import scipy.fft as sfft\n",
    "import matplotlib.pylab as plt\n",
    "from matplotlib import animation, patches, rc\n",
    "import ipywidgets as widgets\n",
    "import matplotlib as mpl\n",
    "rc('animation', html='html5')\n",
    "rc('savefig', dpi=80)\n",
    "rc('figure', dpi=80)\n",
    "from IPython.display import YouTubeVideo, HTML, Audio"
   ]
  },
  {
   "cell_type": "markdown",
   "metadata": {},
   "source": [
    "# Sistemas para el procesamiento de señales"
   ]
  },
  {
   "cell_type": "markdown",
   "metadata": {
    "slideshow": {
     "slide_type": "slide"
    }
   },
   "source": [
    "## Definición de sistema\n",
    "\n",
    "- *Análisis de señales:* El estudio de las señales y sus propiedades en el dominio del tiempo y frecuencia\n",
    "- *Procesamiento de señales:* El diseño de **sistemas** que procesan **señales de entrada** y producen **señales de salida**\n",
    "    - Adicionalmente, un sistema puede tener parámetros (entradas númericas o booleanas)\n",
    "    - Adicionalmente, un sistema puede tener retornos (salidas númericas o booleanas)\n",
    "    - Sistema sin señal de entrada: Oscilador\n",
    "    - Sistema sin señal de salida: Detector/clasificador de señal\n",
    "    - Existen sistemas analógicos (continuos) y digitales (discretos), nos enfocaremos en los últimos\n",
    "    \n",
    "   \n",
    "<center><img src=\"../images/system.png\"></center>\n",
    "\n",
    "- Usaremos $x[n]$ para denotar la señal (discreta) de entrada y $X[k]$ su espectro\n",
    "- Usaremos $y[n]$ para denotar la señal (discreta) de salida e $Y[k]$ su espectro\n",
    " \n"
   ]
  },
  {
   "cell_type": "markdown",
   "metadata": {
    "slideshow": {
     "slide_type": "subslide"
    }
   },
   "source": [
    "### Ejemplos de sistemas\n",
    "\n",
    "1. Un sistema para reducir el ruido de una EEG\n",
    "\n",
    "<center><img src=\"../images/system-denoise-eeg.png\"></center>\n",
    "\n",
    "1. Un sistema para mejorar (sharpen) una imagen fuera de foco\n",
    "\n",
    "<center><img src=\"../images/system-sharpen.jpg\"></center>\n",
    "\n",
    "1. Un sistema para eliminar el eco de un audio\n",
    "\n",
    "<center><img src=\"../images/system-echo.png\"></center>\n"
   ]
  },
  {
   "cell_type": "markdown",
   "metadata": {
    "slideshow": {
     "slide_type": "subslide"
    }
   },
   "source": [
    "## Sistemas  sin memoria\n",
    "\n",
    "Los sistemas sin memoria son de forma\n",
    "\n",
    "$$\n",
    "y[n] = f(x[n]),\n",
    "$$\n",
    "\n",
    "es decir la salida del sistema en un instante dado depende solo de la entrada en ese instante\n",
    "\n",
    "### Ejemplos\n",
    "\n",
    "\n",
    "- Sistema amplificador ideal \n",
    "$$\n",
    "y[n] = A x[n], \n",
    "$$\n",
    "donde $A>0$ se llama *ganancia*\n",
    "    - provoca atenuación de la entrada si $0<A<1$\n",
    "    - es un sistema identidad si $A=1$\n",
    "\n",
    "- Sistema con corrupción cuadrática\n",
    "$$\n",
    "y_n = x_n + \\epsilon x_n^2\n",
    "$$\n",
    "\n",
    "- Sistema saturador (clamp)\n",
    "$$\n",
    "y_n = \\begin{cases} B &x_n > B \\\\x_n & x_n \\in [-B, B]\\\\ -B & x_n < -B\\end{cases}\n",
    "$$\n",
    "- Sistema rectificador\n",
    "$$\n",
    "y_n = | x_n |\n",
    "$$"
   ]
  },
  {
   "cell_type": "code",
   "execution_count": null,
   "metadata": {
    "slideshow": {
     "slide_type": "fragment"
    }
   },
   "outputs": [],
   "source": [
    "plt.close('all'); fig, ax = plt.subplots(figsize=(7, 4))\n",
    "Fs = 22050; n = np.arange(0, 2, step=1.0/Fs)\n",
    "x = 0.2*np.sin(2.0*np.pi*200*n); \n",
    "y = np.abs(x) #+ 2*x**2\n",
    "ax.plot(n, x, label='input'); ax.plot(n, y, label='output'); \n",
    "ax.set_xlim([0, 0.1]); plt.legend()\n",
    "Audio(clean_4_audio(y), rate=Fs)"
   ]
  },
  {
   "cell_type": "markdown",
   "metadata": {
    "slideshow": {
     "slide_type": "slide"
    }
   },
   "source": [
    "## Sistema Lineal\n",
    "\n",
    "Propiedades de los sistemas lineales\n",
    "\n",
    "- **Homogeneidad:** Un cambio en la amplitud de la entrada produce un cambio equivalente en la salida\n",
    "\n",
    "$$\n",
    "f(cx[n]) = c f(x[n]) = c y[n]\n",
    "$$\n",
    "\n",
    "- **Aditividad:** Señales que se suman en la entrada producen señales que se suman en la salida\n",
    "\n",
    "$$\n",
    "f(x_1[n] + x_2[n]) = f(x_1[n]) + f(x_2[n]) = y_1[n] + y_2[n]\n",
    "$$\n",
    "\n",
    "    - Las señales pasan por el sistema sin interactuar entre ellas\n",
    "- Si no se cumple alguna de estas propiedades el sistema es **no lineal**\n",
    "- ¿Son los sistemas anteriores lineales?\n"
   ]
  },
  {
   "cell_type": "markdown",
   "metadata": {
    "slideshow": {
     "slide_type": "subslide"
    }
   },
   "source": [
    "\n",
    "### Otras propiedades de los sistemas lineales\n",
    "\n",
    "\n",
    "- Una cascada de sistemas lineales forman un sistema lineal equivalente\n",
    "    - **Conmutatividad:** El orden de los sistemas en la cascada no es relevante\n",
    "<img src=\"../images/system-conmu.png\" width=\"400px\">\n",
    "\n",
    "- **Principio de superposición**: \n",
    "    - Considere una método de descomposición de funciones (Fourier, Taylor, PCA)\n",
    "    - Si descomponemos una señal en $M$ componentes: $x[n] = x_1[n] + x_2[n] + \\ldots +  x_M[n]$\n",
    "    - Y aplicamos un **sistema lineal** a cada componente $y_j[n] = f(x_j[n])$\n",
    "    - Podemos recuperar la salida total usando **aditividad** como $y_1[n] + y_2[n] + \\ldots +  y_M[n] = y[n]$\n",
    "\n",
    "<img src=\"../images/system-superpos.png\" width=\"400px\">\n",
    "    \n"
   ]
  },
  {
   "cell_type": "markdown",
   "metadata": {
    "slideshow": {
     "slide_type": "slide"
    }
   },
   "source": [
    "## Sistemas con memoria\n",
    "\n",
    "Un sistema con memoria es aquel cuya salida puede depender de \n",
    "- la entrada actual\n",
    "- las entradas anteriores\n",
    "- las salidas anteriores\n",
    "\n",
    "$$\n",
    "\\begin{align}\n",
    "y[n] = f(x[n], &x[n-1], x[n-2], \\ldots, x[0], \\\\ \\nonumber\n",
    "&y[n-1], y[n-2], \\ldots, y[0]) \\nonumber\n",
    "\\end{align}\n",
    "$$\n",
    "\n",
    "esto también se conoce como **sistema causal**\n",
    "\n",
    "Un **sistema no-causal** usa entradas futuras ($x[n+1]$, $x[n+2]$, ...) y por ende solo se puede implementar de forma offline (una vez que sea ha observado toda la señal)\n",
    "\n",
    "### Ejemplos de sistemas lineales con memoria simples\n",
    "\n",
    "- Sistema con un retardo (delay)\n",
    "\n",
    "$$\n",
    "y[n] = x[n-m],\n",
    "$$\n",
    "    - depende solo de \"una\" entrada anterior\n",
    "    - el valor de m define que tan \"antigua\" es la entrada pasada\n",
    "\n",
    "- Sistema reverberador (eco)\n",
    "\n",
    "$$\n",
    "y[n] = x[n] + A x[n-m],\n",
    "$$\n",
    "\n",
    "    - depende de una entrada \"pasada\" y la entrada actual\n",
    "    - la ganancia controla si el \"eco\" se atenua o amplifica"
   ]
  },
  {
   "cell_type": "markdown",
   "metadata": {
    "slideshow": {
     "slide_type": "subslide"
    }
   },
   "source": [
    "- El delay no afecta la amplitud de los componentes frecuenciales pero si su fase\n",
    "- Más adelante veremos que este es un tipo de filtro conocido como pasa-todo (*all-pass*)"
   ]
  },
  {
   "cell_type": "code",
   "execution_count": null,
   "metadata": {
    "ExecuteTime": {
     "end_time": "2020-11-02T01:12:53.807797Z",
     "start_time": "2020-11-02T01:12:53.035892Z"
    },
    "slideshow": {
     "slide_type": "fragment"
    }
   },
   "outputs": [],
   "source": [
    "%%capture\n",
    "\n",
    "fig, ax = plt.subplots(3, figsize=(6, 6), tight_layout=True)\n",
    "n = np.arange(0, 400, step=1)\n",
    "x = lambda m: np.sin(2.0*np.pi*0.05*(n-m)) \n",
    "f = sfft.fftshift(sfft.fftfreq(d=1, n=len(n)))\n",
    "\n",
    "def update(m):\n",
    "    m = m*0.5 # Para hacer la animación + fluida\n",
    "    ax[0].cla(); ax[0].plot(n, x(m));\n",
    "    X = sfft.fftshift(sfft.fft(x(m)))\n",
    "    Xm = np.absolute(X); Xp = np.angle(X)\n",
    "    # Espectro de magnitud:\n",
    "    ax[1].cla(); ax[1].plot(f, Xm); \n",
    "    # Espectro de fase enmascarado con el espectro de magnitud\n",
    "    ax[2].cla(); ax[2].plot(f, Xm*Xp/np.amax(Xm)); \n",
    "    ax[2].set_ylim([-np.pi, np.pi])\n",
    "    angle_delay = Xp[np.argmax(Xm)]\n",
    "    ax[2].set_title(\"%0.4f [rad], %0.0f [deg]\" % (angle_delay, 180*angle_delay/np.pi))\n",
    "    return ()\n",
    "\n",
    "anim = animation.FuncAnimation(fig, update, frames=40, interval=100, blit=True)"
   ]
  },
  {
   "cell_type": "code",
   "execution_count": null,
   "metadata": {
    "ExecuteTime": {
     "end_time": "2020-11-02T01:13:12.571754Z",
     "start_time": "2020-11-02T01:12:55.746952Z"
    }
   },
   "outputs": [],
   "source": [
    "HTML(anim.to_html5_video())"
   ]
  },
  {
   "cell_type": "code",
   "execution_count": null,
   "metadata": {
    "ExecuteTime": {
     "end_time": "2020-11-02T01:14:31.162977Z",
     "start_time": "2020-11-02T01:14:30.856556Z"
    },
    "slideshow": {
     "slide_type": "subslide"
    }
   },
   "outputs": [],
   "source": [
    "fig, ax = plt.subplots(figsize=(6, 3), tight_layout=True)\n",
    "Fs=22050; n = np.arange(0, 4, step=1.0/Fs) \n",
    "x = lambda m: np.sin(2.0*np.pi*880*(n-m))*np.exp(-(n-m)**2/0.5**2)*np.heaviside(n-m, 0)\n",
    "y = x(0)  #+ 0.5*x(1.)   + 0.25*x(2.) + 0.125*x(3.)\n",
    "ax.plot(n, y);\n",
    "Audio(y, rate=Fs, normalize=False)"
   ]
  },
  {
   "cell_type": "markdown",
   "metadata": {
    "slideshow": {
     "slide_type": "subslide"
    }
   },
   "source": [
    "- El eco en cambio si modifica el espectro de magnitud\n",
    "- Notemos el efecto de interferencia constructiva y destructiva al modificar el retardo\n",
    "- La señal retardada cancela la original cuando tiene la misma amplitud ($A=1$)"
   ]
  },
  {
   "cell_type": "code",
   "execution_count": null,
   "metadata": {
    "ExecuteTime": {
     "end_time": "2020-11-02T01:15:15.804950Z",
     "start_time": "2020-11-02T01:15:15.344370Z"
    },
    "slideshow": {
     "slide_type": "fragment"
    }
   },
   "outputs": [],
   "source": [
    "%%capture\n",
    "fig, ax = plt.subplots(3, figsize=(6, 6), tight_layout=True)\n",
    "n = np.arange(0, 400, step=1)\n",
    "x = lambda m: np.sin(2.0*np.pi*0.05*(n-m)) \n",
    "f = sfft.fftshift(sfft.fftfreq(d=1, n=len(n)))\n",
    "A = 1.\n",
    "def update(m):\n",
    "    m = 0.5*m; y = x(0) + A*x(m)\n",
    "    ax[0].cla(); ax[0].plot(n, x(0), n, A*x(m))\n",
    "    ax[1].cla(); ax[1].plot(n, y); ax[1].set_ylim([-A-1.1, A+1.1])\n",
    "    X = sfft.fftshift(sfft.fft(y))\n",
    "    ax[2].cla(); ax[2].plot(f, np.absolute(X)); \n",
    "    ax[2].set_ylim([-20, (1+A)*len(n)/2 + 20])\n",
    "#interact(update, m=IntSlider_nice(min=0, max=20), \n",
    "#         A=SelectionSlider_nice(options=[0.5, 1., 2.], value=1));\n",
    "anim = animation.FuncAnimation(fig, update, frames=40, interval=100, blit=False)"
   ]
  },
  {
   "cell_type": "code",
   "execution_count": null,
   "metadata": {
    "ExecuteTime": {
     "end_time": "2020-11-02T01:15:39.573101Z",
     "start_time": "2020-11-02T01:15:21.340326Z"
    }
   },
   "outputs": [],
   "source": [
    "HTML(anim.to_html5_video())"
   ]
  },
  {
   "cell_type": "markdown",
   "metadata": {
    "slideshow": {
     "slide_type": "fragment"
    }
   },
   "source": [
    "Notemos que en el caso $A=1$\n",
    "\n",
    "$$\n",
    "\\begin{align}\n",
    "y[n] &= \\sin(2\\pi k_0 n) + \\sin(2\\pi k_0 (n-m)) \\nonumber \\\\ \n",
    "&= 2 \\cos(\\pi k_0 m) \\sin(2\\pi k_0 (n-m/2))  \\nonumber\n",
    "\\end{align}\n",
    "$$\n",
    "\n",
    "se anula si\n",
    "\n",
    "$$\n",
    "\\begin{align}\n",
    "\\pi k_0 m & = \\frac{\\pi}{2} + \\pi i, \\quad i \\in \\mathbb{Z} \\nonumber \\\\\n",
    "m &= \\frac{1 + 2i}{2 k_0}, \\quad i \\in \\mathbb{Z} \\nonumber\n",
    "\\end{align}\n",
    "$$"
   ]
  },
  {
   "cell_type": "code",
   "execution_count": null,
   "metadata": {
    "ExecuteTime": {
     "end_time": "2020-11-02T01:16:03.773552Z",
     "start_time": "2020-11-02T01:16:03.520587Z"
    },
    "slideshow": {
     "slide_type": "subslide"
    }
   },
   "outputs": [],
   "source": [
    "fig, ax = plt.subplots(figsize=(6, 3), tight_layout=True)\n",
    "n = np.arange(0, 4, step=1.0/22050)\n",
    "x = lambda m: np.sin(2.0*np.pi*880*(n-m))*np.exp(-(n-m)**2/0.5**2)*np.heaviside(n-m, 0)\n",
    "y = x(0) + 1.*x(1./(2*880))\n",
    "ax.plot(n, y);\n",
    "Audio(y, rate=22050, normalize=False)"
   ]
  },
  {
   "cell_type": "markdown",
   "metadata": {
    "slideshow": {
     "slide_type": "fragment"
    }
   },
   "source": [
    "Ejemplo de interferencia\n",
    "\n",
    "https://www.youtube.com/watch?v=IU8xeJlJ0mk"
   ]
  },
  {
   "cell_type": "markdown",
   "metadata": {
    "slideshow": {
     "slide_type": "slide"
    }
   },
   "source": [
    "## Sistema FIR \n",
    "\n",
    "\n",
    "Generalizando el ejemplo de sistema lineal reverberante a más retardos llegamos a \n",
    "\n",
    "$$\n",
    "\\begin{align}\n",
    "y[n] &= h[0] x[n] + h[1] x[n-1] + h[2] x[n-2] + \\ldots + h[L] x[n-L] \\nonumber \\\\\n",
    "&= \\sum_{j=0}^{L} h[j] x[n-j] \\nonumber \\\\\n",
    "&= (h* x)[n] \\nonumber \n",
    "\\end{align}\n",
    "$$\n",
    "\n",
    "que se puede modelar como una convolución discreta o en pseuco-código como un ciclo iterativo\n",
    "```\n",
    "   y[n] = 0\n",
    "   for j in 0 to L\n",
    "       y[n] = y[n] + h[j] x[n-j]\n",
    "```\n",
    "y se conoce como\n",
    "\n",
    "\n",
    "- sistema FIR (finite impulse response)\n",
    "- sistema MA (moving average)\n",
    "- sistema todo-zeros \n",
    "\n",
    "\n",
    "y es de orden L (posee L+1 coeficientes)\n",
    "\n",
    "- ¿Es este sistema lineal?\n",
    "- ¿Que ocurre si entra al sistema un impulso unitario?"
   ]
  },
  {
   "cell_type": "markdown",
   "metadata": {
    "slideshow": {
     "slide_type": "subslide"
    }
   },
   "source": [
    "### Intepretación como media movil (MA)\n",
    "\n",
    "- El sistema FIR es equivalente a una media movil ponderada (*weighted moving average*)\n",
    "- Los coeficientes del sistema son los ponderadores \n",
    "\n",
    "Por ejemplo sea un sistema de 3 coeficientes unitarios\n",
    "$$\n",
    "\\begin{align}\n",
    "y[n] = (h*x)[n] &= \\sum_{j=0}^{2} h[j] x[n-j] \\nonumber \\\\\n",
    "&= x[n] + x[n-1] + x[n-2] \\nonumber\n",
    "\\end{align}\n",
    "$$\n",
    "donde cada salida se calcula a partir de \n",
    "$$\n",
    "\\overbrace{x[0], x[1], x[2]}^{y[2]} , x[3], x[4], \\ldots\n",
    "$$\n",
    "$$\n",
    "x[0], \\overbrace{x[1], x[2] , x[3]}^{y[3]}, x[4], \\ldots\n",
    "$$\n",
    "$$\n",
    "x[0], x[1], \\overbrace{x[2] , x[3], x[4]}^{y[4]}, \\ldots\n",
    "$$\n",
    "\n",
    "En este caso para obtener el valor de $y[0]$ e $y[1]$ se deben establecer \"condiciones de borde\""
   ]
  },
  {
   "cell_type": "markdown",
   "metadata": {
    "slideshow": {
     "slide_type": "subslide"
    }
   },
   "source": [
    "### Ejemplo: Eliminando ruido blanco aditivo"
   ]
  },
  {
   "cell_type": "code",
   "execution_count": null,
   "metadata": {
    "ExecuteTime": {
     "end_time": "2020-11-02T01:17:22.583557Z",
     "start_time": "2020-11-02T01:17:22.045831Z"
    },
    "slideshow": {
     "slide_type": "fragment"
    }
   },
   "outputs": [],
   "source": [
    "fig, ax = plt.subplots(3, figsize=(9, 7), tight_layout=True)\n",
    "np.random.seed(0); \n",
    "n = np.arange(0, 100, step=1)\n",
    "C = 5*np.exp(-0.5*(n[:, np.newaxis] - n[:, np.newaxis].T)**2/10**2)\n",
    "x_clean = np.random.multivariate_normal(np.zeros_like(n), C) \n",
    "ax[0].plot(n, x_clean)\n",
    "x = x_clean + 2*np.random.randn(len(n))\n",
    "ax[0].plot(n, x, 'k.'); ylims = ax[0].get_ylim()\n",
    "# System:\n",
    "L = 10; h = np.ones(shape=(L,))/L; \n",
    "# Acumulator\n",
    "y = np.zeros_like(n, dtype=np.float)\n",
    "\n",
    "def init():\n",
    "    global y\n",
    "    y = np.zeros_like(n, dtype=np.float)\n",
    "    return ()\n",
    "\n",
    "def update(m):\n",
    "    c = np.zeros_like(n, dtype=np.float); c[m:m+L] = h\n",
    "    ax[1].cla(); ax[1].plot(n, c); \n",
    "    y[m] = np.sum(h*x[m:m+L])\n",
    "    ax[2].cla(); ax[2].plot(n, y);  ax[2].set_ylim(ylims)\n",
    "    ax[2].plot([m, m], [ylims[0], ylims[1]], 'r--', alpha=0.5)\n",
    "    return ()\n",
    "\n",
    "anim = animation.FuncAnimation(fig, update,init_func=init, \n",
    "                               frames=100-len(h), interval=200, blit=True)"
   ]
  },
  {
   "cell_type": "markdown",
   "metadata": {
    "slideshow": {
     "slide_type": "fragment"
    }
   },
   "source": [
    "En la práctica podemos usar [`scipy.signal.convolve`](https://docs.scipy.org/doc/scipy/reference/generated/scipy.signal.convolve.html)"
   ]
  },
  {
   "cell_type": "code",
   "execution_count": null,
   "metadata": {
    "ExecuteTime": {
     "end_time": "2020-11-02T01:17:30.526047Z",
     "start_time": "2020-11-02T01:17:30.116471Z"
    },
    "scrolled": false,
    "slideshow": {
     "slide_type": "fragment"
    }
   },
   "outputs": [],
   "source": [
    "fig, ax = plt.subplots(3, figsize=(8, 6), tight_layout=True)\n",
    "ax[0].plot(n, x_clean); ax[0].plot(n, x, 'k.')\n",
    "L = 10; \n",
    "h = np.ones(shape=(L,)); \n",
    "#h = scipy.signal.tukey(L)\n",
    "#h = scipy.signal.hamming(L)\n",
    "h = h/np.sum(h)\n",
    "ax[1].plot(h)\n",
    "ax[2].plot(scipy.signal.convolve(x, h, mode='same', method='auto')); \n",
    "ax[2].set_ylim(ylims);"
   ]
  },
  {
   "cell_type": "markdown",
   "metadata": {
    "slideshow": {
     "slide_type": "subslide"
    }
   },
   "source": [
    "### Ejemplo: Encontrando cambios en una señal"
   ]
  },
  {
   "cell_type": "code",
   "execution_count": null,
   "metadata": {
    "ExecuteTime": {
     "end_time": "2020-11-02T01:17:48.653553Z",
     "start_time": "2020-11-02T01:17:48.055973Z"
    },
    "slideshow": {
     "slide_type": "fragment"
    }
   },
   "outputs": [],
   "source": [
    "fig, ax = plt.subplots(3, figsize=(8, 6), tight_layout=True)\n",
    "n = np.arange(0, 100, step=1)\n",
    "x = np.zeros_like(n, dtype=np.float)\n",
    "x[20:] += 1.; x[40:] += 1.; x[80:] -= 1.;\n",
    "ax[0].plot(n, x)\n",
    "# System:\n",
    "h = np.array([-0.5, 0.5])\n",
    "# Acumulator\n",
    "y = np.zeros_like(n, dtype=np.float)\n",
    "def init():\n",
    "    global y\n",
    "    y = np.zeros_like(n, dtype=np.float)\n",
    "    return ()\n",
    "\n",
    "def update(m):\n",
    "    c = np.zeros_like(n, dtype=np.float); c[m:m+len(h)] = h\n",
    "    ax[1].cla(); ax[1].plot(n, c); \n",
    "    y[m] = np.sum(h*x[m:m+len(h)])\n",
    "    ax[2].cla(); ax[2].plot(n, y);  \n",
    "    ax[2].plot([m, m], [-0.5, 0.5], 'r--', alpha=0.5)\n",
    "    return ()\n",
    "\n",
    "anim = animation.FuncAnimation(fig, update, init_func=init, frames=100-len(h), interval=200, blit=True)"
   ]
  },
  {
   "cell_type": "markdown",
   "metadata": {
    "slideshow": {
     "slide_type": "subslide"
    }
   },
   "source": [
    "### Ejemplo: Removiendo una tendencia"
   ]
  },
  {
   "cell_type": "code",
   "execution_count": null,
   "metadata": {
    "ExecuteTime": {
     "end_time": "2020-11-02T01:18:24.352769Z",
     "start_time": "2020-11-02T01:18:23.669562Z"
    },
    "slideshow": {
     "slide_type": "fragment"
    }
   },
   "outputs": [],
   "source": [
    "fig, ax = plt.subplots(3, figsize=(8, 6), tight_layout=True)\n",
    "np.random.seed(0); \n",
    "n = np.arange(0, 100, step=1)\n",
    "C = np.exp(-0.5*(n[:, np.newaxis] - n[:, np.newaxis].T)**2/30**2)\n",
    "x = np.sin(2.0*np.pi*0.1*n) + 5*np.random.multivariate_normal(np.zeros_like(n), C)\n",
    "ax[0].plot(n, x); ylims = ax[0].get_ylim()\n",
    "# System:\n",
    "L = 5; h = -np.ones(shape=(L,))/L; h[L//2] += 1\n",
    "# Acumulator\n",
    "y = np.zeros_like(n, dtype=np.float)\n",
    "def init():\n",
    "    global y\n",
    "    y = np.zeros_like(n, dtype=np.float)\n",
    "    return ()\n",
    "    \n",
    "def update(m):\n",
    "    c = np.zeros_like(n, dtype=np.float); c[m:m+len(h)] = h\n",
    "    ax[1].cla(); ax[1].plot(n, c); \n",
    "    y[m] = np.sum(h*x[m:m+len(h)])\n",
    "    ax[2].cla(); ax[2].plot(n, y);  \n",
    "    ax[2].plot([m, m], [-0.5, 0.5], 'r--', alpha=0.5)\n",
    "    return ()\n",
    "    \n",
    "anim = animation.FuncAnimation(fig, update, init_func=init, \n",
    "                               frames=100-len(h), interval=200, blit=True)"
   ]
  },
  {
   "cell_type": "markdown",
   "metadata": {
    "slideshow": {
     "slide_type": "subslide"
    }
   },
   "source": [
    "### Ejemplo: Detectando una patrón específico en una señal ruidosa"
   ]
  },
  {
   "cell_type": "code",
   "execution_count": null,
   "metadata": {
    "ExecuteTime": {
     "end_time": "2020-11-02T01:18:45.776402Z",
     "start_time": "2020-11-02T01:18:45.186573Z"
    },
    "slideshow": {
     "slide_type": "fragment"
    }
   },
   "outputs": [],
   "source": [
    "def sine_pulse(n, k0, center):\n",
    "    x = np.zeros_like(n, dtype=np.float); L = int(1/k0)\n",
    "    x[center:center+L] = np.sin(2.0*np.pi*k0*(n[center:center+L] - n[center]))\n",
    "    return x\n",
    "\n",
    "fig, ax = plt.subplots(3, figsize=(8, 6), tight_layout=True)\n",
    "np.random.seed(0); \n",
    "n = np.arange(0, 100, step=1)\n",
    "x_clean = sine_pulse(n, k0=0.05, center=50) \n",
    "ax[0].plot(n, x_clean)\n",
    "s = 1.;  x = x_clean + s*np.random.randn(len(n))\n",
    "ax[0].plot(n, x, 'k.'); ylims = ax[0].get_ylim()\n",
    "ax[0].set_title(\"SNR %0.2f [dB]\" %(10*np.log(0.5/s**2)))\n",
    "# System:\n",
    "h = np.sin(2.0*np.pi*0.05*n[:int(len(n)/5)] + np.pi); h = h/np.sum(np.absolute(h))\n",
    "# Acumulator\n",
    "y = np.zeros_like(n, dtype=np.float)\n",
    "def init():\n",
    "    global y\n",
    "    y = np.zeros_like(n, dtype=np.float)\n",
    "    return ()\n",
    "    \n",
    "def update(m):\n",
    "    c = np.zeros_like(n, dtype=np.float); c[m:m+len(h)] = h\n",
    "    ax[1].cla(); ax[1].plot(c); \n",
    "    y[m] = np.sum(h*x[m:m+len(h)])\n",
    "    ax[2].cla(); ax[2].plot(n, y**2);  #ax[2].set_ylim(ylims)\n",
    "    ax[2].plot([m, m], [np.amin(y**2), np.amax(y**2)], 'r--', alpha=0.5)\n",
    "    return ()\n",
    "\n",
    "anim = animation.FuncAnimation(fig, update, init_func=init, \n",
    "                               frames=100-len(h), interval=200, blit=True)"
   ]
  },
  {
   "cell_type": "markdown",
   "metadata": {
    "slideshow": {
     "slide_type": "slide"
    }
   },
   "source": [
    "## Sistema invariante al desplazamiento\n",
    "\n",
    "Un sistema es invariante al desplazamiento  (*shift-invariant*) de su entrada si \n",
    "\n",
    "$$\n",
    "f(x[n-m]) = y[n-m] \n",
    "$$\n",
    "\n",
    "Es decir que \n",
    "- Aplicar un retardo en la entrada provoca un retardo equivalente en la salida\n",
    "    - Un *blip* en la entrada produce un *blop* en la salida sin importar **cuando** ocurre el blip\n",
    "- Las características del sistema no cambian con $n$\n",
    "- Si $n$ representa el tiempo decimos que el sistema es **invariante en el tiempo**\n",
    "\n",
    "\n",
    "***\n",
    "Un sistema FIR es invariante al desplazamiento si los valores de $h$ son constantes para todo $n$\n",
    "\n",
    "$$\n",
    "h[n] = \\text{Cte} \\quad \\forall n\n",
    "$$\n",
    "\n",
    "***"
   ]
  },
  {
   "cell_type": "code",
   "execution_count": null,
   "metadata": {
    "ExecuteTime": {
     "end_time": "2020-11-02T01:19:06.666953Z",
     "start_time": "2020-11-02T01:19:06.249566Z"
    },
    "slideshow": {
     "slide_type": "fragment"
    }
   },
   "outputs": [],
   "source": [
    "fig, ax = plt.subplots(2, figsize=(8, 5), tight_layout=True)\n",
    "n = np.arange(0, 500)\n",
    "l0 = ax[0].plot(n, np.zeros_like(n)); \n",
    "ax[0].set_ylim([-0.1, 1.1]); ax[0].set_title('Input')\n",
    "l1 = ax[1].plot(n, np.zeros_like(n));\n",
    "\n",
    "def update(m):\n",
    "    x = 0.5 + 0.5*scipy.signal.square((n-m)/(2.*np.pi*5), duty=0.3)      \n",
    "    ax[1].set_ylim([-0.1, 1.1]); ax[1].set_title('Output')\n",
    "    L = 50; h = np.ones(shape=(L, ))\n",
    "    # h = 1.+ np.cos(2.0*np.pi*2.*(n-m)/len(n))\n",
    "    h = h/np.sum(np.absolute(h))\n",
    "    l0[0].set_ydata(x); l1[0].set_ydata(scipy.signal.convolve(x, h, mode='same'))\n",
    "    return ()\n",
    "\n",
    "anim = animation.FuncAnimation(fig, update, frames=500, interval=200, blit=True);"
   ]
  },
  {
   "cell_type": "markdown",
   "metadata": {
    "slideshow": {
     "slide_type": "slide"
    }
   },
   "source": [
    "## Respuesta al impulso de un sistema\n",
    "\n",
    "\n",
    "Sea el impulso unitario o delta de Kronecker\n",
    "$$\n",
    "\\delta[n-m] = \\begin{cases} 1 & n=m \\\\ 0 & n \\neq m \\end{cases}\n",
    "$$\n",
    "\n",
    "La **respuesta al impulso de un sistema discreto** es la salida obtenida cuando la entrada es un impulso unitario\n",
    "\n",
    "***\n",
    "\n",
    "Para un sistema FIR arbitrario tenemos\n",
    "\n",
    "$$\n",
    "y[n]|_{x=\\delta} = (h * \\delta)[n] = \\sum_{j=0}^L h[j] \\delta[n-j] = \\begin{cases} h[n] & n \\in [0, L] \\\\ 0 & \\text{en otro caso} \\end{cases} \\\\\n",
    "$$\n",
    "\n",
    "es decir que la respuesta al impulso:\n",
    "-  tiene **una duración finita y luego decae a zero**\n",
    "-  recupera los coeficientes $h[j]$ del sistema\n",
    "\n",
    "En un sistema causal se tiene que $h[n] = 0 \\quad \\forall n < 0$\n",
    "\n",
    "Llamamos **soporte** del sistema a todos aquellos valores de $n$ tal que  $h[n] \\neq 0$\n",
    "\n",
    "***\n",
    "\n",
    "**Ejemplo:** Para \n",
    "$$\n",
    "y[n] = x[n] + A x[n-m]\n",
    "$$\n",
    "la respuesta al impulso es: \n",
    "$$\n",
    "y[n] = \\delta[n] + A \\delta[n-m] = \\begin{cases} 1 & n=0\\\\ A& n=m \\\\ 0 & \\text{en otro caso} \\end{cases}\n",
    "$$"
   ]
  },
  {
   "cell_type": "markdown",
   "metadata": {
    "slideshow": {
     "slide_type": "slide"
    }
   },
   "source": [
    "## Sistema LTI y respuesta en frecuencia de un sistema\n",
    "\n",
    "Los sistemas LTI (*linear time-invariant*) cumplen \n",
    "\n",
    "- linealidad: homogeneo y aditivo\n",
    "- invarianza al desplazamiento de la entrada\n",
    "\n",
    "y se expresan como\n",
    "\n",
    "$$\n",
    "y[n] = (h * x)[n] = \\sum_j h[j] x[n-j]\n",
    "$$\n",
    "- h es la respuesta al impulso\n",
    "- h guarda los coeficientes del sistema\n",
    "\n",
    "***\n",
    "Por propiedad de la DFT sabemos que un sistema LTI cumple\n",
    "\n",
    "$$\n",
    "\\begin{align}\n",
    "\\text{DFT}_N [y[n]] & = \\text{DFT}_N [(h * x)[n]] \\nonumber \\\\\n",
    "\\text{DFT}_N [y[n]] & = \\text{DFT}_N [h[n]]  \\text{DFT}_N [x[n]] \\nonumber \\\\\n",
    "Y[k] &= H[k] X[k] , \\nonumber\n",
    "\\end{align}\n",
    "$$\n",
    "\n",
    "donde convertimos la convolución temporal en una multiplicación frecuencial\n",
    "\n",
    "\n",
    "- Llamamos a $H[k]$ la **respuesta en frecuencia del sistema** \n",
    "- La respuesta en frecuencia es la transformada de Fourier de la respuesta al impulso\n",
    "\n",
    "***\n",
    "\n",
    "Los sistemas LTI tienen intepretación directa en el dominio del frecuencia\n",
    "\n",
    "***\n",
    "\n",
    "En la próxima lección usaremos sistemas LTI para diseñar **filtros**"
   ]
  }
 ],
 "metadata": {
  "kernelspec": {
   "display_name": "Python 3",
   "language": "python",
   "name": "python3"
  },
  "language_info": {
   "codemirror_mode": {
    "name": "ipython",
    "version": 3
   },
   "file_extension": ".py",
   "mimetype": "text/x-python",
   "name": "python",
   "nbconvert_exporter": "python",
   "pygments_lexer": "ipython3",
   "version": "3.8.5"
  },
  "toc": {
   "base_numbering": 1,
   "nav_menu": {},
   "number_sections": true,
   "sideBar": true,
   "skip_h1_title": false,
   "title_cell": "Table of Contents",
   "title_sidebar": "Contents",
   "toc_cell": false,
   "toc_position": {},
   "toc_section_display": true,
   "toc_window_display": true
  }
 },
 "nbformat": 4,
 "nbformat_minor": 2
}
