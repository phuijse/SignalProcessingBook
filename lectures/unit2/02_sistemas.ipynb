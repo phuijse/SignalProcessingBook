{
 "cells": [
  {
   "cell_type": "code",
   "execution_count": null,
   "metadata": {
    "ExecuteTime": {
     "end_time": "2020-11-02T01:10:04.664711Z",
     "start_time": "2020-11-02T01:10:00.492840Z"
    }
   },
   "outputs": [],
   "source": [
    "%matplotlib notebook\n",
    "import numpy as np\n",
    "import scipy.signal\n",
    "import scipy.fft as sfft\n",
    "import matplotlib.pylab as plt\n",
    "from matplotlib import animation\n",
    "\n",
    "from IPython.display import YouTubeVideo, HTML, Audio\n",
    "from bokeh.layouts import column, row\n",
    "from bokeh.models import CustomJS, ColumnDataSource, Slider\n",
    "from bokeh.plotting import Figure, show, output_notebook\n",
    "output_notebook()"
   ]
  },
  {
   "cell_type": "markdown",
   "metadata": {},
   "source": [
    "# Sistemas para el procesamiento de señales"
   ]
  },
  {
   "cell_type": "markdown",
   "metadata": {
    "slideshow": {
     "slide_type": "slide"
    }
   },
   "source": [
    "## Definición de sistema\n",
    "\n",
    "Hasta ahora hemos realizado *análisis de señales*, es decir el estudio de las señales y sus propiedades en el dominio del tiempo y frecuencia\n",
    "\n",
    "En esta unidad nos enfocaremos en el *procesamiento de señales*, es decir el diseño de **sistemas** que procesan una **señal de entrada** y producen una **señal de salida**\n",
    "\n",
    "<img src=\"../images/system.png\">\n",
    "\n",
    "Usaremos\n",
    "\n",
    "- $x[n]$ para denotar la señal (discreta) de entrada y $X[k]$ su espectro\n",
    "- $y[n]$ para denotar la señal (discreta) de salida e $Y[k]$ su espectro\n",
    " \n"
   ]
  },
  {
   "cell_type": "markdown",
   "metadata": {
    "slideshow": {
     "slide_type": "subslide"
    }
   },
   "source": [
    "### Ejemplos de sistemas\n",
    "\n",
    "Utilizando sistemas podemos modificar una señal para mejorar su calidad o remover efectos indeseados\n",
    "\n",
    "- Un sistema para reducir el ruido de una señal de electroencefalograma (EEG)\n",
    "\n",
    "<img src=\"../images/system-denoise-eeg.png\" width=\"600\">\n",
    "\n",
    "- Un sistema para mejorar una imagen fuera de foco (sharpening)\n",
    "\n",
    "<img src=\"../images/system-sharpen.jpg\"  width=\"500\">\n",
    "\n",
    "- Un sistema para eliminar el eco de un audio\n",
    "\n",
    "<img src=\"../images/system-echo.png\"  width=\"500\">\n"
   ]
  },
  {
   "cell_type": "markdown",
   "metadata": {
    "slideshow": {
     "slide_type": "subslide"
    }
   },
   "source": [
    "En lo que sigue realizaremos una clasificación de los sistemas según sus propiedades\n",
    "\n",
    "## Sistemas  sin memoria\n",
    "\n",
    "Diremos que un sistema $\\Phi$ es un sistema **sin memoria** si \n",
    "\n",
    "$$\n",
    "y[n] = \\Phi(x[n]),\n",
    "$$\n",
    "\n",
    "es decir que la salida del sistema en un instante $n$ dado depende solo de la entrada en ese mismo instante\n",
    "\n",
    "Veamos algunos ejemplos"
   ]
  },
  {
   "cell_type": "markdown",
   "metadata": {},
   "source": [
    "### Sistema atenuador/amplificador ideal \n",
    "\n",
    "$$\n",
    "y[n] = A x[n], \n",
    "$$\n",
    "\n",
    "donde $A>0$ se llama *ganancia*\n",
    "\n",
    "Este sistema puede atenuar la entrada si $0<A<1$ y amplificar si $A>1$\n",
    "\n",
    "### Sistema saturador (clamp)\n",
    "\n",
    "$$\n",
    "y[n] = \\begin{cases} B &x[n] > B \\\\x[n] & x[n] \\in [-B, B]\\\\ -B & x[n] < -B\\end{cases}\n",
    "$$\n",
    "\n",
    "Este sistema limita los valores de la señal de entrada en un rango fijo\n",
    "\n",
    "### Sistema rectificador\n",
    "\n",
    "$$\n",
    "y[n] = | x[n] |\n",
    "$$\n",
    "\n",
    "Este sistema eliminar la parte negativa de la señal de entrada"
   ]
  },
  {
   "cell_type": "markdown",
   "metadata": {
    "slideshow": {
     "slide_type": "slide"
    }
   },
   "source": [
    "## Sistema Lineal\n",
    "\n",
    "Diremos que un sistema $\\Phi$ es lineal si cumple con las siguientes propiedades\n",
    "\n",
    "### Homogeneidad\n",
    "\n",
    "Un cambio en la amplitud de la entrada produce un cambio equivalente en la salida\n",
    "\n",
    "$$\n",
    "\\Phi(cx[n]) = c \\Phi(x[n]) = c y[n]\n",
    "$$\n",
    "\n",
    "### Aditividad\n",
    "\n",
    "Señales que se suman en la entrada producen señales que se suman en la salida\n",
    "\n",
    "$$\n",
    "\\Phi(x_1[n] + x_2[n]) = \\Phi(x_1[n]) + \\Phi(x_2[n]) = y_1[n] + y_2[n]\n",
    "$$\n",
    "\n",
    "Es decir que las señales pasan por el sistema sin interactuar entre ellas\n"
   ]
  },
  {
   "cell_type": "markdown",
   "metadata": {
    "slideshow": {
     "slide_type": "subslide"
    }
   },
   "source": [
    "\n",
    "### Otras propiedades de los sistemas lineales\n",
    "\n",
    "Producto de las propiedades anteriores se tiene que una cascada de sistemas lineales forma un sistema lineal equivalente\n",
    "\n",
    "Y la cascada de sistemas es **conmutativa:** El orden de los sistemas en la cascada no altera el resultado final\n",
    "\n",
    "<img src=\"../images/system-conmu.png\" width=\"400px\">\n",
    "\n",
    "\n",
    "Los sistemas lineales también cumplen el **Principio de superposición**\n",
    "\n",
    "1. Si descomponemos una señal en $M$ componentes: $x[n] = x_1[n] + x_2[n] + \\ldots +  x_M[n]$\n",
    "1. Y aplicamos un **sistema lineal** a cada componente: $y_j[n] = \\Phi(x_j[n])$\n",
    "1. Podemos recuperar la salida total usando **aditividad**: $y_1[n] + y_2[n] + \\ldots +  y_M[n] = y[n]$\n",
    "\n",
    "<img src=\"../images/system-superpos.png\" width=\"400px\">\n",
    "    \n"
   ]
  },
  {
   "cell_type": "markdown",
   "metadata": {
    "slideshow": {
     "slide_type": "slide"
    }
   },
   "source": [
    "## Sistemas con memoria\n",
    "\n",
    "Un sistema $\\Phi$ es un sistema con memoria si su salida actual depende sólo de la entrada actual, las entradas anteriores o las salidas anteriores\n",
    "\n",
    "$$\n",
    "\\begin{align}\n",
    "y[n] = \\Phi(x[n], & x[n-1], x[n-2], \\ldots, x[0], \\\\ \\nonumber\n",
    "& y[n-1], y[n-2], \\ldots, y[0]) \\nonumber\n",
    "\\end{align}\n",
    "$$\n",
    "\n",
    "esto también se conoce como **sistema causal**\n",
    "\n",
    "Un **sistema con memoria no-causal** usa entradas futuras (es decir $x[n+1]$, $x[n+2]$, ...) y por ende solo se puede implementar de forma offline, es decir una vez que sea ha observado toda la señal\n",
    "\n",
    "Veamos algunos ejemplos de sistemas con memoria"
   ]
  },
  {
   "cell_type": "markdown",
   "metadata": {},
   "source": [
    "### Sistema con un retardo (delay)\n",
    "\n",
    "Definido como \n",
    "\n",
    "$$\n",
    "y[n] = x[n-m],\n",
    "$$\n",
    "\n",
    "donde\n",
    "- la salida depende solo de \"una\" entrada anterior\n",
    "- el valor de m define que tan \"antigua\" es la entrada pasada\n",
    "\n",
    "El *delay* o retarno no afecta la amplitud de los componentes frecuenciales de la señal pero si su fase, como muestra la siguiente animación"
   ]
  },
  {
   "cell_type": "code",
   "execution_count": null,
   "metadata": {
    "ExecuteTime": {
     "end_time": "2020-11-02T01:12:53.807797Z",
     "start_time": "2020-11-02T01:12:53.035892Z"
    },
    "slideshow": {
     "slide_type": "fragment"
    }
   },
   "outputs": [],
   "source": [
    "%%capture\n",
    "\n",
    "fig, ax = plt.subplots(3, figsize=(6, 6), tight_layout=True)\n",
    "n = np.arange(0, 200, step=1)\n",
    "x = lambda m: np.sin(2.0*np.pi*0.05*(n-m)) \n",
    "f = sfft.fftshift(sfft.fftfreq(d=1, n=len(n)))\n",
    "\n",
    "def update(m):\n",
    "    ax[0].cla(); ax[0].plot(n, x(m));\n",
    "    X = sfft.fftshift(sfft.fft(x(m)))\n",
    "    Xm = np.absolute(X); Xp = np.angle(X)\n",
    "    # Espectro de magnitud:\n",
    "    ax[1].cla(); ax[1].plot(f, Xm); \n",
    "    # Espectro de fase enmascarado con el espectro de magnitud\n",
    "    ax[2].cla(); ax[2].plot(f, Xm*Xp/np.amax(Xm)); \n",
    "    ax[2].set_ylim([-np.pi, np.pi])\n",
    "    angle_delay = Xp[np.argmax(Xm)]\n",
    "    ax[2].set_title(\"%0.4f [rad], %0.0f [deg]\" % (angle_delay, 180*angle_delay/np.pi))\n",
    "    return ()\n",
    "\n",
    "anim = animation.FuncAnimation(fig, update, frames=40, interval=150, blit=True)"
   ]
  },
  {
   "cell_type": "code",
   "execution_count": null,
   "metadata": {
    "ExecuteTime": {
     "end_time": "2020-11-02T01:13:12.571754Z",
     "start_time": "2020-11-02T01:12:55.746952Z"
    }
   },
   "outputs": [],
   "source": [
    "HTML(anim.to_html5_video())"
   ]
  },
  {
   "cell_type": "markdown",
   "metadata": {},
   "source": [
    "### Sistema reverberador o eco\n",
    "\n",
    "Definido como\n",
    "\n",
    "$$\n",
    "y[n] = x[n] + A x[n-m],\n",
    "$$\n",
    "\n",
    "donde\n",
    "- la salida depende de una entrada \"pasada\" y la entrada actual\n",
    "- la ganancia controla si el \"eco\" se atenua o amplifica\n",
    "\n",
    "\n",
    "Al contrario del sistema anterior, el eco si puede modificar el espectro de amplitud. \n",
    "\n",
    "Notemos el efecto de interferencia constructiva y destructiva al modificar el retardo, como muestra la siguiente animación "
   ]
  },
  {
   "cell_type": "code",
   "execution_count": null,
   "metadata": {
    "ExecuteTime": {
     "end_time": "2020-11-02T01:15:15.804950Z",
     "start_time": "2020-11-02T01:15:15.344370Z"
    },
    "slideshow": {
     "slide_type": "fragment"
    }
   },
   "outputs": [],
   "source": [
    "%%capture\n",
    "fig, ax = plt.subplots(3, figsize=(6, 6), tight_layout=True)\n",
    "n = np.arange(0, 200, step=1)\n",
    "x = lambda m: np.sin(2.0*np.pi*0.05*(n-m)) \n",
    "f = sfft.fftshift(sfft.fftfreq(d=1, n=len(n)))\n",
    "A = 1.\n",
    "def update(m):\n",
    "    y = x(0) + A*x(m)\n",
    "    X = sfft.fftshift(sfft.fft(y))\n",
    "    for ax_ in ax:\n",
    "        ax_.cla()\n",
    "    ax[0].plot(n, x(0), label='x[n]')\n",
    "    ax[0].plot(n, A*x(m), label='A*x[n-m]')\n",
    "    ax[0].legend()\n",
    "    ax[1].plot(n, y); \n",
    "    ax[1].set_ylim([-A-1.1, A+1.1])\n",
    "    ax[2].plot(f, np.absolute(X)); \n",
    "    ax[2].set_ylim([-20, (1+A)*len(n)/2 + 20])\n",
    "\n",
    "anim = animation.FuncAnimation(fig, update, frames=40, interval=150, blit=False)"
   ]
  },
  {
   "cell_type": "code",
   "execution_count": null,
   "metadata": {
    "ExecuteTime": {
     "end_time": "2020-11-02T01:15:39.573101Z",
     "start_time": "2020-11-02T01:15:21.340326Z"
    }
   },
   "outputs": [],
   "source": [
    "HTML(anim.to_html5_video())"
   ]
  },
  {
   "cell_type": "markdown",
   "metadata": {
    "slideshow": {
     "slide_type": "fragment"
    }
   },
   "source": [
    "Ejemplo de interferencia destructiva en una onda mecánica: https://www.youtube.com/watch?v=IU8xeJlJ0mk"
   ]
  },
  {
   "cell_type": "markdown",
   "metadata": {},
   "source": [
    "### Sistemas con múltiples ecos\n",
    "\n",
    "Pueden combinarse más retardos para hacer un sistema reverberante más complejo\n",
    "\n",
    "Por ejemplo\n",
    "\n",
    "$$\n",
    "y[n] = x[n] + A_1 x[n-m_1] + A_2 x[n-m_2] + A_3 x[n-m_3] + \\ldots,\n",
    "$$\n",
    "\n",
    "Que se escucha como"
   ]
  },
  {
   "cell_type": "code",
   "execution_count": null,
   "metadata": {
    "ExecuteTime": {
     "end_time": "2020-11-02T01:14:31.162977Z",
     "start_time": "2020-11-02T01:14:30.856556Z"
    },
    "slideshow": {
     "slide_type": "subslide"
    }
   },
   "outputs": [],
   "source": [
    "Fs = 44100; \n",
    "n = np.arange(0, 4, step=1.0/Fs) \n",
    "x = lambda m: np.sin(2.0*np.pi*880*(n-m))*np.exp(-(n-m)**2/0.5**2)*np.heaviside(n-m, 0)\n",
    "y = x(0) + 0.5*x(1.) + 0.25*x(2.) + 0.125*x(3.)\n",
    "\n",
    "p1 = Figure(plot_width=600, plot_height=280, toolbar_location=\"below\")\n",
    "p1.line(n, y,  line_width=3)\n",
    "p1.xaxis[0].axis_label = 'Tiempo [s]'\n",
    "show(p1)\n",
    "Audio(y, rate=Fs, normalize=False)"
   ]
  },
  {
   "cell_type": "markdown",
   "metadata": {
    "slideshow": {
     "slide_type": "slide"
    }
   },
   "source": [
    "## Sistema FIR \n",
    "\n",
    "\n",
    "Generalizando el ejemplo de sistema lineal reverberante a $L$ retardos llegamos a \n",
    "\n",
    "$$\n",
    "\\begin{align}\n",
    "y[n] &= h[0] x[n] + h[1] x[n-1] + h[2] x[n-2] + \\ldots + h[L] x[n-L] \\nonumber \\\\\n",
    "&= \\sum_{j=0}^{L} h[j] x[n-j] \\nonumber \\\\\n",
    "&= (h* x)[n] \\nonumber \n",
    "\\end{align}\n",
    "$$\n",
    "\n",
    "que se puede modelar como una convolución discreta entre $h$ y $x$\n",
    "\n",
    "Este sistema se conoce como\n",
    "\n",
    "- Sistema FIR (finite impulse response)\n",
    "- Sistema MA (moving average)\n",
    "- Sistema todo-zeros \n",
    "\n",
    "y es de orden L (posee L+1 coeficientes)\n",
    "\n"
   ]
  },
  {
   "cell_type": "markdown",
   "metadata": {
    "slideshow": {
     "slide_type": "subslide"
    }
   },
   "source": [
    "### Intepretación como media movil (MA)\n",
    "\n",
    "El sistema FIR es equivalente a una media movil ponderada que se aplica sobre la entrada\n",
    "\n",
    "Los coeficientes del sistema son los ponderadores \n",
    "\n",
    "Por ejemplo sea un sistema de 3 coeficientes $h[0]=a$, $h[1]=b$ y $h[2]=c$\n",
    "\n",
    "$$\n",
    "\\begin{align}\n",
    "y[n] = (h*x)[n] &= \\sum_{j=0}^{2} h[j] x[n-j] \\nonumber \\\\\n",
    "&= a x[n] + b x[n-1] + c x[n-2] \\nonumber\n",
    "\\end{align}\n",
    "$$\n",
    "\n",
    "donde cada salida se calcula a partir de \n",
    "\n",
    "$$\n",
    "\\overbrace{x[0], x[1], x[2]}^{y[2]} , x[3], x[4], \\ldots\n",
    "$$\n",
    "$$\n",
    "x[0], \\overbrace{x[1], x[2] , x[3]}^{y[3]}, x[4], \\ldots\n",
    "$$\n",
    "$$\n",
    "x[0], x[1], \\overbrace{x[2] , x[3], x[4]}^{y[4]}, \\ldots\n",
    "$$\n",
    "\n",
    "Para obtener el valor de $y[0]$ e $y[1]$ se deben establecer \"condiciones de borde\", como por ejemplo $x[-2] = x[-1]= 0$"
   ]
  },
  {
   "cell_type": "markdown",
   "metadata": {
    "slideshow": {
     "slide_type": "subslide"
    }
   },
   "source": [
    "### Ejemplo: Eliminando ruido blanco aditivo\n",
    "\n",
    "Si tenemos una señal contaminada con ruido blanco aditivo podemos usar un sistema FIR promediador para \"suavizar la contaminación\"\n",
    "\n",
    "La animación muestra un sistema FIR con $L$ coeficientes idénticos e iguales a $1/L$ que se convoluciona con la señal contaminada intentando recuperar la \"señal limpia\""
   ]
  },
  {
   "cell_type": "code",
   "execution_count": null,
   "metadata": {
    "ExecuteTime": {
     "end_time": "2020-11-02T01:17:22.583557Z",
     "start_time": "2020-11-02T01:17:22.045831Z"
    },
    "slideshow": {
     "slide_type": "fragment"
    }
   },
   "outputs": [],
   "source": [
    "%%capture\n",
    "np.random.seed(0)\n",
    "n = np.arange(0, 100, step=1)\n",
    "C = 5*np.exp(-0.5*(n[:, np.newaxis] - n[:, np.newaxis].T)**2/10**2)\n",
    "# Señal de entrada original\n",
    "x_clean = np.random.multivariate_normal(np.zeros_like(n), C) \n",
    "# Señal de entrada contaminada\n",
    "x = x_clean + 2*np.random.randn(len(n))\n",
    "# Sistema\n",
    "L = 10; h = np.ones(shape=(L,))/L; \n",
    "# Acumulator\n",
    "y = np.zeros_like(n, dtype=np.float)\n",
    "\n",
    "fig, ax = plt.subplots(3, figsize=(7, 6), tight_layout=True)\n",
    "ax[0].plot(n, x, 'k.'); \n",
    "ylims = ax[0].get_ylim()\n",
    "\n",
    "def init():\n",
    "    global y\n",
    "    y = np.zeros_like(n, dtype=np.float)\n",
    "    return ()\n",
    "\n",
    "def update(m):\n",
    "    ax[1].cla(); ax[2].cla()\n",
    "    c = np.zeros_like(n, dtype=np.float); \n",
    "    c[m:m+L] = h\n",
    "    ax[1].plot(n, c); \n",
    "    y[m] = np.sum(h*x[m:m+L])\n",
    "    ax[2].plot(n, y, label='señal recuperada');  \n",
    "    ax[2].plot(n, x_clean, 'g', label='señal limpia'); \n",
    "    ax[2].legend()\n",
    "    ax[2].set_ylim(ylims)\n",
    "    ax[2].plot([m, m], [ylims[0], ylims[1]], 'r--', alpha=0.5)\n",
    "    return ()\n",
    "\n",
    "anim = animation.FuncAnimation(fig, update,init_func=init, \n",
    "                               frames=100-len(h), interval=150, blit=True)"
   ]
  },
  {
   "cell_type": "code",
   "execution_count": null,
   "metadata": {},
   "outputs": [],
   "source": [
    "HTML(anim.to_html5_video())"
   ]
  },
  {
   "cell_type": "markdown",
   "metadata": {
    "slideshow": {
     "slide_type": "subslide"
    }
   },
   "source": [
    "### Ejemplo: Encontrando cambios en una señal\n",
    "\n",
    "Podemos usar un sistema \"diferenciador\" para detectar cuando una señal cambia de valor como se muestra en la siguiente animación"
   ]
  },
  {
   "cell_type": "code",
   "execution_count": null,
   "metadata": {
    "ExecuteTime": {
     "end_time": "2020-11-02T01:17:48.653553Z",
     "start_time": "2020-11-02T01:17:48.055973Z"
    },
    "slideshow": {
     "slide_type": "fragment"
    }
   },
   "outputs": [],
   "source": [
    "%%capture\n",
    "\n",
    "fig, ax = plt.subplots(3, figsize=(7, 6), tight_layout=True)\n",
    "n = np.arange(0, 100, step=1)\n",
    "x = np.zeros_like(n, dtype=np.float)\n",
    "x[20:] += 1.; x[40:] += 1.; x[80:] -= 1.;\n",
    "ax[0].plot(n, x)\n",
    "# System:\n",
    "h = np.array([-0.5, 0.5])\n",
    "# Acumulator\n",
    "y = np.zeros_like(n, dtype=np.float)\n",
    "def init():\n",
    "    global y\n",
    "    y = np.zeros_like(n, dtype=np.float)\n",
    "    return ()\n",
    "\n",
    "def update(m):\n",
    "    c = np.zeros_like(n, dtype=np.float); c[m:m+len(h)] = h\n",
    "    ax[1].cla(); ax[1].plot(n, c); \n",
    "    y[m] = np.sum(h*x[m:m+len(h)])\n",
    "    ax[2].cla(); ax[2].plot(n, y);  \n",
    "    ax[2].plot([m, m], [-0.5, 0.5], 'r--', alpha=0.5)\n",
    "    return ()\n",
    "\n",
    "anim = animation.FuncAnimation(fig, update, init_func=init, \n",
    "                               frames=100-len(h), interval=150, blit=True)"
   ]
  },
  {
   "cell_type": "code",
   "execution_count": null,
   "metadata": {},
   "outputs": [],
   "source": [
    "HTML(anim.to_html5_video())"
   ]
  },
  {
   "cell_type": "markdown",
   "metadata": {
    "slideshow": {
     "slide_type": "subslide"
    }
   },
   "source": [
    "### Ejemplo: Removiendo una tendencia\n",
    "\n",
    "En el ejemplo siguiente tenemos una señal sinusoidal que nos interesa separar de una señal más lenta/suave denominada tendencia\n",
    "\n",
    "Podemos usar un sistema FIR para eliminar la tendencia"
   ]
  },
  {
   "cell_type": "code",
   "execution_count": null,
   "metadata": {
    "ExecuteTime": {
     "end_time": "2020-11-02T01:18:24.352769Z",
     "start_time": "2020-11-02T01:18:23.669562Z"
    },
    "slideshow": {
     "slide_type": "fragment"
    }
   },
   "outputs": [],
   "source": [
    "%%capture\n",
    "\n",
    "fig, ax = plt.subplots(3, figsize=(7, 6), tight_layout=True)\n",
    "np.random.seed(0); \n",
    "n = np.arange(0, 100, step=1)\n",
    "C = np.exp(-0.5*(n[:, np.newaxis] - n[:, np.newaxis].T)**2/30**2)\n",
    "x = np.sin(2.0*np.pi*0.1*n) + 5*np.random.multivariate_normal(np.zeros_like(n), C)\n",
    "ax[0].plot(n, x); ylims = ax[0].get_ylim()\n",
    "# System:\n",
    "L = 5; h = -np.ones(shape=(L,))/L; h[L//2] += 1\n",
    "# Acumulator\n",
    "y = np.zeros_like(n, dtype=np.float)\n",
    "def init():\n",
    "    global y\n",
    "    y = np.zeros_like(n, dtype=np.float)\n",
    "    return ()\n",
    "    \n",
    "def update(m):\n",
    "    c = np.zeros_like(n, dtype=np.float); c[m:m+len(h)] = h\n",
    "    ax[1].cla(); ax[1].plot(n, c); \n",
    "    y[m] = np.sum(h*x[m:m+len(h)])\n",
    "    ax[2].cla(); ax[2].plot(n, y);  \n",
    "    ax[2].plot([m, m], [-0.5, 0.5], 'r--', alpha=0.5)\n",
    "    return ()\n",
    "    \n",
    "anim = animation.FuncAnimation(fig, update, init_func=init, \n",
    "                               frames=100-len(h), interval=200, blit=True)"
   ]
  },
  {
   "cell_type": "code",
   "execution_count": null,
   "metadata": {},
   "outputs": [],
   "source": [
    "HTML(anim.to_html5_video())"
   ]
  },
  {
   "cell_type": "markdown",
   "metadata": {},
   "source": [
    "## Convolución con scipy"
   ]
  },
  {
   "cell_type": "markdown",
   "metadata": {
    "slideshow": {
     "slide_type": "fragment"
    }
   },
   "source": [
    "En la práctica, si queremos convolucionar una señal con nuestro sistema, podemos usar la función de scipy\n",
    "\n",
    "```python\n",
    "scipy.signal.convolve(in1, # Señal de entrada\n",
    "                      in2, # Coeficientes del sistema\n",
    "                      mode='full', \n",
    "                      method='auto'  \n",
    "                     )\n",
    "```\n",
    "\n",
    "donde el argumento `method` puede ser\n",
    "\n",
    "- `direct`: Realiza la convolución en el dominio del tiempo\n",
    "- `fft`: Realiza la convolución multiplicando los espectros\n",
    "- `auto`: Se decide automaticamente en base al largo de las señales\n",
    "\n",
    "\n",
    "y el argumento `mode` indica donde se hace la convolución\n",
    "\n",
    "Sea una señal $x=[a,b,c]$ y un sistema $h=[d, e]$ \n",
    "\n",
    "- Si uso `mode=valid` el resultado será $y=[ad+be, bd+ce]$\n",
    "- Si uso `mode=same` el resultado será $y=[ae, ad+be, bd+ce]$, es decir se agregan ceros al principio de $x$ tal que $y$ sea del mismo largo que $x$\n",
    "- Si uso `mode=full` el resultado será $y=[ae, ad+be, bd+ce, cd]$, es decir se agregan ceros al principio y al final de $x$ \n"
   ]
  },
  {
   "cell_type": "markdown",
   "metadata": {},
   "source": [
    "### Ejemplo: Eliminando ruido v 2.0\n",
    "\n",
    "Esta vez usamos `scipy.signal.convolve` y probamos dos sistemas FIR\n",
    "\n",
    "- coeficientes idénticos e iguales a $1/L$ (rectangular)\n",
    "- coeficientes que decaen suavemente a cero (hamming)"
   ]
  },
  {
   "cell_type": "code",
   "execution_count": null,
   "metadata": {
    "ExecuteTime": {
     "end_time": "2020-11-02T01:17:30.526047Z",
     "start_time": "2020-11-02T01:17:30.116471Z"
    },
    "scrolled": false,
    "slideshow": {
     "slide_type": "fragment"
    }
   },
   "outputs": [],
   "source": [
    "from bokeh.palettes import Dark2_5 as palette\n",
    "np.random.seed(0)\n",
    "n = np.arange(0, 100, step=1)\n",
    "C = 5*np.exp(-0.5*(n[:, np.newaxis] - n[:, np.newaxis].T)**2/10**2)\n",
    "# Señal de entrada original\n",
    "x_clean = np.random.multivariate_normal(np.zeros_like(n), C) \n",
    "# Señal de entrada contaminada\n",
    "x = x_clean + 2*np.random.randn(len(n))\n",
    "L = 20; \n",
    "\n",
    "p = [Figure(plot_width=600, plot_height=230, toolbar_location=\"below\") for k in range(3)]\n",
    "\n",
    "p[0].scatter(n, x, color='black')\n",
    "p[2].line(n, x_clean, line_width=2, legend_label = 'señal limpia'); \n",
    "for name, h, color in zip(['rect', 'hamming'],\n",
    "                          [np.ones(shape=(L,)), scipy.signal.hamming(L)],\n",
    "                          palette):\n",
    "\n",
    "    h = h/np.sum(h)\n",
    "    p[1].line(np.arange(L), h, color=color, legend_label=name, line_width=2)\n",
    "    p[2].line(n, scipy.signal.convolve(x, h, mode='same', method='auto'), \n",
    "              color=color, legend_label=name, line_width=2); \n",
    "p[2].legend.location = \"top_left\"\n",
    "show(column(p))"
   ]
  },
  {
   "cell_type": "code",
   "execution_count": null,
   "metadata": {},
   "outputs": [],
   "source": []
  }
 ],
 "metadata": {
  "kernelspec": {
   "display_name": "Python 3",
   "language": "python",
   "name": "python3"
  },
  "language_info": {
   "codemirror_mode": {
    "name": "ipython",
    "version": 3
   },
   "file_extension": ".py",
   "mimetype": "text/x-python",
   "name": "python",
   "nbconvert_exporter": "python",
   "pygments_lexer": "ipython3",
   "version": "3.8.5"
  },
  "toc": {
   "base_numbering": 1,
   "nav_menu": {},
   "number_sections": true,
   "sideBar": true,
   "skip_h1_title": false,
   "title_cell": "Table of Contents",
   "title_sidebar": "Contents",
   "toc_cell": false,
   "toc_position": {},
   "toc_section_display": true,
   "toc_window_display": true
  }
 },
 "nbformat": 4,
 "nbformat_minor": 2
}
