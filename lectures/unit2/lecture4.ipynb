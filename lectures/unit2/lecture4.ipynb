{
 "cells": [
  {
   "cell_type": "code",
   "execution_count": null,
   "metadata": {},
   "outputs": [],
   "source": [
    "import holoviews as hv\n",
    "hv.extension('bokeh')\n",
    "hv.opts.defaults(hv.opts.Curve(width=500), \n",
    "                 hv.opts.Image(width=500, colorbar=True, cmap='Viridis'))"
   ]
  },
  {
   "cell_type": "code",
   "execution_count": null,
   "metadata": {},
   "outputs": [],
   "source": [
    "import numpy as np\n",
    "import scipy.signal\n",
    "import scipy.fft"
   ]
  },
  {
   "cell_type": "markdown",
   "metadata": {},
   "source": [
    "# Diseño de sistemas y filtros IIR"
   ]
  },
  {
   "cell_type": "markdown",
   "metadata": {
    "slideshow": {
     "slide_type": "slide"
    }
   },
   "source": [
    "Un filtro FIR de buena calidad puede requerir una gran cantidad de coeficientes\n",
    "\n",
    "Es posible implementar filtros más eficientes usando **recursividad**. Esta es la base de los filtros de respuesta al impulso infinita o IIR que veremos en esta lección\n",
    "\n"
   ]
  },
  {
   "cell_type": "markdown",
   "metadata": {},
   "source": [
    "## Definición de un sistema IIR \n",
    "\n",
    "Generalizando el sistema FIR para incluir versiones pasadas de la salida y asumiendo $a[0] = 1$ llegamos a \n",
    "\n",
    "$$\n",
    "\\begin{align}\n",
    "y[n] &= b[0] x[n] + b[1] x[n-1] + b[2] x[n-2] + \\ldots + b[L] x[n-L]  \\nonumber \\\\\n",
    "& - a[1] y[n-1] - a[2] y[n-2] - \\ldots - a[M] y[n-M] \\nonumber \\\\\n",
    "&= \\sum_{l=0}^{L} b[l] x[n-l] - \\sum_{m=1}^{M} a[m] y[n-m]  \\nonumber  \\\\\n",
    "\\sum_{m=0}^{M} a[m] y[n-m] &= \\sum_{l=0}^{L} b[l] x[n-l] \\nonumber \\\\\n",
    "(a * y)[n] &= (b * x)[n], \\nonumber\n",
    "\\end{align}\n",
    "$$\n",
    "\n",
    "es decir dos convoluciones discretas que definen una **ecuación de diferencias**\n",
    "\n",
    "Este tipo de sistema se conoce como \n",
    "- sistema *infinite impulse response* (IIR)\n",
    "- sistema *auto-regresive moving average* (ARMA)\n",
    "    - autoregresivo de orden M: incluye valores pasados de la salida\n",
    "    - media movil de orden L+1: pondera el valor presente y pasados de la entrada\n",
    "\n",
    "Podemos ver el sistema IIR como una generalización del sistema FIR. El caso particular del sistema FIR se recupera si\n",
    "\n",
    "$a[m] = 0$ para $m=[1, \\ldots, M]$"
   ]
  },
  {
   "cell_type": "markdown",
   "metadata": {
    "slideshow": {
     "slide_type": "subslide"
    }
   },
   "source": [
    "### Respuesta en frecuencia del sistema IIR\n",
    "\n",
    "Aplicando la transformada de Fourier convertimos las convoluciones en multiplicaciones y encontramos la respuesta en frecuencia como\n",
    "\n",
    "$$\n",
    "\\begin{align}\n",
    "\\text{DFT}_N[(a * y)[n]] &= \\text{DFT}_N[(b * x)[n]] \\nonumber \\\\\n",
    "A[k] Y[k] &= B[k] X[k] \\nonumber \\\\\n",
    "H[k] = \\frac{Y[k]}{X[k]} &= \\frac{B[k]}{A[k]} = \\frac{ \\sum_{l=0}^L b[l]e^{-j \\frac{2\\pi}{N} nl} }{ \\sum_{m=0}^M a[m]e^{-j \\frac{2\\pi}{N} mk}} \\nonumber\n",
    "\\end{align}\n",
    "$$\n",
    "\n",
    "que existe siempre que $A[k] \\neq 0$. \n",
    "\n",
    "La respuesta en frecuencia también suele expresarse como\n",
    "\n",
    "$$\n",
    "H[k] = K \\frac{ \\prod_{l=1}^L (e^{j \\frac{2\\pi}{N} k}- \\beta[l]) }{ \\prod_{m=1}^M (e^{j \\frac{2\\pi}{N} k}- \\alpha[m])} \n",
    "$$\n",
    "\n",
    "donde \n",
    "\n",
    "- $K$ se llama **ganancia**\n",
    "- las raices del polinomio del numerador $\\alpha$ se llaman conjuntamente **ceros**  \n",
    "- las raices del polinomio del denominador $\\beta$ se llaman conjuntamente **polos**"
   ]
  },
  {
   "cell_type": "markdown",
   "metadata": {
    "slideshow": {
     "slide_type": "subslide"
    }
   },
   "source": [
    "### Ejemplo de respuesta al impulso de un sistema IIR\n",
    "\n",
    "Consideremos el siguiente sistema IIR \n",
    "\n",
    "$$\n",
    "\\begin{align}\n",
    "y[n] &= (1-\\gamma) x[n] + \\gamma y[n-1] \\nonumber \\\\\n",
    "y[n] - \\gamma y[n-1] &= (1-\\gamma) x[n] \\nonumber\n",
    "\\end{align}\n",
    "$$\n",
    "\n",
    "Los coeficientes del sistema son\n",
    "\n",
    "$a[0] = 1$, $a[1] = -\\gamma$ y $b[0] = (1-\\gamma)$\n",
    "\n",
    "Es decir que es AR de orden 1 y  MA de orden 1\n",
    "\n",
    "¿Cúal es su respuesta al impulso? Asumiendo $y[n]=0, n<0$, tenemos que\n",
    "\n",
    "$$\n",
    "\\begin{matrix}\n",
    "n & \\delta[n] & y[n] \\\\\n",
    "-2 & 0 & 0 \\\\\n",
    "-1 & 0 & 0 \\\\\n",
    "0 & 1 & (1-\\gamma) \\\\\n",
    "1 & 0 & \\gamma(1-\\gamma) \\\\\n",
    "2 & 0 & \\gamma^2(1-\\gamma)  \\\\\n",
    "3 & 0 & \\gamma^3(1-\\gamma) \\\\\n",
    "4 & 0 & \\gamma^4(1-\\gamma) \\\\\n",
    "\\end{matrix}\n",
    "$$\n",
    "\n",
    "¿Cómo cambia la respuesta al impulso con distintos valores de $\\gamma$? ¿Qué pasa si $\\gamma \\geq 1$?\n",
    "\n",
    "Respondamos estas preguntas visualizando la respuesta al impulso de este sistema con la función `scipy.signal.dimpulse`"
   ]
  },
  {
   "cell_type": "code",
   "execution_count": null,
   "metadata": {},
   "outputs": [],
   "source": [
    "# Valores de gamma que probaremos:\n",
    "gamma = [-1.5, -1, -0.5, 0.5, 1., 1.5]\n",
    "\n",
    "p = []\n",
    "for g in gamma:\n",
    "    t, y = scipy.signal.dimpulse(([1-g, 0], [1,-g], 1), x0=0, n=30)\n",
    "    p.append(hv.Curve((t, y[0][:, 0]), label=f\"gamma={g}\"))\n",
    "    \n",
    "hv.Layout(p).cols(3).opts(hv.opts.Curve(width=250, height=200, axiswise=True))"
   ]
  },
  {
   "cell_type": "markdown",
   "metadata": {
    "slideshow": {
     "slide_type": "fragment"
    }
   },
   "source": [
    "De las figuras podemos ver que:\n",
    "\n",
    "- Para $\\gamma < 0$ (primera fila) los coeficientes del sistema son alternantes en signo\n",
    "- Para $|\\gamma| < 1$ los coeficientes del sistema tienden a cero\n",
    "- Para $|\\gamma| > 1$ los coeficientes del sistema divergen y tienen a infinito\n",
    "\n",
    ":::{warning}\n",
    "\n",
    "A diferencia de un sistema FIR, el sistema IIR puede tener configuraciones inestables en que los coeficientes crecen o decrecen infinitamente\n",
    "\n",
    ":::\n",
    "\n",
    "Por otro lado consideremos el sistema anterior y asumamos que $|\\gamma|<1$, desenrollando tenemos que \n",
    "\n",
    "$$\n",
    "\\begin{align}\n",
    "y[0] &= (1-\\gamma) x[0] \\nonumber \\\\\n",
    "y[1] &= (1-\\gamma) (x[1] + \\gamma x[0]) \\nonumber \\\\\n",
    "y[2] &= (1-\\gamma) (x[2] + \\gamma x[1] + \\gamma^2 x[0]) \\nonumber \\\\\n",
    "y[3] &= (1-\\gamma) (x[3] + \\gamma x[2] + \\gamma^2 x[1] + \\gamma^3 x[0]) \\nonumber \\\\\n",
    "y[4] &= (1-\\gamma) (x[4] + \\gamma x[3] + \\gamma^2 x[2] + \\gamma^3 x[1]  + \\gamma^4 x[0]) \\nonumber \\\\\n",
    "y[5] &= \\ldots \\nonumber \n",
    "\\end{align}\n",
    "$$\n",
    "\n",
    ":::{note}\n",
    "\n",
    "Con un sistema IIR de pocos coeficientes podemos representar un sistema FIR considerablemente más grande\n",
    "\n",
    ":::\n",
    "\n",
    "En el ejemplo anterior, si escogemos $\\gamma$ tal que $\\gamma^{20 }\\approx 0$ entonces aproximamos un sistema FIR de orden 20 con tan sólo 3 coeficientes"
   ]
  },
  {
   "cell_type": "markdown",
   "metadata": {
    "slideshow": {
     "slide_type": "fragment"
    }
   },
   "source": [
    "### Ejemplo de respuesta en frecuencia de un sistema IIR\n",
    "\n",
    "Para el sistema del ejemplo anterior su respuesta en frecuencia es\n",
    "\n",
    "$$\n",
    "\\begin{align}\n",
    "Y[k] &= (1-\\gamma) X[k] + \\gamma Y[k] e^{-j \\frac{2\\pi}{N} k} \\nonumber \\\\\n",
    "H[k] = \\frac{Y[k]}{X[k]} &= \\frac{1-\\gamma}{1 - \\gamma e^{-j \\frac{2\\pi}{N} k} }  \\nonumber \n",
    "\\end{align}\n",
    "$$\n",
    "\n",
    "que en notación de polos y ceros se escribe como\n",
    "\n",
    "$$\n",
    "H[k] =  (1-\\gamma)\\frac{e^{j \\frac{2\\pi}{N} k} - 0}{e^{j \\frac{2\\pi}{N} k} - \\gamma  }\n",
    "$$\n",
    "\n",
    "es decir que tiene un cero en $0$, un polo en $\\gamma$ y una ganancia de $(1-\\gamma)$\n",
    "\n",
    "Para entender mejor este sistema estudiemos la magnitud de $|H[k]|$ para $\\gamma < 1$\n",
    "\n",
    "$$\n",
    "\\begin{align}\n",
    "| H[k]| &= \\frac{|1-\\gamma|}{|1 - \\gamma e^{-j \\frac{2\\pi}{N} k}|}  \\nonumber \\\\\n",
    "&=  \\frac{1-\\gamma}{\\sqrt{1 - 2\\gamma \\cos(\\frac{2\\pi}{N} k) + \\gamma^2}} \\nonumber\n",
    "\\end{align}\n",
    "$$\n",
    "\n",
    "¿Cómo se ve $|H[k]|$? ¿Qué función cumple este sistema?"
   ]
  },
  {
   "cell_type": "code",
   "execution_count": null,
   "metadata": {},
   "outputs": [],
   "source": [
    "k = np.arange(-24, 25)/50\n",
    "Hk = lambda gamma, k : (1-gamma)/np.sqrt(1 - 2*gamma*np.cos(2.0*np.pi*k) + gamma**2)"
   ]
  },
  {
   "cell_type": "code",
   "execution_count": null,
   "metadata": {},
   "outputs": [],
   "source": [
    "p = []\n",
    "for gamma in [0.25, 0.5, 0.75]:\n",
    "    p.append(hv.Curve((k, Hk(gamma, k)), 'Frecuencia', 'Respuesta', label=f'gamma={gamma}'))\n",
    "    \n",
    "hv.Overlay(p)"
   ]
  },
  {
   "cell_type": "markdown",
   "metadata": {
    "slideshow": {
     "slide_type": "fragment"
    }
   },
   "source": [
    ":::{note}\n",
    "\n",
    "Este sistema atenua las frecuencias altas, es decir que actua como un filtro pasa bajos\n",
    "\n",
    ":::"
   ]
  },
  {
   "cell_type": "markdown",
   "metadata": {},
   "source": [
    "## Diseño de filtros IIR simples\n",
    "\n",
    "Los filtros IIR más simples son los de un polo y un cero, es decir filtros de primer orden\n",
    "\n",
    "$$\n",
    "H[k] = \\frac{b[0] + b[1] e^{-j \\frac{2\\pi}{N} k}}{1 + a[1] e^{-j \\frac{2\\pi}{N} k}}  = K\\frac{e^{j \\frac{2\\pi}{N} k} - \\beta}{e^{j \\frac{2\\pi}{N} k} - \\alpha  } \n",
    "$$\n",
    "\n",
    "donde podemos reconocer \n",
    "\n",
    "- $b[0]=K$\n",
    "- $\\beta = - b[1] \\cdot K$\n",
    "- $\\alpha=-a[1]$\n",
    "\n",
    "Definimos la frecuencia de corte $f_c$ como aquella frecuencia en la que el filtro alcanza una atenuación de 0.7 (-3 dB). Haciendo la equivalencia con el ejemplo anterior tenemos que $\\gamma = e^{-2\\pi f_c}$"
   ]
  },
  {
   "cell_type": "markdown",
   "metadata": {
    "slideshow": {
     "slide_type": "slide"
    }
   },
   "source": [
    "### Receta para un filtro pasa bajo IIR con frecuencia de corte $f_c$\n",
    "\n",
    "Asignamos\n",
    "\n",
    "- $b[0] = 1 - e^{-2\\pi f_c}$\n",
    "- $b[1] = 0$\n",
    "- $a[1] = -e^{-2\\pi f_c}$\n",
    "\n",
    "Lo que resulta en la siguiente respuesta en frecuencia\n",
    "\n",
    "$$\n",
    "H[k] = \\frac{1-e^{-2\\pi f_c}}{1 - e^{-2\\pi f_c} e^{-j \\frac{2\\pi}{N} k}} = (1-e^{-2\\pi f_c}) \\frac{(e^{j \\frac{2\\pi}{N} k}- 0)}{(e^{j \\frac{2\\pi}{N} k} - e^{-2\\pi f_c} )}\n",
    "$$\n",
    "\n",
    "Es decir un cero en $0$, un polo en $e^{-2\\pi f_c}$ y ganancia $1-e^{-2\\pi f_c}$\n",
    "\n",
    "### Receta para un filtro pasa alto IIR con frecuencia de corte $f_c$\n",
    "\n",
    "Asignamos\n",
    "\n",
    "- $b[0] = (1 + e^{-2\\pi f_c})/2$\n",
    "- $b[1] = -(1 + e^{-2\\pi f_c})/2$\n",
    "- $a[1] = -e^{-2\\pi f_c}$\n",
    "\n",
    "Lo que resulta en la siguiente respuesta en frecuencia\n",
    "\n",
    "$$\n",
    "H[k] = \\frac{1+e^{-2\\pi f_c}}{2} \\frac{(e^{j \\frac{2\\pi}{N} k} - 1)}{(e^{j \\frac{2\\pi}{N} k} - e^{-2\\pi f_c})}\n",
    "$$\n",
    "\n",
    "Es decir un cero en $1$, un polo en $e^{-2\\pi f_c}$ y ganancia $\\frac{1+e^{-2\\pi f_c}}{2}$\n",
    "\n"
   ]
  },
  {
   "cell_type": "code",
   "execution_count": null,
   "metadata": {},
   "outputs": [],
   "source": [
    "scipy.signal.filtfilt?"
   ]
  },
  {
   "cell_type": "markdown",
   "metadata": {
    "slideshow": {
     "slide_type": "fragment"
    }
   },
   "source": [
    "### Aplicar un filtro a una señal con scipy\n",
    "\n",
    "Para filtrar una señal unidimensional con un filtro IIR (sin variar la fase de la señal) podemos utilizar la función\n",
    "\n",
    "\n",
    "```python\n",
    "    scipy.signal.filtfilt(b, # Coeficientes del numerador\n",
    "                          a, # Coeficientes del denominador\n",
    "                          x, # Señal a filtrar\n",
    "                          ...\n",
    "                         )\n",
    "```\n",
    "\n",
    "Los siguientes ejemplos muestran un señal de tipo pulso rectangular filtrada con sistemas IIR de primer orden pasa bajo y pasa-alto diseñados con las recetas mostradas anteriormente"
   ]
  },
  {
   "cell_type": "code",
   "execution_count": null,
   "metadata": {},
   "outputs": [],
   "source": [
    "n = np.arange(0, 500)\n",
    "x = 0.5 + 0.5*scipy.signal.square((n)/(2.*np.pi*5), duty=0.3)"
   ]
  },
  {
   "cell_type": "code",
   "execution_count": null,
   "metadata": {},
   "outputs": [],
   "source": [
    "def iir_low_pass(signal, fc):\n",
    "    gamma = np.exp(-2*np.pi*(fc))\n",
    "    b, a = [(1-gamma), 0], [1, -gamma] \n",
    "    return scipy.signal.filtfilt(b, a, signal)\n",
    "\n",
    "y = {}\n",
    "for fc in [0.05, 0.02, 0.01]:\n",
    "    y[fc] = iir_low_pass(x, fc)"
   ]
  },
  {
   "cell_type": "code",
   "execution_count": null,
   "metadata": {
    "tags": [
     "hide-input"
    ]
   },
   "outputs": [],
   "source": [
    "px = hv.Curve((n, x))\n",
    "py = []\n",
    "for fc, y_ in y.items():\n",
    "    py.append(hv.Curve((n, y_), label=f'fc={fc}'))\n",
    "\n",
    "hv.Layout([px, hv.Overlay(py)]).cols(1).opts(hv.opts.Curve(height=200))"
   ]
  },
  {
   "cell_type": "code",
   "execution_count": null,
   "metadata": {},
   "outputs": [],
   "source": [
    "def iir_high_pass(signal, fc):\n",
    "    gamma = np.exp(-2*np.pi*(fc))\n",
    "    b, a = [(1+gamma)/2, -(1+gamma)/2], [1, -gamma]\n",
    "    return scipy.signal.filtfilt(b, a, signal)\n",
    "\n",
    "y = {}\n",
    "for fc in [0.01, 0.02, 0.05]:\n",
    "    y[fc] = iir_high_pass(x, fc)"
   ]
  },
  {
   "cell_type": "code",
   "execution_count": null,
   "metadata": {
    "tags": [
     "hide-input"
    ]
   },
   "outputs": [],
   "source": [
    "px = hv.Curve((n, x))\n",
    "py = []\n",
    "for fc, y_ in y.items():\n",
    "    py.append(hv.Curve((n, y_), label=f'fc={fc}'))\n",
    "\n",
    "hv.Layout([px, hv.Overlay(py)]).cols(1).opts(hv.opts.Curve(height=200))"
   ]
  },
  {
   "cell_type": "markdown",
   "metadata": {},
   "source": [
    ":::{note} \n",
    "\n",
    "El filtro pasa-bajos suaviza los cambios de los pulsos rectangulares. El filtro pasa-altos elimina las zonas constantes y resalta los cambios de la señal.\n",
    "\n",
    ":::"
   ]
  },
  {
   "cell_type": "markdown",
   "metadata": {
    "slideshow": {
     "slide_type": "skip"
    }
   },
   "source": [
    "## Diseño de filtros IIR de segundo orden\n",
    "\n",
    "Los filtros IIR de segundo orden o **biquad** tienen dos polos y dos ceros.\n",
    "\n",
    "Su respuesta en frecuencia es\n",
    "\n",
    "$$\n",
    "H[k] = \\frac{b[0] + b[1] W_N^k + b[2] W_N^{2k}}{1 + a[1] W_N^k + a[2] W_N^{2k}} = K \\frac{(W_N^{-k} - \\beta_1) (W_N^{-k} - \\beta_2)}{(W_N^{-k} - \\alpha_1)(W_N^{-k} - \\alpha_2)},\n",
    "$$\n",
    "\n",
    "donde $W_N = e^{-j \\frac{2 \\pi}{N}}$ y la relación entreo coeficientes y polos/ceros es: \n",
    "\n",
    "$$\n",
    "b[0] = K, \\quad b[1] = -K (\\beta_1 + \\beta_2), \\quad b[2]= K \\beta_1\\beta_2\n",
    "$$\n",
    "\n",
    "$$\n",
    "a[1] = - (\\alpha_1 + \\alpha_2), \\quad a[2]=\\alpha_1 \\alpha_2\n",
    "$$\n",
    "\n",
    "\n",
    "Con arquitecturas de segundo orden se pueden crear filtros pasabanda y rechaza banda\n"
   ]
  },
  {
   "cell_type": "markdown",
   "metadata": {
    "slideshow": {
     "slide_type": "slide"
    }
   },
   "source": [
    "## Diseño de filtros IIR de orden mayor\n",
    "\n",
    "Para crear los coeficientes de filtro IIR de orden mayor podemos usar la función\n",
    "\n",
    "```python\n",
    "scipy.signal.iirfilter(N, # Orden del filtro\n",
    "                       Wn,  # Frecuencias de corte (normalizadas en [0,1])\n",
    "                       fs, # Frecuencia de muestreo\n",
    "                       btype='bandpass', # Tipo de filtro: 'bandpass', 'lowpass', 'highpass', 'bandstop'\n",
    "                       ftype='butter', # Familia del filtro: 'butter', 'ellip', 'cheby1', 'cheby2', 'bessel'\n",
    "                       output='ba', # Retornar coeficientes\n",
    "                       ...\n",
    "                       )\n",
    "```\n",
    "\n",
    "El filtro Butterworth es óptimo en el sentido de tener la banda de paso lo más plana posible. \n",
    "\n",
    "Otros filtros se diseñaron con otras consideraciones. \n",
    "\n",
    "Los filtros IIR digitales están basados en los filtros IIR analógicos.\n",
    "\n",
    "Observe como al aumentar el orden el filtro pasabajo IIR comienza a cortar de forma más abrupta"
   ]
  },
  {
   "cell_type": "code",
   "execution_count": null,
   "metadata": {},
   "outputs": [],
   "source": [
    "Hk = {}\n",
    "for order in [1, 2, 5, 20]:\n",
    "    b, a = scipy.signal.iirfilter(N=order, Wn=0.2, fs=1,\n",
    "                                  ftype='butter', btype='lowpass', output='ba')\n",
    "    freq, response = scipy.signal.freqz(b, a, fs=1)\n",
    "    Hk[order] = np.abs(response)"
   ]
  },
  {
   "cell_type": "code",
   "execution_count": null,
   "metadata": {
    "tags": [
     "hide-input"
    ]
   },
   "outputs": [],
   "source": [
    "p = []\n",
    "for order, response in Hk.items():\n",
    "    p.append(hv.Curve((freq, response), 'Frecuencia', 'Respuesta', label=f'orden={order}'))\n",
    "hv.Overlay(p)"
   ]
  },
  {
   "cell_type": "markdown",
   "metadata": {
    "slideshow": {
     "slide_type": "slide"
    }
   },
   "source": [
    "## Comparación de la respuesta en frecuencia de filtros FIR e IIR del orden equivalente\n",
    "\n",
    "Comparemos la respuesta en frecuencia de un filtro IIR y otro FIR ambos pasa-bajo con 20 coeficientes\n"
   ]
  },
  {
   "cell_type": "code",
   "execution_count": null,
   "metadata": {},
   "outputs": [],
   "source": [
    "Fs = 1\n",
    "fc = 0.25\n",
    "h = scipy.signal.firwin(numtaps=20, cutoff=fc, pass_zero=True, window='hann', fs=Fs)\n",
    "b, a = scipy.signal.iirfilter(N=9, Wn=fc, fs=Fs, ftype='butter', btype='lowpass')\n",
    "display(len(h), len(b)+len(a))\n",
    "\n",
    "freq_fir, response_fir = scipy.signal.freqz(h, 1, fs=Fs)\n",
    "freq_iir, response_iir = scipy.signal.freqz(b, a, fs=Fs)"
   ]
  },
  {
   "cell_type": "code",
   "execution_count": null,
   "metadata": {
    "tags": [
     "hide-input"
    ]
   },
   "outputs": [],
   "source": [
    "p1 = hv.Curve((freq_fir, np.abs(response_fir)), 'Frecuencia', 'Respuesta', label='FIR')\n",
    "p2 = hv.Curve((freq_iir, np.abs(response_iir)), 'Frecuencia', 'Respuesta', label='IIR')\n",
    "hv.Overlay([p1, p2])*hv.VLine(fc).opts(color='k', alpha=0.5)"
   ]
  },
  {
   "cell_type": "markdown",
   "metadata": {},
   "source": [
    "La linea negra marca la ubicación de la frecuencia de corte\n",
    "\n",
    ":::{note}\n",
    "            \n",
    "El filtro IIR es mucho más abrupto, es decir filtra mejor, que el filtro FIR equivalente\n",
    "\n",
    ":::\n",
    "\n",
    "Una desventaja del filtro IIR es que por definición introduce una desfase no constante en la señal de salida"
   ]
  },
  {
   "cell_type": "code",
   "execution_count": null,
   "metadata": {},
   "outputs": [],
   "source": [
    "freq_fir, delay_fir = scipy.signal.group_delay(system=(h, 1), fs=Fs)\n",
    "freq_iir, delay_iir = scipy.signal.group_delay(system=(b, a), fs=Fs)"
   ]
  },
  {
   "cell_type": "code",
   "execution_count": null,
   "metadata": {
    "tags": [
     "hide-input"
    ]
   },
   "outputs": [],
   "source": [
    "p1 = hv.Curve((freq_fir, delay_fir), 'Frecuencia', 'Desfase', label='FIR')\n",
    "p2 = hv.Curve((freq_iir, delay_iir), 'Frecuencia', 'Desfase', label='IIR')\n",
    "hv.Overlay([p1, p2])*hv.VLine(fc).opts(color='k', alpha=0.5)"
   ]
  },
  {
   "cell_type": "markdown",
   "metadata": {},
   "source": [
    "¿Cómo se ve una señal filtrada donde se preserva la fase versus una donde no se preserva la fase?\n",
    "\n",
    "Consideremos la señal rectangular anterior y apliquemos un filtro pasa-bajo IIR de orden 1\n",
    "\n",
    "Esta vez compararemos el filtro con la función `scipy.signal.lfilter` y la función `scipy.signal.filtfilt`. La primera no preserva la fase mientras que la segunda si lo hace"
   ]
  },
  {
   "cell_type": "code",
   "execution_count": null,
   "metadata": {},
   "outputs": [],
   "source": [
    "Fs = 1\n",
    "fc = 0.01\n",
    "n = np.arange(0, 500)\n",
    "x = 0.5 + 0.5*scipy.signal.square((n)/(2.*np.pi*5), duty=0.3)\n",
    "\n",
    "b, a = scipy.signal.iirfilter(N=1, Wn=fc, fs=Fs, ftype='butter', btype='lowpass')\n",
    "# No se preserva la fase\n",
    "y_lfilter = scipy.signal.lfilter(b, a, x)\n",
    "# Se preserva la fase\n",
    "y_filtfilt = scipy.signal.filtfilt(b, a, x)"
   ]
  },
  {
   "cell_type": "code",
   "execution_count": null,
   "metadata": {
    "tags": [
     "hide-input"
    ]
   },
   "outputs": [],
   "source": [
    "px = hv.Curve((n, x), 'Tiempo', 'Entrada')\n",
    "py = []\n",
    "py.append(hv.Curve((n, y_filtfilt), 'Tiempo', 'Salida', label=f'Fase constante'))\n",
    "py.append(hv.Curve((n, y_lfilter), 'Tiempo', 'Salida', label=f'Fase no constante'))\n",
    "\n",
    "hv.Layout([px, hv.Overlay(py)]).cols(1).opts(hv.opts.Curve(height=200))"
   ]
  },
  {
   "cell_type": "markdown",
   "metadata": {},
   "source": [
    ":::{note}\n",
    "            \n",
    "En el caso donde no se preserva la fase podemos notar que la señal de salida está desplazada con respecto a la original. Además los cambios tienen una transición asimétrica \n",
    "\n",
    ":::\n",
    "\n",
    "La función `scipy.signal.filtfilt` \"arregla\" el problema del desfase filtrando la señal dos veces. La primera vez se filtra hacia adelante en el tiempo y la segunda vez hacia atrás. Por ende no se puede aplicar en un escenario de tipo *streaming* donde los datos van llegando de forma causal.\n",
    "\n",
    "En una aplicación causal donde se necesite preservar la fase debemos usar un filtro FIR."
   ]
  },
  {
   "cell_type": "markdown",
   "metadata": {
    "slideshow": {
     "slide_type": "subslide"
    }
   },
   "source": [
    "## Apéndice: Efectos de audio con filtros IIR\n",
    "\n",
    "\n",
    "El siguiente ejemplo muestra como implementar el conocido filtro <a href=\"https://en.wikipedia.org/wiki/Wah-wah_(music)\">Wah-wah</a> usando un sistema IIR\n",
    "\n",
    "Este es un filtro pasabanda modulado con ancho de pasada fijo $f_b$ [Hz] y una frecuencia central variable $f_c$ [Hz], donde La frecuencia central se modula con una onda lenta\n",
    "\n",
    "\n",
    "Se modela como el siguiente sistema **IIR**\n",
    "\n",
    "$$\n",
    "H[k] = \\frac{(1+c)W_N^{2k} -(1+c) }{W_N^{2k} + d(1-c)W_N^k -c}\n",
    "$$\n",
    "\n",
    "donde \n",
    "\n",
    "$$\n",
    "d=-\\cos(2\\pi f_c/f_s)\n",
    "$$ \n",
    "\n",
    "y \n",
    "\n",
    "$$\n",
    "c = \\frac{\\tan(\\pi f_b/f_s) -1}{\\tan(2\\pi f_b /f_s)+1}\n",
    "$$\n",
    "\n",
    "Veamos como modifica este filtro una señal de audio"
   ]
  },
  {
   "cell_type": "code",
   "execution_count": null,
   "metadata": {
    "slideshow": {
     "slide_type": "fragment"
    }
   },
   "outputs": [],
   "source": [
    "import librosa\n",
    "data, fs = librosa.load(\"../../data/DPSAU.ogg\")\n",
    "Audio(data, rate=fs)"
   ]
  },
  {
   "cell_type": "code",
   "execution_count": null,
   "metadata": {
    "slideshow": {
     "slide_type": "fragment"
    }
   },
   "outputs": [],
   "source": [
    "data_wah = []\n",
    "zi = np.zeros(shape=(2,))\n",
    "# Parámetros fijos del filtro\n",
    "fb, Nw = 200, 5 \n",
    "c  = (np.tan(np.pi*fb/fs) - 1.)/(np.tan(2*np.pi*fb/fs) +1)\n",
    "# Filtramos una ventana de la señal moviendo lentamente fc\n",
    "for k in range(len(data)//Nw):\n",
    "    # Cálculo de la frecuencia central\n",
    "    fc = 500 + 2000*(np.cos(2.0*np.pi*k*30./fs) +1)/2\n",
    "    d = -np.cos(2*np.pi*fc/fs)\n",
    "    # Coeficientes del filtro\n",
    "    b, a = [(1+c), 0, -(1+c)], [1, d*(1-c), -c]\n",
    "    # Filtramos, usando el filtrado anterior como borde (zi)\n",
    "    data2, zi = scipy.signal.lfilter(b, a, data[k*Nw:(k+1)*Nw], zi=zi)\n",
    "    # Guardamos\n",
    "    data_wah.append(data2)"
   ]
  },
  {
   "cell_type": "code",
   "execution_count": null,
   "metadata": {},
   "outputs": [],
   "source": [
    "Audio(np.hstack(data_wah), rate=int(fs))"
   ]
  },
  {
   "cell_type": "markdown",
   "metadata": {},
   "source": [
    "Si quieres profundizar en el tema de los filtros IIR aplicados a efectos de audio recomiendo: https://www.ee.columbia.edu/~ronw/adst-spring2010/lectures/lecture2.pdf\n"
   ]
  },
  {
   "cell_type": "code",
   "execution_count": null,
   "metadata": {},
   "outputs": [],
   "source": []
  }
 ],
 "metadata": {
  "celltoolbar": "Edit Metadata",
  "kernelspec": {
   "display_name": "Python 3",
   "language": "python",
   "name": "python3"
  },
  "language_info": {
   "codemirror_mode": {
    "name": "ipython",
    "version": 3
   },
   "file_extension": ".py",
   "mimetype": "text/x-python",
   "name": "python",
   "nbconvert_exporter": "python",
   "pygments_lexer": "ipython3",
   "version": "3.9.6"
  },
  "toc": {
   "base_numbering": 1,
   "nav_menu": {},
   "number_sections": true,
   "sideBar": true,
   "skip_h1_title": false,
   "title_cell": "Table of Contents",
   "title_sidebar": "Contents",
   "toc_cell": false,
   "toc_position": {},
   "toc_section_display": true,
   "toc_window_display": true
  }
 },
 "nbformat": 4,
 "nbformat_minor": 2
}
