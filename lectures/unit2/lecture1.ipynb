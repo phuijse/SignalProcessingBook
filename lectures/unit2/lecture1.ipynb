{
 "cells": [
  {
   "cell_type": "code",
   "execution_count": null,
   "metadata": {},
   "outputs": [],
   "source": [
    "import holoviews as hv\n",
    "hv.extension('bokeh')\n",
    "hv.opts.defaults(hv.opts.Curve(width=500), \n",
    "                 hv.opts.Image(width=500, colorbar=True, cmap='Viridis'))"
   ]
  },
  {
   "cell_type": "code",
   "execution_count": null,
   "metadata": {},
   "outputs": [],
   "source": [
    "import numpy as np\n",
    "import scipy.signal\n",
    "import scipy.fft\n",
    "from IPython.display import Audio"
   ]
  },
  {
   "cell_type": "markdown",
   "metadata": {
    "slideshow": {
     "slide_type": "slide"
    }
   },
   "source": [
    "# Análisis de señales no estacionarias utilizando espectrogramas\n",
    "\n",
    "## ¿Qué ocurre con el espectro de una señal si su frecuencia cambia en el tiempo?\n",
    "\n",
    "Consideremos este ejemplo sencillo de una señal donde la frecuencia cambia abruptamente en un tiempo determinado\n",
    "\n",
    "$$\n",
    "s(t) = \\begin{cases}\\cos(2\\pi f_1 t) & t <0  \\\\ \\cos(2\\pi f_2 t) & t \\geq 0 \\end{cases}\n",
    "$$\n",
    "\n",
    "Sea por ejemplo $f_1=440$ Hz y $f_2 = 220$ Hz. Si la graficamos:"
   ]
  },
  {
   "cell_type": "code",
   "execution_count": null,
   "metadata": {
    "ExecuteTime": {
     "end_time": "2020-10-26T19:14:26.928854Z",
     "start_time": "2020-10-26T19:14:26.695493Z"
    }
   },
   "outputs": [],
   "source": [
    "f1, f2, Fs = 440, 220, 44100\n",
    "t = np.arange(-0.5, 0.5, step=1/Fs)\n",
    "N = len(t)\n",
    "s = np.concatenate((np.cos(2.0*np.pi*f1*t[:N//2]), \n",
    "                    np.cos(2.0*np.pi*f2*t[N//2:])))"
   ]
  },
  {
   "cell_type": "code",
   "execution_count": null,
   "metadata": {},
   "outputs": [],
   "source": [
    "hv.Curve((t, s), 'Tiempo [s]', 'Señal').opts(xlim=(-0.05, 0.05))"
   ]
  },
  {
   "cell_type": "markdown",
   "metadata": {
    "ExecuteTime": {
     "end_time": "2020-10-26T19:11:12.761943Z",
     "start_time": "2020-10-26T19:11:12.755703Z"
    }
   },
   "source": [
    "y si la escuchamos"
   ]
  },
  {
   "cell_type": "code",
   "execution_count": null,
   "metadata": {
    "ExecuteTime": {
     "end_time": "2020-10-26T19:14:40.972031Z",
     "start_time": "2020-10-26T19:14:40.964490Z"
    }
   },
   "outputs": [],
   "source": [
    "Audio(s, rate=Fs)"
   ]
  },
  {
   "cell_type": "markdown",
   "metadata": {
    "ExecuteTime": {
     "end_time": "2020-10-26T19:12:24.908041Z",
     "start_time": "2020-10-26T19:12:24.902482Z"
    }
   },
   "source": [
    "Si calculamos la FFT de la señal para obtener su espectro tenemos que"
   ]
  },
  {
   "cell_type": "code",
   "execution_count": null,
   "metadata": {
    "ExecuteTime": {
     "end_time": "2020-10-26T19:12:44.237426Z",
     "start_time": "2020-10-26T19:12:43.979818Z"
    },
    "slideshow": {
     "slide_type": "fragment"
    }
   },
   "outputs": [],
   "source": [
    "f = scipy.fft.rfftfreq(n=N, d=1./Fs)\n",
    "S = np.absolute(scipy.fft.rfft(s))"
   ]
  },
  {
   "cell_type": "code",
   "execution_count": null,
   "metadata": {},
   "outputs": [],
   "source": [
    "hv.Curve((f, S), 'Frecuencia [Hz]', 'Espectro').opts(xlim=(0, 1000))"
   ]
  },
  {
   "cell_type": "markdown",
   "metadata": {},
   "source": [
    "La DFT/FFT nos entrega un \"resumen\" de todas las frecuencias en la señal\n",
    "\n",
    ":::{important}\n",
    "\n",
    "No es posible diferenciar una señal donde ambas frecuencias ocurren al mismo tiempo de otra donde las frecuencias aparecen en tiempos distintos\n",
    "\n",
    ":::\n",
    "\n",
    "En general la transformada de Fourier asume que la señal de interés es **estacionaria**. Una señal estacionaria es aquella cuyas propiedades y momentos estadísticos se mantienen en el tiempo"
   ]
  },
  {
   "cell_type": "markdown",
   "metadata": {},
   "source": [
    "## Frecuencia instantanea\n",
    "\n",
    "Hasta ahora hemos estudiando señales donde la frecuencia es constante en el tiempo\n",
    "\n",
    "Definamos la **frecuencia instantanea** como la tasa de cambio del ángulo (fase) en función del tiempo\n",
    "\n",
    "$$\n",
    "f(t) =  \\frac{1}{2\\pi} \\frac{d \\phi (t)}{dt}\n",
    "$$\n",
    "\n",
    "Por ejemplo señal sinusoidal con una frecuencia que cambia en el tiempo sería entonces\n",
    "\n",
    "$$\n",
    "s(t) = A \\cos( \\phi(t) ) = A \\cos \\left(2\\pi \\int_0^t f(\\tau) d\\tau + \\phi(0) \\right)\n",
    "$$\n",
    "\n",
    "de donde podemos notar que si la frecuencia fuera constante, es decir $f(t) = f_0$ $\\forall t$, entonces $\\int_0^t f(\\tau) d\\tau = t f_0$ y recuperamos $A\\cos(2\\pi t f_0 + \\phi)$ \n",
    "\n",
    "En cualquier caso donde $f(t)$ no es constante estaremos ante una señal no estacionaria\n",
    "\n",
    "A continuación dos ejemplos de señales donde la frecuencia cambia con el tiempo\n",
    "\n",
    "- El chirrido: señal cuya frecuencia cambia entre dos valores\n",
    "- El vibrato: señal que está modulada en frecuencia por otra señal\n"
   ]
  },
  {
   "cell_type": "markdown",
   "metadata": {},
   "source": [
    "### Chirrido o *Chirp* \n",
    "\n",
    "\n",
    "<img src=\"../images/loica.png\" width=\"400\">\n",
    "\n",
    "> Loica (Sturnella loyca). Referencia: http://www.conserva.cl/2009/09/sonidos-de-aves-de-chile-loica.html\n",
    "\n",
    "Un *chirp* es una señal cuya frecuencia varía suavemente entre un primer valor $f_0$ y un segundo valor $f_1$. Por ejemplo esta variación podría seguir una forma lineal \n",
    "\n",
    "$$\n",
    "f(t) = f_{0} + (f_{1} - f_{0}) \\frac{(t - t_{0})}{(t_{1} - t_{0})},\n",
    "$$\n",
    "\n",
    "donde $t_0$ y $t_1$ son los tiempos en que la señal oscila a $f_0$ y $f_1$, respectivamente. También se puede usar una forma no lineal, por ejemplo cuadrática o exponencial\n",
    "\n",
    "Los *chirp* se usan como modelo en aplicaciones asociadas a radar y sonar. También se han usado para modelar el canto de algunas aves con el objetivo de hacer identificación automática\n",
    "\n",
    "Podemos crear un chirrido sintético con `scipy` usando \n",
    "\n",
    "```python\n",
    "\n",
    "scipy.signal.chirp(t, # Un vector de tiempos\n",
    "                   f0, # La frecuencia en el tiempo t=0\n",
    "                   t1, # El tiempo en el cual f=f1\n",
    "                   f1, # La frecuencia para el tiempo t=t1\n",
    "                   method='linear', # Otras opciones disponibles: 'quadratic', 'logarithmic' o 'hyperbolic'\n",
    "                   ...\n",
    "                   )\n",
    "\n",
    "```"
   ]
  },
  {
   "cell_type": "code",
   "execution_count": null,
   "metadata": {},
   "outputs": [],
   "source": [
    "f0, f1, Fs = 4000, 2000, 44100\n",
    "t = np.arange(0, 0.5, step=1./Fs); \n",
    "s = 0.1*scipy.signal.chirp(t, f0=f0, f1=f1, t1=t[-1], method='quadratic')"
   ]
  },
  {
   "cell_type": "markdown",
   "metadata": {},
   "source": [
    "En este ejemplo la frecuencia cambia cuadraticamente"
   ]
  },
  {
   "cell_type": "code",
   "execution_count": null,
   "metadata": {},
   "outputs": [],
   "source": [
    "hv.Curve((t, f0 + (f1 - f0)*(t/t[-1])**2), 'Tiempo [s]', 'Frecuencia [Hz]')"
   ]
  },
  {
   "cell_type": "markdown",
   "metadata": {},
   "source": [
    "El resultado sonoro se muestra a continuación"
   ]
  },
  {
   "cell_type": "code",
   "execution_count": null,
   "metadata": {},
   "outputs": [],
   "source": [
    "Audio(s, rate=Fs, normalize=False)"
   ]
  },
  {
   "cell_type": "markdown",
   "metadata": {
    "slideshow": {
     "slide_type": "subslide"
    }
   },
   "source": [
    "### Frecuencia Modulada (FM)\n",
    "\n",
    "La FM es una tecnología para guardar información en la frecuencia de una onda electromagnética. Es un tipo de **codificación** que se usa mucho en transmisiones de radio. \n",
    "\n",
    "- La onda electromagnética se llama **señal portadora**. En radio corresponde a una sinusoide con una frecuencia central en el rango de 88 a los 108 [MHz]\n",
    "- La información se llama **señal modulada**. En radio corresponde tipicamente a una señal de voz o a una canción, es decir que está en el rango de los 20 [Hz] a 20 [kHz] (rango audible humano)\n",
    "\n",
    "Una señal en el rango audible puede viajar algunos metros. En cambio, si va codificada en la señal portadora puede viajar cerca de 50 km\n",
    "\n",
    "El siguiente esquema muestra la operación que realiza una estación de radio que transmite señales\n",
    "\n",
    "<img src=\"../images/fm.png\" width=\"600\">\n",
    "\n",
    "La radio que recibe la señal debe realizar el proceso inverso, es decir decodificar la información a partir de la frecuencia de la señal que está recepcionando\n"
   ]
  },
  {
   "cell_type": "markdown",
   "metadata": {},
   "source": [
    "Matemáticamente la señal modulada $s_m(t)$ modifica la frecuencia central $f_c$ de la señal portadora como sigue\n",
    "\n",
    "$$\n",
    "\\begin{align}\n",
    "s(t) & = A_c \\cos \\left(2\\pi \\int_0^t \\left(f_c + K s_m(\\tau) \\right) d\\tau \\right) \\nonumber \\\\\n",
    "&= A_c \\cos \\left(2\\pi f_c t + 2\\pi K  \\int_0^t s_m(\\tau) d\\tau \\right), \\nonumber\n",
    "\\end{align}\n",
    "$$\n",
    "\n",
    "donde $K$ es el coeficiente de modulación y $s(t)$ es la señal que finalmente viaja por el medio\n",
    "\n",
    "Cada estación de radio transmite su información $s_m(t)$ usando una frecuencia portadora $f_c$ distinta para no traslaparse"
   ]
  },
  {
   "cell_type": "markdown",
   "metadata": {},
   "source": [
    "### Vibrato\n",
    "\n",
    "Un [vibrato](https://es.wikipedia.org/wiki/Vibrato) es un efecto musical que consiste en variar periódicamente el tono de una nota. \n",
    "\n",
    "Un violinista logra este efecto presionando una cuerda y luego moviendo su dedo de forma regular como muestra la siguiente animación (en cámara lenta)\n",
    "\n",
    "<img src=\"../images/vibrato.gif\" width=\"400\">\n",
    "\n",
    "\n",
    "Podemos considerar el vibrato como un caso particular de modulación de frecuencia. Si consideremos sólo tonos puros podríamos definir $s_m(t) = \\cos(2\\pi f_m t)$, con lo que nos queda la siguiente señal\n",
    "\n",
    "$$\n",
    "s(t) = A_c \\cos \\left(2\\pi f_c t + \\frac{K}{f_m} \\sin(2\\pi f_m t)  \\right),\n",
    "$$\n",
    "\n",
    "De la expresión tenemos que\n",
    "\n",
    "- $f_c$ es la frecuencia o tono central\n",
    "- $f_m$ es la velocidad a la que cambia el tono central\n",
    "- $K/f_m$ es la amplitud del cambio del tono cnetral\n",
    "\n",
    "Podemos implementar un vibrato usando"
   ]
  },
  {
   "cell_type": "code",
   "execution_count": null,
   "metadata": {},
   "outputs": [],
   "source": [
    "A_c, K, f_c, f_m, Fs = 1, 50, 220, 8, 44100\n",
    "t = np.arange(0, 2, step=1/Fs)\n",
    "sm = np.cos(2.0*np.pi*f_m*t)\n",
    "s = A_c*np.cos(2.0*np.pi*f_c*t + (K/f_m)*np.sin(2.0*np.pi*f_m*t))"
   ]
  },
  {
   "cell_type": "markdown",
   "metadata": {},
   "source": [
    "La frecuencia de la portadora (azul) aumenta con la amplitud de la modulada (roja)"
   ]
  },
  {
   "cell_type": "code",
   "execution_count": null,
   "metadata": {},
   "outputs": [],
   "source": [
    "p1 = hv.Curve((t, s), 'Tiempo[s]', 'Señal', label='Portadora').opts(alpha=0.75)\n",
    "p2 = hv.Curve((t, sm), 'Tiempo[s]', 'Señal', label='Modulada')\n",
    "(p1 * p2).opts(hv.opts.Curve(xlim=(0, 0.2)))"
   ]
  },
  {
   "cell_type": "code",
   "execution_count": null,
   "metadata": {
    "ExecuteTime": {
     "end_time": "2020-10-27T19:44:37.166394Z",
     "start_time": "2020-10-27T19:44:36.363747Z"
    }
   },
   "outputs": [],
   "source": [
    "Audio(s, rate=Fs)"
   ]
  },
  {
   "cell_type": "markdown",
   "metadata": {
    "slideshow": {
     "slide_type": "subslide"
    }
   },
   "source": [
    "## Representación en tiempo y frecuencia\n",
    "\n",
    "Para estudiar una señal cuya frecuencia cambia en el tiempo debemos estudiar la evolución temporal de su espectro. La herramienta más utilizada para esto se llama espectrograma\n",
    "\n",
    "El **espectrograma** es una representación visual de la energía de la señal distribuida tanto en el tiempo y en la frecuencia. Es decir que es una representación bidimensional. \n",
    "\n",
    "La siguiente imagen muestra un espectrograma de una señal de habla humana, una señal altamente no estacionaria cuya frecuencia puede presentar cambios bruscos\n",
    "\n",
    "<img src=\"../images/spectrogram_speech.png\" width=\"600\">\n",
    "\n",
    "Notar que:\n",
    "\n",
    "- El eje horizontal representa tiempo (segundos)\n",
    "- El eje vertical representa frecuencia (Hz)\n",
    "- Se usa color para representar la intensidad energética\n",
    "\n",
    "En la imagen se puede apreciar como el contenido energético cambia su distribución de forma notoria en  los momentos de respiración (breath) y habla (speech). Muchos algoritmos actuales de reconocimiento de habla (por ejemplo redes neuronales artificiales) operan reconociendo patrones a partir del espectrograma.\n",
    "\n",
    ":::{important}\n",
    "\n",
    "A diferencia del espectro, el espectrograma nos permite estudiar los cambios de energía \"instantáneos\" de la señal\n",
    "\n",
    ":::"
   ]
  },
  {
   "cell_type": "markdown",
   "metadata": {},
   "source": [
    "### ¿Cómo se obtiene el espectrograma?\n",
    "\n",
    "Para calcular el espectrograma se utiliza la *short-time Fourier transform* (STFT). Para el caso de una señal discreta la STFT se define como\n",
    "\n",
    "$$\n",
    "S[m, k] = \\sum_{n} s[n] w[n-m] e^{-j \\frac{2\\pi}{N} nk}\n",
    "$$\n",
    "\n",
    "Notemos como la STFT tanto del tiempo (índice m) como de la frecuencia (índice k)\n",
    "\n",
    "En la práctica la STFT consiste en \n",
    "\n",
    "1. multiplicar la señal por una ventana localizada $w[n-m]$ \n",
    "2. calcular la FFT sobre esa ventana\n",
    "\n",
    "Esto se repite para distintas ventanas como muestra el siguiente diagrama. \n",
    "\n",
    "<img src=\"../images/spectrogram-diagram.png\">\n",
    "\n",
    "En la parte superior de la imagen, la linea azul es la señal y las lineas rojas son las ventanas desplazadas. En la parte inferior se muestra que de cada ventana desplazada se obtiene un espectro. Finalmente el espectrograma consiste en juntar los espectros de amplitud de cada ventana. Notemos que puede haber traslape entre las ventanas\n",
    "\n",
    ":::{note}\n",
    "\n",
    "Cuando utilizamos el espectrograma estamos asumiendo que la señal es \"localmente\" estacionaria. Es decir que es estacionaria dentro de la ventana.\n",
    "\n",
    ":::"
   ]
  },
  {
   "cell_type": "markdown",
   "metadata": {},
   "source": [
    "## Espectrograma en Python\n",
    "\n",
    "Podemos usar la función de `scipy.signal.spectrogram` cuyos parámetros más relevantes son\n",
    "\n",
    "```python\n",
    "spectrogram(x, # Señal\n",
    "            fs=1.0, # Frecuencia de muestreo\n",
    "            window=('tukey', 0.25), # Tipo de ventana y parámetros de ventana\n",
    "            nperseg=None, # Ancho de la ventana en número de muestras\n",
    "            noverlap=None, # Cantidad de traslape, por defecto es 1/8 del largo de ventana\n",
    "            ...\n",
    "           )\n",
    "```\n",
    "\n",
    "Esta función retorna una tupla con\n",
    "\n",
    "- Un arreglo con las frecuencias del espectrograma de largo M\n",
    "- Un arreglo con los tiempos de las ventanas de largo N\n",
    "- Una matriz de MxN con los valores del espectrograma\n",
    "\n",
    "Calculemos y visualicemos el espectrograma de la señal de ejemplo que vimos al principio de esta lección"
   ]
  },
  {
   "cell_type": "code",
   "execution_count": null,
   "metadata": {},
   "outputs": [],
   "source": [
    "f1, f2, Fs = 440, 220, 44100\n",
    "t = np.arange(0.0, 1.0, step=1/Fs)\n",
    "N = len(t)\n",
    "s = np.concatenate((np.cos(2.0*np.pi*f1*t[:N//2]), \n",
    "                    np.cos(2.0*np.pi*f2*t[N//2:])))\n",
    "\n",
    "freqs, times, Sxx = scipy.signal.spectrogram(s, fs=Fs, nperseg=1024)"
   ]
  },
  {
   "cell_type": "code",
   "execution_count": null,
   "metadata": {},
   "outputs": [],
   "source": [
    "hv.Image((times, freqs, Sxx), kdims=['Tiempo [s]', 'Frecuencia [Hz]']).opts(ylim=(0, 1000)) "
   ]
  },
  {
   "cell_type": "markdown",
   "metadata": {},
   "source": [
    ":::{important}\n",
    "\n",
    "Con el espectrograma podemos visualizar donde (temporalmente) ocurre cada una de las frecuencias de la señal\n",
    "\n",
    ":::"
   ]
  },
  {
   "cell_type": "markdown",
   "metadata": {},
   "source": [
    "A continuación profundizaremos en como seleccionar los argumentos del espectrograma utilizando algunos ejemplos"
   ]
  },
  {
   "cell_type": "markdown",
   "metadata": {},
   "source": [
    "### Argumentos y trade-off del espectrograma\n",
    "\n",
    "Para calcular el espectrograma debemos seleccionar \n",
    "\n",
    "- un tipo o función de ventana, por ejemplo Hamming, Tukey o Kaiser\n",
    "- un ancho de ventana, expresado tipicamente en número de muestras\n",
    "- un traslape de ventana, expresado tipicamente en número de muestras o en porcentaje de traslape\n",
    "\n",
    "En la lección de \"Fuga espectral\" vimos que la resolución frecuencial en el espectro depende fuertemente del número de muestras (ancho) de la ventana y el tipo o función de la ventana. En particular mientras más ancha es la ventana mejor es la resolución en el eje de frecuencia. \n",
    "\n",
    "Sin embargo si la ventana es demasiado ancha no podremos identificar bien los eventos más breves o rápidos. \n",
    "\n",
    ":::{warning}\n",
    "\n",
    "En el espectrograma existe un compromiso (*trade-off*) entre la resolución en el tiempo y la resolución en frecuencia. No se puede mejorar una sin empeorar la otra.\n",
    "\n",
    ":::\n",
    "\n",
    "El siguiente esquema ejemplifica esta situación"
   ]
  },
  {
   "cell_type": "markdown",
   "metadata": {},
   "source": [
    "<img src=\"../images/spectrogram-windowing.png\">"
   ]
  },
  {
   "cell_type": "markdown",
   "metadata": {},
   "source": [
    "Más adelante veremos como el largo de la ventana afecta el espectrograma con un ejemplo práctico"
   ]
  },
  {
   "cell_type": "markdown",
   "metadata": {
    "slideshow": {
     "slide_type": "subslide"
    }
   },
   "source": [
    "### Espectrograma de un vibrato\n",
    "\n",
    "Implementemos nuevamente el vibrato con frecuencia instantanea\n",
    "\n",
    "$$\n",
    "f(t) = f_c + K \\cos(2.0\\pi f_m t)\n",
    "$$\n"
   ]
  },
  {
   "cell_type": "code",
   "execution_count": null,
   "metadata": {},
   "outputs": [],
   "source": [
    "A_c, K, f_c, f_m, Fs = 1, 25, 440, 8, 44100\n",
    "t = np.arange(0, 1, step=1/Fs)\n",
    "sm = np.cos(2.0*np.pi*f_m*t)\n",
    "s = A_c*np.cos(2.0*np.pi*f_c*t + (K/f_m)*np.sin(2.0*np.pi*f_m*t))\n",
    "window = ('kaiser', 6.)"
   ]
  },
  {
   "cell_type": "markdown",
   "metadata": {},
   "source": [
    "A continuación se muestran tres espectrogramas con distinto largo de ventana. La linea roja punteada corresponde $f(t)$ en función de $t$. En todos los espectrogramas se usó una ventana de Kaiser con $\\beta=6$"
   ]
  },
  {
   "cell_type": "code",
   "execution_count": null,
   "metadata": {},
   "outputs": [],
   "source": [
    "def plot_spectrogram(Nw):\n",
    "    display(f'Ventana de {1000*Nw/Fs:0.4f} [ms]')\n",
    "    freqs, times, Sxx = scipy.signal.spectrogram(s, fs=Fs, nperseg=Nw, noverlap=Nw//1.5, window=window)\n",
    "    formula = hv.Curve((t, f_c + K*sm)).opts(color='r', line_dash='dashed')\n",
    "    spectrogram = hv.Image((times, freqs, Sxx), kdims=['Tiempo [s]', 'Frecuencia [Hz]']).opts(ylim=(300, 600)) \n",
    "    return spectrogram * formula"
   ]
  },
  {
   "cell_type": "code",
   "execution_count": null,
   "metadata": {},
   "outputs": [],
   "source": [
    "plot_spectrogram(512)"
   ]
  },
  {
   "cell_type": "markdown",
   "metadata": {},
   "source": [
    "**Ventana muy angosta:** Resolución temporal superior (eje horizontal) pero gran dispersión en la frecuencia (eje vertical)"
   ]
  },
  {
   "cell_type": "code",
   "execution_count": null,
   "metadata": {},
   "outputs": [],
   "source": [
    "plot_spectrogram(8192)"
   ]
  },
  {
   "cell_type": "markdown",
   "metadata": {},
   "source": [
    "**Ventana muy ancha:** Resolución frecuencial superior (eje vertical) pero gran dispersión en el tiempo (eje horizontal)"
   ]
  },
  {
   "cell_type": "code",
   "execution_count": null,
   "metadata": {},
   "outputs": [],
   "source": [
    "plot_spectrogram(2048)"
   ]
  },
  {
   "cell_type": "markdown",
   "metadata": {},
   "source": [
    "**Compromiso:** La ventana de 46 [ms] parece presentar un mejor compromiso entre resolución temporal y frecuencial. \n",
    "\n",
    "\n",
    ":::{important}\n",
    "\n",
    "El mejor compromiso depende de la tasa de cambio temporal y frecuencial de la señal en particular. No existe una receta para escoger el tamaño de ventana. Lo mejor es siempre probar y estudiar los resultados. \n",
    "\n",
    ":::\n",
    "\n",
    "\n"
   ]
  },
  {
   "cell_type": "markdown",
   "metadata": {},
   "source": [
    "### Espectrograma de una señal de voz\n",
    "\n",
    "Consideremos la siguiente señal de voz humana y su espectrograma\n",
    "\n",
    "Utilizaremos la librería `librosa` para cargar el archivo de audio en memoria"
   ]
  },
  {
   "cell_type": "code",
   "execution_count": null,
   "metadata": {
    "ExecuteTime": {
     "end_time": "2020-10-28T03:04:06.921630Z",
     "start_time": "2020-10-28T03:04:06.054876Z"
    }
   },
   "outputs": [],
   "source": [
    "import librosa\n",
    "\n",
    "data, Fs = librosa.load(\"../../data/123.ogg\")\n",
    "time = np.arange(0.0, len(data)/Fs, step=1/Fs)\n",
    "display(Audio(data, rate=Fs))\n",
    "hv.Curve((time, data), 'Tiempo [s]', 'Señal')"
   ]
  },
  {
   "cell_type": "code",
   "execution_count": null,
   "metadata": {},
   "outputs": [],
   "source": [
    "Nw = 2048\n",
    "freqs, times, Sxx = scipy.signal.spectrogram(data, fs=Fs, window=('kaiser', 6), \n",
    "                                             nperseg=Nw, noverlap=Nw//1.5)"
   ]
  },
  {
   "cell_type": "code",
   "execution_count": null,
   "metadata": {},
   "outputs": [],
   "source": [
    "hv.Image((times, freqs, 10*np.log10(Sxx+1e-10)), \n",
    "            kdims=['Tiempo [s]', 'Frecuencia [Hz]']).opts(ylim=(0, 2000)) "
   ]
  },
  {
   "cell_type": "markdown",
   "metadata": {},
   "source": [
    "Si comparamos con la señal de audio que graficamos antes podemos observar que\n",
    "\n",
    "- Cada vocal tiene un tono y una distribución de energía distintos\n",
    "- A diferencia de una señal sintética la voz humana es rica en armónicos\n",
    "- A diferencia de una señal sintética hay ruido blanco que contamina el espectrograma\n",
    "\n",
    "Notar que no graficamos la energía si no su logaritmo en base diez. Aplicar `log10` es muy usual para visualizar el espectro en señales de habla ya que su energía varía en un rango muy amplio"
   ]
  },
  {
   "cell_type": "code",
   "execution_count": null,
   "metadata": {},
   "outputs": [],
   "source": []
  }
 ],
 "metadata": {
  "kernelspec": {
   "display_name": "Python 3",
   "language": "python",
   "name": "python3"
  },
  "language_info": {
   "codemirror_mode": {
    "name": "ipython",
    "version": 3
   },
   "file_extension": ".py",
   "mimetype": "text/x-python",
   "name": "python",
   "nbconvert_exporter": "python",
   "pygments_lexer": "ipython3",
   "version": "3.9.7"
  },
  "toc": {
   "base_numbering": 1,
   "nav_menu": {},
   "number_sections": true,
   "sideBar": true,
   "skip_h1_title": false,
   "title_cell": "Table of Contents",
   "title_sidebar": "Contents",
   "toc_cell": false,
   "toc_position": {
    "height": "calc(100% - 180px)",
    "left": "10px",
    "top": "150px",
    "width": "353px"
   },
   "toc_section_display": true,
   "toc_window_display": true
  }
 },
 "nbformat": 4,
 "nbformat_minor": 2
}
