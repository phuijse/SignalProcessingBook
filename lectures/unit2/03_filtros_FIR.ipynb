{
 "cells": [
  {
   "cell_type": "code",
   "execution_count": null,
   "metadata": {
    "ExecuteTime": {
     "end_time": "2020-11-02T01:27:51.329562Z",
     "start_time": "2020-11-02T01:27:50.589567Z"
    }
   },
   "outputs": [],
   "source": [
    "%matplotlib notebook\n",
    "import numpy as np\n",
    "import scipy.signal\n",
    "import scipy.fft as sfft\n",
    "import matplotlib.pylab as plt\n",
    "from matplotlib import animation\n",
    "\n",
    "from IPython.display import YouTubeVideo, HTML, Audio\n",
    "from bokeh.layouts import column, row\n",
    "from bokeh.models import CustomJS, ColumnDataSource, Slider\n",
    "from bokeh.plotting import Figure, show, output_notebook\n",
    "output_notebook()"
   ]
  },
  {
   "cell_type": "markdown",
   "metadata": {},
   "source": [
    "# Diseño de sistemas y filtros FIR\n",
    "\n",
    "En la lección anterior definimos un sistema FIR como\n",
    "\n",
    "$$\n",
    "y[n] = (h * x)[n]\n",
    "$$\n",
    "\n",
    "donde $h$ es un vector de largo $L+1$ que tiene los coeficientes del sistema\n",
    "\n",
    "El filtro FIR observa $L+1$ instantes de la entrada para calcular la salida\n",
    "\n",
    "En esta lección veremos\n",
    "\n",
    "- La respuesta al impulso y respuesta en frecuencia de un sistema\n",
    "- La definición de filtro y los tipos básicos de filtros\n",
    "- Como diseñar un filtro FIR, es decir decidir los valores del vector $h$"
   ]
  },
  {
   "cell_type": "markdown",
   "metadata": {},
   "source": [
    "## Respuesta al impulso de un sistema\n",
    "\n",
    "\n",
    "Sea el impulso unitario o delta de Kronecker\n",
    "\n",
    "$$\n",
    "\\delta[n-m] = \\begin{cases} 1 & n=m \\\\ 0 & n \\neq m \\end{cases}\n",
    "$$\n",
    "\n",
    "La **respuesta al impulso de un sistema discreto** es la salida obtenida cuando la entrada es un impulso unitario\n",
    "\n",
    "\n",
    "Para un sistema FIR arbitrario tenemos\n",
    "\n",
    "$$\n",
    "y[n]|_{x=\\delta} = (h * \\delta)[n] = \\sum_{j=0}^L h[j] \\delta[n-j] = \\begin{cases} h[n] & n \\in [0, L] \\\\ 0 & \\text{en otro caso} \\end{cases} \\\\\n",
    "$$\n",
    "\n",
    "es decir que la respuesta al impulso:\n",
    "\n",
    "-  tiene **una duración finita y luego decae a zero**\n",
    "-  recupera los coeficientes $h[j]$ del sistema\n",
    "\n",
    "En un sistema causal se tiene que $h[n] = 0 \\quad \\forall n < 0$\n",
    "\n",
    "Llamamos **soporte** del sistema a todos aquellos valores de $n$ tal que  $h[n] \\neq 0$\n"
   ]
  },
  {
   "cell_type": "markdown",
   "metadata": {},
   "source": [
    "### Ejemplo\n",
    "\n",
    "Para el sistema reverberante\n",
    "\n",
    "$$\n",
    "y[n] = x[n] + A x[n-m]\n",
    "$$\n",
    "\n",
    "la respuesta al impulso es\n",
    "\n",
    "$$\n",
    "y[n] = \\delta[n] + A \\delta[n-m] = \\begin{cases} 1 & n=0\\\\ A& n=m \\\\ 0 & \\text{en otro caso} \\end{cases}\n",
    "$$\n",
    "\n",
    "La respuesta al impulse me permite a recuperar los coeficientes del sistema en caso de que no los conociera"
   ]
  },
  {
   "cell_type": "markdown",
   "metadata": {},
   "source": [
    "## Respuesta en frecuencia de un sistema\n",
    "\n",
    "Sea un sistema lineal cuyos coeficientes no cambian en el tiempo, como el sistema FIR que hemos estado estudiando\n",
    "\n",
    "Por propiedad de la transformada de Fourier sabemos que \n",
    "\n",
    "$$\n",
    "\\begin{align}\n",
    "\\text{DFT}_N [y[n]] & = \\text{DFT}_N [(h * x)[n]] \\nonumber \\\\\n",
    "\\text{DFT}_N [y[n]] & = \\text{DFT}_N [h[n]]  \\cdot \\text{DFT}_N [x[n]] \\nonumber \\\\\n",
    "Y[k] &= H[k] \\cdot X[k] , \n",
    "\\end{align}\n",
    "$$\n",
    "\n",
    "donde llamamos a $H[k]$ la **respuesta en frecuencia del sistema** \n",
    "\n",
    "La respuesta en frecuencia es **la transformada de Fourier de la respuesta al impulso**\n"
   ]
  },
  {
   "cell_type": "markdown",
   "metadata": {},
   "source": [
    "### Ejemplo: Respuesta en frecuencia del sistema promediador\n",
    "\n",
    "Podemos calcular la respuesta en frecuencia de un filtro a partir de su respuesta al impulso $h$ usando la función\n",
    "\n",
    "```python\n",
    "scipy.signal.freqz(b, # Coeficientes en el numerador h\n",
    "                   a=1, # Coeficientes en el denominador de h\n",
    "                   fs=6.28318 # Frecuencia de muestreo\n",
    "                   ...\n",
    "                  )\n",
    "```\n",
    "\n",
    "Para el caso de un filtro FIR solo existen coeficientes en el numerador por lo que no utilizamos el argumento $a$\n",
    "\n",
    "La función retorna \n",
    "\n",
    "```python\n",
    "    freq, H = scipy.signal.freqz(b=h)\n",
    "```\n",
    "\n",
    "un arreglo de frecuencias y la respuesta en frecuencia (compleja)\n",
    "\n",
    "Por ejemplo el sistema promediador que vimos anteriormente\n",
    "\n",
    "$$\n",
    "h[i] = \\begin{cases} 1/L & i < L \\\\ 0 & i > L \\end{cases}\n",
    "$$\n",
    "\n",
    "el valor absoluto de su respuesta en frecuencia es"
   ]
  },
  {
   "cell_type": "code",
   "execution_count": null,
   "metadata": {},
   "outputs": [],
   "source": [
    "from bokeh.palettes import Dark2_5 as palette\n",
    "\n",
    "p = [Figure(plot_width=600, plot_height=230, toolbar_location=\"below\") for k in range(2)]\n",
    "\n",
    "for L, color in zip([10, 20, 50], palette):\n",
    "\n",
    "    h = np.zeros(shape=(100,))\n",
    "    h[:L] = 1/L\n",
    "    freq, H = scipy.signal.freqz(b=h, fs=1)\n",
    "    p[0].line(range(100), h, color=color, line_width=2)\n",
    "    p[1].line(freq, np.absolute(H), \n",
    "              color=color, line_width=2, legend_label=f\"L={L}\")\n",
    "\n",
    "show(column(p))"
   ]
  },
  {
   "cell_type": "markdown",
   "metadata": {},
   "source": [
    "Mientras más ancho es el sistema en el dominio del tiempo ($L$ grande), más concentrada se vuelve su respuesta en frecuencia\n",
    "\n",
    "Si multiplicamos $H$ con el espectro de una señal, lo que estamos haciendo es atenuar las frecuencias altas\n",
    "\n",
    "Formalicemos este concepto a continuación"
   ]
  },
  {
   "cell_type": "markdown",
   "metadata": {
    "slideshow": {
     "slide_type": "slide"
    }
   },
   "source": [
    "## Filtros digitales\n",
    "\n",
    "Un **filtro** es un sistema cuyo objetivo es reducir o resaltar un aspecto específico de una señal\n",
    "\n",
    "Por ejemplo\n",
    "\n",
    "- Disminuir el nivel de ruido\n",
    "- Separar dos o más señales que están mezcladas\n",
    "- Ecualizar la señal\n",
    "- Restaurar la señal (eliminar desenfoque o artefactos de grabación)\n",
    "\n",
    "Llamamos **filtro digital** a los filtros aplicados a señales digitales\n",
    "\n",
    "Hablamos de **señal filtrada** para referirnos a la salida del filtro\n",
    "\n",
    "En esta unidad nos enfocaremos en filtros cuyos coeficientes son fijos y no se modifican en el tiempo. En la próxima unidad veremos filtros que se adaptan continuamente a los cambios de la entrada"
   ]
  },
  {
   "cell_type": "markdown",
   "metadata": {},
   "source": [
    "## Tipos básicos de filtro \n",
    "\n",
    "Como vimos el filtro lineal e invariante en el tiempo puede estudiarse en frecuencia usando \n",
    "\n",
    "$$\n",
    "Y[k] = H[k] X[k] ,\n",
    "$$\n",
    "\n",
    "donde $H[k]$ es la DFT del filtro (respuesta en frecuencia)\n",
    "\n",
    "El filtro actua como una **máscara multiplicativa** que modifica el espectro de la señal entrada\n",
    "\n",
    "Esto significa que solo puede acentuar, atenuar o remover ciertas frecuencias pero **nunca crear nuevas frecuencias**\n",
    "\n",
    "Consideremos los siguienes filtros o máscaras ideales\n",
    "\n"
   ]
  },
  {
   "cell_type": "markdown",
   "metadata": {},
   "source": [
    "<img src=\"../images/ideal_filters.gif\">"
   ]
  },
  {
   "cell_type": "markdown",
   "metadata": {},
   "source": [
    "- Filtro pasa bajo: Anula las frecuencias altas. Sirve para suavizar\n",
    "- Filtro pasa alto: Anula las frecuencias bajas. Sirve para detectar cambios\n",
    "- Filtro pasa banda: Anula todo excepto una banda continua de frecuencias\n",
    "- Filtro rechaza banda: Anula sólo una banda continua de frecuencias\n",
    "\n",
    "Las llamamos \"ideales\" por que en general los cortes de los filtros no pueden ser tan abruptos como se muestra en la figura\n",
    "\n",
    "A continuación veremos un método para diseñar filtros FIR partiendo desde el dominio de la frecuencia"
   ]
  },
  {
   "cell_type": "markdown",
   "metadata": {
    "slideshow": {
     "slide_type": "slide"
    }
   },
   "source": [
    "## Diseño de un filtro FIR: Método de la ventana\n",
    "\n",
    "Diseñar un filtro consisten en definir \n",
    "\n",
    "- L: El largo de la respuesta al impulso\n",
    "- h: Los valores de la respuesta al impulso\n",
    "\n",
    "El siguiente algoritmo de diseño de filtro se llama el \"método de la ventana\" y parte de la base de una respuesta en frecuencia ideal\n",
    "\n",
    "1. Especificar una **respuesta en frecuencia** ideal $H_d[k]$ dependiendo de los requerimientos\n",
    "1. Usar la transformada de Fourier inversa para obtener la **respuesta al impulso ideal** $h_d[n]$\n",
    "1. Truncar la respuesta al impulso ideal usando **una ventana** tal que $h[n] = h_d[n] w[n]$\n",
    "\n",
    "Finalmente $h[n]$ nos da los coeficientes del filtro FIR y $w[n]$ nos da el largo del filtro\n",
    "\n",
    "La ventana $w[n]$ puede ser cualquiera de las funciones vistas en la unidad anterior, por ejemplo una ventana rectangular\n",
    "\n",
    "$$\n",
    "w[n] = \\begin{cases} 1 & n \\leq L \\\\ 0 & n > L \\end{cases}\n",
    "$$\n",
    "\n",
    "o la ventana de Hann\n",
    "\n",
    "$$\n",
    "w[n] = 0.5 - 0.5 \\cos \\left( \\frac{2\\pi n}{L-1} \\right)\n",
    "$$"
   ]
  },
  {
   "cell_type": "markdown",
   "metadata": {
    "slideshow": {
     "slide_type": "subslide"
    }
   },
   "source": [
    "### Diseño de un filtro pasa bajo (LPF)\n",
    "\n",
    "Un filtro pasa bajo es aquel que sólo deja pasar las **bajas** frecuencias\n",
    "\n",
    "Sus usos son:\n",
    "\n",
    "- Recuperar una tendencia o comportamiento lento en la señal\n",
    "- Suavizar la señal y disminuir la influencia del ruido aditivo\n",
    "\n",
    "Diseñemos un filtro que elimine todas las frecuencias mayores a $f_c$ [Hz] de una señal $x[n]$ muestreada con frecuencia $F_s$\n"
   ]
  },
  {
   "cell_type": "markdown",
   "metadata": {},
   "source": [
    "#### Respuesta en frecuencia ideal\n",
    "\n",
    "Propongamos la siguiente respuesta en frecuencia que solo deja pasar las frecuencias menores a $f_c$, es decir que sólo es distinta de cero en el rango $[-f_c, f_c]$\n",
    "\n",
    "$$\n",
    "\\begin{align}\n",
    "H_d(\\omega) &= \\begin{cases} 1 & |f| < f_c\\\\ 0 & |f| > f_c \\end{cases} \\nonumber \\\\\n",
    "&= \\text{rect}(f/f_c) \\nonumber \n",
    "\\end{align}\n",
    "$$\n",
    "\n"
   ]
  },
  {
   "cell_type": "markdown",
   "metadata": {},
   "source": [
    "#### Respuesta al impulso ideal\n",
    "\n",
    "Obtenemos la transformada de Fourier inversa de la respuesta en frecuencia\n",
    "\n",
    "$$\n",
    "\\begin{align}\n",
    "h_d(t) &=  \\int_{-f_c}^{f_c} e^{j 2 \\pi f t} df \\nonumber \\\\\n",
    "& = \\frac{2j  f_c}{2 j \\pi f_c t} \\sin(2 \\pi f_c t) = 2  f_c \\text{sinc}(2 \\pi f_c t) \\nonumber \n",
    "\\end{align}\n",
    "$$\n",
    "\n",
    "donde la versión en tiempo discreto sería\n",
    "\n",
    "$$\n",
    "h_d[n] = 2 f_c\\text{sinc}(2 \\pi f_c n/ F_s)/F_s \n",
    "$$\n",
    "\n",
    "Notemos que es una función infinitamente larga\n"
   ]
  },
  {
   "cell_type": "code",
   "execution_count": null,
   "metadata": {},
   "outputs": [],
   "source": [
    "fc = 0.1 # Frecuencia de corte\n",
    "Fs = 1 # Frecuencia de muestreo\n",
    "n = np.arange(-50, 50, step=1/Fs);\n",
    "f = sfft.fftshift(sfft.fftfreq(n=len(n), d=1/Fs))\n",
    "\n",
    "# Diseño de la respuesta en frecuencia ideal\n",
    "kc = int(len(n)*fc)\n",
    "Hd = np.zeros_like(n, dtype=np.float); \n",
    "Hd[:kc] = 1\n",
    "Hd[len(Hd)-kc+1:] = 1\n",
    "# Cálculo de la respuesta al impulso ideal\n",
    "#hd = np.real(sfft.ifftshift(sfft.ifft(Hd)))\n",
    "hd = 2*fc*np.sinc(2*fc*n/Fs)/Fs # Se omite Pi por que está incluido en np.sinc\n",
    "\n",
    "p = [Figure(plot_width=300, plot_height=230, toolbar_location=\"below\") for k in range(2)]\n",
    "p[0].line(f, sfft.fftshift(Hd), line_width=2)\n",
    "p[0].title.text = 'Respuesta en frecuencia ideal'\n",
    "p[1].line(n, hd, line_width=2)\n",
    "p[1].title.text = 'Respuesta al impulso ideal'\n",
    "show(row(p))"
   ]
  },
  {
   "cell_type": "markdown",
   "metadata": {},
   "source": [
    "#### Truncar la respuesta al impulso ideal\n",
    "\n",
    "Para obtener una respuesta al impulso finita multiplicamos por una ventana finita de largo $L+1$\n",
    "\n",
    "$$\n",
    "h[n] = 2  f_c \\text{sinc}(2 \\pi f_c n /F_s) \\cdot \\text{rect}(n/(L+1))\n",
    "$$"
   ]
  },
  {
   "cell_type": "code",
   "execution_count": null,
   "metadata": {},
   "outputs": [],
   "source": [
    "# Cálculo de la respuesta al impulso truncada\n",
    "\n",
    "def truncar(hd, L=100):\n",
    "    w = np.zeros_like(hd); \n",
    "    w[len(w)//2-L//2:len(w)//2+L//2+1] = 1.\n",
    "    return w*hd\n",
    "# Cálculo de la respuesta en frecuencia truncada\n",
    "h = truncar(hd)\n",
    "H = sfft.fft(h); \n",
    "\n",
    "p = [Figure(plot_width=300, plot_height=230, toolbar_location=\"below\") for k in range(2)]\n",
    "p[1].line(f, sfft.fftshift(np.absolute(H)), line_width=2)\n",
    "p[1].title.text = 'Respuesta en frecuencia truncada'\n",
    "p[0].line(n, h, line_width=2)\n",
    "p[0].title.text = 'Respuesta al impulso truncada'\n",
    "show(row(p))"
   ]
  },
  {
   "cell_type": "markdown",
   "metadata": {},
   "source": [
    "Comparemos la respuesta en frecuencia ideal con la que en realidad aplicamos a la señal"
   ]
  },
  {
   "cell_type": "code",
   "execution_count": null,
   "metadata": {
    "slideshow": {
     "slide_type": "fragment"
    }
   },
   "outputs": [],
   "source": [
    "p = Figure(plot_width=600, plot_height=250, toolbar_location=\"below\")\n",
    "p.line(f, sfft.fftshift(Hd), color=palette[0],\n",
    "       line_width=2, legend_label=\"Ideal\")\n",
    "for i, L in enumerate([20, 40]):\n",
    "    H = sfft.fft(truncar(hd, L))\n",
    "    p.line(f, sfft.fftshift(np.absolute(H)), color=palette[i+1],\n",
    "           line_width=2, legend_label=f\"Truncada L={L}\")\n",
    "p.xaxis.axis_label = 'Frecuencia [Hz]'\n",
    "show(p)"
   ]
  },
  {
   "cell_type": "markdown",
   "metadata": {
    "slideshow": {
     "slide_type": "fragment"
    }
   },
   "source": [
    "La respuesta en frecuencia \"ideal\" $H_d[k]$ es plana y tiene discontinuidades \n",
    "\n",
    "La respuesta en frecuencia \"real\" $H[k]$ busca aproximar a $H_d[k]$. Pero observando $H[k]$ notamos que\n",
    "\n",
    "- No tiene zonas perfectamente planas (ni es perfectamente zero)\n",
    "- No tiene discontinuidades fuertes como el caso ideal\n",
    "\n",
    "Esto se debe al recorte que hacemos con la ventana\n",
    "\n",
    "<img src=\"../images/system-real-filter.png\" width=\"500\">\n",
    "\n",
    "En general mientras más grande es $L$ más fiel será la respuesta en frecuencia\n",
    "\n",
    "También se puede usar una ventana más suave (por jemeplo Hann) para disminuir los *ripples* al costo de hacer más lenta las transiciones\n",
    "\n"
   ]
  },
  {
   "cell_type": "markdown",
   "metadata": {
    "slideshow": {
     "slide_type": "subslide"
    }
   },
   "source": [
    "### Diseño de un filtro pasa alto (HPF)\n",
    "\n",
    "Un filtro pasa alto es aquel que sólo deja pasar las **altas** frecuencias\n",
    "\n",
    "Sus usos son:\n",
    "- Identificar cambios/detalles, es decir comportamientos rápidos en una señal\n",
    "- Eliminar tendencias\n",
    "\n",
    "Podemos diseñar un filtro pasa alto a partir de un filtro pasa bajo usando el truco de **inversión espectral**, como muestra la siguiente figura\n",
    "\n",
    "<img src=\"../images/system-hpf.png\" width=\"400\">\n",
    "\n",
    "Basicamente estamos **restándole un filtro pasa bajo a un impulso unitario**, como muestra el siguiente código. Note la respuesta en frecuencia del filtro pasa alto resultante\n"
   ]
  },
  {
   "cell_type": "code",
   "execution_count": null,
   "metadata": {},
   "outputs": [],
   "source": [
    "Fs = 10 # Frecuencia de muestreo\n",
    "fc = 2 # Frecuencia de corte\n",
    "L = 100+1 # Largo del filtro\n",
    "\n",
    "# Filtro pasa bajo\n",
    "t = np.arange(-L//2, L//2, step=1)/Fs\n",
    "h = 2*fc*np.sinc(2*fc*t)/Fs \n",
    "# Filtro pasa alto\n",
    "impulso = np.zeros_like(h)\n",
    "impulso[L//2+1] = 1\n",
    "h = impulso - h\n",
    "freq, H = scipy.signal.freqz(h, fs=Fs)\n",
    "\n",
    "p = [Figure(plot_width=300, plot_height=230, toolbar_location=\"below\") for k in range(2)]\n",
    "p[0].line(t, h, line_width=2)\n",
    "p[1].line(freq, np.absolute(H), line_width=2)    \n",
    "p[1].title.text = 'Respuesta en frecuencia'\n",
    "p[0].title.text = 'Respuesta al impulso'\n",
    "show(row(p))"
   ]
  },
  {
   "cell_type": "markdown",
   "metadata": {},
   "source": [
    "### Diseño de un filtro pasa banda (BPF) y rechaza banda (BRF)\n",
    "\n",
    "Como sus nombres lo indican estos filtros \n",
    "- BPF: Dejan pasar sólo una cierta banda de frecuencia \n",
    "- BRF: Dejan pasar todas las frecuencias excepto una banda determinada \n",
    "\n",
    "La banda de frecuencia está definida por sus frecuencias de corte mínima y máxima $f_{c1} < f_{c2}$\n",
    "\n",
    "Un filtro pasa banda se puede construir convolucionando la señal con un filtro pasa bajo con frecuencia de corte $f_{c2}$ y luego convolucionando el resultado con un filtro pasa alto con frecuencia de corte $f_{c1}$ como muestra  la siguinte figura\n"
   ]
  },
  {
   "cell_type": "markdown",
   "metadata": {},
   "source": [
    "<img src=\"../images/system-bpf.png\" width=\"400\">"
   ]
  },
  {
   "cell_type": "code",
   "execution_count": null,
   "metadata": {},
   "outputs": [],
   "source": [
    "Fs = 10 # Frecuencia de muestreo\n",
    "fc1, fc2 = 2, 3 # Frecuencias de cortes\n",
    "L = 100+1 # Largo del filtro\n",
    "\n",
    "# Filtro pasa bajo con frecuencia fc2\n",
    "t = np.arange(-L//2, L//2, step=1)/Fs\n",
    "h1 = 2*fc2*np.sinc(2*fc2*t)/Fs \n",
    "# Filtro pasa alto con frecuencia fc1\n",
    "h2 = 2*fc1*np.sinc(2*fc1*t)/Fs \n",
    "impulso = np.zeros_like(h2)\n",
    "impulso[L//2+1] = 1\n",
    "h2 = impulso - h2\n",
    "# FIltro pasa banda como convolución\n",
    "h = scipy.signal.convolve(h1, h2, mode='same')\n",
    "freq, H = scipy.signal.freqz(h, fs=Fs)\n",
    "\n",
    "p = [Figure(plot_width=300, plot_height=230, toolbar_location=\"below\") for k in range(2)]\n",
    "p[0].line(t, h, line_width=2)\n",
    "p[1].line(freq, np.absolute(H), line_width=2)    \n",
    "p[1].title.text = 'Respuesta en frecuencia'\n",
    "p[0].title.text = 'Respuesta al impulso'\n",
    "show(row(p))"
   ]
  },
  {
   "cell_type": "markdown",
   "metadata": {},
   "source": [
    "Un filtro rechaza banda en cambio se puede construir sumando las respuestas al impulso de un filtro pasa bajo con frecuencia de corte $f_{c2}$ con una filtro pasa alto de frecuencia de corte $f_{c1}$ como muestra la siguiente figura"
   ]
  },
  {
   "cell_type": "markdown",
   "metadata": {
    "slideshow": {
     "slide_type": "subslide"
    }
   },
   "source": [
    "<img src=\"../images/system-rbf.png\" width=\"400\">"
   ]
  },
  {
   "cell_type": "code",
   "execution_count": null,
   "metadata": {
    "ExecuteTime": {
     "end_time": "2020-11-02T01:27:58.650400Z",
     "start_time": "2020-11-02T01:27:57.866779Z"
    },
    "slideshow": {
     "slide_type": "fragment"
    }
   },
   "outputs": [],
   "source": [
    "Fs = 10 # Frecuencia de muestreo\n",
    "fc1, fc2 = 2, 3 # Frecuencias de cortes\n",
    "L = 100+1 # Largo del filtro\n",
    "\n",
    "# Filtro pasa bajo con frecuencia fc1\n",
    "t = np.arange(-L//2, L//2, step=1)/Fs\n",
    "h1 = 2*fc1*np.sinc(2*fc1*t)/Fs \n",
    "# Filtro pasa alto con frecuencia fc2\n",
    "h2 = 2*fc2*np.sinc(2*fc2*t)/Fs \n",
    "impulso = np.zeros_like(h2)\n",
    "impulso[L//2+1] = 1\n",
    "h2 = impulso - h2\n",
    "# FIltro rechaza banda como suma\n",
    "h = h1 + h2\n",
    "freq, H = scipy.signal.freqz(h, fs=Fs)\n",
    "\n",
    "p = [Figure(plot_width=300, plot_height=230, toolbar_location=\"below\") for k in range(2)]\n",
    "p[0].line(t, h, line_width=2)\n",
    "p[1].line(freq, np.absolute(H), line_width=2)    \n",
    "p[1].title.text = 'Respuesta en frecuencia'\n",
    "p[0].title.text = 'Respuesta al impulso'\n",
    "show(row(p))"
   ]
  },
  {
   "cell_type": "markdown",
   "metadata": {
    "slideshow": {
     "slide_type": "fragment"
    }
   },
   "source": [
    "## Diseño usando scipy\n",
    "\n",
    "Podemos diseñar un filtro usando la técnica de enventando con la función de scipy\n",
    "\n",
    "```python\n",
    "scipy.signal.firwin(numtaps, # (entero) Largo del filtro\n",
    "                    cutoff, # Frecuencia de corte: Una para pasa bajo/alto o dos para pasa/rechaza banda\n",
    "                    window='hamming', # Tipo de ventana\n",
    "                    pass_zero=True, # pasa bajo (True) o pasa alto (False)\n",
    "                    fs=None # Frecuencia de muestreo\n",
    "                    ...\n",
    "                    )\n",
    "```\n",
    "Esta función retorna un arreglo con $h$, la respuesta al impulso del filtro FIR\n",
    "\n",
    "En la siguiente actividad aprenderemos a usar esta función"
   ]
  },
  {
   "cell_type": "markdown",
   "metadata": {
    "slideshow": {
     "slide_type": "subslide"
    }
   },
   "source": [
    "## Resumen\n",
    "\n",
    "El diseño del filtro está dado entonces por su\n",
    "\n",
    "- **Función:** Definida por la respuesta en frecuencia ideal \n",
    "- **Fidelidad:** El error tolerable entre la respuesta en frecuencia ideal y la real\n",
    "\n",
    "El tipo de filtro y sus frecuencias de corte definen su función. Esto es un requisito del problema que buscamos resolver.\n",
    "\n",
    "El parámetro $L$ nos da un trade-off para la fidelidad. Si agrandamos $L$ tendremos mayor fidelidad pero más costo computacional\n",
    "\n",
    "\n",
    "\n",
    "\n"
   ]
  },
  {
   "cell_type": "code",
   "execution_count": null,
   "metadata": {},
   "outputs": [],
   "source": []
  }
 ],
 "metadata": {
  "kernelspec": {
   "display_name": "INFO183",
   "language": "python",
   "name": "info183"
  },
  "language_info": {
   "codemirror_mode": {
    "name": "ipython",
    "version": 3
   },
   "file_extension": ".py",
   "mimetype": "text/x-python",
   "name": "python",
   "nbconvert_exporter": "python",
   "pygments_lexer": "ipython3",
   "version": "3.8.5"
  },
  "toc": {
   "base_numbering": 1,
   "nav_menu": {},
   "number_sections": true,
   "sideBar": true,
   "skip_h1_title": false,
   "title_cell": "Table of Contents",
   "title_sidebar": "Contents",
   "toc_cell": false,
   "toc_position": {},
   "toc_section_display": true,
   "toc_window_display": true
  }
 },
 "nbformat": 4,
 "nbformat_minor": 2
}
