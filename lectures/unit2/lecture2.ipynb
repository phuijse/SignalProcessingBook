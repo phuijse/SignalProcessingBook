{
 "cells": [
  {
   "cell_type": "code",
   "execution_count": null,
   "metadata": {},
   "outputs": [],
   "source": [
    "import holoviews as hv\n",
    "hv.extension('bokeh')\n",
    "hv.opts.defaults(hv.opts.Curve(width=500), \n",
    "                 hv.opts.Image(width=500, colorbar=True, cmap='Viridis'))"
   ]
  },
  {
   "cell_type": "code",
   "execution_count": null,
   "metadata": {},
   "outputs": [],
   "source": [
    "import numpy as np\n",
    "import scipy.signal\n",
    "import scipy.fft\n",
    "from IPython.display import Audio"
   ]
  },
  {
   "cell_type": "code",
   "execution_count": null,
   "metadata": {
    "ExecuteTime": {
     "end_time": "2020-11-02T01:10:04.664711Z",
     "start_time": "2020-11-02T01:10:00.492840Z"
    }
   },
   "outputs": [],
   "source": [
    "%matplotlib notebook\n",
    "import numpy as np\n",
    "import scipy.signal\n",
    "import scipy.fft as sfft\n",
    "import matplotlib.pylab as plt\n",
    "from matplotlib import animation\n",
    "\n",
    "from IPython.display import YouTubeVideo, HTML, Audio\n",
    "from bokeh.layouts import column, row\n",
    "from bokeh.models import CustomJS, ColumnDataSource, Slider\n",
    "from bokeh.plotting import Figure, show, output_notebook\n",
    "output_notebook()"
   ]
  },
  {
   "cell_type": "markdown",
   "metadata": {},
   "source": [
    "# Sistemas para el procesamiento de señales"
   ]
  },
  {
   "cell_type": "markdown",
   "metadata": {
    "slideshow": {
     "slide_type": "slide"
    }
   },
   "source": [
    "## Introducción\n",
    "\n",
    "### Definición de sistema\n",
    "\n",
    "Hasta ahora hemos realizado *análisis de señales*, es decir el estudio de las señales y sus propiedades en el dominio del tiempo y frecuencia\n",
    "\n",
    "En esta unidad nos enfocaremos en el *procesamiento de señales*, es decir el diseño de **sistemas** que procesan una **señal de entrada** y producen una **señal de salida**\n",
    "\n",
    "<img src=\"../images/system.png\">\n",
    "\n",
    "Usaremos\n",
    "\n",
    "- $x[n]$ para denotar la señal (discreta) de entrada y $X[k]$ su espectro\n",
    "- $y[n]$ para denotar la señal (discreta) de salida e $Y[k]$ su espectro\n",
    " \n"
   ]
  },
  {
   "cell_type": "markdown",
   "metadata": {
    "slideshow": {
     "slide_type": "subslide"
    }
   },
   "source": [
    "### Ejemplos de sistemas\n",
    "\n",
    "Utilizando sistemas podemos modificar una señal para mejorar su calidad o remover efectos indeseados\n",
    "\n",
    "- Un sistema para reducir el ruido de una señal de electroencefalograma (EEG)\n",
    "\n",
    "<img src=\"../images/system-denoise-eeg.png\" width=\"600\">\n",
    "\n",
    "- Un sistema para mejorar una imagen fuera de foco (sharpening)\n",
    "\n",
    "<img src=\"../images/system-sharpen.jpg\"  width=\"500\">\n",
    "\n",
    "- Un sistema para eliminar el eco de un audio\n",
    "\n",
    "<img src=\"../images/system-echo.png\"  width=\"500\">\n"
   ]
  },
  {
   "cell_type": "markdown",
   "metadata": {
    "slideshow": {
     "slide_type": "subslide"
    }
   },
   "source": [
    "## Propiedades y ejemplos de sistemas\n",
    "\n",
    "\n",
    "### Sistemas sin memoria\n",
    "\n",
    "Diremos que un sistema $\\Phi$ es un sistema **sin memoria** si \n",
    "\n",
    "$$\n",
    "y[n] = \\Phi(x[n]),\n",
    "$$\n",
    "\n",
    "es decir que la salida del sistema en un instante $n$ dado depende solo de la entrada en ese mismo instante\n",
    "\n",
    "Veamos algunos ejemplos"
   ]
  },
  {
   "cell_type": "markdown",
   "metadata": {},
   "source": [
    "**Sistema atenuador/amplificador ideal** \n",
    "\n",
    "$$\n",
    "y[n] = A x[n], \n",
    "$$\n",
    "\n",
    "donde $A>0$ se llama *ganancia*\n",
    "\n",
    "Este sistema puede atenuar la entrada si $0<A<1$ y amplificar si $A>1$\n",
    "\n",
    "**Sistema saturador (clamp)**\n",
    "\n",
    "$$\n",
    "y[n] = \\begin{cases} B &x[n] > B \\\\x[n] & x[n] \\in [-B, B]\\\\ -B & x[n] < -B\\end{cases}\n",
    "$$\n",
    "\n",
    "Este sistema limita los valores de la señal de entrada en un rango fijo\n",
    "\n",
    "**Sistema rectificador**\n",
    "\n",
    "$$\n",
    "y[n] = | x[n] |\n",
    "$$\n",
    "\n",
    "Este sistema eliminar la parte negativa de la señal de entrada"
   ]
  },
  {
   "cell_type": "markdown",
   "metadata": {
    "slideshow": {
     "slide_type": "slide"
    }
   },
   "source": [
    "### Sistema Lineal\n",
    "\n",
    "Diremos que un sistema $\\Phi$ es lineal si cumple con las siguientes propiedades\n",
    "\n",
    "**Homogeneidad**\n",
    "\n",
    "Un cambio en la amplitud de la entrada produce un cambio equivalente en la salida\n",
    "\n",
    "$$\n",
    "\\Phi(cx[n]) = c \\Phi(x[n]) = c y[n]\n",
    "$$\n",
    "\n",
    "**Aditividad**\n",
    "\n",
    "Señales que se suman en la entrada producen señales que se suman en la salida\n",
    "\n",
    "$$\n",
    "\\Phi(x_1[n] + x_2[n]) = \\Phi(x_1[n]) + \\Phi(x_2[n]) = y_1[n] + y_2[n]\n",
    "$$\n",
    "\n",
    "Es decir que las señales pasan por el sistema sin interactuar entre ellas\n"
   ]
  },
  {
   "cell_type": "markdown",
   "metadata": {
    "slideshow": {
     "slide_type": "subslide"
    }
   },
   "source": [
    "\n",
    "**Otras propiedades de los sistemas lineales**\n",
    "\n",
    "Producto de las propiedades anteriores se tiene que una cascada de sistemas lineales forma un sistema lineal equivalente\n",
    "\n",
    "Y la cascada de sistemas es **conmutativa:** El orden de los sistemas en la cascada no altera el resultado final\n",
    "\n",
    "<img src=\"../images/system-conmu.png\" width=\"400px\">\n",
    "\n",
    "\n",
    "Los sistemas lineales también cumplen el **Principio de superposición**\n",
    "\n",
    "1. Si descomponemos una señal en $M$ componentes: $x[n] = x_1[n] + x_2[n] + \\ldots +  x_M[n]$\n",
    "1. Y aplicamos un **sistema lineal** a cada componente: $y_j[n] = \\Phi(x_j[n])$\n",
    "1. Podemos recuperar la salida total usando **aditividad**: $y_1[n] + y_2[n] + \\ldots +  y_M[n] = y[n]$\n",
    "\n",
    "<img src=\"../images/system-superpos.png\" width=\"400px\">\n",
    "    \n"
   ]
  },
  {
   "cell_type": "markdown",
   "metadata": {
    "slideshow": {
     "slide_type": "slide"
    }
   },
   "source": [
    "### Sistemas con memoria\n",
    "\n",
    "Un sistema $\\Phi$ es un sistema con memoria si su salida actual depende sólo de la entrada actual, las entradas anteriores o las salidas anteriores\n",
    "\n",
    "$$\n",
    "\\begin{align}\n",
    "y[n] = \\Phi(x[n], & x[n-1], x[n-2], \\ldots, x[0], \\\\ \\nonumber\n",
    "& y[n-1], y[n-2], \\ldots, y[0]) \\nonumber\n",
    "\\end{align}\n",
    "$$\n",
    "\n",
    "esto también se conoce como **sistema causal**\n",
    "\n",
    "Un **sistema con memoria no-causal** usa entradas futuras (es decir $x[n+1]$, $x[n+2]$, ...) y por ende solo se puede implementar de forma offline, es decir una vez que sea ha observado toda la señal\n",
    "\n",
    "Veamos algunos ejemplos de sistemas con memoria"
   ]
  },
  {
   "cell_type": "markdown",
   "metadata": {},
   "source": [
    "**Sistema con un retardo (delay)**\n",
    "\n",
    "Definido como \n",
    "\n",
    "$$\n",
    "y[n] = x[n-m],\n",
    "$$\n",
    "\n",
    "donde\n",
    "- la salida depende solo de \"una\" entrada anterior\n",
    "- el valor de m define que tan \"antigua\" es la entrada pasada\n",
    "\n",
    "El *delay* o retarno no afecta la amplitud de los componentes frecuenciales de la señal pero si su fase, como muestra la siguiente figura"
   ]
  },
  {
   "cell_type": "code",
   "execution_count": null,
   "metadata": {},
   "outputs": [],
   "source": [
    "n = np.arange(0, 200, step=1)\n",
    "x = lambda m: np.sin(2.0*np.pi*0.05*(n-m)) \n",
    "f = scipy.fft.rfftfreq(d=1, n=len(n))\n",
    "\n",
    "p = []\n",
    "for m in [0, 4, 8]:\n",
    "    x_delayed = x(m)\n",
    "    p.append(hv.Curve((n, x_delayed), 'Tiempo [s]', 'Señal'))\n",
    "    X = scipy.fft.rfft(x_delayed)\n",
    "    Xm = np.absolute(X) \n",
    "    p.append(hv.Curve((f, Xm), 'Frecuencia [Hz]', 'Espectro de amplitud'))\n",
    "    Xp = np.angle(X)\n",
    "    p.append(hv.Curve((f, Xm*Xp/np.amax(Xm)), 'Frecuencia [Hz]', 'Espectro de fase'))"
   ]
  },
  {
   "cell_type": "code",
   "execution_count": null,
   "metadata": {
    "tags": [
     "hide-input"
    ]
   },
   "outputs": [],
   "source": [
    "hv.Layout(p).cols(3).opts(hv.opts.Curve(width=300, height=200))"
   ]
  },
  {
   "cell_type": "markdown",
   "metadata": {},
   "source": [
    "**Sistema reverberador o eco**\n",
    "\n",
    "Definido como\n",
    "\n",
    "$$\n",
    "y[n] = x[n] + A x[n-m],\n",
    "$$\n",
    "\n",
    "donde\n",
    "- la salida depende de una entrada \"pasada\" y la entrada actual\n",
    "- la ganancia controla si el \"eco\" se atenua o amplifica\n",
    "\n",
    "\n",
    "Al contrario del sistema anterior, el eco si puede modificar el espectro de amplitud. \n",
    "\n",
    "Notemos el efecto de interferencia constructiva y destructiva al modificar el retardo, como muestra la siguiente animación "
   ]
  },
  {
   "cell_type": "code",
   "execution_count": null,
   "metadata": {},
   "outputs": [],
   "source": [
    "n = np.arange(0, 200, step=1)\n",
    "x = lambda m, A=1: A*np.sin(2.0*np.pi*0.05*(n-m)) \n",
    "f = scipy.fft.rfftfreq(d=1, n=len(n))\n",
    "\n",
    "buffer = {}\n",
    "for m in range(0, 40, 2):\n",
    "    xm = x(m)\n",
    "    buffer[m] = (xm, np.abs(scipy.fft.rfft(x(0) + xm)))    "
   ]
  },
  {
   "cell_type": "code",
   "execution_count": null,
   "metadata": {
    "tags": [
     "hide-input"
    ]
   },
   "outputs": [],
   "source": [
    "hMap1 = hv.HoloMap(kdims='m')\n",
    "hMap2 = hv.HoloMap(kdims='m')\n",
    "hMap3 = hv.HoloMap(kdims='m')\n",
    "\n",
    "for m, (xm, X) in buffer.items():     \n",
    "    hMap1[m] = hv.Curve((n, xm), 'Tiempo', 'x', label='Ax[n-m]')    \n",
    "    hMap2[m] = hv.Curve((n, x(0) + xm), 'Tiempo', 'y')\n",
    "    hMap3[m] = hv.Curve((f, X), 'Frecuencia', 'Espectro')\n",
    "\n",
    "p_clean = hv.Curve((n, x(0)), 'Tiempo', label='x[n]').opts(width=500, height=200)\n",
    "plot = (p_clean * hMap1 + hMap2 + hMap3).cols(1).opts(hv.opts.Curve(height=200), \n",
    "                                               hv.opts.Overlay(legend_position='top_right'))\n",
    "\n",
    "hv.output(plot, holomap='gif', fps=5)"
   ]
  },
  {
   "cell_type": "markdown",
   "metadata": {
    "slideshow": {
     "slide_type": "fragment"
    }
   },
   "source": [
    "Ejemplo de interferencia destructiva en una onda mecánica: https://www.youtube.com/watch?v=IU8xeJlJ0mk"
   ]
  },
  {
   "cell_type": "markdown",
   "metadata": {},
   "source": [
    "**Sistemas con múltiples ecos**\n",
    "\n",
    "Pueden combinarse más retardos para hacer un sistema reverberante más complejo\n",
    "\n",
    "Por ejemplo el siguiente sistema\n",
    "\n",
    "$$\n",
    "y[n] = x[n] + A_1 x[n-m_1] + A_2 x[n-m_2] + A_3 x[n-m_3] + \\ldots,\n",
    "$$\n",
    "\n",
    "que lo implementamos como"
   ]
  },
  {
   "cell_type": "code",
   "execution_count": null,
   "metadata": {
    "ExecuteTime": {
     "end_time": "2020-11-02T01:14:31.162977Z",
     "start_time": "2020-11-02T01:14:30.856556Z"
    },
    "slideshow": {
     "slide_type": "subslide"
    }
   },
   "outputs": [],
   "source": [
    "Fs = 44100; \n",
    "n = np.arange(0, 4, step=1.0/Fs) \n",
    "x = lambda m: np.sin(2.0*np.pi*880*(n-m))*np.exp(-(n-m)**2/0.5**2)*np.heaviside(n-m, 0)\n",
    "y = x(0) + 0.5*x(1.) + 0.25*x(2.) + 0.125*x(3.)"
   ]
  },
  {
   "cell_type": "markdown",
   "metadata": {},
   "source": [
    "Da como resultado gráfico lo siguiente:"
   ]
  },
  {
   "cell_type": "code",
   "execution_count": null,
   "metadata": {},
   "outputs": [],
   "source": [
    "hv.Curve((n, y), 'Tiempo [s]', 'Señal con eco')"
   ]
  },
  {
   "cell_type": "markdown",
   "metadata": {},
   "source": [
    "y el resultado sonoro es:"
   ]
  },
  {
   "cell_type": "code",
   "execution_count": null,
   "metadata": {},
   "outputs": [],
   "source": [
    "Audio(y, rate=Fs, normalize=False)"
   ]
  },
  {
   "cell_type": "markdown",
   "metadata": {
    "slideshow": {
     "slide_type": "slide"
    }
   },
   "source": [
    "## Sistema de respuesta finita al impulso (FIR)\n",
    "\n",
    "\n",
    "Generalizando el ejemplo de sistema lineal reverberante a $L$ retardos llegamos a \n",
    "\n",
    "$$\n",
    "\\begin{align}\n",
    "y[n] &= h[0] x[n] + h[1] x[n-1] + h[2] x[n-2] + \\ldots + h[L] x[n-L] \\nonumber \\\\\n",
    "&= \\sum_{j=0}^{L} h[j] x[n-j] \\nonumber \\\\\n",
    "&= (h* x)[n] \\nonumber \n",
    "\\end{align}\n",
    "$$\n",
    "\n",
    "que se puede modelar como una convolución discreta entre $h$ y $x$\n",
    "\n",
    "Este sistema se conoce como\n",
    "\n",
    "- Sistema FIR (finite impulse response)\n",
    "- Sistema MA (moving average)\n",
    "- Sistema todo-zeros \n",
    "\n",
    "y es de orden L (posee L+1 coeficientes)\n",
    "\n"
   ]
  },
  {
   "cell_type": "markdown",
   "metadata": {
    "slideshow": {
     "slide_type": "subslide"
    }
   },
   "source": [
    "**Intepretación como media movil (MA)**\n",
    "\n",
    "El sistema FIR es equivalente a una media movil ponderada que se aplica sobre la entrada, donde los coeficientes del sistema son los ponderadores \n",
    "\n",
    "Por ejemplo sea un sistema de 3 coeficientes $h[0]=a$, $h[1]=b$ y $h[2]=c$\n",
    "\n",
    "$$\n",
    "\\begin{align}\n",
    "y[n] = (h*x)[n] &= \\sum_{j=0}^{2} h[j] x[n-j] \\nonumber \\\\\n",
    "&= a x[n] + b x[n-1] + c x[n-2] \\nonumber\n",
    "\\end{align}\n",
    "$$\n",
    "\n",
    "donde cada salida se calcula a partir de \n",
    "\n",
    "$$\n",
    "\\overbrace{x[0], x[1], x[2]}^{y[2]} , x[3], x[4], \\ldots\n",
    "$$\n",
    "$$\n",
    "x[0], \\overbrace{x[1], x[2] , x[3]}^{y[3]}, x[4], \\ldots\n",
    "$$\n",
    "$$\n",
    "x[0], x[1], \\overbrace{x[2] , x[3], x[4]}^{y[4]}, \\ldots\n",
    "$$\n",
    "\n",
    "Un detalle es que para obtener el valor de $y[0]$ e $y[1]$ se deben establecer \"condiciones de borde\", como por ejemplo $x[-2] = x[-1]= 0$\n",
    "\n",
    "A continuación veremos algunos ejemplos de aplicaciones usando filtros FIR sencillos"
   ]
  },
  {
   "cell_type": "markdown",
   "metadata": {
    "slideshow": {
     "slide_type": "subslide"
    }
   },
   "source": [
    "### Eliminando ruido blanco aditivo\n",
    "\n",
    "Si tenemos una señal contaminada con ruido blanco aditivo como la que se muestra a continuación"
   ]
  },
  {
   "cell_type": "code",
   "execution_count": null,
   "metadata": {},
   "outputs": [],
   "source": [
    "np.random.seed(0)\n",
    "n = np.arange(0, 100, step=1)\n",
    "C = 5*np.exp(-0.5*(n[:, np.newaxis] - n[:, np.newaxis].T)**2/10**2)\n",
    "# Señal limpia (lo que no conocemos)\n",
    "x_clean = np.random.multivariate_normal(np.zeros_like(n), C) \n",
    "# Datos: Señal + ruido (lo que medimos)\n",
    "x = x_clean + 2*np.random.randn(len(n))\n",
    "\n",
    "hv.Scatter((n, x), 'Tiempo', 'Datos (señal + ruido)').opts(width=500, height=200)"
   ]
  },
  {
   "cell_type": "markdown",
   "metadata": {},
   "source": [
    "Podemos usar un sistema FIR promediador para \"suavizar la contaminación\"\n",
    "\n",
    "Sea un sistema FIR con $L$ coeficientes idénticos e iguales a $1/L$"
   ]
  },
  {
   "cell_type": "code",
   "execution_count": null,
   "metadata": {},
   "outputs": [],
   "source": [
    "L = 10 \n",
    "h = np.ones(shape=(L,))/L\n",
    "y = scipy.signal.convolve(x, h, mode='same', method='auto')"
   ]
  },
  {
   "cell_type": "markdown",
   "metadata": {},
   "source": [
    "La siguiente gráfica interactiva muestra el resultado de convolucionar este sistema con los datos contaminados"
   ]
  },
  {
   "cell_type": "code",
   "execution_count": null,
   "metadata": {
    "tags": [
     "hide-input"
    ]
   },
   "outputs": [],
   "source": [
    "hMap1 = hv.HoloMap(kdims='Instante')\n",
    "hMap2 = hv.HoloMap(kdims='Instante')\n",
    "\n",
    "for m in range(0, 100-L, 5): \n",
    "    c = np.zeros_like(n, dtype=np.float64); \n",
    "    c[m:m+L] = h\n",
    "    hMap1[m] = hv.Curve((n, c), 'Tiempo', 'Filtro')    \n",
    "    hMap2[m] = hv.Curve((n[:m], y[:m]), 'Tiempo', label='Señal filtrada')\n",
    "    \n",
    "p_clean = hv.Curve((n, x_clean), 'Tiempo', 'Señal', label='Señal limpia').opts(color='k', height=200)\n",
    "(hMap1 + hMap2 * p_clean).cols(1).opts(hv.opts.Curve(height=200), \n",
    "                                       hv.opts.Overlay(legend_position='top_left'))"
   ]
  },
  {
   "cell_type": "markdown",
   "metadata": {},
   "source": [
    ":::{note}\n",
    "\n",
    "Este filtro promedia los datos vecinos resultando una versión suavizada de los mismos. Esta versión suavizada se aproxima a la \"señal limpia\" que está escondida en el ruido. \n",
    "\n",
    ":::\n",
    "\n",
    "En general, mientras más \"largo\" sea el filtro mayor será el efecto de suavizado"
   ]
  },
  {
   "cell_type": "markdown",
   "metadata": {
    "slideshow": {
     "slide_type": "subslide"
    }
   },
   "source": [
    "### Encontrando cambios en una señal\n",
    "\n",
    "Sea la siguiente señal escalonada"
   ]
  },
  {
   "cell_type": "code",
   "execution_count": null,
   "metadata": {},
   "outputs": [],
   "source": [
    "n = np.arange(0, 100, step=1)\n",
    "x = np.zeros_like(n, dtype=np.float64)\n",
    "x[20:] += 1.\n",
    "x[40:] += 1.\n",
    "x[80:] -= 1.\n",
    "\n",
    "hv.Curve((n, x), 'Tiempo', 'Datos').opts(width=500, height=200)"
   ]
  },
  {
   "cell_type": "markdown",
   "metadata": {},
   "source": [
    "Si nos interesa encontrar cambios en la señal podemos usar un sistema diferenciador"
   ]
  },
  {
   "cell_type": "code",
   "execution_count": null,
   "metadata": {},
   "outputs": [],
   "source": [
    "h = np.array([0.5, -0.5])\n",
    "y = scipy.signal.convolve(x, h, mode='same', method='auto')"
   ]
  },
  {
   "cell_type": "markdown",
   "metadata": {},
   "source": [
    "La siguiente gráfica interactiva muestra el resultado de convolucionar este sistema con la señal escalonada"
   ]
  },
  {
   "cell_type": "code",
   "execution_count": null,
   "metadata": {
    "tags": [
     "hide-input"
    ]
   },
   "outputs": [],
   "source": [
    "hMap1 = hv.HoloMap(kdims='Instante')\n",
    "hMap2 = hv.HoloMap(kdims='Instante')\n",
    "\n",
    "for m in range(0, 100-len(h), 5): \n",
    "    c = np.zeros_like(n, dtype=np.float64); \n",
    "    c[m:m+len(h)] = h\n",
    "    hMap1[m] = hv.Curve((n, c), 'Tiempo', 'Filtro')    \n",
    "    hMap2[m] = hv.Curve((n[:m], y[:m]), 'Tiempo', 'Convolución')    \n",
    "\n",
    "(hMap1 + hMap2).cols(1).opts(hv.opts.Curve(height=200))"
   ]
  },
  {
   "cell_type": "markdown",
   "metadata": {},
   "source": [
    ":::{note}\n",
    "\n",
    "Los pulsos en la convolución están asociados a un cambio (ascenso o descenso) en la señal original\n",
    "            \n",
    ":::\n",
    "\n",
    "En un caso más general, este filtro nos da información de la velocidad con que cambia la señal"
   ]
  },
  {
   "cell_type": "markdown",
   "metadata": {
    "slideshow": {
     "slide_type": "subslide"
    }
   },
   "source": [
    "### Remover tendencias\n",
    "\n",
    "En el siguiente ejemplo tenemos una señal sinusoidal \"montada\" sobre otra señal que cambia más lentamente."
   ]
  },
  {
   "cell_type": "code",
   "execution_count": null,
   "metadata": {},
   "outputs": [],
   "source": [
    "np.random.seed(0); \n",
    "n = np.arange(0, 100, step=1)\n",
    "C = np.exp(-0.5*(n[:, np.newaxis] - n[:, np.newaxis].T)**2/30**2)\n",
    "x = np.sin(2.0*np.pi*0.1*n) + 5*np.random.multivariate_normal(np.zeros_like(n), C)\n",
    "\n",
    "hv.Curve((n, x), 'Tiempo', 'Señal').opts(height=200)"
   ]
  },
  {
   "cell_type": "markdown",
   "metadata": {},
   "source": [
    "En general nos referimos a la señal lenta como la \"tendencia\"\n",
    "\n",
    "A continuación veremos un filtro para separar la parte rápida (sinusoide) de la parte lenta (tendencia) de este señal de ejemplo. En próximas lecciones veremos como diseñar este tipo de filtros"
   ]
  },
  {
   "cell_type": "code",
   "execution_count": null,
   "metadata": {},
   "outputs": [],
   "source": [
    "L = 5\n",
    "h = -np.ones(shape=(L,))/L \n",
    "h[L//2] += 1\n",
    "\n",
    "y = scipy.signal.convolve(x, h, mode='same', method='auto')"
   ]
  },
  {
   "cell_type": "code",
   "execution_count": null,
   "metadata": {
    "tags": [
     "hide-input"
    ]
   },
   "outputs": [],
   "source": [
    "hMap1 = hv.HoloMap(kdims='Instante')\n",
    "hMap2 = hv.HoloMap(kdims='Instante')\n",
    "\n",
    "for m in range(0, 100-len(h), 5): \n",
    "    c = np.zeros_like(n, dtype=np.float64); \n",
    "    c[m:m+len(h)] = h\n",
    "    hMap1[m] = hv.Curve((n, c), 'Tiempo', 'Filtro')    \n",
    "    hMap2[m] = hv.Curve((n[0:m], y[0:m]), 'Tiempo', 'Convolución').opts(ylim=(-0.5, 0.5))\n",
    "    \n",
    "(hMap1 + hMap2).cols(1).opts(hv.opts.Curve(height=200))"
   ]
  },
  {
   "cell_type": "markdown",
   "metadata": {},
   "source": [
    "## Convolución con scipy"
   ]
  },
  {
   "cell_type": "markdown",
   "metadata": {
    "slideshow": {
     "slide_type": "fragment"
    }
   },
   "source": [
    "Podemos convolucionar una señal en Python usando \n",
    "\n",
    "```python\n",
    "scipy.signal.convolve(in1, # Señal de entrada\n",
    "                      in2, # Coeficientes del sistema\n",
    "                      mode='full', \n",
    "                      method='auto'  \n",
    "                     )\n",
    "```\n",
    "\n",
    "donde el argumento `method` puede ser\n",
    "\n",
    "- `direct`: Realiza la convolución en el dominio del tiempo\n",
    "- `fft`: Realiza la convolución multiplicando los espectros\n",
    "- `auto`: Se decide automaticamente en base al largo de las señales\n",
    "\n",
    "\n",
    "y el argumento `mode` indica donde se hace la convolución\n",
    "\n",
    "Para ejemplificar la influencia de este argumento consideremos una señal $x=[a,b,c]$ y un sistema $h=[d, e]$ \n",
    "\n",
    "- Si uso `mode=valid` el resultado será $y=[ad+be, bd+ce]$\n",
    "- Si uso `mode=same` el resultado será $y=[ae, ad+be, bd+ce]$, es decir se agregan ceros al principio de $x$ tal que $y$ sea del mismo largo que $x$\n",
    "- Si uso `mode=full` el resultado será $y=[ae, ad+be, bd+ce, cd]$, es decir se agregan ceros al principio y al final de $x$ \n",
    "\n"
   ]
  },
  {
   "cell_type": "markdown",
   "metadata": {},
   "source": [
    "### Eliminando ruido versión 2.0"
   ]
  },
  {
   "cell_type": "markdown",
   "metadata": {},
   "source": [
    "Considerando la misma señal contaminada con ruido blanco que vimos anteriormente utilizaremos `scipy.signal.convolve` para convolucionar con un filtro que suavice el ruido.\n",
    "\n",
    "Probaremos dos sistemas FIR\n",
    "\n",
    "- coeficientes idénticos e iguales a $1/L$, es decir una ventana rectangular\n",
    "- coeficientes que decaen suavemente a cero, como por ejemplo una ventana de Hamming\n",
    "\n",
    "con distintos valores de $L$ (largo del filtro)\n",
    "\n",
    "En este caso los valores los obtenemos usando la función de scipy\n",
    "\n",
    "```python\n",
    "\n",
    "scipy.signal.get_window(window, # String con el nombre de la ventana\n",
    "                        Nx, # Entero con el largo de la ventana \n",
    "                        ...)\n",
    "```\n",
    "\n",
    "La ventana rectangular se llama `boxcar` mientras que la de Hamming se llama `hamming`. En la documentación de la función se puede revisar otras ventanas disponibles"
   ]
  },
  {
   "cell_type": "code",
   "execution_count": null,
   "metadata": {},
   "outputs": [],
   "source": [
    "filters = {}\n",
    "results = {}\n",
    "for L in [5, 10, 20, 30, 40]:\n",
    "    for filter_name in ['boxcar', 'hamming']:    \n",
    "        h = scipy.signal.get_window(filter_name, L) \n",
    "        h = h/np.sum(h)\n",
    "        if not L in filters:\n",
    "            filters[L] = {}\n",
    "            results[L] = {}\n",
    "        filters[L][filter_name] = h\n",
    "        results[L][filter_name] = scipy.signal.convolve(x, h, mode='same', method='auto')"
   ]
  },
  {
   "cell_type": "code",
   "execution_count": null,
   "metadata": {
    "tags": [
     "hide-input"
    ]
   },
   "outputs": [],
   "source": [
    "hMap1 = hv.HoloMap(kdims='L')\n",
    "hMap2 = hv.HoloMap(kdims='L')\n",
    "\n",
    "for L, curves in filters.items():\n",
    "    p = []\n",
    "    for filter_name, h in curves.items():\n",
    "        p.append(hv.Curve((range(L), h), 'Largo del filtro (L)', 'Filtro', label=filter_name))\n",
    "    hMap1[L] = hv.Overlay(p)\n",
    "\n",
    "for L, curves in results.items():\n",
    "    p = []\n",
    "    for filter_name, y in curves.items():\n",
    "        p.append(hv.Curve((n, y), 'n', 'Señal', label=filter_name).opts(line_width=2, alpha=0.75))\n",
    "    hMap2[L] = hv.Overlay(p)\n",
    "    \n",
    "p_clean = hv.Curve((n, x_clean), 'Tiempo', 'Señal', label='Señal limpia').opts(color='k')\n",
    "p_data = hv.Scatter((n, x), 'Tiempo', 'Datos (señal + ruido)').opts(width=500, height=200)\n",
    "(p_data + hMap1 + hMap2 * p_clean).cols(1).opts(hv.opts.Curve(height=250), \n",
    "                                       hv.opts.Overlay(legend_position='top_right'))"
   ]
  },
  {
   "cell_type": "markdown",
   "metadata": {},
   "source": [
    ":::{note}\n",
    "\n",
    "A mayor largo mayor es el suavizado para ambas ventanas. Además la ventana de Hamming produce un filtrado más suave que la rectangular\n",
    "\n",
    ":::\n",
    "\n",
    "En la lección siguiente veremos como diseñar un filtro, es decir como calcular los valores de `h` para resolver una tarea en particular"
   ]
  },
  {
   "cell_type": "code",
   "execution_count": null,
   "metadata": {},
   "outputs": [],
   "source": []
  }
 ],
 "metadata": {
  "celltoolbar": "Edit Metadata",
  "kernelspec": {
   "display_name": "Python 3",
   "language": "python",
   "name": "python3"
  },
  "language_info": {
   "codemirror_mode": {
    "name": "ipython",
    "version": 3
   },
   "file_extension": ".py",
   "mimetype": "text/x-python",
   "name": "python",
   "nbconvert_exporter": "python",
   "pygments_lexer": "ipython3",
   "version": "3.9.6"
  },
  "toc": {
   "base_numbering": 1,
   "nav_menu": {},
   "number_sections": true,
   "sideBar": true,
   "skip_h1_title": false,
   "title_cell": "Table of Contents",
   "title_sidebar": "Contents",
   "toc_cell": false,
   "toc_position": {},
   "toc_section_display": true,
   "toc_window_display": true
  }
 },
 "nbformat": 4,
 "nbformat_minor": 2
}
