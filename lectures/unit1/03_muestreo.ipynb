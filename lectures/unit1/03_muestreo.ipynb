{
 "cells": [
  {
   "cell_type": "code",
   "execution_count": null,
   "metadata": {
    "ExecuteTime": {
     "end_time": "2020-09-28T23:07:22.625211Z",
     "start_time": "2020-09-28T23:07:16.420854Z"
    },
    "slideshow": {
     "slide_type": "skip"
    }
   },
   "outputs": [],
   "source": [
    "%matplotlib notebook\n",
    "from ipywidgets import interact, SelectionSlider, IntSlider, FloatSlider\n",
    "import matplotlib.pyplot as plt\n",
    "from matplotlib import animation\n",
    "import numpy as np\n",
    "import scipy.signal\n",
    "\n",
    "from IPython.display import YouTubeVideo, HTML, Audio\n",
    "from bokeh.layouts import column, row\n",
    "from bokeh.models import CustomJS, ColumnDataSource, Slider\n",
    "from bokeh.plotting import Figure, show, output_notebook\n",
    "output_notebook()"
   ]
  },
  {
   "cell_type": "markdown",
   "metadata": {},
   "source": [
    "# Efectos del muestreo y fenómeno de aliasing"
   ]
  },
  {
   "cell_type": "markdown",
   "metadata": {},
   "source": [
    "## El espectro de una señal discreta"
   ]
  },
  {
   "cell_type": "markdown",
   "metadata": {
    "slideshow": {
     "slide_type": "slide"
    }
   },
   "source": [
    "### ¿Qué le ocurre al espectro de una señal continua cuando la muestreamos?\n",
    "\n",
    "Sin pérdida de generalidad, consideremos para este ejemplo la señal gaussiana \n",
    "\n",
    "$$\n",
    "s(t) = \\exp \\left ( -\\frac{t^2}{2\\sigma^2} \\right)\n",
    "$$\n",
    "\n",
    "\n",
    "Muestrear es equivalente a multiplicar una señal continua por un tren de impulsos, también conocido como \"peineta de Dirac\"\n",
    "\n",
    "$$\n",
    "\\upuparrows(t) = \\sum_{m=-\\infty}^\\infty \\delta[t - m / F_s],\n",
    "$$\n",
    "\n",
    "donde $F_s$ es la frecuencia de muestreo, es decir el inverso entre la separación de los dientes de la peineta\n",
    "\n",
    "\n"
   ]
  },
  {
   "cell_type": "code",
   "execution_count": null,
   "metadata": {
    "tags": [
     "hide-input"
    ]
   },
   "outputs": [],
   "source": [
    "t = np.arange(-5, 5, step=0.0001)\n",
    "s = lambda t, sigma=0.5 : np.exp(-0.5*t**2/sigma**2)\n",
    "\n",
    "Fs = Slider(start=0.2, end=5, value=1, step=.01, title=\"Frecuencia de muestreo\")\n",
    "\n",
    "t_dirac = np.arange(-5, 5, step=1/Fs.value)\n",
    "create_figure = lambda title : Figure(plot_width=280, plot_height=280, title=title, \n",
    "                                      toolbar_location=\"below\", x_range=(-5, 5))\n",
    "p1 = create_figure('Señal Gaussiana')\n",
    "p2 = create_figure('Peineta de Dirac')\n",
    "p3 = create_figure('Señal muestreada')\n",
    "p1.line(t, s(t), line_width=3)\n",
    "for p in [p1, p2, p3]:\n",
    "    p.xaxis[0].axis_label = 'Tiempo [s]'\n",
    "source = ColumnDataSource(data=dict(t=t_dirac, \n",
    "                                    tops=np.ones_like(t_dirac),\n",
    "                                    sd=s(t_dirac)\n",
    "                                   ))\n",
    "\n",
    "p2.vbar(x='t', top='tops', source=source, width=0.05)\n",
    "p3.scatter('t', 'sd', source=source)\n",
    "\n",
    "\n",
    "callback = CustomJS(args=dict(source=source, Fs=Fs), code=\"\"\"\n",
    "    var t_dirac = [];\n",
    "    var tops = [];\n",
    "    var sd = []\n",
    "    for (let i = -5.0; i <= 5.0; i+=1/Fs.value) {\n",
    "        t_dirac.push(i);\n",
    "        tops.push(1);\n",
    "        sd.push(Math.exp(-0.5*Math.pow(i, 2)/Math.pow(0.5, 2)));\n",
    "    }\n",
    "    source.data['t'] = t_dirac;\n",
    "    source.data['tops'] = tops;\n",
    "    source.data['sd'] = sd;    \n",
    "    source.change.emit();\n",
    "\"\"\")\n",
    "\n",
    "\n",
    "Fs.js_on_change('value', callback)\n",
    "show(column(Fs, row(p1, p2, p3)))"
   ]
  },
  {
   "cell_type": "markdown",
   "metadata": {},
   "source": [
    "La transformada de Fourier del tren de impulsos es\n",
    "\n",
    "$$\n",
    "\\mathbb{FT}[\\upuparrows(t)] =  F_s \\sum_{m=-\\infty}^\\infty  \\delta(f - m F_s)\n",
    "$$\n",
    "\n",
    "es decir **otro tren de impulsos** pero en frecuencia\n",
    "\n",
    "Pueden revisar la demostración de la transformada anterior [aquí](http://www.thefouriertransform.com/pairs/shah.php)\n",
    "\n",
    "La señal muestreada es igual a $s(t) \\cdot \\upuparrows(t)$\n",
    "\n",
    "Para obtener el espectro de la señal muestreada recordemos que multiplicar dos señales en el dominio del tiempo corresponde a convolucionar sus transformadas de Fourier en frecuencia\n",
    "\n",
    "$$\n",
    "\\begin{align}\n",
    "\\mathbb{FT}[s(t) \\cdot \\upuparrows(t)] &= \\mathbb{FT}[s(t)] * \\mathbb{FT}[\\upuparrows(t)] \\nonumber \\\\\n",
    "&= S(f) *  F_s \\sum_{m=-\\infty}^\\infty  \\delta(f - m F_s) \\nonumber \\\\\n",
    "&= F_s \\sum_{m = -\\infty}^{\\infty} S(f - m F_s) \\nonumber\n",
    "\\end{align}\n",
    "$$\n",
    "\n",
    "Para entender la última igualdad revisemos la siguiente sección"
   ]
  },
  {
   "cell_type": "markdown",
   "metadata": {},
   "source": [
    "### ¿Qué significa convolucionar con un tren de impulsos?\n",
    "\n",
    "Matemáticamente la convolución entre dos señales discretas (de una dimensión) se define como\n",
    "\n",
    "$$\n",
    "(f * g)[n] = \\sum_{m=-\\infty}^\\infty f[m] g[n-m] = \\sum_{m=-\\infty}^\\infty f[n-m] g[m]\n",
    "$$\n",
    "\n",
    "\n",
    "- Podemos imaginar que $g$ se desplaza sobre $f$ (o viceverza)\n",
    "- En cada paso el $g$ desplazado se multiplica punto a punto con $f$ y luego se suman\n",
    "- El resultado de convolucionar $f$ con $g$ es una nueva función\n",
    "\n",
    "Si $f$ es un tren de impulsos ocurrirá una \"repetición\" de $g$ (o viceverza)\n",
    "\n",
    "La siguiente animación muestra en la imagen superior un pulso cuadrado que se desplaza sobre un tren de impulsos en la figura superior. La figura inferior muestra el resultado de la convolución"
   ]
  },
  {
   "cell_type": "code",
   "execution_count": null,
   "metadata": {
    "tags": [
     "hide-input"
    ]
   },
   "outputs": [],
   "source": [
    "%%capture\n",
    "fig, ax = plt.subplots(2, figsize=(7, 4), sharex=True, tight_layout=True)\n",
    "t = np.arange(-4, 4, step=1e-4)\n",
    "\n",
    "def my_signal(t, a=0, T=0.5):\n",
    "    s = np.zeros_like(t)\n",
    "    s[np.absolute(t-a)<T] = 1\n",
    "    return s\n",
    "\n",
    "# 2 segundos de espacio entre los dientes de la peinte\n",
    "def peineta(t):\n",
    "    s = np.zeros_like(t)\n",
    "    s[::20000] = 1 \n",
    "    return s\n",
    "    \n",
    "conv_s = np.convolve(my_signal(t), peineta(t), mode='same')\n",
    "\n",
    "def update(a = 0): \n",
    "    ax[0].cla(); ax[1].cla()\n",
    "    p1, p2 = my_signal(t, 0.1*a - 4), peineta(t)\n",
    "    ax[0].plot(t, p1, label='señal'); \n",
    "    ax[0].plot(t, p2, label='peineta'); \n",
    "    ax[0].legend()\n",
    "    ax[1].plot(t, conv_s); \n",
    "    ax[1].set_xlabel('Tiempo [s]'); \n",
    "    ax[1].scatter(0.1*a -4, np.sum(p1*p2), s=100, c='k')\n",
    "    return ()\n",
    "    \n",
    "anim = animation.FuncAnimation(fig, update, frames=80, interval=100, blit=True)"
   ]
  },
  {
   "cell_type": "code",
   "execution_count": null,
   "metadata": {},
   "outputs": [],
   "source": [
    "HTML(anim.to_html5_video())"
   ]
  },
  {
   "cell_type": "markdown",
   "metadata": {},
   "source": [
    "<div class=\"alert alert-info\">\n",
    "    \n",
    "**Por lo tanto:** Muestrear una señal en el tiempo hace que su espectro $S(f)$, sea cual sea, se repita infinitamente. Además el espectro se repite cada $F_s$ [Hz]\n",
    "    \n",
    "</div>"
   ]
  },
  {
   "cell_type": "markdown",
   "metadata": {},
   "source": [
    "### ¿Cúal es el espectro de la señal Gaussiana?\n",
    "\n",
    "La transformada de Fourier de \n",
    "\n",
    "$$\n",
    "s(t) = \\exp \\left ( -\\frac{t^2}{2\\sigma^2} \\right)\n",
    "$$\n",
    "\n",
    "es\n",
    "\n",
    "$$\n",
    "S(f) = \\mathbb{FT}[s(t)] = \\sqrt{2\\pi}\\sigma \\exp \\left ( -2\\sigma^2 \\pi^2 f^2 \\right)\n",
    "$$\n",
    "\n",
    "La función gaussiana es muy especial: **El espectro de una gaussiana es otra gaussiana**\n",
    "\n",
    "Puedes ver la demostración de la transformada anterior [aquí](http://www.thefouriertransform.com/applications/gaussian.php)\n",
    "\n",
    "En base a la gráfica siguiente notemos que\n",
    "\n",
    "- Mientras más \"ancha\" sea la gaussiana en el tiempo ($\\sigma$ pequeño) más \"angosto\" será su espectro en frecuencia\n",
    "- Las gaussianas son del mismo ancho cuando $\\sigma = \\frac{1}{\\sqrt{2\\pi}}$"
   ]
  },
  {
   "cell_type": "code",
   "execution_count": null,
   "metadata": {
    "tags": [
     "hide-input"
    ]
   },
   "outputs": [],
   "source": [
    "x = np.arange(-5, 5, step=0.001)\n",
    "sigma = Slider(start=0.1, end=2, value=1/np.sqrt(2*np.pi), step=.01, title=\"sigma\")\n",
    "\n",
    "source = ColumnDataSource(data=dict(x=x, \n",
    "                                    gt=np.exp(-0.5*x**2/sigma.value**2),\n",
    "                                    gf=np.exp(-2*(np.pi*x*sigma.value)**2)*np.sqrt(2*np.pi)*sigma.value\n",
    "                                   ))\n",
    "\n",
    "create_figure = lambda title : Figure(plot_width=350, plot_height=280, title=title, \n",
    "                                      toolbar_location=\"below\", x_range=(-5, 5))\n",
    "p1 = create_figure('Dominio de tiempo', )\n",
    "p2 = create_figure('Dominio de frecuencia')\n",
    "p1.line('x', 'gt', source=source, line_width=3)\n",
    "p2.line('x', 'gf', source=source, line_width=3)\n",
    "\n",
    "callback = CustomJS(args=dict(source=source, sigma=sigma), code=\"\"\"\n",
    "    var x = source.data['x'];\n",
    "    var gt = source.data['gt'];\n",
    "    var gf = source.data['gf']\n",
    "    for (var i = 0; i < x.length; i++) {\n",
    "        gt[i] = Math.exp(-0.5*Math.pow(x[i]/sigma.value, 2));\n",
    "        gf[i] = Math.sqrt(Math.PI*2)*Math.exp(-2*Math.pow(Math.PI*x[i]*sigma.value, 2))*sigma.value;\n",
    "        \n",
    "    }\n",
    "    source.change.emit();\n",
    "\"\"\")\n",
    "\n",
    "\n",
    "sigma.js_on_change('value', callback)\n",
    "show(column(sigma, row(p1, p2)))"
   ]
  },
  {
   "cell_type": "markdown",
   "metadata": {},
   "source": [
    "### ¿Cuál es el espectro de la gaussiana \"discreta\"?\n",
    "\n",
    "Como ya vimos el espectro de una señal discreta es idéntico al de la señal continua pero \"repetido\" según el valor de la frecuencia de muestreo\n",
    "\n",
    "Por ejemplo si $\\sigma=1$ y $Fs = 2$ [Hz] tendríamos lo siguiente"
   ]
  },
  {
   "cell_type": "code",
   "execution_count": null,
   "metadata": {},
   "outputs": [],
   "source": [
    "def gaussiana(f, sigma):\n",
    "    return np.sqrt(2*np.pi*sigma**2)*np.exp(-2*(np.pi*f*sigma)**2)\n",
    "\n",
    "def espectro_discreto(f, sigma):\n",
    "    S = np.zeros_like(f)\n",
    "    for m in range(-20, 20):\n",
    "        S += gaussiana(f - Fs*m, sigma)\n",
    "    return S\n",
    "\n",
    "def ventana(f, Fs):\n",
    "    SW = np.zeros_like(f)\n",
    "    SW[np.absolute(f) < Fs/2] = 1\n",
    "    return SW\n",
    "\n",
    "Fs = 2.\n",
    "sigma = 1.\n",
    "f = np.arange(-3*Fs, 3*Fs, step=1e-3)"
   ]
  },
  {
   "cell_type": "code",
   "execution_count": null,
   "metadata": {
    "tags": [
     "hide-input"
    ]
   },
   "outputs": [],
   "source": [
    "p1 = Figure(plot_width=600, plot_height=280, toolbar_location=\"below\")\n",
    "p1.line(f, gaussiana(f, sigma),  color='green', alpha=0.75,\n",
    "        line_width=3, legend_label='Espectro original')\n",
    "p1.line(f, espectro_discreto(f, sigma), line_width=3, alpha=0.75,\n",
    "        legend_label='Espectro discreto')\n",
    "p1.line(f, ventana(f, Fs), line_width=3, alpha=0.75, color='black',\n",
    "        line_dash='dashed', legend_label='Ventana cuadrada')\n",
    "\n",
    "p1.xaxis[0].axis_label = 'Frecuencia [Hz]'\n",
    "show(p1)"
   ]
  },
  {
   "cell_type": "markdown",
   "metadata": {},
   "source": [
    "<div class=\"alert alert-info\">\n",
    "    \n",
    "**Por lo tanto:** Si multiplicamos el espectro discreto (azul) por una ventana cuadrada de ancho $F_s$ (negro punteado) podemos recuperar el espectro original (verde) sin pérdidas\n",
    "    \n",
    "</div>\n",
    "\n",
    "Esta es la base del siguiente teorema fundamental"
   ]
  },
  {
   "cell_type": "markdown",
   "metadata": {},
   "source": [
    "## Teorema del muestreo\n",
    "\n",
    "Sea una señal continua $s(t)$ muestreada a $F_s$ [Hz] produciendo una señal digital $s[n] = s(t = n/F_s)$\n",
    "\n",
    "Si \n",
    "\n",
    "$$\n",
    "f_{\\text{max}} < \\frac{F_s}{2},\n",
    "$$\n",
    "\n",
    "donde \n",
    "\n",
    "- $f_{\\text{max}}$ es la componente de frecuencia más alta de la señal\n",
    "- $\\frac{F_s}{2}$ es la frecuencia de Nyquist\n",
    "\n",
    "entonces la señal analógica $s(t)$ puede ser recuperada perfectamente a partir de sus muestras discretas $s[n]$\n",
    "\n",
    "\n",
    "Además el valor de la señal continua reconstruida es:\n",
    "\n",
    "$$\n",
    "s(t) = \\sum_{n=-\\infty}^{\\infty} s[n] \\text{sinc}(\\pi F_s (t - n /F_s) )\n",
    "$$\n",
    "\n"
   ]
  },
  {
   "cell_type": "markdown",
   "metadata": {},
   "source": [
    "### ¿Qué pasa con el espectro \"discreto\" si no se cumple la condición anterior?\n",
    "\n",
    "Asumamos que la frecuencia de muestre se mantiene $F_s=2$ [Hz] y que $\\sigma$ disminuye\n",
    "\n",
    "La frecuencia máxima de la gaussiana es la \"última\" frecuencia donde el espectro es distinto de cero\n",
    "\n",
    "Si $\\sigma$ disminuye la $f_{\\text{max}}$ aumenta"
   ]
  },
  {
   "cell_type": "code",
   "execution_count": null,
   "metadata": {},
   "outputs": [],
   "source": [
    "Fs = 2.\n",
    "sigma = 0.4\n",
    "f = np.arange(-3*Fs, 3*Fs, step=1e-3)"
   ]
  },
  {
   "cell_type": "code",
   "execution_count": null,
   "metadata": {
    "tags": [
     "hide-input"
    ]
   },
   "outputs": [],
   "source": [
    "p1 = Figure(plot_width=600, plot_height=280, toolbar_location=\"below\")\n",
    "p1.line(f, gaussiana(f, sigma),  color='green', alpha=0.75,\n",
    "        line_width=3, legend_label='Espectro original')\n",
    "p1.line(f, espectro_discreto(f, sigma), line_width=3, alpha=0.75,\n",
    "        legend_label='Espectro discreto')\n",
    "p1.line(f, ventana(f, Fs), line_width=3, alpha=0.75, color='black',\n",
    "        line_dash='dashed', legend_label='Ventana cuadrada')\n",
    "\n",
    "p1.xaxis[0].axis_label = 'Frecuencia [Hz]'\n",
    "show(p1)"
   ]
  },
  {
   "cell_type": "markdown",
   "metadata": {},
   "source": [
    "Si asumimos que $\\sigma =1 $ se mantiene y que la frecuencia de muestreo disminuye se obtiene un efecto equivalente"
   ]
  },
  {
   "cell_type": "code",
   "execution_count": null,
   "metadata": {},
   "outputs": [],
   "source": [
    "Fs = 0.75\n",
    "sigma = 1.\n",
    "f = np.arange(-3*Fs, 3*Fs, step=1e-3)"
   ]
  },
  {
   "cell_type": "code",
   "execution_count": null,
   "metadata": {
    "tags": [
     "hide-input"
    ]
   },
   "outputs": [],
   "source": [
    "p1 = Figure(plot_width=600, plot_height=280, toolbar_location=\"below\")\n",
    "p1.line(f, gaussiana(f, sigma),  color='green', alpha=0.75,\n",
    "        line_width=3, legend_label='Espectro original')\n",
    "p1.line(f, espectro_discreto(f, sigma), line_width=3, alpha=0.75,\n",
    "        legend_label='Espectro discreto')\n",
    "p1.line(f, ventana(f, Fs), line_width=3, alpha=0.75, color='black',\n",
    "        line_dash='dashed', legend_label='Ventana cuadrada')\n",
    "\n",
    "p1.xaxis[0].axis_label = 'Frecuencia [Hz]'\n",
    "show(p1)"
   ]
  },
  {
   "cell_type": "markdown",
   "metadata": {},
   "source": [
    "<div class=\"alert alert-info\">\n",
    "    \n",
    "Debido al solapamiento en el espectro discreto (azul) se vuelve imposible recuperar el espectro original (verde) sin alteraciones. Podríamos recuperar su parte central, pero eso significa perder información de alta frecuencia\n",
    "    \n",
    "</div>\n",
    "\n",
    "El solapamiento espectral se llama **aliasing**"
   ]
  },
  {
   "cell_type": "markdown",
   "metadata": {
    "slideshow": {
     "slide_type": "subslide"
    }
   },
   "source": [
    "## Aliasing\n",
    "\n",
    "- El espectro de una señal muestreada es periódico en $F_s$\n",
    "- Si originalmente la señal tenía componentes con frecuencias mayores a $\\frac{F_s}{2}$ se produce un \"traslape\" o \"solapamiento\" espectral\n",
    "- Este fenomeno se llama *aliasing* y los componentes traslapados se denominan *aliases*\n",
    "\n",
    "Cuando existe aliasing veremos que no es posible reconstruir la señal original sin ambiguedad"
   ]
  },
  {
   "cell_type": "markdown",
   "metadata": {},
   "source": [
    "### Espectro teórico de una sinusoide\n",
    "\n",
    "Consideremos por ejemplo la siguiente señal sinusoidal \n",
    "\n",
    "$$\n",
    "s(t) = \\cos(2\\pi f_0 t)\n",
    "$$\n",
    "\n",
    "La transformada de Fourier de coseno es un impulso en $f_0$ y otro en $-f_0$\n",
    "\n",
    "$$\n",
    "S(f) = \\frac{1}{2} \\left(\\delta(f-f_0) + \\delta(f+f_0) \\right)\n",
    "$$\n",
    "\n",
    "Puedes ver la demostración de esta transformada [aquí](http://www.thefouriertransform.com/pairs/sinusoids.php)"
   ]
  },
  {
   "cell_type": "markdown",
   "metadata": {},
   "source": [
    "### Espectro de una sinusoide discreta \n",
    "\n",
    "Si muestreamos a una frecuencia $F_s$ que sea menor a $2 f_0$ entonces habrá traslape en el espectro discreto\n",
    "\n",
    "Por ejemplo consideremos $f_0 = 1.23$ [Hz] y $F_s = 2$ [Hz]. Digamos además que observamos la señal por $100$ [s]\n",
    "\n",
    "¿Cómo se ve el espectro de amplitud?"
   ]
  },
  {
   "cell_type": "code",
   "execution_count": null,
   "metadata": {},
   "outputs": [],
   "source": [
    "import scipy.fft as sfft\n",
    "\n",
    "f0 = 1.23 # Frecuencia de la sinusoide\n",
    "T = 100 # Largo temporal\n",
    "Fs = 2 # Frecuencia de muestreo\n",
    "\n",
    "ts = np.arange(0, T, step=1/Fs)\n",
    "signal = lambda t, f : np.cos(2.0*np.pi*f*t)\n",
    "SA = sfft.fftshift(np.absolute(sfft.fft(signal(ts, f0))))\n",
    "freq = sfft.fftshift(sfft.fftfreq(n=len(ts), d=1/Fs))\n",
    "\n",
    "p1 = Figure(plot_width=600, plot_height=280, toolbar_location=\"below\")\n",
    "p1.line(freq, SA, line_width=3)\n",
    "p1.xaxis[0].axis_label = 'Frecuencia [Hz]'\n",
    "show(p1)"
   ]
  },
  {
   "cell_type": "markdown",
   "metadata": {},
   "source": [
    "<div class=\"alert alert-info\">\n",
    "    \n",
    "Aparecen componentes en $f = \\pm 0.77$ [Hz]. Pero la señal era de $1.23$ [Hz] ¿Puedes explicar porqué?\n",
    "    \n",
    "</div>"
   ]
  },
  {
   "cell_type": "markdown",
   "metadata": {},
   "source": [
    "### Espectro traslapado de la sinusoide discreta\n",
    "\n",
    "Recordemos que el espectro de la señal de la señal continua se repite cada $F_s$ [Hz] debido al muestreo\n",
    "\n",
    "En este caso $F_s$ es menor que $2 f_0$ por lo que ocurrirá traslape espectral"
   ]
  },
  {
   "cell_type": "code",
   "execution_count": null,
   "metadata": {},
   "outputs": [],
   "source": [
    "f = np.arange(-3*Fs, 3*Fs, step=1e-3)\n",
    "\n",
    "def espectro_coseno(f, f0):\n",
    "    S = np.zeros_like(f)\n",
    "    S[np.isclose(f, -f0)] = 1\n",
    "    S[np.isclose(f, f0)] = 1\n",
    "    return S\n",
    "\n",
    "def espectro_discreto(f, f0):\n",
    "    S = np.zeros_like(f)\n",
    "    for m in range(-20, 20):\n",
    "        S += espectro_coseno(f - Fs*m, f0)\n",
    "    return S\n",
    "\n",
    "def ventana(f, Fs):\n",
    "    SW = np.zeros_like(f)\n",
    "    SW[np.absolute(f) < Fs/2] = 1\n",
    "    return SW"
   ]
  },
  {
   "cell_type": "code",
   "execution_count": null,
   "metadata": {
    "tags": [
     "hide-input"
    ]
   },
   "outputs": [],
   "source": [
    "p1 = Figure(plot_width=600, plot_height=280, toolbar_location=\"below\")\n",
    "p1.line(f, espectro_coseno(f, f0),  color='green', alpha=0.75,\n",
    "        line_width=4, legend_label='Espectro original')\n",
    "p1.line(f, espectro_discreto(f, f0), line_width=3, alpha=0.75,\n",
    "        legend_label='Espectro discreto')\n",
    "p1.line(f, ventana(f, Fs), line_width=3, alpha=0.75, color='black',\n",
    "        line_dash='dashed', legend_label='Ventana cuadrada')\n",
    "\n",
    "p1.xaxis[0].axis_label = 'Frecuencia [Hz]'\n",
    "show(p1)"
   ]
  },
  {
   "cell_type": "markdown",
   "metadata": {},
   "source": [
    "El cuadrado negro con linea punteada representa el rango \n",
    "\n",
    "$$\n",
    "\\left[-\\frac{F_s}{2}, \\frac{F_s}{2} \\right]\n",
    "$$\n",
    "\n",
    "es decir lo que \"podemos ver\" cuando usamos la transformada de Fourier (es equivalente a la figura anterior)"
   ]
  },
  {
   "cell_type": "markdown",
   "metadata": {},
   "source": [
    "### \"Aliases\" de la señal"
   ]
  },
  {
   "cell_type": "markdown",
   "metadata": {},
   "source": [
    "En este caso particular la frecuencia de la señal $f_0$ está fuera del rango que podemos estudiar $[-F_s/2, F_s/2]$\n",
    "\n",
    "Además debido al solapamiento espectral aparecerán \"aliases\" \n",
    "\n",
    "La frecuencia de los aliases sigue la fórmula\n",
    "\n",
    "- $f_a = f_0  + m F_s$ [Hz] donde $m$ es un número natural\n",
    "- $f_a = m F_s - f_0$ [Hz] donde $m$ es un número natural\n",
    "\n",
    "Una de estas frecuencias es $f_a = Fs - F0 = 0.773$ [Hz], que es la frecuencia que vimos en el espectro discreto anteriormente"
   ]
  },
  {
   "cell_type": "code",
   "execution_count": null,
   "metadata": {},
   "outputs": [],
   "source": [
    "T = 5\n",
    "t = np.arange(0, T, step=1e-4)\n",
    "ts = np.arange(0, T, step=1/Fs)\n",
    "signal = lambda t, f : np.cos(2.0*np.pi*f*t)\n",
    "\n",
    "p1 = Figure(plot_width=600, plot_height=280, toolbar_location=\"below\")\n",
    "\n",
    "p1.line(t, signal(t, f0),  color='green', alpha=0.75, \n",
    "        line_width=3, legend_label='Señal original')\n",
    "p1.scatter(ts, signal(ts, f0), size=10, legend_label='Señal muestreada')\n",
    "p1.line(t, signal(t, Fs - f0), line_width=3, alpha=0.75, color='black',\n",
    "        line_dash='dashed', legend_label='Alias de la señal')\n",
    "\n",
    "p1.xaxis[0].axis_label = 'Tiempo [s]'\n",
    "show(p1)"
   ]
  },
  {
   "cell_type": "markdown",
   "metadata": {},
   "source": [
    "<div class=\"alert alert-info\">\n",
    "    \n",
    "El *alias* (linea punteada negra) se \"hace pasar\" por la señal original (linea verde). No podemos distinguir cual de las dos se uso para generar la señal muestreada (puntos azules). **Ya no podemos reconstruir sin ambiguedad la señal**\n",
    "    \n",
    "</div>"
   ]
  },
  {
   "cell_type": "markdown",
   "metadata": {},
   "source": [
    "### ¿Cómo eliminamos el aliasing?\n",
    "\n",
    "Necesitamos que todas las componentes frecuenciales distintos de cero cumplan con $ |f| < \\frac{Fs}{2}$\n",
    "\n",
    "Podemos lograr esto mediante\n",
    "\n",
    "- Filtrado: Eliminar las frecuencias mayores a $\\frac{F_s}{2}$ antes de muestrear (veremos filtrado en detalle en la unidad)\n",
    "- Modificar $F_s$: Podemos aumentar $F_s$ tal que sea dos veces mayor que la frecuencia máxima de interés, pero no siempre es fácil saber *a priori* cuál será dicho valor \n"
   ]
  },
  {
   "cell_type": "markdown",
   "metadata": {
    "slideshow": {
     "slide_type": "slide"
    }
   },
   "source": [
    "## Apéndice: Principio de incertidumbre para señales\n",
    "\n",
    "Anteriormente vimos que el ancho en frecuencia y en tiempo de la gaussina son inversamentes proporcionales. Pero en realidad esto es algo que se cumple de forma general para todas las señales.\n",
    "\n",
    "Recordemos primero el principio de incertudimbre \"original\", es decir el de mecámoca cuántica\n",
    "\n",
    "El [principio de incertidumbre de Heisenberg](https://es.wikipedia.org/wiki/Relaci%C3%B3n_de_indeterminaci%C3%B3n_de_Heisenberg) nos dice que la precisión (certeza) con que medimos la posición de una particula es inversamente proporcional a la precisión con que medimos su momentum lineal:\n",
    "\n",
    "$$\n",
    "\\Delta x \\Delta p \\geq \\frac{h}{4\\pi},\n",
    "$$\n",
    "\n",
    "donde $h$ es la constante de Planck"
   ]
  },
  {
   "cell_type": "markdown",
   "metadata": {},
   "source": [
    "<div class=\"alert alert-info\">\n",
    "    \n",
    "**En señales existe un principio análogo:** No podemos especificar con infinita precisión la localización temporal y frecuencial de una señal al mismo tiempo.\n",
    "    \n",
    "</div>"
   ]
  },
  {
   "cell_type": "markdown",
   "metadata": {},
   "source": [
    "Denis Gabor (1946) fue el primero en darse cuenta de que el principio de incertidumbre aplica para señales. \n",
    "\n",
    "Su teorema dice que para una señal con energía finita \n",
    "\n",
    "$$\n",
    "E = \\int |s(t)|^2 dt\n",
    "$$\n",
    "\n",
    "con valor medio temporal\n",
    "\n",
    "$$\n",
    "\\langle t \\rangle = \\frac{1}{E} \\int t |s(t)|^2 dt,\n",
    "$$\n",
    "\n",
    "y varianza (ancho) temporal\n",
    "\n",
    "$$\n",
    "(\\Delta t)^2 = \\frac{1}{E} \\int (t - \\langle t \\rangle)^2 |s(t)|^2 dt,\n",
    "$$\n",
    "\n",
    "cuya transformada de Fourier $\\mathbb{FT}[s(t)] = S(\\omega)$ tiene un valor medio en frecuencia\n",
    "\n",
    "$$\n",
    "\\langle \\omega \\rangle = \\frac{1}{E} \\int (\\omega - \\langle \\omega \\rangle) |S (\\omega)|^2 d \\omega\n",
    "$$\n",
    "\n",
    "y varianza frecuencial\n",
    "\n",
    "$$\n",
    "(\\Delta \\omega)^2 = \\frac{1}{E} \\int (\\omega - \\langle \\omega \\rangle)^2 |S(\\omega)|^2 d\\omega\n",
    "$$\n",
    "\n",
    "se cumple que\n",
    "\n",
    "$$\n",
    "\\Delta t \\Delta \\omega \\geq \\frac{1}{2},\n",
    "$$\n",
    "\n",
    "es decir $\\Delta t$ y $\\Delta \\omega$ no pueden ser arbitrariamente pequeños\n",
    "\n",
    "<div class=\"alert alert-info\">\n",
    "    \n",
    "El ancho temporal y el ancho frecuencial están inversamente correlacionados sin importar la señal en particular\n",
    "    \n",
    "</div>"
   ]
  },
  {
   "cell_type": "code",
   "execution_count": null,
   "metadata": {},
   "outputs": [],
   "source": []
  }
 ],
 "metadata": {
  "celltoolbar": "Edit Metadata",
  "kernelspec": {
   "display_name": "INFO183",
   "language": "python",
   "name": "info183"
  },
  "language_info": {
   "codemirror_mode": {
    "name": "ipython",
    "version": 3
   },
   "file_extension": ".py",
   "mimetype": "text/x-python",
   "name": "python",
   "nbconvert_exporter": "python",
   "pygments_lexer": "ipython3",
   "version": "3.8.5"
  },
  "toc": {
   "base_numbering": 1,
   "nav_menu": {},
   "number_sections": true,
   "sideBar": true,
   "skip_h1_title": false,
   "title_cell": "Table of Contents",
   "title_sidebar": "Contents",
   "toc_cell": false,
   "toc_position": {},
   "toc_section_display": true,
   "toc_window_display": false
  }
 },
 "nbformat": 4,
 "nbformat_minor": 2
}
