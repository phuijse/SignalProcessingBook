{
 "cells": [
  {
   "cell_type": "code",
   "execution_count": null,
   "metadata": {
    "ExecuteTime": {
     "end_time": "2020-09-28T23:07:22.625211Z",
     "start_time": "2020-09-28T23:07:16.420854Z"
    },
    "slideshow": {
     "slide_type": "skip"
    }
   },
   "outputs": [],
   "source": [
    "%matplotlib notebook\n",
    "from ipywidgets import interact, SelectionSlider, IntSlider, FloatSlider\n",
    "import matplotlib.pyplot as plt\n",
    "from matplotlib import animation\n",
    "import numpy as np\n",
    "\n",
    "from IPython.display import YouTubeVideo, HTML, Audio\n",
    "from bokeh.layouts import column, row, gridplot\n",
    "from bokeh.models import CustomJS, ColumnDataSource, Slider\n",
    "from bokeh.plotting import Figure, show, output_notebook\n",
    "output_notebook()"
   ]
  },
  {
   "cell_type": "markdown",
   "metadata": {},
   "source": [
    "# Fuga espectral y técnica de enventanado"
   ]
  },
  {
   "cell_type": "markdown",
   "metadata": {
    "slideshow": {
     "slide_type": "subslide"
    }
   },
   "source": [
    "## Definiciones\n",
    "\n",
    "Diremos que una función es limitada en el dominio del tiempo si\n",
    "\n",
    "$$\n",
    "s(t) = 0 \\quad \\forall |t| > T,\n",
    "$$\n",
    "\n",
    "para alguna constante $T$\n",
    "\n",
    "Diremos que una función es limitada en el dominio de la frecuencia o de ancho de banda limitado si\n",
    "\n",
    "$$\n",
    "S(\\omega) = 0 \\quad \\forall |\\omega| > \\Omega,\n",
    "$$\n",
    "\n",
    "para alguna constante $\\Omega$"
   ]
  },
  {
   "cell_type": "markdown",
   "metadata": {
    "slideshow": {
     "slide_type": "subslide"
    }
   },
   "source": [
    "## Transformada de Fourier de una señal limitada en el tiempo\n",
    "\n",
    "Como vimos en la lección anterior, el espectro de \n",
    "\n",
    "$$\n",
    "s(t) = \\cos(2\\pi f_0 t)\n",
    "$$\n",
    "\n",
    "es\n",
    "\n",
    "$$\n",
    "S(f) = \\frac{1}{2} \\left(\\delta(f-f_0) + \\delta(f+f_0) \\right)\n",
    "$$\n",
    "\n",
    "Pero esto asume que $s(t)$ existen para todo $t$. \n",
    "\n",
    "<div class=\"alert alert-info\">\n",
    "    \n",
    "En la práctica siempre trabajamos con señales de duración finita\n",
    "\n",
    "</div>\n",
    "\n",
    "Una versión \"finita\" y de duración $T>0$ de la señal anterior es equivalente a \n",
    "\n",
    "$$\n",
    "s_T(t) = \\cos(2 \\pi f_0 t) \\cdot \\text{rect}(t/T),\n",
    "$$\n",
    "\n",
    "donde \n",
    "\n",
    "$$\n",
    "\\text{rect}(x) = \\begin{cases} 1 & |x| \\leq 1 \\\\ 0 & |x| > 0 \\end{cases}\n",
    "$$\n",
    "\n",
    "se llama **ventana rectangular** o pulso cuadrado\n",
    "\n"
   ]
  },
  {
   "cell_type": "code",
   "execution_count": null,
   "metadata": {},
   "outputs": [],
   "source": [
    "T = 5 # Duración de la ventana\n",
    "Fs = 20 # Frecuencia de muestre\n",
    "f0 = 1.2345 # Frecuencia fundamental\n",
    "t = np.arange(-10, 10, step=1/Fs)\n",
    "s = np.cos(2*np.pi*f0*t)\n",
    "w = np.zeros_like(t)\n",
    "w[np.absolute(t) < T/2] = 1\n",
    "sT = s*w"
   ]
  },
  {
   "cell_type": "code",
   "execution_count": null,
   "metadata": {
    "tags": [
     "hide-input"
    ]
   },
   "outputs": [],
   "source": [
    "p1 = Figure(plot_width=600, plot_height=280, toolbar_location=\"below\", x_range=(-10, 10))\n",
    "p1.line(t, s,  color='green', alpha=0.75, line_width=4, legend_label='Señal original')\n",
    "p1.line(t, sT, line_width=3, alpha=0.75, legend_label='Señal recortada')\n",
    "p1.line(t, w, line_width=3, alpha=0.75, color='black', line_dash='dashed', legend_label='Ventana')\n",
    "p1.xaxis[0].axis_label = 'Tiempo [s]'\n",
    "show(p1)"
   ]
  },
  {
   "cell_type": "markdown",
   "metadata": {},
   "source": [
    "### Transformada de Fourier de la ventana rectangular\n",
    "\n",
    "En la lección 2 vimos que la transformada de Fourier del pulso cuadrado es\n",
    "\n",
    "$$\n",
    "S(f) = \\frac{T}{\\pi f T} \\sin(\\pi f T) = T \\text{sinc}(f T)\n",
    "$$\n",
    "\n",
    "donde la función sinc se define como\n",
    "\n",
    "$$\n",
    "\\text{sinc}(x) = \\frac{1}{\\pi x} \\sin(\\pi x) \n",
    "$$\n",
    "\n",
    "Puedes revisar la demostración de esta transformada [aquí](http://www.thefouriertransform.com/pairs/box.php)\n",
    "\n",
    "\n",
    "El siguiente gráfico muestra como cambia $S(f)$ para distintos valores de $T$"
   ]
  },
  {
   "cell_type": "code",
   "execution_count": null,
   "metadata": {},
   "outputs": [],
   "source": [
    "f = np.arange(-2, 2, step=1e-2)\n",
    "S = {}\n",
    "Ts = [2, 5, 10]\n",
    "for T in Ts:\n",
    "    S[T] = T*np.sinc(f*T)"
   ]
  },
  {
   "cell_type": "code",
   "execution_count": null,
   "metadata": {
    "tags": [
     "hide-input"
    ]
   },
   "outputs": [],
   "source": [
    "from bokeh.palettes import Dark2_5 as palette\n",
    "p1 = Figure(plot_width=600, plot_height=280, toolbar_location=\"below\")\n",
    "for T, color in zip(Ts, palette):\n",
    "    p1.line(f, S[T], line_width=3, alpha=0.75, legend_label=f\"T={T}\", color=color)\n",
    "p1.xaxis[0].axis_label = 'Frecuencia [Hz]'\n",
    "show(p1)"
   ]
  },
  {
   "cell_type": "markdown",
   "metadata": {},
   "source": [
    "<div class=\"alert alert-info\">\n",
    "    \n",
    "Mientras mayor sea la duración temporal $T$ de la ventana más angosto y concentrado será su espectro\n",
    "\n",
    "</div>"
   ]
  },
  {
   "cell_type": "markdown",
   "metadata": {},
   "source": [
    "### Transformada de Fourier de $s_T(t)$\n",
    "\n",
    "Usando la propiedad de modulación de la transformada de Fourier tenemos que\n",
    "\n",
    "$$\n",
    "\\begin{align}\n",
    "S_T(f) &= \\mathbb{FT}[s_T(t)] \\nonumber \\\\\n",
    "&= \\mathbb{FT}[\\text{rect}_T(t) \\cdot s(t) ] \\nonumber \\\\\n",
    "&=  \\mathbb{FT}[\\text{rect}_T(t)] * \\mathbb{FT}[s_T(t)]    \\nonumber \\\\\n",
    "&=  T \\text{sinc}(f T) *  \\frac{1}{2} \\left(\\delta(f-f_0) + \\delta(f+f_0) \\right) \\nonumber \n",
    "\\end{align}\n",
    "$$\n",
    "\n",
    "<div class=\"alert alert-info\">\n",
    "    \n",
    "Multiplicar por una ventana rectangular en el tiempo es equivalente a convolucionar con un sinc en frecuencia\n",
    "\n",
    "</div>\n",
    "\n",
    "\n",
    "En la lección anterior vimos lo que significa convolucionar con un impulso, en este caso el resultado es\n",
    "\n",
    "$$\n",
    "S_T(f) = \\frac{T}{2} \\left [ \\text{sinc}((f - f_0)T) +  \\text{sinc}((f + f_0)T) \\right]\n",
    "$$\n",
    "\n",
    "En lugar de un impulso lo que observamos es un $\\text{sinc}$ ubicado en la frecuencia fundamental, como muestra la siguiente animación"
   ]
  },
  {
   "cell_type": "code",
   "execution_count": null,
   "metadata": {
    "tags": [
     "hide-input"
    ]
   },
   "outputs": [],
   "source": [
    "%%capture\n",
    "fig, ax = plt.subplots(2, figsize=(7, 4), sharex=True, tight_layout=True)\n",
    "f = np.arange(-4, 4, step=1e-3)\n",
    "\n",
    "def FT_rect(f, T=5):\n",
    "    return T*np.sinc(T*(f))\n",
    "\n",
    "def FT_cos(f):\n",
    "    S = np.zeros_like(f)\n",
    "    S[2000] = 1\n",
    "    S[6000] = 1\n",
    "    return S\n",
    "    \n",
    "conv_s = np.convolve(FT_rect(f), FT_cos(f), mode='same')\n",
    "\n",
    "def update(frame = 0): \n",
    "    loc = 0.1*frame - 4\n",
    "    ax[0].cla(); ax[1].cla()\n",
    "    p1, p2 = FT_rect(f-loc), FT_cos(f)\n",
    "    ax[0].plot(f, p1, label='espectro de rect'); \n",
    "    ax[0].plot(f, p2, label='espectro de coseno'); \n",
    "    ax[0].legend()\n",
    "    ax[1].plot(f, conv_s); \n",
    "    ax[1].set_xlabel('Frecuencia [Hz]'); \n",
    "    ax[1].scatter(loc, np.sum(p1*p2), s=100, c='k')\n",
    "    return ()\n",
    "    \n",
    "anim = animation.FuncAnimation(fig, update, frames=80, interval=100, blit=True)"
   ]
  },
  {
   "cell_type": "code",
   "execution_count": null,
   "metadata": {},
   "outputs": [],
   "source": [
    "HTML(anim.to_html5_video())"
   ]
  },
  {
   "cell_type": "markdown",
   "metadata": {},
   "source": [
    "### Espectro de amplitud en función de $T$\n",
    "\n",
    "Mientras más pequeño es $T$ \n",
    "\n",
    "- más \"corta\" es $s_T(t)$ \n",
    "- más anchos son los \"lóbulos\" de $S_T(f)$ \n",
    "\n",
    "\n",
    "<img src=\"../images/mainsidelobe.png\" width=\"300\">\n",
    "\n",
    "- El lóbulo principal (*mainlobe* en la figura) es el que está relacionado a información real de la señal\n",
    "- Los lóbulos laterales (*sidelobe* en la figura) son un efecto de la convolución con el **sinc**\n",
    "- La proporción entre el tamaño del lóbulo principal y los lóbulos laterales aumenta con $T$\n",
    "\n",
    "\n",
    "La siguiente figura muestra la señal coseno truncada con una ventana rectangular (columna izquierda) y su correspondiente espectro de amplitud (columna derecha)"
   ]
  },
  {
   "cell_type": "code",
   "execution_count": null,
   "metadata": {},
   "outputs": [],
   "source": [
    "import scipy.fft as sfft\n",
    "\n",
    "Ts = [2, 5, 10, 15] # Duración de la ventana\n",
    "Fs = 20 # Frecuencia de muestre\n",
    "f0 = 1.2345 # Frecuencia fundamental\n",
    "t = np.arange(-10, 10, step=1/Fs)\n",
    "s = np.cos(2*np.pi*f0*t)\n",
    "p = []\n",
    "for T in Ts:\n",
    "    w = np.zeros_like(t)\n",
    "    w[np.absolute(t) < T/2] = 1\n",
    "    sT = s*w\n",
    "    f = sfft.rfftfreq(n=len(sT), d=1/Fs)\n",
    "    ST = np.absolute(sfft.rfft(sT))\n",
    "    pp = [Figure(plot_width=300, plot_height=150, toolbar_location=\"below\"),\n",
    "          Figure(plot_width=300, plot_height=150, toolbar_location=\"below\")]\n",
    "    pp[0].line(t, sT, line_width=3, alpha=0.75)\n",
    "    pp[1].line(f, ST, line_width=3, alpha=0.75, legend_label=f\"T={T}\")\n",
    "    p.append(pp)\n",
    "    \n",
    "p[-1][0].xaxis[0].axis_label = 'Tiempo [s]'\n",
    "p[-1][1].xaxis[0].axis_label = 'Frecuencia [Hz]'\n",
    "show(gridplot(p))"
   ]
  },
  {
   "cell_type": "markdown",
   "metadata": {
    "slideshow": {
     "slide_type": "subslide"
    }
   },
   "source": [
    "## Fuga espectral\n",
    "\n",
    "La aparición de los lóbulos laterales por truncamiento de la señal es un efecto que se conoce como **fuga espectral** o *spectral leak*\n",
    "\n",
    "La fuga espectral es una redistribución de la energía de un cierto componente espectral hacia sus frecuencias vecinas debido a las **discontinuidades o quiebres** en la periodicidad de la señal en sus bordes\n",
    "\n",
    "Observe a continuación la diferencia entre el espectro de una señal donde su periodicidad calza perfecto con la ventana (fila superior) versus cuando esto no ocurre, que sería el caso más general (fila inferior)"
   ]
  },
  {
   "cell_type": "code",
   "execution_count": null,
   "metadata": {},
   "outputs": [],
   "source": [
    "import scipy.fft as sfft\n",
    "\n",
    "T = 2 # Duración de la ventana\n",
    "Fs = 20 # Frecuencia de muestre\n",
    "f0s = [2.0, 2.15] # Frecuencia fundamental\n",
    "p = []\n",
    "for f0 in f0s:\n",
    "    t = np.arange(-T, T, step=1/Fs)\n",
    "    sT = np.cos(2*np.pi*f0*t)\n",
    "    f = sfft.rfftfreq(n=len(sT), d=1/Fs)\n",
    "    ST = np.absolute(sfft.rfft(sT))\n",
    "    pp = [Figure(plot_width=300, plot_height=150, toolbar_location=\"below\"),\n",
    "          Figure(plot_width=300, plot_height=150, toolbar_location=\"below\", y_range=(-1, 41))]\n",
    "    pp[0].line(t, sT, line_width=3, alpha=0.75)\n",
    "    pp[1].line(f, ST, line_width=3, alpha=0.75)\n",
    "    p.append(pp)\n",
    "    \n",
    "p[-1][0].xaxis[0].axis_label = 'Tiempo [s]'\n",
    "p[-1][1].xaxis[0].axis_label = 'Frecuencia [Hz]'\n",
    "show(gridplot(p))"
   ]
  },
  {
   "cell_type": "markdown",
   "metadata": {},
   "source": [
    "La fuga espectral es indeseada ya que no aporta información real\n",
    "\n",
    "Podemos eliminar este efecto si hacemos que los bordes de la señal \"calcen\" antes de calcular su espectro\n",
    "\n",
    "Este proceso de suavizado de bordes se llama **enventanado**\n"
   ]
  },
  {
   "cell_type": "markdown",
   "metadata": {},
   "source": [
    "## Enventanado espectral\n",
    "\n",
    "Es el proceso de multiplicar la señal por una ventana para alterar las características de su espectro\n",
    "\n",
    "Lamentablemente no es posible eliminar la fuga espectral completamente con enventanado pero si podemos modificar como se redistribuye la energía\n",
    "\n",
    "Existen muchas ventanas y cada una representa un compromiso (*trade-off*) distinto entre la **concentración o ancho del lóbulo principal y la atenuación de los lóbulos laterales**\n",
    "\n",
    "En general se tiene que\n",
    "\n",
    "- Mientras más abrupta es la ventana, más concentrado será el lóbulo principal y más fuertes serán los lóbulos laterales\n",
    "- Mientras más suave sea la ventana, menos concentrado será el lóbulo principal y más débiles serán los lóbulos laterales\n",
    "\n",
    "Es decir que siempre estamos sacrificando resolución por limpieza\n",
    "\n",
    "Revisemos a continuación algunas ventanas (columna de la izquierda), su efecto al multiplicar con la señal (columna central) y en el espectro resultante (columna derecha)\n"
   ]
  },
  {
   "cell_type": "code",
   "execution_count": null,
   "metadata": {},
   "outputs": [],
   "source": [
    "import scipy.fft as sfft\n",
    "from scipy.signal import cosine, blackman, tukey\n",
    "\n",
    "T = 2 # Duración de la ventana\n",
    "Fs = 20 # Frecuencia de muestre\n",
    "f0 = 2.15 # Frecuencia fundamental\n",
    "t = np.arange(-T, T, step=1/Fs)\n",
    "sT = np.cos(2*np.pi*f0*t)\n",
    "p = []\n",
    "    \n",
    "for wname in ['rect', 'tukey', 'cosine', 'blackman']:\n",
    "    if wname == 'rect':\n",
    "        w = np.ones_like(sT)\n",
    "    elif wname == 'tukey':\n",
    "        w = tukey(len(sT))\n",
    "    elif wname == 'cosine':\n",
    "        w = cosine(len(sT))\n",
    "    elif wname == 'blackman':\n",
    "        w = blackman(len(sT))\n",
    "    \n",
    "    f = sfft.rfftfreq(n=len(sT), d=1/Fs)\n",
    "    ST = np.absolute(sfft.rfft(sT*w))\n",
    "    f_long = sfft.rfftfreq(n=len(sT)*10, d=1/Fs)\n",
    "    ST_long = np.absolute(sfft.rfft(sT*w, n=len(sT)*10))\n",
    "    pp = [Figure(plot_width=280, plot_height=150, toolbar_location=\"below\", y_range=(-0.1, 1.1)),\n",
    "          Figure(plot_width=280, plot_height=150, toolbar_location=\"below\"),\n",
    "          Figure(plot_width=280, plot_height=150, toolbar_location=\"below\", y_range=(-1, 35))]\n",
    "    pp[0].line(t, w, line_width=3, alpha=0.75)\n",
    "    pp[1].line(t, sT*w, line_width=3, alpha=0.75)\n",
    "    pp[2].line(f_long, ST_long, line_width=3, alpha=0.75, legend_label=wname)\n",
    "    pp[2].scatter(f, ST, color='black', line_width=3, alpha=0.75)\n",
    "    p.append(pp)\n",
    "    \n",
    "p[-1][0].xaxis[0].axis_label = 'Tiempo [s]'\n",
    "p[-1][1].xaxis[0].axis_label = 'Tiempo [s]'\n",
    "p[-1][2].xaxis[0].axis_label = 'Frecuencia [Hz]'\n",
    "show(gridplot(p))"
   ]
  },
  {
   "cell_type": "markdown",
   "metadata": {},
   "source": [
    "Las ventanas espectrales más utilizadas están implementadas en el módulo [`scipy.signal`](https://docs.scipy.org/doc/scipy/reference/signal.windows.html?highlight=window#module-scipy.signal.windows)\n",
    "\n",
    "En el ejemplo anterior usamos la ventana \n",
    "\n",
    "- Rectangular: Borde con discontinuidad fuerte, es la que tiene más concentración de lóbulo principal pero también más lóbulos laterales\n",
    "- [Tukey](https://docs.scipy.org/doc/scipy/reference/generated/scipy.signal.windows.tukey.html#scipy.signal.windows.tukey) con parámetro $\\alpha=0.5$, es una transición entre la ventana rectangular y la ventana coseno\n",
    "- [Cosine](https://docs.scipy.org/doc/scipy/reference/generated/scipy.signal.windows.cosine.html#scipy.signal.windows.cosine), como su nombre lo indica tiene forma de coseno en $[-\\pi/2, \\pi/2]$\n",
    "- [Blackman](https://docs.scipy.org/doc/scipy/reference/generated/scipy.signal.windows.blackman.html#scipy.signal.windows.blackman): Borde muy suave, es la que tiene menos concentración de lóbulo principal pero también menos lóbulos laterales\n",
    "\n",
    "\n",
    "Otra ventana interesante es la [\"ventana de Kaiser\"](https://docs.scipy.org/doc/scipy/reference/generated/scipy.signal.windows.kaiser.html#scipy.signal.windows.kaiser) cuyo parámetro $\\beta$ le permite asemejarse a otros ventanas de forma similar a la ventana de Tukey pero más flexible\n",
    "\n",
    "- $\\beta=0$: ventana rectangular\n",
    "- $\\beta=5$: similar a ventana coseno\n",
    "- $\\beta=8.8$ similar a la ventana de Blackman\n",
    "\n",
    "Ejemplo a continuación"
   ]
  },
  {
   "cell_type": "code",
   "execution_count": null,
   "metadata": {},
   "outputs": [],
   "source": [
    "import scipy.fft as sfft\n",
    "from scipy.signal import kaiser\n",
    "\n",
    "T = 2 # Duración de la ventana\n",
    "Fs = 20 # Frecuencia de muestre\n",
    "f0 = 2.15 # Frecuencia fundamental\n",
    "t = np.arange(-T, T, step=1/Fs)\n",
    "sT = np.cos(2*np.pi*f0*t)\n",
    "p = []\n",
    "    \n",
    "for beta in [0, 5, 8.8]:\n",
    "    w = kaiser(len(sT), beta=beta)\n",
    "    f = sfft.rfftfreq(n=len(sT), d=1/Fs)\n",
    "    ST = np.absolute(sfft.rfft(sT*w))\n",
    "    f_long = sfft.rfftfreq(n=len(sT)*10, d=1/Fs)\n",
    "    ST_long = np.absolute(sfft.rfft(sT*w, n=len(sT)*10))\n",
    "    pp = [Figure(plot_width=280, plot_height=150, toolbar_location=\"below\", y_range=(-0.1, 1.1)),\n",
    "          Figure(plot_width=280, plot_height=150, toolbar_location=\"below\"),\n",
    "          Figure(plot_width=280, plot_height=150, toolbar_location=\"below\", y_range=(-1, 35))]\n",
    "    pp[0].line(t, w, line_width=3, alpha=0.75)\n",
    "    pp[1].line(t, sT*w, line_width=3, alpha=0.75)\n",
    "    pp[2].line(f_long, ST_long, line_width=3, alpha=0.75, legend_label=\"beta: \"+str(beta))\n",
    "    pp[2].scatter(f, ST, color='black', line_width=3, alpha=0.75)\n",
    "    p.append(pp)\n",
    "    \n",
    "p[-1][0].xaxis[0].axis_label = 'Tiempo [s]'\n",
    "p[-1][1].xaxis[0].axis_label = 'Tiempo [s]'\n",
    "p[-1][2].xaxis[0].axis_label = 'Frecuencia [Hz]'\n",
    "show(gridplot(p))"
   ]
  },
  {
   "cell_type": "markdown",
   "metadata": {},
   "source": [
    "### ¿Cómo escoger que ventana usar?\n",
    "\n",
    "Esta es una pregunta sumamente importante pero difícil de responder ya que depende de cada problema\n",
    "\n",
    "A continuación algunas indicaciones\n",
    "\n",
    "- Para propósito general o como primera aproximación usar una ventana que entregue un buen compromiso, por ejemplo Cosine, Hamming o Hanning\n",
    "- Si se requiere separar/discriminar frecuencias muy cercanas conviene usar una ventana que resalte más el lóbulo principal, por ejemplo rectangular o Tukey\n",
    "- Si las frecuencias de interés están muy separadas entonces conviene usar una ventana que suprima más fuertemente los lóbulos laterales como la de Blackman\n",
    "\n"
   ]
  },
  {
   "cell_type": "code",
   "execution_count": null,
   "metadata": {},
   "outputs": [],
   "source": []
  }
 ],
 "metadata": {
  "celltoolbar": "Edit Metadata",
  "kernelspec": {
   "display_name": "INFO183",
   "language": "python",
   "name": "info183"
  },
  "language_info": {
   "codemirror_mode": {
    "name": "ipython",
    "version": 3
   },
   "file_extension": ".py",
   "mimetype": "text/x-python",
   "name": "python",
   "nbconvert_exporter": "python",
   "pygments_lexer": "ipython3",
   "version": "3.8.5"
  },
  "toc": {
   "base_numbering": 1,
   "nav_menu": {},
   "number_sections": true,
   "sideBar": true,
   "skip_h1_title": false,
   "title_cell": "Table of Contents",
   "title_sidebar": "Contents",
   "toc_cell": false,
   "toc_position": {},
   "toc_section_display": true,
   "toc_window_display": false
  }
 },
 "nbformat": 4,
 "nbformat_minor": 2
}
