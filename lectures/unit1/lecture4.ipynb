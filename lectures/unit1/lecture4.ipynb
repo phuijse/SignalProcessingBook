{
 "cells": [
  {
   "cell_type": "code",
   "execution_count": null,
   "metadata": {},
   "outputs": [],
   "source": [
    "import holoviews as hv\n",
    "hv.extension('bokeh')\n",
    "hv.opts.defaults(hv.opts.Curve(width=500))"
   ]
  },
  {
   "cell_type": "code",
   "execution_count": null,
   "metadata": {},
   "outputs": [],
   "source": [
    "import numpy as np\n",
    "import scipy.signal"
   ]
  },
  {
   "cell_type": "markdown",
   "metadata": {},
   "source": [
    "# Efectos del muestreo y fenómeno de aliasing"
   ]
  },
  {
   "cell_type": "markdown",
   "metadata": {},
   "source": [
    "## El espectro de una señal discreta"
   ]
  },
  {
   "cell_type": "markdown",
   "metadata": {
    "slideshow": {
     "slide_type": "slide"
    }
   },
   "source": [
    "### ¿Qué le ocurre al espectro de una señal continua cuando la muestreamos?\n",
    "\n",
    "Muestrear es equivalente a multiplicar una señal continua por un tren de impulsos, también conocido como \"peineta de Dirac\". La definición matemática del tren de impulsos es\n",
    "\n",
    "$$\n",
    "\\upuparrows(t) = \\sum_{m=-\\infty}^\\infty \\delta[t - m / F_s],\n",
    "$$\n",
    "\n",
    "donde $F_s$ es la frecuencia de muestreo, es decir el recíproco de $T_s$. \n",
    "\n",
    "La siguiente figura representa graficamente el proceso de muestreo:\n",
    "\n",
    "<img src=\"../images/dirac-comb.png\">\n",
    "\n",
    "que matemáticamente sería\n",
    "\n",
    "$$\n",
    "s(t) ~ \\cdot \\upuparrows(t) = \\{s_m\\} \n",
    "$$\n",
    "\n",
    "donde $\\{s_m\\}$ es la secuencia muestreada a partir de $s(t)$. "
   ]
  },
  {
   "cell_type": "markdown",
   "metadata": {},
   "source": [
    "Nos interesa entender que ocurre con $S(f)$, el espectro de $s(t)$, cuando se realiza el muestreo. Para verificar esto matematicamente necesitamos conocer la transformada de Fourier del tren de impulsos, que es\n",
    "\n",
    "$$\n",
    "\\mathbb{FT}[\\upuparrows(t)] =  F_s \\sum_{m=-\\infty}^\\infty  \\delta(f - m F_s)\n",
    "$$\n",
    "\n",
    "es decir **otro tren de impulsos** pero en frecuencia en lugar de tiempo. Pueden revisar la demostración de la transformada anterior [aquí](http://www.thefouriertransform.com/pairs/shah.php)\n",
    "\n",
    "Con esto tenemos todos los ingredientes para calcular la transformada de Fourier de la señal discreta\n",
    "\n",
    "$$\n",
    "\\begin{align}\n",
    "\\mathbb{FT}[s(t) \\cdot \\upuparrows(t)] &= \\mathbb{FT}[s(t)] * \\mathbb{FT}[\\upuparrows(t)] \\nonumber \\\\\n",
    "&= S(f) *  F_s \\sum_{m=-\\infty}^\\infty  \\delta(f - m F_s) \\nonumber \\\\\n",
    "&= F_s \\sum_{m = -\\infty}^{\\infty} S(f - m F_s) \\nonumber\n",
    "\\end{align}\n",
    "$$\n",
    "\n",
    ":::{note}\n",
    "\n",
    "El espectro de la señal discreta es equivalente a una repetición infinita del espectro de la señal continua. Las repeticiones del espectro están separadas en $F_s$ [Hz]\n",
    "\n",
    ":::\n",
    "\n",
    "Para obtener el espectro de la señal discreta hemos usado una importante propiedad de la transformada de Fourier: La transformada de Fourier de una multiplicación de señales corresponde a la convolución entre las transformadas de Fourier de cada uno de los términos. \n",
    "\n",
    "A continuación veremos en mayor detalle que es la operación de convolución y que significa convolucionar con un tren de impulsos"
   ]
  },
  {
   "cell_type": "markdown",
   "metadata": {},
   "source": [
    "### Convolucón con un tren de impulsos\n",
    "\n",
    "La convolución entre dos señales discretas (de una dimensión) se define matematicamente como\n",
    "\n",
    "$$\n",
    "(f * g)[n] = \\sum_{m=-\\infty}^\\infty f[m] g[n-m] = \\sum_{m=-\\infty}^\\infty f[n-m] g[m]\n",
    "$$\n",
    "\n",
    "La variable $m$ se suele llamar (*lag*). La convolución consiste en sumar la multiplicación de $f$ con versiones retrasadas de $g$ (o viceverza). El resultado de la convolución es una nueva función \n",
    "\n",
    "En el caso de que $f$ sea un tren de impulsos ocurrirá una \"repetición\" de $g$ (o viceverza). La siguiente animación ejemplifica lo anterior con la convolución entre una señal gaussiana y un tren de impulsos con $F_s=2$ [Hz]"
   ]
  },
  {
   "cell_type": "code",
   "execution_count": null,
   "metadata": {},
   "outputs": [],
   "source": [
    "def señal(t, mu=0, sigma=0.2):\n",
    "    return np.exp(-0.5*((t-mu)/sigma)**2)\n",
    "\n",
    "def peineta(t, Fs=2000):\n",
    "    s = np.zeros_like(t)\n",
    "    s[::Fs] = 1 \n",
    "    return s\n",
    "    \n",
    "x = np.arange(-2, 2+1e-3, step=1e-3)\n",
    "conv_s = np.convolve(señal(x), peineta(x), mode='same')"
   ]
  },
  {
   "cell_type": "code",
   "execution_count": null,
   "metadata": {},
   "outputs": [],
   "source": [
    "%%output holomap='gif' fps=5\n",
    "\n",
    "hmap1 = hv.HoloMap(kdims=['frame'])\n",
    "hmap2 = hv.HoloMap(kdims=['frame'])\n",
    "tren_plot = hv.Curve((x, peineta(x)), label='Tren de impulsos')\n",
    "conv_plot = hv.Curve((x, conv_s), 'Tiempo [s]', 'Convolución')\n",
    "for frame in range(0, 4001, 250):    \n",
    "    hmap1[frame] = hv.Curve((x, señal(x, mu=x[frame])), 'Tiempo [s]', 'Señal', label='Gaussiana')\n",
    "    hmap2[frame] = hv.Scatter((x[frame], conv_s[frame])).opts(color='k', size=10)\n",
    "    \n",
    "main_plot = ((hmap1 * tren_plot) + (hmap2 * conv_plot)).cols(1)\n",
    "main_plot.opts(hv.opts.Curve(height=200, xlim=(-2.1,2.1)))"
   ]
  },
  {
   "cell_type": "markdown",
   "metadata": {},
   "source": [
    ":::{note}\n",
    "\n",
    "Cada repetición de la gaussiana calza con uno de los impulsos del tren de impulsos\n",
    "\n",
    ":::"
   ]
  },
  {
   "cell_type": "markdown",
   "metadata": {},
   "source": [
    "### Ejemplo: Espectro de una señal Gaussiana discreta, parte 1\n",
    "\n",
    "La señal Gaussiana con media cero es\n",
    "\n",
    "$$\n",
    "s(t) = \\exp \\left ( -\\frac{t^2}{2\\sigma^2} \\right)\n",
    "$$\n",
    "\n",
    "y su transformada de Fourier es\n",
    "\n",
    "$$\n",
    "S(f) = \\mathbb{FT}[s(t)] = \\sqrt{2\\pi}\\sigma \\cdot \\exp \\left ( -2\\sigma^2 \\pi^2 f^2 \\right).\n",
    "$$\n",
    "\n",
    "Puedes ver la demostración de esta transformada [aquí](http://www.thefouriertransform.com/applications/gaussian.php)\n",
    "\n",
    "\n",
    "Si prestamos atención a las fórmulas podemos notar que el espectro de una gaussiana es otra gaussiana pero con ancho inversamente proporcional a la original. Es decir que mientras más \"ancha\" sea la gaussiana en el tiempo ($\\sigma$ pequeño) más \"angosto\" será su espectro en frecuencia, como muestra la siguiente gráfica\n"
   ]
  },
  {
   "cell_type": "code",
   "execution_count": null,
   "metadata": {},
   "outputs": [],
   "source": [
    "x = np.arange(-5, 5, step=0.001)\n",
    "gauss_time = lambda time, sigma: np.exp(-0.5*(time/sigma)**2)\n",
    "gauss_freq = lambda freq, sigma: np.exp(-2*(np.pi*freq*sigma)**2)#*(np.sqrt(2*np.pi)*sigma)"
   ]
  },
  {
   "cell_type": "code",
   "execution_count": null,
   "metadata": {},
   "outputs": [],
   "source": [
    "gt = hv.HoloMap(kdims=['sigma'])\n",
    "gf = hv.HoloMap(kdims=['sigma'])\n",
    "\n",
    "for sigma in [0.25, 1/np.sqrt(2*np.pi), 1]:\n",
    "    gt[sigma] = hv.Curve((x, gauss_time(x, sigma)), 'Tiempo [s]', 's(t)')\n",
    "    gf[sigma] = hv.Curve((x, gauss_freq(x, sigma)), 'Frecuencia [Hz]', 'S(f)')\n",
    "    \n",
    "(gt + gf).opts(hv.opts.Curve(width=300))"
   ]
  },
  {
   "cell_type": "markdown",
   "metadata": {},
   "source": [
    "Como vimos anteriormente el espectro de una señal discreta es el espectro de la señal continua convolucionado con un tren de impulsos, donde los impulsos están separados entre sí por  $F_s$ [Hz].\n",
    "\n",
    "La siguiente figura interactiva muestra la convolución del espectro teórico de la señal gaussiana con un tren de impulsos de $F_s=2$ [Hz] para distintos valores de $\\sigma$."
   ]
  },
  {
   "cell_type": "code",
   "execution_count": null,
   "metadata": {},
   "outputs": [],
   "source": [
    "def periodic_gauss_freq(f, sigma, Fs=2):\n",
    "    # Equivalente a convolucionar la gaussiana con un tren de impulsos\n",
    "    S = np.zeros_like(f)\n",
    "    for m in range(-20, 20):\n",
    "        S += gauss_freq(f - Fs*m, sigma)\n",
    "    return S\n",
    "\n",
    "x = np.arange(-5, 5, step=0.001)"
   ]
  },
  {
   "cell_type": "code",
   "execution_count": null,
   "metadata": {},
   "outputs": [],
   "source": [
    "espectro_continuo = hv.HoloMap(kdims=['sigma'], sort=False)\n",
    "espectro_discreto = hv.HoloMap(kdims=['sigma'], sort=False)\n",
    "\n",
    "for sigma in [1, 1/np.sqrt(2*np.pi), 0.25]:\n",
    "    espectro_continuo[sigma] = hv.Curve((x, gauss_freq(x, sigma)), \n",
    "                                        'Frecuencia [Hz]', 'Espectro', label='Continuo').opts(line_width=4)\n",
    "    espectro_discreto[sigma] = hv.Curve((x, periodic_gauss_freq(x, sigma)), \n",
    "                                        'Frecuencia [Hz]', label='Discreto')\n",
    "    \n",
    "(espectro_continuo * espectro_discreto * hv.Box(0, 0.5, (2, 1)).opts(line_dash='dashed', line_width=2, alpha=0.5))"
   ]
  },
  {
   "cell_type": "markdown",
   "metadata": {},
   "source": [
    ":::{important}\n",
    "    \n",
    "Para poder recuperar perfectamente el espectro continuo (azul) a partir del espectro discreto (rojo) necesitamos que todas sus frecuencias distintas de cero estén dentro del rango $[-F_s/2, F_s/2]$ (negro punteado)\n",
    "    \n",
    ":::\n",
    "\n",
    "Esta es la base del siguiente teorema fundamental"
   ]
  },
  {
   "cell_type": "markdown",
   "metadata": {},
   "source": [
    "## Teorema del muestreo\n",
    "\n",
    "El siguiente resultado se conoce como el Teorema del muestreo\n",
    "\n",
    "> Sea una señal continua $s(t)$ muestreada a $F_s$ [Hz] produciendo una señal digital $s[n] = s(t = n/F_s)$\n",
    ">\n",
    "> La señal continua puede ser recuperada sin pérdidas a partir de las muestras digitales siempre y cuando\n",
    ">\n",
    ">$$\n",
    "f_{\\text{max}} < \\frac{F_s}{2},\n",
    "$$\n",
    ">\n",
    "> donde $f_{\\text{max}}$ es la componente de frecuencia más alta presente en $s(t)$\n",
    "\n",
    "La recuperación de la señal continua está dada por \n",
    "\n",
    "$$\n",
    "s(t) = \\sum_{n=-\\infty}^{\\infty} s[n] \\text{sinc}(\\pi F_s (t - n /F_s) )\n",
    "$$\n",
    "\n",
    "La frecuencia \n",
    "\n",
    "$$\n",
    "F_{Nyq} = \\frac{F_s}{2}\n",
    "$$ \n",
    "\n",
    "se conoce como **Frecuencia de Nyquist**, en honor a [Harry Nyquist](https://en.wikipedia.org/wiki/Harry_Nyquist) \n"
   ]
  },
  {
   "cell_type": "markdown",
   "metadata": {},
   "source": [
    "### Ejemplo: Espectro de una señal Gaussiana discreta, parte 2\n",
    "\n",
    "Asumamos que la frecuencia de muestreo se mantiene en $F_s=2$ [Hz]. La frecuencia máxima de la gaussiana es la \"última\" frecuencia donde el espectro es distinto de cero\n",
    "\n",
    "A continuación se muestra la misma figura anterior pero marcando con un círculo negro la posición aproximada de la frecuencia máxima. "
   ]
  },
  {
   "cell_type": "code",
   "execution_count": null,
   "metadata": {},
   "outputs": [],
   "source": [
    "espectro_continuo = hv.HoloMap(kdims=['sigma'], sort=False)\n",
    "espectro_discreto = hv.HoloMap(kdims=['sigma'], sort=False)\n",
    "fmax_plot = hv.HoloMap(kdims=['sigma'], sort=False) \n",
    "\n",
    "for sigma in [1, 1/np.sqrt(2*np.pi), 0.25]:\n",
    "    espectro_continuo[sigma] = hv.Curve((x, gauss_freq(x, sigma)), \n",
    "                                        'Frecuencia [Hz]', 'Espectro', label='Continuo').opts(line_width=4)\n",
    "    espectro_discreto[sigma] = hv.Curve((x, periodic_gauss_freq(x, sigma)), \n",
    "                                        'Frecuencia [Hz]', label='Discreto')\n",
    "    fmax = x[gauss_freq(x, sigma)>1e-2][-1]\n",
    "    fmax_plot[sigma] = hv.Scatter(([-fmax, fmax], [0, 0])).opts(size=10, color='k')\n",
    "    \n",
    "(espectro_continuo * espectro_discreto * fmax_plot * hv.Box(0, 0.5, (2, 1)).opts(line_dash='dashed', line_width=2, alpha=0.5))"
   ]
  },
  {
   "cell_type": "markdown",
   "metadata": {},
   "source": [
    "Cuando la frecuencia máxima sale del cuadrado negro se produce un \"solapamiento\" de las gaussianas en el espectro discreto\n",
    "    \n",
    ":::{note}\n",
    "\n",
    "Debido al solapamiento en el espectro discreto (rojo) se vuelve imposible recuperar el espectro original (azul) sin alteraciones. \n",
    "    \n",
    ":::\n",
    "\n",
    "El solapamiento espectral se llama **aliasing**"
   ]
  },
  {
   "cell_type": "markdown",
   "metadata": {
    "slideshow": {
     "slide_type": "subslide"
    }
   },
   "source": [
    "## Aliasing\n",
    "\n",
    "Como vimos anteriormente el espectro de una señal muestreada es periódico en $F_s$. Esto significa que si originalmente la señal tenía componentes con frecuencias mayores a $\\frac{F_s}{2}$ se produce un \"traslape\" o \"solapamiento\" espectral\n",
    "\n",
    "Este fenómeno se llama *aliasing* y los componentes traslapados se denominan *aliases*\n",
    "\n",
    ":::{important}\n",
    "\n",
    "Cuando existe aliasing veremos que no es posible reconstruir la señal original sin ambiguedad\n",
    "\n",
    ":::"
   ]
  },
  {
   "cell_type": "markdown",
   "metadata": {},
   "source": [
    "### Aliasing en el espectro de una sinusoide\n",
    "\n",
    "Consideremos por ejemplo la siguiente señal sinusoidal \n",
    "\n",
    "$$\n",
    "s(t) = \\cos(2\\pi f_0 t)\n",
    "$$\n",
    "\n",
    "La transformada de Fourier de coseno es un impulso en $f_0$ y otro en $-f_0$\n",
    "\n",
    "$$\n",
    "S(f) = \\frac{1}{2} \\left(\\delta(f-f_0) + \\delta(f+f_0) \\right)\n",
    "$$\n",
    "\n",
    "Puedes ver la demostración de esta transformada [aquí](http://www.thefouriertransform.com/pairs/sinusoids.php)"
   ]
  },
  {
   "cell_type": "markdown",
   "metadata": {},
   "source": [
    "Si muestreamos la señal a una frecuencia $F_s$ que sea menor a $2 f_0$ entonces habrá traslape en el espectro discreto. Por ejemplo consideremos $f_0 = 1.23$ [Hz] y $F_s = 2$ [Hz]. Digamos además que observamos la señal por $100$ [s]\n",
    "\n",
    "¿Cómo se ve el espectro de amplitud?"
   ]
  },
  {
   "cell_type": "code",
   "execution_count": null,
   "metadata": {},
   "outputs": [],
   "source": [
    "import scipy.fft as sfft\n",
    "\n",
    "f0 = 1.23 # Frecuencia de la sinusoide\n",
    "T = 100 # Largo temporal\n",
    "Fs = 2 # Frecuencia de muestreo\n",
    "\n",
    "time = np.arange(0, T, step=1/Fs)\n",
    "signal = np.cos(2.0*np.pi*f0*time)\n",
    "SA = sfft.fftshift(np.absolute(sfft.fft(signal)))\n",
    "freq = sfft.fftshift(sfft.fftfreq(n=len(time), d=1/Fs))"
   ]
  },
  {
   "cell_type": "code",
   "execution_count": null,
   "metadata": {},
   "outputs": [],
   "source": [
    "hv.Curve((freq, SA), 'Frecuencia [Hz]', 'Espectro de amplitud')"
   ]
  },
  {
   "cell_type": "markdown",
   "metadata": {},
   "source": [
    ":::{note}\n",
    "\n",
    "La señal era de $1.23$ [Hz], sin embargo en el espectro aparecen *peaks* en $\\pm 0.77$ [Hz] \n",
    "\n",
    ":::"
   ]
  },
  {
   "cell_type": "markdown",
   "metadata": {},
   "source": [
    "Recordemos que el espectro de la señal de la señal continua se repite cada $F_s$ [Hz] debido al muestreo. La siguiente figura muestra como se ve el espectro discreto de esta señal\n",
    "\n",
    "<img src=\"../images/aliasing2.png\" width=\"600\">\n"
   ]
  },
  {
   "cell_type": "markdown",
   "metadata": {},
   "source": [
    "Lo que observamos al calcular la FFT está en el rango \n",
    "\n",
    "$$\n",
    "\\left[-\\frac{F_s}{2}, \\frac{F_s}{2} \\right]\n",
    "$$\n",
    "\n",
    "que en este caso es $[-1,1]$ Hz, es decir que no estamos viendo el espectro original (verde) sino un alias (rojo)\n",
    "\n"
   ]
  },
  {
   "cell_type": "markdown",
   "metadata": {},
   "source": [
    "### Frecuencia de los aliases\n",
    "\n",
    "Hasta ahora no hemos explicado porqué el alias en este caso tiene una frecuencia de $\\pm 0.77$ Hz\n",
    "\n",
    "Del diagrama anterior podemos ver que para una sinusoide con frecuencia fundamental $f_0> \\frac{F_s}{2}$, su espectro discreto tendrá infinitos aliases con las siguientes frecuencias\n",
    "\n",
    "- $f_m = f_0  + m F_s$ [Hz] donde $m$ es un número natural\n",
    "- $f_m = m F_s - f_0$ [Hz] donde $m$ es un número natural\n",
    "\n",
    "Según esta fórmula el \"primer\" alias positivo tiene una frecuencia de \n",
    "\n",
    "$$\n",
    "f_m = F_s - f_0 = 2 - 1.23 = 0.773 [Hz],\n",
    "$$ \n",
    "\n",
    "que es exactamente la frecuencia que vimos cuando calculamos la FFT de la señal\n",
    "\n"
   ]
  },
  {
   "cell_type": "markdown",
   "metadata": {},
   "source": [
    "### Aliasing y reconstrucción de señales\n",
    "\n",
    "La siguiente figura muestra simula el alias que ocurre cuando muestreamos la señal sinusoidal con frecuencia $f_0=1.23$ [Hz] usando una frecuencia de muestreo de $F_s=2$ [Hz]"
   ]
  },
  {
   "cell_type": "code",
   "execution_count": null,
   "metadata": {},
   "outputs": [],
   "source": [
    "f0 = 1.23 \n",
    "T = 5 \n",
    "Fs = 2 \n",
    "\n",
    "t_c = np.arange(0, T, step=1e-4)\n",
    "t_d = np.arange(0, T, step=1/Fs)\n",
    "s_c = np.cos(2.0*np.pi*f0*t_c)\n",
    "s_d = np.cos(2.0*np.pi*f0*t_d)\n",
    "s_a = np.cos(2.0*np.pi*(Fs-f0)*t_c)"
   ]
  },
  {
   "cell_type": "code",
   "execution_count": null,
   "metadata": {},
   "outputs": [],
   "source": [
    "p_continuo = hv.Curve((t_c, s_c), 'Tiempo [s]', 'Señal', label='Original').opts(color='g')\n",
    "p_discreto = hv.Scatter((t_d, s_d), 'Tiempo [s]', label='Muestreada').opts(size=10, color='k')\n",
    "p_alias = hv.Curve((t_c, s_a), 'Tiempo [s]', label='Alias').opts(line_dash='dashed', color='r')\n",
    "(p_continuo * p_alias * p_discreto)"
   ]
  },
  {
   "cell_type": "markdown",
   "metadata": {},
   "source": [
    "Si sólo tenemos la señal muestreada (puntos negros) no es posible distinguir si la sinusoide real es la original (verde) o el alias (roja punteada)\n",
    "\n",
    ":::{important}\n",
    "\n",
    "Debido al aliasing ya no podemos reconstruir la señal sin ambigüedad\n",
    "    \n",
    ":::"
   ]
  },
  {
   "cell_type": "markdown",
   "metadata": {},
   "source": [
    "### ¿Cómo eliminamos el aliasing?\n",
    "\n",
    "Para que no haya aliasing necesitamos que todas las componentes frecuenciales con amplitud distinta de cero de la señal cumplan con $ |f| < \\frac{Fs}{2}$\n",
    "\n",
    "Luego, para eliminar el aliasing podemos\n",
    "\n",
    "- Modificar $F_s$: Podemos aumentar $F_s$ tal que sea dos veces mayor que la frecuencia máxima de interés. Para esto necesitamos saber *a priori* cuál es la frecuencia máxima\n",
    "- Filtrar: Podemos eliminar las frecuencias mayores a $\\frac{F_s}{2}$ antes de muestrear \n",
    "\n",
    "En la próxima unidad veremos en detalle como filtrar señales\n"
   ]
  },
  {
   "cell_type": "markdown",
   "metadata": {
    "slideshow": {
     "slide_type": "slide"
    }
   },
   "source": [
    "## Apéndice: Principio de incertidumbre para señales\n",
    "\n",
    "Anteriormente vimos que el ancho en frecuencia y en tiempo de la gaussina son inversamentes proporcionales. Pero en realidad esto es algo que se cumple de forma general para todas las señales.\n",
    "\n",
    "Recordemos primero el principio de incertudimbre \"original\", es decir el de mecánica cuántica\n",
    "\n",
    "El [principio de incertidumbre de Heisenberg](https://es.wikipedia.org/wiki/Relaci%C3%B3n_de_indeterminaci%C3%B3n_de_Heisenberg) nos dice que la precisión (certeza) con que medimos la posición de una particula es inversamente proporcional a la precisión con que medimos su momentum lineal:\n",
    "\n",
    "$$\n",
    "\\Delta x \\Delta p \\geq \\frac{h}{4\\pi},\n",
    "$$\n",
    "\n",
    "donde $h$ es la constante de Planck"
   ]
  },
  {
   "cell_type": "markdown",
   "metadata": {},
   "source": [
    ":::{note}\n",
    "    \n",
    "**En señales existe un principio análogo:** No podemos especificar con infinita precisión la localización temporal y frecuencial de una señal al mismo tiempo.\n",
    "    \n",
    ":::"
   ]
  },
  {
   "cell_type": "markdown",
   "metadata": {},
   "source": [
    "Denis Gabor (1946) fue el primero en darse cuenta de que el principio de incertidumbre aplica para señales. \n",
    "\n",
    "Su teorema dice que para una señal con energía finita \n",
    "\n",
    "$$\n",
    "E = \\int |s(t)|^2 dt\n",
    "$$\n",
    "\n",
    "con valor medio temporal\n",
    "\n",
    "$$\n",
    "\\langle t \\rangle = \\frac{1}{E} \\int t |s(t)|^2 dt,\n",
    "$$\n",
    "\n",
    "y varianza (ancho) temporal\n",
    "\n",
    "$$\n",
    "(\\Delta t)^2 = \\frac{1}{E} \\int (t - \\langle t \\rangle)^2 |s(t)|^2 dt,\n",
    "$$\n",
    "\n",
    "cuya transformada de Fourier $\\mathbb{FT}[s(t)] = S(\\omega)$ tiene un valor medio en frecuencia\n",
    "\n",
    "$$\n",
    "\\langle \\omega \\rangle = \\frac{1}{E} \\int (\\omega - \\langle \\omega \\rangle) |S (\\omega)|^2 d \\omega\n",
    "$$\n",
    "\n",
    "y varianza frecuencial\n",
    "\n",
    "$$\n",
    "(\\Delta \\omega)^2 = \\frac{1}{E} \\int (\\omega - \\langle \\omega \\rangle)^2 |S(\\omega)|^2 d\\omega\n",
    "$$\n",
    "\n",
    "se cumple que\n",
    "\n",
    "$$\n",
    "\\Delta t \\Delta \\omega \\geq \\frac{1}{2},\n",
    "$$\n",
    "\n",
    "es decir $\\Delta t$ y $\\Delta \\omega$ no pueden ser arbitrariamente pequeños\n",
    "\n",
    ":::{important}\n",
    "    \n",
    "El ancho temporal y el ancho frecuencial están inversamente correlacionados sin importar la señal en particular\n",
    "    \n",
    ":::"
   ]
  },
  {
   "cell_type": "code",
   "execution_count": null,
   "metadata": {},
   "outputs": [],
   "source": []
  }
 ],
 "metadata": {
  "kernelspec": {
   "display_name": "Python 3",
   "language": "python",
   "name": "python3"
  },
  "language_info": {
   "codemirror_mode": {
    "name": "ipython",
    "version": 3
   },
   "file_extension": ".py",
   "mimetype": "text/x-python",
   "name": "python",
   "nbconvert_exporter": "python",
   "pygments_lexer": "ipython3",
   "version": "3.9.6"
  },
  "toc": {
   "base_numbering": 1,
   "nav_menu": {},
   "number_sections": true,
   "sideBar": true,
   "skip_h1_title": false,
   "title_cell": "Table of Contents",
   "title_sidebar": "Contents",
   "toc_cell": false,
   "toc_position": {},
   "toc_section_display": true,
   "toc_window_display": false
  }
 },
 "nbformat": 4,
 "nbformat_minor": 2
}
