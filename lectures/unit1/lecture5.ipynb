{
 "cells": [
  {
   "cell_type": "code",
   "execution_count": null,
   "metadata": {},
   "outputs": [],
   "source": [
    "import holoviews as hv\n",
    "hv.extension('bokeh')\n",
    "hv.opts.defaults(hv.opts.Curve(width=500))"
   ]
  },
  {
   "cell_type": "code",
   "execution_count": null,
   "metadata": {},
   "outputs": [],
   "source": [
    "import numpy as np\n",
    "import scipy.signal\n",
    "import scipy.fft"
   ]
  },
  {
   "cell_type": "markdown",
   "metadata": {},
   "source": [
    "# Fuga espectral y técnica de enventanado"
   ]
  },
  {
   "cell_type": "markdown",
   "metadata": {
    "slideshow": {
     "slide_type": "subslide"
    }
   },
   "source": [
    "## Espectro de una señal limitada en el tiempo\n",
    "\n",
    "Diremos que una señal es limitada en el dominio del tiempo si\n",
    "\n",
    "$$\n",
    "s(t) = 0 \\quad \\forall |t| > T,\n",
    "$$\n",
    "\n",
    "para alguna constante $T$\n",
    "\n",
    "Diremos que una señal es limitada en el dominio de la frecuencia o de ancho de banda limitado si\n",
    "\n",
    "$$\n",
    "S(\\omega) = 0 \\quad \\forall |\\omega| > \\Omega,\n",
    "$$\n",
    "\n",
    "para alguna constante $\\Omega$"
   ]
  },
  {
   "cell_type": "markdown",
   "metadata": {
    "slideshow": {
     "slide_type": "subslide"
    }
   },
   "source": [
    "### Señal limitada como resultado de enventanado\n",
    "\n",
    "Como vimos en la lección anterior, el espectro de \n",
    "\n",
    "$$\n",
    "s(t) = \\cos(2\\pi f_0 t)\n",
    "$$\n",
    "\n",
    "es\n",
    "\n",
    "$$\n",
    "S(f) = \\frac{1}{2} \\left(\\delta(f-f_0) + \\delta(f+f_0) \\right)\n",
    "$$\n",
    "\n",
    "Pero esto asume que $s(t)$ existen para todo $t$. \n",
    "\n",
    ":::{warning}\n",
    "    \n",
    "En la práctica siempre trabajamos con señales de duración finita\n",
    "\n",
    ":::\n",
    "\n",
    "Una versión \"finita\" y de duración $T>0$ de la señal anterior es equivalente a \n",
    "\n",
    "$$\n",
    "s_T(t) = \\cos(2 \\pi f_0 t) \\cdot \\text{rect}(t/T),\n",
    "$$\n",
    "\n",
    "donde \n",
    "\n",
    "$$\n",
    "\\text{rect}(x) = \\begin{cases} 1 & |x| \\leq 1 \\\\ 0 & |x| > 0 \\end{cases}\n",
    "$$\n",
    "\n",
    "se llama **ventana rectangular** o pulso cuadrado"
   ]
  },
  {
   "cell_type": "code",
   "execution_count": null,
   "metadata": {},
   "outputs": [],
   "source": [
    "T = 5 # Duración de la ventana\n",
    "Fs = 20 # Frecuencia de muestre\n",
    "f0 = 1.2345 # Frecuencia fundamental\n",
    "t = np.arange(-6, 6, step=1/Fs)\n",
    "s = np.cos(2*np.pi*f0*t)\n",
    "w = np.zeros_like(t)\n",
    "w[np.absolute(t) < T/2] = 1\n",
    "sT = s*w"
   ]
  },
  {
   "cell_type": "code",
   "execution_count": null,
   "metadata": {},
   "outputs": [],
   "source": [
    "p1 = hv.Curve((t, s), 'Tiempo [s]', 'Señal', label='Original').opts(line_width=4)\n",
    "p2 = hv.Curve((t, sT), 'Tiempo [s]', 'Señal', label='Enventanada')\n",
    "p3 = hv.Curve((t, w), 'Tiempo [s]', 'Señal', label='Ventana').opts(line_dash='dashed', color='k')\n",
    "(p1 * p2 * p3)"
   ]
  },
  {
   "cell_type": "markdown",
   "metadata": {},
   "source": [
    "### Transformada de Fourier de la ventana rectangular\n",
    "\n",
    "En la lección 2 vimos que la transformada de Fourier del pulso cuadrado es\n",
    "\n",
    "$$\n",
    "S(f) = \\frac{T}{\\pi f T} \\sin(\\pi f T) = T \\text{sinc}(f T)\n",
    "$$\n",
    "\n",
    "donde la función sinc se define como\n",
    "\n",
    "$$\n",
    "\\text{sinc}(x) = \\frac{1}{\\pi x} \\sin(\\pi x) \n",
    "$$\n",
    "\n",
    "Puedes revisar la demostración de esta transformada [aquí](http://www.thefouriertransform.com/pairs/box.php)\n",
    "\n",
    "\n",
    "El siguiente gráfico muestra como cambia $S(f)$ para distintos valores de $T$"
   ]
  },
  {
   "cell_type": "code",
   "execution_count": null,
   "metadata": {},
   "outputs": [],
   "source": [
    "f = np.arange(-2, 2, step=1e-2)\n",
    "S = {}\n",
    "Ts = [2, 5, 10]\n",
    "for T in Ts:\n",
    "    S[T] = T*np.sinc(f*T)"
   ]
  },
  {
   "cell_type": "code",
   "execution_count": null,
   "metadata": {},
   "outputs": [],
   "source": [
    "p1 = hv.Curve((f, S[2]), 'Frecuencia [Hz]', 'Espectro', label='T=2')\n",
    "p2 = hv.Curve((f, S[5]), label='T=5')\n",
    "p3 = hv.Curve((f, S[10]), label='T=10')\n",
    "(p1 * p2 * p3)"
   ]
  },
  {
   "cell_type": "markdown",
   "metadata": {},
   "source": [
    ":::{note}\n",
    "    \n",
    "Mientras mayor sea la duración temporal ($T$) de la ventana, más angosto y concentrado será su espectro\n",
    "\n",
    ":::"
   ]
  },
  {
   "cell_type": "markdown",
   "metadata": {},
   "source": [
    "### Transformada de Fourier de la señal enventanada\n",
    "\n",
    "Usando la propiedad de modulación de la transformada de Fourier tenemos que\n",
    "\n",
    "$$\n",
    "\\begin{align}\n",
    "S_T(f) &= \\mathbb{FT}[s_T(t)] \\nonumber \\\\\n",
    "&= \\mathbb{FT}[\\text{rect}_T(t) \\cdot s(t) ] \\nonumber \\\\\n",
    "&=  \\mathbb{FT}[\\text{rect}_T(t)] * \\mathbb{FT}[s_T(t)]    \\nonumber \\\\\n",
    "&=  T \\text{sinc}(f T) *  \\frac{1}{2} \\left(\\delta(f-f_0) + \\delta(f+f_0) \\right) \\nonumber \n",
    "\\end{align}\n",
    "$$\n",
    "\n",
    ":::{note}\n",
    "    \n",
    "Multiplicar por una ventana rectangular en el tiempo es equivalente a convolucionar con una función $\\text{sinc}$ en frecuencia\n",
    "\n",
    ":::\n",
    "\n",
    "\n",
    "En la lección anterior estudiamos lo que significa convolucionar con un impulso. En este caso el resultado de la convolución es\n",
    "\n",
    "$$\n",
    "S_T(f) = \\frac{T}{2} \\left [ \\text{sinc}((f - f_0)T) +  \\text{sinc}((f + f_0)T) \\right]\n",
    "$$\n",
    "\n",
    "Es decir un $\\text{sinc}$ ubicado en la frecuencia fundamental, como muestra el siguiente diagrama"
   ]
  },
  {
   "cell_type": "markdown",
   "metadata": {},
   "source": [
    "<img src=\"../images/sinc-conv.png\">"
   ]
  },
  {
   "cell_type": "markdown",
   "metadata": {},
   "source": [
    "Como vimos anteriormente el espectro del $\\text{sinc}$ cambia con $T$. En general mientras más pequeño sea $T$ \n",
    "\n",
    "- más \"corta\" será  la señál enventanada $s_T(t)$ \n",
    "- más anchos serán los \"lóbulos\" de $S_T(f)$ \n",
    "\n",
    "El siguiente esquema muestra los lóbulos que tipicamente se observan en el espectro\n",
    "\n",
    "<img src=\"../images/mainsidelobe.png\" width=\"300\">\n",
    "\n",
    "- El lóbulo principal (*mainlobe* en la figura) es el que está relacionado a información real de la señal\n",
    "- Los lóbulos laterales (*sidelobe* en la figura) son un efecto de la convolución con el **sinc**\n",
    "\n",
    ":::{note}\n",
    "\n",
    "La proporción entre el tamaño del lóbulo principal y los lóbulos laterales aumenta con $T$\n",
    "\n",
    ":::\n",
    "\n",
    "La siguiente figura muestra la señal coseno truncada con una ventana rectangular (columna izquierda) y su correspondiente espectro de amplitud (columna derecha). Observe como, a medida que $T$ disminuye, el lóbulo principal pierde definición"
   ]
  },
  {
   "cell_type": "code",
   "execution_count": null,
   "metadata": {},
   "outputs": [],
   "source": [
    "Fs = 20 # Frecuencia de muestreo\n",
    "f0 = 1.2345 # Frecuencia fundamental\n",
    "t = np.arange(-10, 10, step=1/Fs)\n",
    "s = np.cos(2*np.pi*f0*t)\n",
    "f = scipy.fft.rfftfreq(n=len(s), d=1/Fs)\n",
    "\n",
    "def rectangulo(t, T):\n",
    "    w = np.zeros_like(t)\n",
    "    w[np.absolute(t) < T/2] = 1.\n",
    "    return w\n",
    "\n",
    "p = []\n",
    "for T in [15, 10, 5, 2]: # Duración de la ventana\n",
    "    sT = s*rectangulo(t, T)\n",
    "    ST = np.absolute(scipy.fft.rfft(sT))\n",
    "    p.append(hv.Curve((t, sT), 'Tiempo [s]', 'Señal'))\n",
    "    p.append(hv.Curve((f, ST), 'Frecuencia [Hz]', 'Espectro'))\n",
    "\n",
    "hv.Layout(p).cols(2).opts(hv.opts.Curve(width=300, height=200))"
   ]
  },
  {
   "cell_type": "markdown",
   "metadata": {
    "slideshow": {
     "slide_type": "subslide"
    }
   },
   "source": [
    "## Fuga espectral\n",
    "\n",
    "La aparición de los lóbulos laterales por truncamiento de la señal es un efecto que se conoce como **fuga espectral** (en inglés *spectral leak*)\n",
    "\n",
    "La fuga espectral es una redistribución de la energía de un cierto componente espectral hacia sus frecuencias vecinas debido a las **discontinuidades o quiebres** en la periodicidad de la señal \n",
    "\n",
    "Observe a continuación la diferencia entre el espectro de una señal donde su periodicidad calza perfecto con la ventana (fila superior) versus cuando esto no ocurre, que sería el caso más general (fila inferior)"
   ]
  },
  {
   "cell_type": "code",
   "execution_count": null,
   "metadata": {},
   "outputs": [],
   "source": [
    "Fs, T = 20, 2\n",
    "t = np.arange(-T, T, step=1/Fs)\n",
    "f = scipy.fft.rfftfreq(n=len(t), d=1/Fs)\n",
    "f_os = scipy.fft.rfftfreq(n=len(t)*10, d=1/Fs)\n",
    "\n",
    "p = []\n",
    "for f0 in [2.0, 2.15]: # Frecuencia fundamental    \n",
    "    sT = np.cos(2*np.pi*f0*t)    \n",
    "    ST = np.absolute(scipy.fft.rfft(sT))   \n",
    "    ST_os = np.absolute(scipy.fft.rfft(sT, n=len(sT)*10)) \n",
    "    \n",
    "    p.append(hv.Curve((t, sT), 'Tiempo [s]', 'Señal'))\n",
    "    p.append(hv.Curve((f, ST), 'Frecuencia [Hz]', 'Espectro') * hv.Curve((f_os, ST_os)).opts(alpha=0.25, color='k'))\n",
    "\n",
    "hv.Layout(p).cols(2).opts(hv.opts.Curve(width=300, height=200))"
   ]
  },
  {
   "cell_type": "markdown",
   "metadata": {},
   "source": [
    "- El inicio y término de la primera señal están conectados y su espectro tiene un lóbulo principal delgado (bien definido)\n",
    "- El inicio y término de la segunda señal no es conectan y su espectro tiene un lóbulo principal grueso debido a la fuga de energía en sus vecinos\n",
    "\n",
    "\n",
    "La fuga espectral es indeseada ya que no aporta información real. Podemos disminuir este efecto si hacemos que los bordes de la señal \"calcen\" antes de calcular su espectro. Este proceso de suavizado de bordes se llama **enventanado**\n"
   ]
  },
  {
   "cell_type": "markdown",
   "metadata": {},
   "source": [
    "## Enventanado \n",
    "\n",
    "Es el proceso de multiplicar la señal por una ventana para alterar las características de su espectro. Lamentablemente no es posible eliminar la fuga espectral completamente con enventanado pero si podemos modificar como se redistribuye la energía\n",
    "\n",
    "Existen muchas ventanas y cada una representa un compromiso (*trade-off*) distinto entre la <font color=\"0000BB\">concentración o ancho del lóbulo principal</font> y la <font color=\"BB0000\">atenuación de los lóbulos laterales</font>\n",
    "\n",
    "En general se tiene que\n",
    "\n",
    "- Mientras más abrupto es el corte de la ventana, más concentrado será el lóbulo principal y más fuertes serán los lóbulos laterales\n",
    "- Mientras más suave sea la ventana, menos concentrado será el lóbulo principal y más débiles serán los lóbulos laterales\n",
    "\n",
    "Es decir que siempre estamos sacrificando resolución por limpieza\n",
    "\n",
    "Revisemos a continuación algunas ventanas (columna de la izquierda), su efecto al multiplicar con la señal (columna central) y en el espectro resultante (columna derecha)\n"
   ]
  },
  {
   "cell_type": "code",
   "execution_count": null,
   "metadata": {},
   "outputs": [],
   "source": [
    "from scipy.signal import cosine, blackman, tukey\n",
    "\n",
    "f0, Fs, T = 2.15, 20, 2\n",
    "t = np.arange(-T, T, step=1/Fs)\n",
    "sT = np.cos(2*np.pi*f0*t)\n",
    "f_os = scipy.fft.rfftfreq(n=len(t)*10, d=1/Fs)\n",
    "rect = lambda N: np.ones(shape=(N,))\n",
    "\n",
    "p = []   \n",
    "for window_fn in [rect, tukey, cosine, blackman]:\n",
    "    w = window_fn(len(sT))    \n",
    "    ST_os = np.absolute(scipy.fft.rfft(sT*w, n=len(sT)*10))    \n",
    "    \n",
    "    p.append(hv.Curve((t, w), 'Tiempo [s]', 'Ventana'))\n",
    "    p.append(hv.Curve((t, sT*w), 'Tiempo [s]', 'Señal enventanada'))\n",
    "    p.append(hv.Curve((f_os, ST_os), 'Frecuencia [Hz]', 'Espectro'))\n",
    "    \n",
    "hv.Layout(p).cols(3).opts(hv.opts.Curve(width=280, height=200))"
   ]
  },
  {
   "cell_type": "markdown",
   "metadata": {},
   "source": [
    "Las ventanas espectrales más utilizadas están implementadas en el módulo [`scipy.signal`](https://docs.scipy.org/doc/scipy/reference/signal.windows.html?highlight=window#module-scipy.signal.windows)\n",
    "\n",
    "En el ejemplo anterior usamos la ventana \n",
    "\n",
    "- Rectangular: Borde con discontinuidad fuerte, es la que tiene más concentración de lóbulo principal pero también más lóbulos laterales\n",
    "- [Tukey](https://docs.scipy.org/doc/scipy/reference/generated/scipy.signal.windows.tukey.html#scipy.signal.windows.tukey) con parámetro $\\alpha=0.5$, es una transición entre la ventana rectangular y la ventana coseno\n",
    "- [Cosine](https://docs.scipy.org/doc/scipy/reference/generated/scipy.signal.windows.cosine.html#scipy.signal.windows.cosine), como su nombre lo indica tiene forma de coseno en $[-\\pi/2, \\pi/2]$\n",
    "- [Blackman](https://docs.scipy.org/doc/scipy/reference/generated/scipy.signal.windows.blackman.html#scipy.signal.windows.blackman): Borde muy suave, es la que tiene menos concentración de lóbulo principal pero también menos lóbulos laterales\n",
    "\n",
    "\n",
    "Otra ventana interesante es la [\"ventana de Kaiser\"](https://docs.scipy.org/doc/scipy/reference/generated/scipy.signal.windows.kaiser.html#scipy.signal.windows.kaiser) cuyo parámetro $\\beta$ le permite asemejarse a otros ventanas de forma similar a la ventana de Tukey pero más flexible\n",
    "\n",
    "- $\\beta=0$: ventana rectangular\n",
    "- $\\beta=5$: similar a ventana coseno\n",
    "- $\\beta=8.8$ similar a la ventana de Blackman\n",
    "\n",
    "Ejemplo a continuación"
   ]
  },
  {
   "cell_type": "code",
   "execution_count": null,
   "metadata": {},
   "outputs": [],
   "source": [
    "from scipy.signal import kaiser\n",
    "\n",
    "f0, Fs, T = 2.15, 20, 2\n",
    "t = np.arange(-T, T, step=1/Fs)\n",
    "sT = np.cos(2*np.pi*f0*t)\n",
    "f_os = scipy.fft.rfftfreq(n=len(t)*10, d=1/Fs)\n",
    "\n",
    "p = []    \n",
    "for beta in [0, 5, 8.8]:\n",
    "    w = kaiser(len(sT), beta=beta)    \n",
    "    ST = np.absolute(scipy.fft.rfft(sT*w, n=len(t)*10))\n",
    "    \n",
    "    p.append(hv.Curve((t, w), 'Tiempo [s]', 'Ventana'))\n",
    "    p.append(hv.Curve((t, sT*w), 'Tiempo [s]', 'Señal enventanada'))\n",
    "    p.append(hv.Curve((f_os, ST_os), 'Frecuencia [Hz]', 'Espectro'))\n",
    "    \n",
    "hv.Layout(p).cols(3).opts(hv.opts.Curve(width=280, height=200))"
   ]
  },
  {
   "cell_type": "markdown",
   "metadata": {},
   "source": [
    "### ¿Cómo escoger que ventana usar?\n",
    "\n",
    "Esta es una pregunta sumamente importante pero difícil de responder ya que depende de cada problema\n",
    "\n",
    "A continuación algunas indicaciones\n",
    "\n",
    "- Para propósito general o como primera aproximación usar una ventana que entregue un buen compromiso, por ejemplo Cosine, Hamming o Hanning\n",
    "- Si se requiere separar/discriminar frecuencias muy cercanas conviene usar una ventana que resalte más el lóbulo principal, por ejemplo rectangular o Tukey\n",
    "- Si las frecuencias de interés están muy separadas entonces conviene usar una ventana que suprima más fuertemente los lóbulos laterales como la de Blackman\n",
    "\n"
   ]
  },
  {
   "cell_type": "code",
   "execution_count": null,
   "metadata": {},
   "outputs": [],
   "source": []
  }
 ],
 "metadata": {
  "kernelspec": {
   "display_name": "Python 3",
   "language": "python",
   "name": "python3"
  },
  "language_info": {
   "codemirror_mode": {
    "name": "ipython",
    "version": 3
   },
   "file_extension": ".py",
   "mimetype": "text/x-python",
   "name": "python",
   "nbconvert_exporter": "python",
   "pygments_lexer": "ipython3",
   "version": "3.9.6"
  },
  "toc": {
   "base_numbering": 1,
   "nav_menu": {},
   "number_sections": true,
   "sideBar": true,
   "skip_h1_title": false,
   "title_cell": "Table of Contents",
   "title_sidebar": "Contents",
   "toc_cell": false,
   "toc_position": {},
   "toc_section_display": true,
   "toc_window_display": false
  }
 },
 "nbformat": 4,
 "nbformat_minor": 2
}
