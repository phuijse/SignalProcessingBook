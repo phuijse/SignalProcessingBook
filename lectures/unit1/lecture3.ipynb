{
 "cells": [
  {
   "cell_type": "code",
   "execution_count": null,
   "metadata": {},
   "outputs": [],
   "source": [
    "import holoviews as hv\n",
    "hv.extension('bokeh')"
   ]
  },
  {
   "cell_type": "code",
   "execution_count": null,
   "metadata": {},
   "outputs": [],
   "source": [
    "import numpy as np\n",
    "import scipy.signal"
   ]
  },
  {
   "cell_type": "markdown",
   "metadata": {},
   "source": [
    "# Transformada de Fourier para señales digitales"
   ]
  },
  {
   "cell_type": "markdown",
   "metadata": {},
   "source": [
    "## Transformada de Fourier Discreta (DFT)\n",
    "\n",
    "\n",
    "En este curso nos enfocaremos en el procesamiento de señales usando software\n",
    "\n",
    "Por ende asumiremos que existe un proceso que sensa y convierte la señal analógica continua en una señal digital, como muestre el siguiente diagrama\n",
    "\n",
    "<img src=\"../images/signal-sampling1.png\" width=\"500\">\n",
    "\n",
    "- La señal análogica $s(t)$ se muestrea cada $T_s$ durante un tiempo $T$\n",
    "- El tiempo asociada a $s_n$ es $t_n = n \\cdot T_s$ [s]\n",
    "- El inverso del periódo de muestreo se denomina **frecuencia de muestreo**: $F_s = \\frac{1}{T_s}$ [Hz]\n",
    "- La cantidad de muestras del arreglo $\\{s_n\\}$ es equivalente a $N = \\lfloor T F_s \\rfloor $\n"
   ]
  },
  {
   "cell_type": "markdown",
   "metadata": {
    "slideshow": {
     "slide_type": "slide"
    }
   },
   "source": [
    "Más formalmente diremos que existe un sistema muestreador con frecuencia de muestreo $F_s$ [Hz] tal que\n",
    "\n",
    "$$\n",
    "s(t) = \\sum_{n=0}^{N-1} s[n] \\delta(t - n/F_s),\n",
    "$$\n",
    "\n",
    "La transformada de Fourier de esta expresión es\n",
    "\n",
    "$$\n",
    "\\begin{align}\n",
    "S(\\omega) &= \\int s(t) e^{-j\\omega t} dt \\nonumber \\\\\n",
    "&= \\int \\sum_{n=0}^{N-1} s[n] \\delta(t - n/F_s) e^{-j\\omega t} dt \\nonumber \\\\\n",
    "&=  \\sum_{n=0}^{N-1} s[n] \\int \\delta(t - n/F_s) e^{-j\\omega t} dt \\nonumber \\\\\n",
    "&=  \\sum_{n=0}^{N-1} s[n] e^{-j\\omega n/F_s} \\nonumber \n",
    "\\end{align}\n",
    "$$\n",
    "\n",
    "Finalmente definiendo $\\omega = 2 \\pi f = 2 \\pi k \\Delta f$ donde $\\Delta f = \\frac{1}{T} = \\frac{F_s}{N}$ y reemplazando obtenemos\n",
    "\n",
    "$$\n",
    "S[k] =  \\sum_{n=0}^{N-1} s[n] e^{-j \\frac{2 \\pi}{N} k n},\n",
    "$$\n",
    "\n",
    "donde $k = [0, 1, \\ldots N-1]$, que se conoce como la **transformada de Fourier discreta** o *discrete Fourier Transform (DFT)\n",
    "\n",
    "En esta expresión:\n",
    "\n",
    "- El índice $n$ representa la discretización en el tiempo\n",
    "- El índice $k$ representa la discretización en frecuencia"
   ]
  },
  {
   "cell_type": "markdown",
   "metadata": {
    "slideshow": {
     "slide_type": "subslide"
    }
   },
   "source": [
    "### Propiedades de la DFT\n",
    "\n",
    "La DFT comparte las propiedades de la FT que vimos en la lección anterior\n",
    "\n",
    "Sin embargo, a diferencia de la FT para señales continuas, la DFT es periódica y su período $N$, como muestra la siguiente expresión\n",
    "\n",
    "$$\n",
    "\\begin{align}\n",
    "S[k+N] &= \\sum_{n=0}^{N-1} s[n] e^{-j \\frac{2 \\pi}{N} (k+N) n} \\nonumber \\\\\n",
    "&=   \\sum_{n=0}^{N-1} s[n] e^{-j \\frac{2 \\pi}{N} k n} e^{-j 2 \\pi n} \\nonumber \\\\\n",
    "&= \\sum_{n=0}^{N-1} s[n] e^{-j \\frac{2 \\pi}{N} k n} = S[k]\\nonumber \n",
    "\\end{align}\n",
    "$$"
   ]
  },
  {
   "cell_type": "markdown",
   "metadata": {
    "slideshow": {
     "slide_type": "subslide"
    }
   },
   "source": [
    "### Rango frecuencial de la DFT y frecuencia de Nyquist\n",
    "\n",
    "Considerando la periodicidad de la DFT, la correspondencia entre el índice entero $k$ y la frecuencia en Hertz es\n",
    "\n",
    "$$\n",
    "\\begin{matrix}\n",
    "k &  : & 0, & 1, & 2, & \\ldots & N/2 -1, & N/2, & N/2+1, & \\ldots & N-2, & N-1 \\\\\n",
    "f = k \\frac{F_s}{N} & : & 0, & \\frac{F_s}{N}, & \\frac{2 F_s}{N}, & \\ldots & \\frac{F_s}{2} - \\frac{F_s}{N}, & \\frac{F_s}{2} = -\\frac{F_s}{2}, &  \\frac{F_s}{2} + \\frac{F_s}{N} = - \\frac{F_s}{2}  + \\frac{F_s}{N}, & \\ldots & -\\frac{2 F_s}{N},  & -\\frac{F_s}{N}\n",
    "\\end{matrix}\n",
    "$$\n",
    "\n",
    "donde $\\frac{F_s}{2}$ se conoce como **frecuencia de Nyquist**, y es la frecuencia más alta a la que se puede calcular la DFT. Hablaremos más sobre esto en la próximo lección"
   ]
  },
  {
   "cell_type": "markdown",
   "metadata": {
    "slideshow": {
     "slide_type": "subslide"
    }
   },
   "source": [
    "### Interpretación de la DFT es  un producto matricial\n",
    "\n",
    "Sea $\\{s_n\\}_{n=0,\\ldots,N-1}$ y definiendo \n",
    "\n",
    "$$\n",
    "W_N = e^{-j \\frac{2\\pi}{N}} = \\cos \\left(\\frac{2\\pi}{N}\\right) - j \\sin \\left(\\frac{2\\pi}{N}\\right)\n",
    "$$\n",
    "\n",
    "podemos expresar la transformada de Fourier discreta como\n",
    "\n",
    "$$\n",
    "S[k] =  \\sum_{n=0}^{N-1} s[n] W_N^{kn}, \\quad k = [0, 1, \\ldots N-1],\n",
    "$$\n",
    "\n",
    "que también puede ser expresado matricialmente como\n",
    "\n",
    "$$\n",
    "\\begin{align}\n",
    "\\begin{pmatrix} \n",
    "S[0] \\\\\n",
    "S[1] \\\\\n",
    "S[2] \\\\\n",
    "\\vdots \\\\\n",
    "S[N-1] \\\\\n",
    "\\end{pmatrix} &=\n",
    "\\begin{pmatrix}\n",
    "1 & 1 & 1 & \\cdots & 1 \\\\\n",
    "1 & W_N & W_N^2 & \\cdots & W_N^{N-1} \\\\\n",
    "1 & W_N^2 & W_N^4 & \\cdots & W_N^{N-2} \\\\\n",
    "\\vdots & \\dots & \\dots & \\ddots &  \\vdots \\\\\n",
    "1 & W_N^{N-1} & W_N^{N-2} & \\cdots & W_N \\\\\n",
    "\\end{pmatrix} \n",
    "\\begin{pmatrix} \n",
    "s[0] \\\\\n",
    "s[1] \\\\\n",
    "s[2] \\\\\n",
    "\\vdots \\\\\n",
    "s[N-1] \\\\\n",
    "\\end{pmatrix} \\nonumber  \\\\\n",
    "S &= \\Omega s,\n",
    "\\end{align}\n",
    "$$\n",
    "\n",
    "\n",
    "Notemos que:\n",
    "\n",
    "- Por definición $W_N^{kn} = \\left(e^{-j \\frac{2\\pi}{N}}\\right)^{kn} = e^{-j \\frac{2\\pi}{N}kn}$\n",
    "- Por periodicidad $W_N^{2(N-1)} = W_N^{2(N-1) - N}  = W_N^{N-2}$\n",
    "- También se tiene simetría hermítica: $W_N^{k(-n)} = W_N^{-kn} = (W_N^{kn})^*$\n",
    "- $\\Omega$ es una matriz cuadrada y simétrica \n",
    "- El cálculo de la DFT tiene complejidad cuadrática: $N^2$ multiplicaciones y $N$ sumas\n"
   ]
  },
  {
   "cell_type": "markdown",
   "metadata": {},
   "source": [
    "### DFT inversa\n",
    "\n",
    "Sea $S=\\{S[0], S[1], S[2], S[3]\\}$, la DFT de una señal $s=\\{s[0], s[1], s[2], s[3]\\}$. \n",
    "\n",
    "Como vimos anteriormente podemos escribir la relación entre $S$ y $s$ como el siguiente sistema de ecuaciones\n",
    "\n",
    "$$\n",
    "S= \n",
    "\\begin{pmatrix} \n",
    "S[0] \\\\\n",
    "S[1] \\\\\n",
    "S[2] \\\\\n",
    "S[3] \n",
    "\\end{pmatrix} =\n",
    "\\begin{pmatrix}\n",
    "1 & 1  & 1 & 1\\\\\n",
    "1 & W_4  & W_4^2 & W_4^3 \\\\\n",
    "1 & W_4^2  & W_4^4 & W_4^2 \\\\\n",
    "1 & W_4^3  & W_4^2 & W_4 \\\\\n",
    "\\end{pmatrix} \n",
    "\\begin{pmatrix} \n",
    "s[0] \\\\\n",
    "s[1] \\\\\n",
    "s[2] \\\\\n",
    "s[3] \n",
    "\\end{pmatrix} = \\begin{pmatrix}\n",
    "1 & 1  & 1 & 1\\\\\n",
    "1 & -j  & -1 & j \\\\\n",
    "1 & -1  & 1 & -1 \\\\\n",
    "1 & j  & -1 & -j \\\\\n",
    "\\end{pmatrix} \n",
    "\\begin{pmatrix} \n",
    "s[0] \\\\\n",
    "s[1] \\\\\n",
    "s[2] \\\\\n",
    "s[3] \n",
    "\\end{pmatrix} = \\Omega s\n",
    "$$\n",
    "\n",
    "Si conocemos $S$ y queremos encontrar $s$, sólo necesitamos invertir la matriz $\\Omega$\n",
    "\n",
    "Por ejemplo"
   ]
  },
  {
   "cell_type": "code",
   "execution_count": null,
   "metadata": {},
   "outputs": [],
   "source": [
    "np.set_printoptions(precision=4, suppress=True)\n",
    "\n",
    "N = 4\n",
    "WN = np.exp(-1j*2.0*np.pi/N)\n",
    "index = np.array(range(N))[:, np.newaxis]\n",
    "Omega = WN**(index*index.T)\n",
    "\n",
    "print(Omega)\n",
    "\n",
    "np.linalg.inv(Omega) # Estación función calcula el inverso de una matriz cuadrada"
   ]
  },
  {
   "cell_type": "markdown",
   "metadata": {},
   "source": [
    "Como veremos a continuación la matriz $\\Omega$ de la DFT es una matriz bastante especial. \n",
    "\n",
    "El inverso de $\\Omega$ es equivalente a su complejo conjugado dividido N. El complejo conjugado de una matriz es una matriz donde todos los elementos complejos se reemplazan por su conjugado \n",
    "\n",
    "$$\n",
    "(a + j b)^{*} = a - j b\n",
    "$$\n",
    "\n",
    "En este caso particular ($N=4$) tenemos que el inverso de la matriz es \n",
    "\n",
    "$$\n",
    "\\Omega^{-1} = \\frac{1}{4}\n",
    "\\begin{pmatrix}\n",
    "1 & 1 & 1 &  1 \\\\\n",
    "1 & j & -1 &  -j \\\\\n",
    "1 & -1 & 1 &  -1 \\\\\n",
    "1 & -j & -1  & j \\\\\n",
    "\\end{pmatrix} = \\frac{1}{4} \\Omega^*\n",
    "$$\n",
    "\n",
    "Notar que esta propiedad se cumple para todo $N$. Esto es muy útil pues el costo de obtener el complejo conjugado es mucho menor que el de invertir una matriz cuadrada arbitraria\n",
    "\n",
    "Resumiendo, podemos recuperar $s$ a partir de $S$ usando\n",
    "\n",
    "$$\n",
    "s = \\frac{1}{N} \\Omega^* S\n",
    "$$\n",
    "\n",
    "o lo que es equivalente\n",
    "\n",
    "$$\n",
    "s[n] = \\frac{1}{N} \\sum_{k=0}^{N-1} S[k] W_N^{-kn}, \\quad n = [0, 1, \\ldots N-1]\n",
    "$$\n",
    "\n",
    "que se conoce como la DFT inversa y cuya únicas diferencias con la DFT son el factor $\\frac{1}{N}$ y el signo del exponente"
   ]
  },
  {
   "cell_type": "markdown",
   "metadata": {
    "slideshow": {
     "slide_type": "slide"
    }
   },
   "source": [
    "## Transformada Rápida de Fourier (FFT)\n",
    "\n",
    "Como vimos antes la computación de la DFT tiene complejidad $\\mathcal{O}(N^2)$, lo cual es muy costoso de aplicar en la práctica\n",
    "\n",
    "Existe una aproximación exacta de la DFT con complejidad $\\mathcal{O}(N\\log N)$: la **Fast Fourier Transform** (FFT). \n",
    "\n",
    "En esta lección veremos el algoritmo de Cooley-Tukey, un algoritmo FFT, que se basa en expresiones recursiva que explotan las simetrías que vimos en la matriz $\\Omega$\n",
    "\n",
    "La DFT se separa en dos \"medias\" DFT, donde una mitad se enfoca en los índices pares (even) y la otra en los impares (odd) como muestra la siguiente ecuación\n",
    "\n",
    "$$\n",
    "\\begin{align}\n",
    "S[k] &=  \\sum_{n=0}^{N-1} s[n] W_N^{kn} \\nonumber \\\\\n",
    "&= \\sum_{n=0}^{N/2-1} s[2n] W_N^{k 2n} + \\sum_{n=0}^{N/2-1} s[2n+1] W_N^{k(2n+1)} \\nonumber \\\\\n",
    "&= \\sum_{n=0}^{N/2-1} s[2n] W_{N/2}^{kn} + W_N^{k} \\sum_{n=0}^{N/2-1} s[2n+1] W_{N/2}^{kn} \\nonumber \\\\\n",
    "&= S_E[k] + W_N^{k} S_O[k] ~~ \\forall k \\in [0,N/2]  \\nonumber \n",
    "\\end{align} \n",
    "$$"
   ]
  },
  {
   "cell_type": "markdown",
   "metadata": {
    "slideshow": {
     "slide_type": "subslide"
    }
   },
   "source": [
    "Luego por periodicidad de la DFT tenemos que\n",
    "\n",
    "$$\n",
    "\\begin{align}\n",
    "S_E[k + N/2] &=  \\sum_{n=0}^{N/2-1} s[2n] W_{N/2}^{(k+N/2)n} \\nonumber \\\\\n",
    "&=  \\sum_{n=0}^{N/2-1} s[2n] W_{N/2}^{kn} \\exp \\left(-j2\\pi n \\right) = S_E[k], \\nonumber\n",
    "\\end{align}\n",
    "$$\n",
    "\n",
    "e igualmente\n",
    "\n",
    "$$\n",
    "S_O[k + N/2] = S_O[k],\n",
    "$$\n",
    "\n",
    "juntando ambos tenemos que\n",
    "\n",
    "$$\n",
    "\\begin{align}\n",
    "S[k + N/2] &=  S_E[k + N/2] + W_{N}^{(k+N/2)} S_O[k + N/2] \\nonumber  \\\\\n",
    "&=  S_E[k] + W_{N}^{k} \\exp \\left(-j\\pi\\right) S_O[k] \\nonumber \\\\\n",
    "&=  S_E[k] - W_{N}^{k} S_O[k] \\nonumber \n",
    "\\end{align}\n",
    "$$\n",
    "\n",
    "es decir que\n",
    "\n",
    "$$\n",
    "\\begin{align}\n",
    "S[k] &=  S_E[k] + W_{N}^{k} S_O[k] \\nonumber \\\\\n",
    "S[k + N/2] &=  S_E[k] - W_{N}^{k} S_O[k] \\quad \\forall k \\in [0,N/2]  \\nonumber \n",
    "\\end{align}\n",
    "$$\n",
    "\n",
    "La DFT de $k$ y $k+N/2$ difieren sólo en un signo. Cada ves que dividimos el intervalo podemos reducir los cómputos a la mitad. Podemos repetir la división $\\log N$ veces por lo que el costo de la FFT es $N \\log N$\n",
    "\n",
    "La siguiente esquema muestra la FFT para una señal $x$ de largo $N=16$, en $\\log_2 16=4$  pasos se calculan todos los componentes de su espectro $X$"
   ]
  },
  {
   "cell_type": "markdown",
   "metadata": {
    "slideshow": {
     "slide_type": "subslide"
    }
   },
   "source": [
    "<img src=\"../images/fft-16samples.png\">\n",
    "\n",
    "Imagen tomada de: [http://www.themobilestudio.net/the-fourier-transform-part-14](http://www.themobilestudio.net/the-fourier-transform-part-14)"
   ]
  },
  {
   "cell_type": "markdown",
   "metadata": {
    "slideshow": {
     "slide_type": "fragment"
    }
   },
   "source": [
    "La siguiente tabla compara la cantidad de multiplicaciones entre la DFT y la FFT\n",
    "\n",
    "| N | DFT | FFT | FFT/DFT [%] |\n",
    "|---|---|---|---|\n",
    "| 32 | 1024 | 160 | 15.6 |\n",
    "| 128 | 16,384 | 896 | 5.46 |\n",
    "| 1,024 | 1,048,576 | 10,240 | 0.97 |\n"
   ]
  },
  {
   "cell_type": "markdown",
   "metadata": {
    "slideshow": {
     "slide_type": "subslide"
    }
   },
   "source": [
    "## FFT en Python\n",
    "\n",
    "Existen múltiples implementaciones de la FFT, sin embargo en este curso utilizaremos principalmente el módulo `fft` de la librería científica [`scipy` ](https://docs.scipy.org/doc/scipy/reference/tutorial/fft.html)\n",
    "\n",
    "Si se require mayor eficiencia se puede considerar la librería [`pyFFTW` ](https://hgomersall.github.io/pyFFTW/) que es un wrapper de la *Fast Fourier Transform in the West* (FFTW), una famosa implementación escrita en lenguaje C\n",
    "\n",
    "La principal función que utilizaremos es:\n",
    "\n",
    "```python\n",
    "scipy.fft.fft(x, # Un arreglo de NumPy,\n",
    "              n=None, # El número de muestras que se usarán para calcular la FFT\n",
    "              axis=-1, # El eje del arreglo en que se calculara la FFT,\n",
    "              workers=None, # Número de trabajadores para calcular la FFT en paralelo\n",
    "              ...)\n",
    "```\n",
    "\n",
    "que calcula la FFT de un arreglo de NumPy. Por convención, esta función retorna un arreglo con el espectro de frecuencia ordenando según \n",
    "\n",
    "$$\n",
    "f = \\left[0, \\frac{F_s}{N},  \\frac{2 F_s}{N}, \\ldots, \\frac{F_s}{2},  \\ldots  -\\frac{2 F_s}{N},   -\\frac{F_s}{N} \\right]\n",
    "$$ \n",
    "\n",
    "es decir que primero retorna las frecuencias positivas y luego las negativas en orden invertido\n",
    "\n",
    "Podemos usar la función:\n",
    "\n",
    "```python\n",
    "scipy.fft.fftshift(x, #  Un arreglo de numpy\n",
    "                  ...\n",
    "                  )\n",
    "```\n",
    "\n",
    "para dar vuelta la primera y segunda mitad del espectro obteniendo un orden más natural\n",
    "\n",
    "También podemos usar:\n",
    "\n",
    "```python\n",
    "scipy.fft.fftfreq(n, #  El número de muestras de x\n",
    "                  d=1.0 # El inverso de la frecuencia de muestreo\n",
    "                 )\n",
    "```\n",
    "\n",
    "para calcular las frecuencias asociadas a la FFT (útil para graficar)\n",
    "\n"
   ]
  },
  {
   "cell_type": "markdown",
   "metadata": {},
   "source": [
    "### Ejemplo\n",
    "\n",
    "Sea una señal con dos componentes sinusoidales a frecuencia $1$ y $4$ Hz, respetivamente, y con desfase $0$ y $\\pi/3 \\approx 1.0472$, respectivamente\n",
    "\n",
    "Calculemos los espectros de magnitud y fase usando la FFT"
   ]
  },
  {
   "cell_type": "code",
   "execution_count": null,
   "metadata": {},
   "outputs": [],
   "source": [
    "import scipy.fft as sfft\n",
    "\n",
    "Fs = 40\n",
    "t = np.arange(0, 5, step=1./Fs); \n",
    "s = np.cos(2.0*np.pi*t) + 0.25*np.cos(2.0*np.pi*4*t + np.pi/3)\n",
    "\n",
    "f = sfft.fftshift(sfft.fftfreq(n=len(t), d=1./Fs))\n",
    "S = sfft.fftshift(sfft.fft(s))\n",
    "SA = np.absolute(S) # Espectro de magnitud \n",
    "SP = np.angle(S) # Espectro fase"
   ]
  },
  {
   "cell_type": "code",
   "execution_count": null,
   "metadata": {},
   "outputs": [],
   "source": [
    "SA_plot = hv.Curve((f, SA), 'Frecuencia', 'Espectro de magnitud').opts(width=350)\n",
    "SP_plot = hv.Curve((f, SP), 'Frecuencia', 'Espectro de fase').opts(width=350)\n",
    "SA_plot + SP_plot"
   ]
  },
  {
   "cell_type": "markdown",
   "metadata": {},
   "source": [
    "Considerando sólo las frecuencias positivas (mitad derecha del espectro) podemos buscar la frecuencia de los dos puntos más altos del espectro de magnitud"
   ]
  },
  {
   "cell_type": "code",
   "execution_count": null,
   "metadata": {},
   "outputs": [],
   "source": [
    "mask = np.argsort(SA[f>0])[-2:] # Ordena de menor a mayor y me quedo con las últimas dos\n",
    "f[f>0][mask]"
   ]
  },
  {
   "cell_type": "markdown",
   "metadata": {},
   "source": [
    "Las fases asociadas a estas frecuencias son"
   ]
  },
  {
   "cell_type": "code",
   "execution_count": null,
   "metadata": {},
   "outputs": [],
   "source": [
    "SP[f>0][mask]"
   ]
  },
  {
   "cell_type": "markdown",
   "metadata": {},
   "source": [
    "Es decir que hemos logrado recuperar las frecuencias y las fases de los componentes individuales"
   ]
  },
  {
   "cell_type": "markdown",
   "metadata": {},
   "source": [
    "Comparemos ahora la diferencia en tiempo de cómputo entra la DFT calculada como producto matricial y la FFT ¿Cuántos ordenes de magnitud hay de diferencia?"
   ]
  },
  {
   "cell_type": "code",
   "execution_count": null,
   "metadata": {
    "slideshow": {
     "slide_type": "fragment"
    }
   },
   "outputs": [],
   "source": [
    "tf = t[:, np.newaxis]*f[:, np.newaxis].T\n",
    "print(\"DFT numpy\")\n",
    "%timeit -n10 -r10 np.dot(s, np.exp(-1j*2.0*np.pi*tf));\n",
    "print(\"FFT fftpack\")\n",
    "%timeit -n10 -r10 sfft.fftshift(sfft.fft(s))"
   ]
  },
  {
   "cell_type": "code",
   "execution_count": null,
   "metadata": {},
   "outputs": [],
   "source": []
  }
 ],
 "metadata": {
  "kernelspec": {
   "display_name": "Python 3",
   "language": "python",
   "name": "python3"
  },
  "language_info": {
   "codemirror_mode": {
    "name": "ipython",
    "version": 3
   },
   "file_extension": ".py",
   "mimetype": "text/x-python",
   "name": "python",
   "nbconvert_exporter": "python",
   "pygments_lexer": "ipython3",
   "version": "3.9.6"
  },
  "toc": {
   "base_numbering": 1,
   "nav_menu": {},
   "number_sections": true,
   "sideBar": true,
   "skip_h1_title": false,
   "title_cell": "Table of Contents",
   "title_sidebar": "Contents",
   "toc_cell": false,
   "toc_position": {},
   "toc_section_display": true,
   "toc_window_display": true
  }
 },
 "nbformat": 4,
 "nbformat_minor": 2
}
