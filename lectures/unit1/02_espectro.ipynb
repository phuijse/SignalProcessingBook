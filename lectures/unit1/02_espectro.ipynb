{
 "cells": [
  {
   "cell_type": "code",
   "execution_count": null,
   "metadata": {
    "ExecuteTime": {
     "end_time": "2020-09-29T01:02:31.219824Z",
     "start_time": "2020-09-29T01:02:30.540231Z"
    },
    "slideshow": {
     "slide_type": "skip"
    }
   },
   "outputs": [],
   "source": [
    "%matplotlib inline\n",
    "import matplotlib.pyplot as plt\n",
    "import numpy as np\n",
    "import scipy.signal\n",
    "\n",
    "from IPython.display import YouTubeVideo, HTML, Audio\n",
    "from bokeh.layouts import column, row\n",
    "from bokeh.models import CustomJS, ColumnDataSource, Slider\n",
    "from bokeh.plotting import Figure, show, output_notebook\n",
    "\n",
    "output_notebook()"
   ]
  },
  {
   "cell_type": "markdown",
   "metadata": {},
   "source": [
    "# Espectro y Transformada de Fourier"
   ]
  },
  {
   "cell_type": "markdown",
   "metadata": {
    "slideshow": {
     "slide_type": "slide"
    }
   },
   "source": [
    "## Espectro\n",
    "\n",
    "\n",
    "- Isaac Newton llamó **espectros** a los componentes que forman la luz blanca y que normalmente no se pueden ver\n",
    "- Newton mostró usando prismas que la luz blanca puede descomponerse en colores y viceverza\n",
    "- Hoy entendemos que la luz como onda tiene una **frecuencia asociada** y que cada color es una frecuencia particular\n",
    "\n",
    "\n",
    "<table><tr><td>\n",
    "\n",
    "<img src=\"../images/fourier-newton.jpg\" width=\"400\" align=\"center\">  \n",
    "\n",
    "</td><td>\n",
    "\n",
    "<img src=\"../images/fourier-prism.jpg\" width=\"400\" align=\"center\">  \n",
    "\n",
    "</td></tr></table>\n",
    "\n",
    "\n",
    "Paradójicamente, Newton nunca acepto que esto se debía a la frecuencia de la radiación ya que creía en la teoría corpuscular de la luz\n"
   ]
  },
  {
   "cell_type": "markdown",
   "metadata": {
    "slideshow": {
     "slide_type": "subslide"
    }
   },
   "source": [
    "### Onda\n",
    "\n",
    "- Es una perturbación que transporta energía a través del espacio\n",
    "- Se describe (tipicamente) por su frecuencia (período), amplitud y fase/desfase\n",
    "\n"
   ]
  },
  {
   "cell_type": "markdown",
   "metadata": {
    "slideshow": {
     "slide_type": "subslide"
    }
   },
   "source": [
    "### Señal sinusoidal\n",
    "\n",
    "La siguiente es una función del tiempo completamente descrita por su amplitud $A$, frecuencia $f$ y fase $\\phi$\n",
    "\n",
    "$$\n",
    "s(t) = A \\cos (2 \\pi f t + \\phi)\n",
    "$$\n",
    "\n"
   ]
  },
  {
   "cell_type": "markdown",
   "metadata": {
    "slideshow": {
     "slide_type": "fragment"
    }
   },
   "source": [
    "El recíproco de la frecuencia también se llama periódo: $P= \\frac{1}{f}$\n",
    "\n",
    "Observe como cambia la señal al modificar sus parámetros"
   ]
  },
  {
   "cell_type": "code",
   "execution_count": null,
   "metadata": {
    "tags": [
     "hide-input"
    ]
   },
   "outputs": [],
   "source": [
    "t = np.linspace(0, 5, num=1000)\n",
    "s = np.cos(2.0*np.pi*t)\n",
    "\n",
    "A = Slider(start=0.1, end=2, value=1, step=.01, title=\"Amplitud\")\n",
    "f = Slider(start=0.1, end=2, value=1, step=.01, title=\"Frecuencia\")\n",
    "p = Slider(start=0, end=6.4, value=0, step=.1, title=\"Desfase\")\n",
    "\n",
    "source = ColumnDataSource(data=dict(t=t, s=s))\n",
    "plot = Figure(y_range=(-1.5, 1.5), plot_width=550, plot_height=300)\n",
    "plot.line('t', 's', source=source, line_width=3, line_alpha=0.6)\n",
    "plot.xaxis[0].axis_label = 'Tiempo [s]'\n",
    "\n",
    "callback = CustomJS(args=dict(source=source, A=A, f=f, p=p), code=\"\"\"\n",
    "    var t = source.data['t'];\n",
    "    var s = source.data['s'];\n",
    "    for (var i = 0; i < s.length; i++) {\n",
    "        s[i] = A.value*Math.cos(2*Math.PI*t[i]*f.value + p.value);\n",
    "    }\n",
    "    source.change.emit();\n",
    "\"\"\")\n",
    "\n",
    "for widget in [A, f, p]:\n",
    "    widget.js_on_change('value', callback)\n",
    "\n",
    "show(column(A, f, p, plot))"
   ]
  },
  {
   "cell_type": "markdown",
   "metadata": {},
   "source": [
    "## Componentes frecuenciales y descomposiciones armónicas\n",
    "\n",
    "Una sinusoide que es períodica en una fracción\n",
    "\n",
    "$$\n",
    "\\frac{P}{k} ~ \\forall k \\in \\mathbb{N}\n",
    "$$ \n",
    "\n",
    "también es periódica en $P$\n",
    "\n",
    "En general\n",
    "- Llamamos a $f_0 = 1/P$ la **frecuencia fundamental**\n",
    "- Llamamos a $f_k = k/P = kf_0$ el **k-esimo armónico de $f_0$**\n",
    "\n",
    "Si sumamos armónicos con distintas amplitudes el resultado es una nueva función periódica que tiene la misma frecuencia fundamental\n",
    "\n",
    "En el siguiente ejemplo modifique las amplitudes de cada armónico y observe la señal resultante\n",
    "\n",
    "$$\n",
    "s(t) = A_1 \\cos(2\\pi f_0) + A_2 \\cos(2\\pi 2f_0) + A_3 \\cos(2\\pi 3 f_0)\n",
    "$$\n",
    "\n",
    "Note que la suma no es necesariamente sinusoidal"
   ]
  },
  {
   "cell_type": "code",
   "execution_count": null,
   "metadata": {
    "tags": [
     "hide-input"
    ]
   },
   "outputs": [],
   "source": [
    "t = np.linspace(0, 5, num=1000)\n",
    "s = np.cos(2.0*np.pi*t)\n",
    "\n",
    "f = Slider(start=0.1, end=2, value=1, step=.01, title=\"Frecuencia fundamental\")\n",
    "A1 = Slider(start=0.1, end=2, value=1, step=.01, title=\"Amplitud fundamental\")\n",
    "A2 = Slider(start=0.0, end=2, value=0, step=.01, title=\"Amplitud 1er armónico\")\n",
    "A3 = Slider(start=0.0, end=2, value=0, step=.01, title=\"Amplitud 2do armónico\")\n",
    "\n",
    "source = ColumnDataSource(data=dict(t=t, s=s))\n",
    "plot = Figure(plot_width=550, plot_height=300)\n",
    "plot.line('t', 's', source=source, line_width=3, line_alpha=0.6)\n",
    "plot.xaxis[0].axis_label = 'Tiempo [s]'\n",
    "\n",
    "callback = CustomJS(args=dict(source=source, f=f, A1=A1, A2=A2, A3=A3), code=\"\"\"\n",
    "    var t = source.data['t'];\n",
    "    var s = source.data['s'];\n",
    "    for (var i = 0; i < s.length; i++) {\n",
    "        s[i] = A1.value*Math.cos(2*Math.PI*t[i]*f.value) \n",
    "        s[i] += A2.value*Math.cos(2*Math.PI*t[i]*2*f.value) \n",
    "        s[i] += A3.value*Math.cos(2*Math.PI*t[i]*3*f.value);\n",
    "    }\n",
    "    source.change.emit();\n",
    "\"\"\")\n",
    "\n",
    "for widget in [A1, A2, A3, f]:\n",
    "    widget.js_on_change('value', callback)\n",
    "\n",
    "show(column(f, A1, A2, A3, plot))"
   ]
  },
  {
   "cell_type": "markdown",
   "metadata": {
    "slideshow": {
     "slide_type": "subslide"
    }
   },
   "source": [
    "Podemos generalizar esta noción utilizando la **serie trigonométrica**\n",
    "\n",
    "$$\n",
    "\\begin{align}\n",
    "s(t) &= \\sum_{k=0}^\\infty A_k \\cos(2\\pi k f t + \\phi_k) \\nonumber \\\\\n",
    "&= \\sum_{k=0}^\\infty a_k \\cos(2\\pi k f t) + b_k \\sin(2\\pi k f t), \\nonumber\n",
    "\\end{align}\n",
    "$$\n",
    "\n",
    "donde $a_k = A_k \\cos(\\phi_k)$ y $b_k = -A_k \\sin(\\phi_k)$ se obtienen de $\\cos(x+y) = \\cos(x)\\cos(y) - \\sin(x)\\sin(y)$\n",
    "\n",
    "Podemos generar una función periódica arbitrarias definiendo $\\{a_k, b_k\\}$ y $f$\n",
    "\n",
    "Sea por ejemplo $a_k = 0$ y $b_k = 1/k$  $\\forall k$\n",
    "\n",
    "¿Qué señal se obtiene al agregar cada vez más armónicos?"
   ]
  },
  {
   "cell_type": "code",
   "execution_count": null,
   "metadata": {
    "tags": [
     "hide-input"
    ]
   },
   "outputs": [],
   "source": [
    "t = np.linspace(0, 5, num=1000)\n",
    "s = np.sin(2.0*np.pi*t)\n",
    "\n",
    "f = Slider(start=0.1, end=2, value=1, step=.01, title=\"Frecuencia fundamental\")\n",
    "K = Slider(start=1, end=50, value=1, step=1, title=\"Armónicos\")\n",
    "\n",
    "source = ColumnDataSource(data=dict(t=t, s=s))\n",
    "plot = Figure(plot_width=550, plot_height=300)\n",
    "plot.line('t', 's', source=source, line_width=3, line_alpha=0.6)\n",
    "plot.xaxis[0].axis_label = 'Tiempo [s]'\n",
    "\n",
    "callback = CustomJS(args=dict(source=source, f=f, K=K), code=\"\"\"\n",
    "    var t = source.data['t'];\n",
    "    var s = source.data['s'];\n",
    "    for (var i = 0; i < s.length; i++) {\n",
    "        s[i] = 0\n",
    "        for (var k = 1; k < K.value+1; k++) {\n",
    "            s[i] += Math.sin(2*Math.PI*t[i]*k*f.value)/k\n",
    "        }\n",
    "    }\n",
    "    source.change.emit();\n",
    "\"\"\")\n",
    "\n",
    "for widget in [f, K]:\n",
    "    widget.js_on_change('value', callback)\n",
    "\n",
    "show(column(f, K, plot))"
   ]
  },
  {
   "cell_type": "markdown",
   "metadata": {
    "slideshow": {
     "slide_type": "subslide"
    }
   },
   "source": [
    "<div class=\"alert alert-info\">\n",
    "    \n",
    "**Notemos que:** Hasta ahora hemos visto como sintetizar señales a partir de sus armónicos, pero también podemos hacer el proceso inverso, es decir encontrar los armónicos de una señal dada\n",
    "    \n",
    "</div>\n",
    "\n",
    "Tal como Newton descompuso la luz blanca en colores, nosotros podemos descomponer una señal en sus armónicos usando la **serie de Fourier**"
   ]
  },
  {
   "cell_type": "markdown",
   "metadata": {
    "slideshow": {
     "slide_type": "slide"
    }
   },
   "source": [
    "### Apéndice: Números complejos\n",
    "\n",
    "Sea z un número complejo, lo podemos escribir en forma cartesiana \n",
    "\n",
    "$$\n",
    "z = \\Re[z] + j \\Im[z] = a + j b\n",
    "$$\n",
    "\n",
    "donde $a \\in \\mathbb{R}$, $b \\in \\mathbb{R}$ y $j = \\sqrt{-1}$ es el número imaginario.\n",
    "\n",
    "\n",
    "También podemos escribirlo en forma polar\n",
    "\n",
    "$$\n",
    "z = c e^{j\\phi} = c \\cos(\\phi) + j c \\sin(\\phi)\n",
    "$$\n",
    "\n",
    "donde \n",
    "- $c = |z| = \\sqrt{a^2 + b^2} \\in [0, \\infty]$ es la magnitud \n",
    "- $\\phi = \\angle z = \\tan^{-1} \\left (\\frac{b}{a} \\right) \\in [-\\frac{\\pi}{2}, \\frac{\\pi}{2}]$ es el ángulo\n",
    "- $a = c \\cos(\\phi)$\n",
    "- $b = c\\sin(\\phi)$\n",
    "\n",
    "se pueden escribir las siguientes relaciones \n",
    "\n",
    "$$\n",
    "\\cos(\\phi) = \\frac{1}{2} (e^{j\\phi} + e^{-j\\phi}) ~\\wedge~ \\sin(\\phi) = \\frac{1}{2j} (e^{j\\phi} - e^{-j\\phi})\n",
    "$$\n",
    "\n",
    "el complejo conjugado de $z = a + j b = c e^{j\\phi}$ es\n",
    "\n",
    "$$\n",
    "z^* = a - jb = c e^{-j\\phi}\n",
    "$$"
   ]
  },
  {
   "cell_type": "markdown",
   "metadata": {
    "slideshow": {
     "slide_type": "subslide"
    }
   },
   "source": [
    "## Serie de Fourier\n",
    "\n",
    "\n",
    "- En 1807 *Jean Baptiste Joseph Fourier* presenta un teorema indicando que una función periódica arbitraria con periódo $P=1/f_0$ puede representarse como una suma ponderada de senos y cosenos\n",
    "- La serie de Fourier (FS) es una generalización de la serie trigonométrica a los números complejos\n",
    "\n",
    "$$\n",
    "s(t) = \\sum_{k=-\\infty}^{\\infty} c_k e^{j 2\\pi k f_0 t}, ~~ c_k \\in \\mathbb{C}\n",
    "$$\n",
    "\n"
   ]
  },
  {
   "cell_type": "markdown",
   "metadata": {
    "slideshow": {
     "slide_type": "subslide"
    }
   },
   "source": [
    "### Apéndice: Bases generadoras\n",
    "\n",
    "- Una base es un conjunto de un espacio vectorial\n",
    " - Los elementos de la base son linealmente independientes\n",
    " - Todos los elementos del espacio pueden expresarse como una combinación lineal de la base\n",
    " \n",
    "Considere el espacio vectorial $\\mathbb{R}^3$. El siguiente conjunto \n",
    "\n",
    "$$\n",
    "\\left \\{ v_1=\\begin{pmatrix} 1 \\\\ 0 \\\\ 0 \\end{pmatrix}, v_2= \\begin{pmatrix} 0 \\\\ 1 \\\\ 0 \\end{pmatrix}, v_3=\\begin{pmatrix} 0 \\\\ 0 \\\\ 1 \\end{pmatrix}\\right \\},\n",
    "$$\n",
    "\n",
    "es una base generadora de $\\mathbb{R}^3$, es decir un vector cualquiera $\\vec a = (a_1, a_2, a_3) \\in \\mathbb{R}^3$ se puede representar como \n",
    "\n",
    "$$\n",
    "\\vec a = a_1 v_1 + a_2 v_2 + a_3 v_3.\n",
    "$$\n",
    "\n",
    "Un conjunto ortonormal siempre es linealmente independiente\n"
   ]
  },
  {
   "cell_type": "markdown",
   "metadata": {
    "slideshow": {
     "slide_type": "subslide"
    }
   },
   "source": [
    "### Base de Fourier\n",
    "\n",
    "El conjunto de funciones \n",
    "\n",
    "$$\n",
    "v_k (t) = \\frac{1}{\\sqrt{P}} e^{j2\\pi k t / P} ~~ \\forall k \\in \\mathbb{Z}\n",
    "$$\n",
    "\n",
    "cumple \n",
    "\n",
    "$$\n",
    "\\langle v_n (t), v_m (t) \\rangle = \\int_0^P v_n (t) v_m^* (t) dt = \\frac{1}{P} \\int_0^P e^{j2\\pi (n-m)t/P} dt =\\begin{cases}1 & n=m \\\\ 0 & n \\neq m\\end{cases}\n",
    "$$\n",
    "\n",
    "*i.e.* es un conjunto ortonormal (l.i.) en el espacio de funciones periódicas con periódo $P$\n",
    "\n",
    "Esto es facilmente comprobable si estudiamos\n",
    "\n",
    "$$\n",
    "\\int_0^P e^{j2\\pi k t / P} dt = \\int_0^P \\cos(2\\pi k t/P) dt + j \\int_0^P \\sin(2\\pi k t/P) dt \n",
    "$$"
   ]
  },
  {
   "cell_type": "markdown",
   "metadata": {
    "slideshow": {
     "slide_type": "subslide"
    }
   },
   "source": [
    "Es decir que\n",
    "\n",
    "$$\n",
    "\\begin{align}\n",
    "\\langle s(t),  e^{j 2\\pi m t/ P} \\rangle &= \\int_0^P s(t) e^{-j 2\\pi m t/ P} dt \\nonumber \\\\\n",
    "&= \\int_0^P \\sum_{k=-\\infty}^{\\infty} c_k e^{j 2\\pi k t/P} e^{-j 2\\pi m t/P} dt \\nonumber \\\\\n",
    "&= \\sum_{k=-\\infty}^{\\infty} c_k  \\int_0^P e^{j 2\\pi (k-m) t/P}  dt \\nonumber \\\\\n",
    "&=  c_m  P \\nonumber \\\\\n",
    "\\end{align}\n",
    "$$\n",
    "\n",
    "Por lo que podemos encontrar los coeficientes de la FS  usando\n",
    "\n",
    "$$\n",
    "c_m = \\frac{1}{P} \\int_0^P s(t) e^{-j 2\\pi m t/P} dt\n",
    "$$\n"
   ]
  },
  {
   "cell_type": "markdown",
   "metadata": {
    "slideshow": {
     "slide_type": "subslide"
    }
   },
   "source": [
    "### Ejemplo: FS de señal cuadrada\n",
    "\n",
    "Sea \n",
    "\n",
    "$$\n",
    "s(t) = \\begin{cases} 1 & t \\in[0, \\frac{P}{2}] \\\\ 0 & t \\in [\\frac{P}{2}, P] \\end{cases}\n",
    "$$\n",
    "\n",
    "Los coeficientes de su FS son\n",
    "\n",
    "$$\n",
    "c_0 = \\frac{1}{P} \\int_0^P s(t) dt = \\frac{1}{P} \\int_0^{P/2} dt = \\frac{1}{2}\n",
    "$$\n",
    "\n",
    "y\n",
    "\n",
    "$$\n",
    "\\begin{align}\n",
    "c_k &= \\frac{1}{P} \\int_0^\\frac{P}{2} e^{-j2\\pi kt/P} dt  \\nonumber  \\\\  \n",
    "&= -\\frac{j}{P}  \\int_0^\\frac{P}{2} \\sin(2\\pi kt/P) dt \\nonumber \\\\\n",
    "&=  0 + j \\frac{\\cos(\\pi k)  - 1}{2\\pi k} \\nonumber \n",
    "\\end{align}\n",
    "$$\n",
    "\n",
    "Notemos que los coeficientes \n",
    "- A excepsión de $c_0$ sólo tienen parte imaginaria\n",
    "- sólo son distintos de cero para armónicos impares (seno)"
   ]
  },
  {
   "cell_type": "markdown",
   "metadata": {
    "slideshow": {
     "slide_type": "fragment"
    }
   },
   "source": [
    "Finalmente la FS está dada por\n",
    "\n",
    "$$\n",
    "\\begin{align}\n",
    "s(t) &= \\sum_{k=-\\infty}^{\\infty} j \\frac{\\cos(\\pi k)  - 1}{2\\pi k}  e^{j 2\\pi k t/P} \\nonumber \\\\\n",
    "&= \\frac{1}{2} + \\sum_{k=1}^{\\infty}  \\frac{1 - \\cos(\\pi k)}{\\pi k} \\sin(2\\pi k t/P)  \\nonumber \n",
    "\\end{align}\n",
    "$$"
   ]
  },
  {
   "cell_type": "code",
   "execution_count": null,
   "metadata": {
    "tags": [
     "hide-input"
    ]
   },
   "outputs": [],
   "source": [
    "t = np.linspace(0, 5, num=1000)\n",
    "s = np.sin(2.0*np.pi*t)\n",
    "\n",
    "f = Slider(start=0.1, end=2, value=1, step=.01, title=\"Frecuencia fundamental\")\n",
    "K = Slider(start=1, end=50, value=1, step=1, title=\"Armónicos\")\n",
    "\n",
    "source = ColumnDataSource(data=dict(t=t, s=s))\n",
    "plot = Figure(plot_width=550, plot_height=300)\n",
    "plot.line('t', 's', source=source, line_width=3, line_alpha=0.6)\n",
    "plot.xaxis[0].axis_label = 'Tiempo [s]'\n",
    "\n",
    "callback = CustomJS(args=dict(source=source, f=f, K=K), code=\"\"\"\n",
    "    var t = source.data['t'];\n",
    "    var s = source.data['s'];\n",
    "    for (var i = 0; i < s.length; i++) {\n",
    "        s[i] = 0.5\n",
    "        for (var k = 1; k < K.value+1; k++) {\n",
    "            s[i] += (1-Math.cos(Math.PI*k))*Math.sin(2*Math.PI*t[i]*k*f.value)/(Math.PI*k)\n",
    "        }\n",
    "    }\n",
    "    source.change.emit();\n",
    "\"\"\")\n",
    "\n",
    "for widget in [f, K]:\n",
    "    widget.js_on_change('value', callback)\n",
    "\n",
    "show(column(f, K, plot))"
   ]
  },
  {
   "cell_type": "markdown",
   "metadata": {
    "slideshow": {
     "slide_type": "subslide"
    }
   },
   "source": [
    "### Propiedades de la FS\n",
    "\n",
    "- Si $s(t)$ es par entonces $c_k$ es par\n",
    "- Si $s(t)$ es impar entonces $c_k$ es impar\n",
    "- Si $s(t + P/2) = -s(t)$ (antiperiódica) entonces $c_k=0$ para k par\n",
    "- Si $s(t)$ es real y par entonces $c_k$ es real y par\n",
    "- Si $s(t)$ es real e impar entonces $c_k$ es imaginario e impar\n",
    "- La FS es lineal\n",
    "\n",
    "\n",
    "### Teorema de Parseval\n",
    "\n",
    "La potencia de una señal puede calcularse a partir de sus componentes\n",
    "\n",
    "$$\n",
    "\\begin{align}\n",
    "P_s &= \\frac{1}{P} \\int_0^P |s(t)|^2 dt \\nonumber \\\\\n",
    "&= \\frac{1}{P} \\int_0^P |\\sum_{k=-\\infty}^{\\infty} c_k e^{j 2\\pi k t/P }|^2 dt \\nonumber \\\\\n",
    "&= \\frac{1}{P} \\int_0^P \\sum_{k=-\\infty}^{\\infty} |c_k |^2 dt \\nonumber \\\\\n",
    "&= \\sum_{k=-\\infty}^\\infty |c_k|^2 \\nonumber\n",
    "\\end{align}\n",
    "$$"
   ]
  },
  {
   "cell_type": "markdown",
   "metadata": {
    "slideshow": {
     "slide_type": "slide"
    }
   },
   "source": [
    "## Transformada de Fourier\n",
    "\n",
    "<div class=\"alert alert-info\">\n",
    "    \n",
    "**Notemos que:** Podemos extender el concepto de descomposición armónica a señales no periódicas usando la Transformada de Fourier. Esta herramienta matemática será fundamental en este curso\n",
    "    \n",
    "</div>\n",
    "\n",
    "- El concepto de frecuencia puede aplicarse también a señales no-periódicas\n",
    "- Según **Joseph Fourier** una señal no-periódica puede ser vista como una señal periódica **con un período infinito**\n",
    "- El único requisito es que ahora las frecuencias son un continuo, con un espaciado infinitesimal\n",
    "\n",
    "\n",
    "Veremos que:\n",
    "- Una señal analógica puede ser vista como continua en el tiempo o continua en frecuencia\n",
    "- Más adelante estudiaremos la Transformada de Fourier discreta (DFT) para señales digitales\n"
   ]
  },
  {
   "cell_type": "markdown",
   "metadata": {
    "slideshow": {
     "slide_type": "subslide"
    }
   },
   "source": [
    "### Derivación a partir de la FS\n",
    "\n",
    "Sea un tren de pulsos cuadrado con periódo P y ancho $2T < P$ definido en un período como\n",
    "\n",
    "$$\n",
    "s(t) = \\begin{cases} 1, & |t| < T \\\\ 0, & T<|t| < P/2 \\end{cases}\n",
    "$$"
   ]
  },
  {
   "cell_type": "markdown",
   "metadata": {
    "slideshow": {
     "slide_type": "fragment"
    }
   },
   "source": [
    "Su serie de Fourier es \n",
    "\n",
    "$$\n",
    "c_0 = \\frac{1}{P} \\int_{-P/2}^{P/2} s(t) dt = \\frac{1}{P} \\int_{-T}^{T}  dt = \\frac{2T}{P}\n",
    "$$\n",
    "\n",
    "y\n",
    "\n",
    "$$\n",
    "\\begin{align}\n",
    "c_k &= \\frac{1}{P} \\int_{-T}^{T} e^{-j2\\pi kt/P} dt  \\nonumber \\\\\n",
    "&= \\frac{1}{\\pi k} \\sin \\left (2\\pi k \\frac{T}{P} \\right)  \\nonumber \n",
    "\\end{align}\n",
    "$$\n",
    "\n",
    "\n",
    "En el siguiente ejemplo la figura izquierda muestra la señal de pulso cuadrado mientras que la derecha muestra $c_k$ en función de $k$\n",
    "\n",
    "¿Qué ocurre con $c_k$ a medida que $P$ aumenta ($f$ disminuye)?"
   ]
  },
  {
   "cell_type": "code",
   "execution_count": null,
   "metadata": {
    "tags": [
     "hide-input"
    ]
   },
   "outputs": [],
   "source": [
    "t = np.linspace(-3, 3, num=1000)\n",
    "s = np.zeros_like(t)\n",
    "k = np.arange(-100, 100)\n",
    "c = np.zeros_like(k)\n",
    "\n",
    "f = Slider(start=0.1, end=1, value=1, step=.01, title=\"Frecuencia fundamental\")\n",
    "\n",
    "source_s = ColumnDataSource(data=dict(t=t, s=s))\n",
    "source_k = ColumnDataSource(data=dict(k=k, c=c))\n",
    "plot1 = Figure(plot_width=300, plot_height=300)\n",
    "plot1.line('t', 's', source=source_s, line_width=3, line_alpha=0.6)\n",
    "plot2 = Figure(plot_width=300, plot_height=300)\n",
    "plot2.scatter('k', 'c', source=source_k, line_width=3, line_alpha=0.6, legend_label='P x ck')\n",
    "plot2.line('k', 'c', source=source_k, line_width=3, line_alpha=0.6, legend_label='envolvente')\n",
    "plot1.xaxis[0].axis_label = 'Tiempo [s]'\n",
    "plot2.xaxis[0].axis_label = 'k'\n",
    "\n",
    "callback = CustomJS(args=dict(source_s=source_s, source_k=source_k, f=f), code=\"\"\"\n",
    "    var t = source_s.data['t'];\n",
    "    var s = source_s.data['s'];\n",
    "    var c = source_k.data['c']\n",
    "    var T = 0.25;\n",
    "    c[100] = 2*T;\n",
    "    for (var k = 1; k < 100; k++){\n",
    "        c[100+k] = (Math.sin(2*Math.PI*k*T*f.value))/(Math.PI*k*f.value);\n",
    "        c[100-k] = (Math.sin(2*Math.PI*k*T*f.value))/(Math.PI*k*f.value);\n",
    "    }\n",
    "    for (var i = 0; i < s.length; i++) {\n",
    "        s[i] = c[100];\n",
    "        for (var k = 1; k < 100; k++) {\n",
    "            s[i] += 2*c[100+k]*Math.cos(2*Math.PI*t[i]*k*f.value);\n",
    "        }\n",
    "    }    \n",
    "    source_s.change.emit();\n",
    "    source_k.change.emit();\n",
    "\"\"\")\n",
    "\n",
    "for widget in [f]:\n",
    "    widget.js_on_change('value', callback)\n",
    "\n",
    "layout = column(f, row(plot1, plot2))\n",
    "show(layout)"
   ]
  },
  {
   "cell_type": "markdown",
   "metadata": {
    "slideshow": {
     "slide_type": "fragment"
    }
   },
   "source": [
    "\n",
    "- A mayor P disminuye la frecuencia fundamental\n",
    "- Cuando P es muy grande el tren de pulsos tiende a un único pulso\n",
    "- Llamamos \"envolvente\" a la linea imaginaria que conecta los coeficientes $P \\cdot c_k$\n",
    "- A mayor P la envolvente se muestrea con detalles más finos\n"
   ]
  },
  {
   "cell_type": "markdown",
   "metadata": {
    "slideshow": {
     "slide_type": "subslide"
    }
   },
   "source": [
    "Si tomamos el caso $P \\to \\infty$ la envolvente resultante es\n",
    "\n",
    "$$\n",
    "\\lim_{P\\to \\infty} P c_k = S(f) = \\int_{-\\infty}^{\\infty} s(t) e^{-j 2\\pi t  f} dt,\n",
    "$$\n",
    "\n",
    "o también\n",
    "\n",
    "$$\n",
    "S(\\omega) = \\int_{-\\infty}^{\\infty} s(t) e^{-j\\omega t } dt,\n",
    "$$\n",
    "\n",
    "donde $\\omega = 2\\pi f$ se llama frecuencia angular.\n",
    "\n",
    "<div class=\"alert alert-info\">\n",
    "    \n",
    "**Atención**: Esto se conoce como **transformada de Fourier directa** o **integral de Fourier**.\n",
    "\n",
    "</div>"
   ]
  },
  {
   "cell_type": "markdown",
   "metadata": {},
   "source": [
    "Reemplazando el resultado anterior en la ecuación de síntesis y tomando el límite cuando $f_0 \\to 0$ \n",
    "\n",
    "$$\n",
    "\\begin{align}\n",
    "s(t) &= \\lim_{f_0 \\to 0} \\sum_{k=-\\infty}^{\\infty} f_0 S(k f_0) e^{j 2\\pi t  k f_0} \\nonumber  \\\\\n",
    "&= \\int_{-\\infty}^{\\infty} S(f) e^{j 2\\pi t  f} df \\nonumber \\\\\n",
    "&= \\frac{1}{2\\pi} \\int_{-\\infty}^{\\infty} S(\\omega) e^{j \\omega t } d\\omega, \\nonumber \n",
    "\\end{align}\n",
    "$$\n",
    "\n",
    "<div class=\"alert alert-info\">\n",
    "    \n",
    "**Atención**: Esto se conoce como **transformada de Fourier inversa**\n",
    "\n",
    "</div>\n"
   ]
  },
  {
   "cell_type": "markdown",
   "metadata": {},
   "source": [
    "### Par de Fourier\n",
    "\n",
    "Los operadores  \n",
    "\n",
    "$$\n",
    "S(\\omega) = \\mathbb{FT} [s(t)] = \\int_{-\\infty}^{\\infty} s(t) e^{-j\\omega t } dt\n",
    "$$\n",
    "\n",
    "y\n",
    "\n",
    "$$\n",
    "s(t) = \\mathbb{FT}^{-1} [S(\\omega)] = \\frac{1}{2\\pi} \\int_{-\\infty}^{\\infty} S(\\omega) e^{j \\omega t } d\\omega, \\nonumber \n",
    "$$\n",
    "\n",
    "se conoce como par de Fourier y nos permiten analizar una señal en el dominio del tiempo o en el dominio de la frecuencia sin pérdidas"
   ]
  },
  {
   "cell_type": "markdown",
   "metadata": {
    "slideshow": {
     "slide_type": "subslide"
    }
   },
   "source": [
    "### Ejemplo\n",
    "\n",
    "Consideremos nuevamente el pulso cuadrado\n",
    "\n",
    "$$\n",
    "s(t) = \\begin{cases} 1, & |t| < T \\\\ 0, & |t| > T\\end{cases}\n",
    "$$\n",
    "\n",
    "su transformada de Fourier es\n",
    "\n",
    "$$\n",
    "\\begin{align}\n",
    "S(\\omega) &= \\int_{-\\infty}^{\\infty} s(t) e^{-j\\omega t } dt \\nonumber \\\\\n",
    "&= \\int_{-T}^{T} e^{-j\\omega t } dt \\nonumber \\\\\n",
    "&= \\frac{1}{-j\\omega} \\left(e^{-j\\omega T }  - e^{j\\omega T } \\right) \\nonumber \\\\\n",
    "&= \\frac{2}{\\omega}  \\sin(\\omega T) = 2T \\text{sinc}(\\omega T) \\nonumber \n",
    "\\end{align}\n",
    "$$\n",
    "\n",
    "Esto calza precisamente con lo que vimos anteriomente"
   ]
  },
  {
   "cell_type": "code",
   "execution_count": null,
   "metadata": {},
   "outputs": [],
   "source": [
    "T = 0.25\n",
    "\n",
    "w = np.arange(-100, 100)\n",
    "S = 2*np.sin(w*T)/w\n",
    "S[w==0] = 0.5\n",
    "\n",
    "source_S = ColumnDataSource(data=dict(w=w, S=S))\n",
    "p = Figure(plot_width=400, plot_height=300)\n",
    "p.line('w', 'S', source=source_S, line_width=3, line_alpha=0.6)\n",
    "p.xaxis[0].axis_label = 'Frecuencia angular'\n",
    "p.yaxis[0].axis_label = 'Espectro'\n",
    "\n",
    "show(p)"
   ]
  },
  {
   "cell_type": "markdown",
   "metadata": {
    "slideshow": {
     "slide_type": "subslide"
    }
   },
   "source": [
    "### Propiedades de la transformada de Fourier\n",
    "\n",
    "\n",
    "1) La transformada de Fourier es un operador lineal, si tenemos dos señales y dos valores escalares entonces\n",
    "\n",
    "$$\n",
    "\\mathbb{FT}[c_1 s_1(t) + c_2 s_2(t)] = c_1\\mathbb{FT}[s_1(t)] + c_2\\mathbb{FT}[s_2(t)] \n",
    "$$\n",
    "\n",
    "2) El operador de convolución en el tiempo se convierte en multiplicación en frecuencia \n",
    "\n",
    "$$\n",
    "\\mathbb{FT}[(s_1 * s_2)(t)] =  \\mathbb{FT}[s_1(t)] \\cdot \\mathbb{FT}[s_2(t)],\n",
    "$$\n",
    "\n",
    "donde \n",
    "\n",
    "$$\n",
    "(s_1 * s_2)(t) = \\int s_1(\\tau) s_2(t-\\tau) d\\tau\n",
    "$$\n",
    "\n",
    "es la operación de convolución\n",
    "\n",
    "3) Así mismo, la multiplicación en frecuencia se convierte en multiplicación en el tiempo\n",
    "\n",
    "$$\n",
    "\\mathbb{FT}[s_1(t)\\cdot s_2(t)] =  \\frac{1}{2\\pi}\\mathbb{FT}[s_1(t)] * \\mathbb{FT}[s_2(t)]  \n",
    "$$\n",
    "\n",
    "### Teorema de Parseval\n",
    "\n",
    "La energía se preserva entre frecuencia y tiempo\n",
    "$$\n",
    "\\int | s(t) |^2 dt = \\frac{1}{2\\pi} \\int | S(\\omega) |^2 d\\omega\n",
    "$$\n"
   ]
  },
  {
   "cell_type": "markdown",
   "metadata": {
    "slideshow": {
     "slide_type": "subslide"
    }
   },
   "source": [
    "### Definición: Espectros de amplitud y fase\n",
    "\n",
    "Sea la transformada de Fourier de una función general $s(t)$\n",
    "\n",
    "Llamamos a $S(\\omega)$ el espectro de $s(t)$ \n",
    "\n",
    "El espectro es un número complejo que podemos escribir en notación polar como\n",
    "\n",
    "$$\n",
    "S(\\omega) = |S(\\omega)| e^{j\\Phi(\\omega)},\n",
    "$$\n",
    "\n",
    "donde $|S(\\omega)|$ se conoce como **espectro de amplitud** y $\\Phi(\\omega)$ como **espectro de fase**"
   ]
  },
  {
   "cell_type": "markdown",
   "metadata": {},
   "source": [
    "## Transformada de Fourier Discreta (DFT)\n",
    "\n",
    "En nuestro caso particular nos interesa procesar señales usando software\n",
    "\n",
    "Por ende asumiremos que existe un proceso que sensa y convierte la señal analógica continua en una señal digital, como en el siguiente diagrama\n",
    "\n",
    "<img src=\"../images/signal-sampling1.png\" width=\"500\">\n",
    "\n",
    "- La señal análogica $s(t)$ se muestrea cada $T_s$ durante un tiempo $T$\n",
    "- El tiempo asociada a $s_n$ es $t_n = n \\cdot T_s$ [s]\n",
    "- El inverso del periódo de muestreo se denomina **frecuencia de muestreo**: $F_s = \\frac{1}{T_s}$ [Hz]\n",
    "- La cantidad de muestras del arreglo $\\{s_n\\}$ es equivalente a $N = \\lfloor T F_s \\rfloor $"
   ]
  },
  {
   "cell_type": "markdown",
   "metadata": {
    "slideshow": {
     "slide_type": "slide"
    }
   },
   "source": [
    "Más formalmente diremos que existe un sistema muestreador con frecuencia de muestreo $F_s$ [Hz] tal que\n",
    "\n",
    "$$\n",
    "s(t) = \\sum_{n=0}^{N-1} s[n] \\delta(t - n/F_s),\n",
    "$$\n",
    "\n",
    "Si reemplazamos en la transformada de Fourier obtenemos\n",
    "\n",
    "$$\n",
    "\\begin{align}\n",
    "S(\\omega) &= \\int s(t) e^{-j\\omega t} dt \\nonumber \\\\\n",
    "&= \\int \\sum_{n=0}^{N-1} s[n] \\delta(t - n/F_s) e^{-j\\omega t} dt \\nonumber \\\\\n",
    "&=  \\sum_{n=0}^{N-1} s[n] \\int \\delta(t - n/F_s) e^{-j\\omega t} dt \\nonumber \\\\\n",
    "&=  \\sum_{n=0}^{N-1} s[n] e^{-j\\omega n/F_s} \\nonumber \n",
    "\\end{align}\n",
    "$$\n",
    "\n",
    "Finalmente definiendo $\\omega = 2 \\pi f = 2 \\pi k \\Delta f$ donde $\\Delta f = \\frac{1}{T} = \\frac{F_s}{N}$ y reemplazando obtenemos\n",
    "\n",
    "$$\n",
    "S[k] =  \\sum_{n=0}^{N-1} s[n] e^{-j \\frac{2 \\pi}{N} k n},\n",
    "$$\n",
    "\n",
    "donde $k = [0, 1, \\ldots N-1]$\n",
    "\n",
    "\n",
    "<div class=\"alert alert-info\">\n",
    "    \n",
    "**Atención**: Esto se conoce como **transformada de Fourier discreta** o DFT\n",
    "\n",
    "</div>\n",
    "\n",
    "- El índice $n$ representa la discretización en el tiempo\n",
    "- El índice $k$ representa la discretización en frecuencia"
   ]
  },
  {
   "cell_type": "markdown",
   "metadata": {
    "slideshow": {
     "slide_type": "subslide"
    }
   },
   "source": [
    "### Propiedades de la DFT\n",
    "\n",
    "1) La DFT comparte las propiedades de la FT\n",
    "\n",
    "2) La DFT es periódica, con período $N$\n",
    "\n",
    "$$\n",
    "\\begin{align}\n",
    "S[k+N] &= \\sum_{n=0}^{N-1} s[n] e^{-j \\frac{2 \\pi}{N} (k+N) n} \\nonumber \\\\\n",
    "&=   \\sum_{n=0}^{N-1} s[n] e^{-j \\frac{2 \\pi}{N} k n} e^{-j 2 \\pi n} \\nonumber \\\\\n",
    "&= \\sum_{n=0}^{N-1} s[n] e^{-j \\frac{2 \\pi}{N} k n} \\nonumber \n",
    "\\end{align}\n",
    "$$"
   ]
  },
  {
   "cell_type": "markdown",
   "metadata": {
    "slideshow": {
     "slide_type": "subslide"
    }
   },
   "source": [
    "### Definición: Frecuencia de Nyquist\n",
    "\n",
    "Es la frecuencia más alta con que puede representarse una señal muestreada a $F_s$\n",
    "\n",
    "Su valor es $\\frac{F_s}{2}$\n",
    "\n",
    "\n",
    "### Rango frecuencial de la DFT\n",
    "\n",
    "Considerando la frecuencia de Nyquist y la periodicidad de la DFT la correspondencia entre índices y frecuencias es\n",
    "\n",
    "$$\n",
    "\\begin{matrix}\n",
    "k &  : & 0, & 1, & 2, & \\ldots & N/2 -1, & N/2, & N/2+1, & \\ldots & N-2, & N-1 \\\\\n",
    "f = k \\frac{F_s}{N} & : & 0, & \\frac{F_s}{N}, & \\frac{2 F_s}{N}, & \\ldots & \\frac{F_s}{2} - \\frac{F_s}{N}, & \\frac{F_s}{2} = -\\frac{F_s}{2}, &  \\frac{F_s}{2} + \\frac{F_s}{N} = - \\frac{F_s}{2}  + \\frac{F_s}{N}, & \\ldots & -\\frac{2 F_s}{N},  & -\\frac{F_s}{N}\n",
    "\\end{matrix}\n",
    "$$"
   ]
  },
  {
   "cell_type": "markdown",
   "metadata": {
    "slideshow": {
     "slide_type": "subslide"
    }
   },
   "source": [
    "### La DFT es  un producto matricial\n",
    "\n",
    "Sea $\\{s_n\\}_{n=0,\\ldots,N-1}$ y definiendo \n",
    "\n",
    "$$\n",
    "W_N = e^{-j \\frac{2\\pi}{N}} = \\cos \\left(\\frac{2\\pi}{N}\\right) - j \\sin \\left(\\frac{2\\pi}{N}\\right)\n",
    "$$\n",
    "\n",
    "podemos expresar la transformada de Fourier discreta como\n",
    "\n",
    "$$\n",
    "S[k] =  \\sum_{n=0}^{N-1} s[n] W_N^{kn}, \\quad k = [0, 1, \\ldots N-1],\n",
    "$$\n",
    "\n",
    "que también puede ser expresado matricialmente como\n",
    "\n",
    "$$\n",
    "\\begin{align}\n",
    "\\begin{pmatrix} \n",
    "S[0] \\\\\n",
    "S[1] \\\\\n",
    "S[2] \\\\\n",
    "\\vdots \\\\\n",
    "S[N-1] \\\\\n",
    "\\end{pmatrix} &=\n",
    "\\begin{pmatrix}\n",
    "1 & 1 & 1 & \\cdots & 1 \\\\\n",
    "1 & W_N & W_N^2 & \\cdots & W_N^{N-1} \\\\\n",
    "1 & W_N^2 & W_N^4 & \\cdots & W_N^{N-2} \\\\\n",
    "\\vdots & \\dots & \\dots & \\ddots &  \\vdots \\\\\n",
    "1 & W_N^{N-1} & W_N^{N-2} & \\cdots & W_N \\\\\n",
    "\\end{pmatrix} \n",
    "\\begin{pmatrix} \n",
    "s[0] \\\\\n",
    "s[1] \\\\\n",
    "s[2] \\\\\n",
    "\\vdots \\\\\n",
    "s[N-1] \\\\\n",
    "\\end{pmatrix} \\nonumber  \\\\\n",
    "S &= \\Omega s,\n",
    "\\end{align}\n",
    "$$\n",
    "\n",
    "\n",
    "Notemos que:\n",
    "- Por definición $W_N^{kn} = \\left(e^{-j \\frac{2\\pi}{N}}\\right)^{kn} = e^{-j \\frac{2\\pi}{N}kn}$\n",
    "- Por periodicidad $W_N^{2(N-1)} = W_N^{2(N-1) - N}  = W_N^{N-2}$\n",
    "- También se tiene simetría hermítica: $W_N^{k(-n)} = W_N^{-kn} = (W_N^{kn})^*$\n",
    "- $\\Omega$ es una matriz cuadrada y simétrica \n",
    "\n",
    "<div class=\"alert alert-info\">\n",
    "    \n",
    "**Costo computacional:** El cálculo de la DFT tiene complejidad cuadrática: $N^2$ multiplicaciones y $N$ sumas\n",
    "\n",
    "</div>\n",
    "\n",
    "\n"
   ]
  },
  {
   "cell_type": "markdown",
   "metadata": {
    "slideshow": {
     "slide_type": "subslide"
    }
   },
   "source": [
    "### Ejemplo\n",
    "\n",
    "Sea $S=\\{S[0], S[1], S[2], S[3]\\}^T$ podemos encontrar $s$ usando\n",
    "\n",
    "$$\n",
    "S= \n",
    "\\begin{pmatrix} \n",
    "S[0] \\\\\n",
    "S[1] \\\\\n",
    "S[2] \\\\\n",
    "S[3] \n",
    "\\end{pmatrix} =\n",
    "\\begin{pmatrix}\n",
    "1 & 1  & 1 & 1\\\\\n",
    "1 & W_4  & W_4^2 & W_4^3 \\\\\n",
    "1 & W_4^2  & W_4^4 & W_4^2 \\\\\n",
    "1 & W_4^3  & W_4^2 & W_4 \\\\\n",
    "\\end{pmatrix} \n",
    "s = \\begin{pmatrix}\n",
    "1 & 1  & 1 & 1\\\\\n",
    "1 & -j  & -1 & j \\\\\n",
    "1 & -1  & 1 & -1 \\\\\n",
    "1 & j  & -1 & -j \\\\\n",
    "\\end{pmatrix} \n",
    "s\n",
    "$$\n",
    "\n",
    "Luego sólo tenemos que encontrar el inverso de $\\Omega$"
   ]
  },
  {
   "cell_type": "code",
   "execution_count": null,
   "metadata": {
    "slideshow": {
     "slide_type": "fragment"
    }
   },
   "outputs": [],
   "source": [
    "np.set_printoptions(precision=4, suppress=True)\n",
    "\n",
    "W4 = np.exp(-1j*2*np.pi/4)\n",
    "index = np.array([0, 1, 2, 3])[:, np.newaxis]\n",
    "Omega = W4**(index*index.T)\n",
    "\n",
    "print(Omega)\n",
    "\n",
    "np.linalg.inv(Omega) # Estación función calcula el inverso de una matriz cuadrada"
   ]
  },
  {
   "cell_type": "markdown",
   "metadata": {
    "slideshow": {
     "slide_type": "fragment"
    }
   },
   "source": [
    "Notemos que el inverso de $\\Omega$ es su complejo conjugado dividido N\n",
    "\n",
    "$$\n",
    "\\Omega^{-1} = \\frac{1}{4}\n",
    "\\begin{pmatrix}\n",
    "1 & 1 & 1 &  1 \\\\\n",
    "1 & j & -1 &  -j \\\\\n",
    "1 & -1 & 1 &  -1 \\\\\n",
    "1 & -j & -1  & j \\\\\n",
    "\\end{pmatrix} = \\frac{1}{4} \\Omega^*\n",
    "$$\n",
    "\n",
    "Se puede verificar que esto ocurre para todo N\n",
    "\n",
    "### DFT inversa\n",
    "\n",
    "En resumen podemos recuperar $s$ a partir de $S$ usando\n",
    "\n",
    "$$\n",
    "s = \\frac{1}{N} \\Omega^* S\n",
    "$$\n",
    "\n",
    "o lo que es equivalente\n",
    "\n",
    "$$\n",
    "s[n] = \\frac{1}{N} \\sum_{k=0}^{N-1} S[k] W_N^{-kn}, \\quad n = [0, 1, \\ldots N-1]\n",
    "$$\n",
    "\n",
    "que corresponde a la DFT inversa y cuya únicas diferencias con la DFT son el factor $\\frac{1}{N}$ y el signo del exponente"
   ]
  },
  {
   "cell_type": "markdown",
   "metadata": {
    "slideshow": {
     "slide_type": "slide"
    }
   },
   "source": [
    "## Transformada Rápida de Fourier (FFT)\n",
    "\n",
    "- La computación de la DFT tiene complejidad $\\mathcal{O}(N^2)$, es muy costosa de aplicar en la práctica\n",
    "- Existe una aproximación numérica exacta con complejidad $\\mathcal{O}(N\\log N)$: la **Fast Fourier Transform** (FFT). \n",
    "\n",
    "El algoritmo de Cooley-Tukey, que es tal vez el algoritmo FFT más famoso, obtiene una expresión recursiva que explota las simetrías en la DFT\n",
    "\n",
    "$$\n",
    "\\begin{align}\n",
    "S[k] &=  \\sum_{n=0}^{N-1} s[n] W_N^{kn} \\nonumber \\\\\n",
    "&= \\sum_{n=0}^{N/2-1} s[2n] W_N^{k 2n} + \\sum_{n=0}^{N/2-1} s[2n+1] W_N^{k(2n+1)} \\nonumber \\\\\n",
    "&= \\sum_{n=0}^{N/2-1} s[2n] W_{N/2}^{kn} + W_N^{k} \\sum_{n=0}^{N/2-1} s[2n+1] W_{N/2}^{kn} \\nonumber \\\\\n",
    "&= S_E[k] + W_N^{k} S_O[k] ~~ \\forall k \\in [0,N/2]  \\nonumber \n",
    "\\end{align} \n",
    "$$\n",
    "\n",
    "Notar que se calculan dos \"medias\" DFT, una mitad se enfoca en los índices pares (even) y la otra en los impares (odd)"
   ]
  },
  {
   "cell_type": "markdown",
   "metadata": {
    "slideshow": {
     "slide_type": "subslide"
    }
   },
   "source": [
    "Por periodicidad de la DFT tenemos que\n",
    "\n",
    "$$\n",
    "\\begin{align}\n",
    "S_E[k + N/2] &=  \\sum_{n=0}^{N/2-1} s[2n] W_{N/2}^{(k+N/2)n} \\nonumber \\\\\n",
    "&=  \\sum_{n=0}^{N/2-1} s[2n] W_{N/2}^{kn} \\exp \\left(-j2\\pi n \\right) = S_E[k], \\nonumber\n",
    "\\end{align}\n",
    "$$\n",
    "\n",
    "e igualmente\n",
    "\n",
    "$$\n",
    "S_O[k + N/2] = S_O[k],\n",
    "$$\n",
    "\n",
    "juntando ambos tenemos que\n",
    "\n",
    "$$\n",
    "\\begin{align}\n",
    "S[k + N/2] &=  S_E[k + N/2] + W_{N}^{(k+N/2)} S_O[k + N/2] \\nonumber  \\\\\n",
    "&=  S_E[k] + W_{N}^{k} \\exp \\left(-j\\pi\\right) S_O[k] \\nonumber \\\\\n",
    "&=  S_E[k] - W_{N}^{k} S_O[k] \\nonumber \n",
    "\\end{align}\n",
    "$$\n",
    "\n",
    "es decir\n",
    "\n",
    "$$\n",
    "\\begin{align}\n",
    "S[k] &=  S_E[k] + W_{N}^{k} S_O[k] \\nonumber \\\\\n",
    "S[k + N/2] &=  S_E[k] - W_{N}^{k} S_O[k] \\quad \\forall k \\in [0,N/2]  \\nonumber \n",
    "\\end{align}\n",
    "$$\n",
    "\n",
    "\n",
    "<div class=\"alert alert-info\">\n",
    "    \n",
    "**Costo computacional:** La DFT de $k$ y $k+N/2$ difieren sólo en un signo. Cada ves que dividimos el intervalo podemos reducir los cómputos a la mitad. El costo de la FFT tiene complejidad $N \\log N$\n",
    "\n",
    "</div>\n"
   ]
  },
  {
   "cell_type": "markdown",
   "metadata": {
    "slideshow": {
     "slide_type": "subslide"
    }
   },
   "source": [
    "<img src=\"../images/fft-16samples.png\">\n",
    "\n",
    "Imagen tomada de: [http://www.themobilestudio.net/the-fourier-transform-part-14](http://www.themobilestudio.net/the-fourier-transform-part-14)"
   ]
  },
  {
   "cell_type": "markdown",
   "metadata": {
    "slideshow": {
     "slide_type": "fragment"
    }
   },
   "source": [
    "Cantidad de multiplicaciones\n",
    "\n",
    "| N | DFT | FFT | FFT/DFT [%] |\n",
    "|---|---|---|---|\n",
    "| 32 | 1024 | 160 | 15.6 |\n",
    "| 128 | 16,384 | 896 | 5.46 |\n",
    "| 1,024 | 1,048,576 | 10,240 | 0.97 |"
   ]
  },
  {
   "cell_type": "markdown",
   "metadata": {
    "slideshow": {
     "slide_type": "subslide"
    }
   },
   "source": [
    "## FFT en Python\n",
    "\n",
    "Existen múltiples implementaciones de la FFT. En este curso utilizaremos el módulo `fft` de la librería científica [`scipy` ](https://docs.scipy.org/doc/scipy/reference/tutorial/fft.html)\n",
    "\n",
    "Si se require mayor eficiencia se puede considerar la librería [`pyFFTW` ](https://hgomersall.github.io/pyFFTW/) que es un wrapper de la Fast Fourier Transform in the West (FFTW), famosa implementación escrita en lenguaje C\n",
    "\n",
    "### Funciones básicas de `scipy.fft`\n",
    "\n",
    "Las principal función que utilizaremos es:\n",
    "\n",
    "```python\n",
    "scipy.fft.fft(x, # Un arreglo de NumPy,\n",
    "              n=None, # El número de muestras que se usarán para calcular la FFT\n",
    "              axis=-1, # El eje del arreglo en que se calculara la FFT,\n",
    "              workers=None, # Número de trabajadores para calcular la FFT en paralelo\n",
    "              ...)\n",
    "```\n",
    "\n",
    "que calcula la FFT de un arreglo de NumPy. Por convención, esta función retorna un arreglo con el espectro de frecuencia ordenando según \n",
    "\n",
    "$$\n",
    "f = \\left[0, \\frac{F_s}{N},  \\frac{2 F_s}{N}, \\ldots, \\frac{F_s}{2},  \\ldots  -\\frac{2 F_s}{N},   -\\frac{F_s}{N} \\right]\n",
    "$$ \n",
    "\n",
    "es decir que primero retorna las frecuencias positivas y luego las negativas en orden invertido\n",
    "\n",
    "Podemos usar la función:\n",
    "\n",
    "```python\n",
    "scipy.fft.fftshift(x, #  Un arreglo de numpy\n",
    "                  ...\n",
    "                  )\n",
    "```\n",
    "\n",
    "para dar vuelta la primera y segunda mitad del espectro obteniendo un orden más natural\n",
    "\n",
    "También podemos usar:\n",
    "\n",
    "```python\n",
    "scipy.fft.fftfreq(n, #  El número de muestras de x\n",
    "                  d=1.0 # El inverso de la frecuencia de muestreo\n",
    "                 )\n",
    "```\n",
    "\n",
    "para calcular las frecuencias asociadas a la FFT (útil para graficar)\n"
   ]
  },
  {
   "cell_type": "markdown",
   "metadata": {},
   "source": [
    "### Ejemplo\n",
    "\n",
    "Sea una señal con dos componentes sinusoidales a frecuencia $1$ y $4$ Hz, respetivamente, y con desfase $0$ y $\\pi/3 \\approx 1.0472$, respectivamente\n",
    "\n",
    "Calculemos los espectros de magnitud y fase usando la FFT"
   ]
  },
  {
   "cell_type": "code",
   "execution_count": null,
   "metadata": {
    "slideshow": {
     "slide_type": "fragment"
    }
   },
   "outputs": [],
   "source": [
    "import scipy.fft as sfft\n",
    "\n",
    "Fs = 40\n",
    "t = np.arange(0, 5, step=1./Fs); \n",
    "s = np.cos(2.0*np.pi*t) + 0.25*np.cos(2.0*np.pi*4*t + np.pi/3)\n",
    "f = sfft.fftshift(sfft.fftfreq(n=len(t), d=1./Fs)); \n",
    "S = sfft.fftshift(sfft.fft(s)); \n",
    "SA = np.absolute(S)\n",
    "SP = np.angle(S)\n",
    "\n",
    "source = ColumnDataSource(data=dict(t=t, s=s, f=f, SA=SA, SP=SP))\n",
    "p1 = Figure(plot_width=700, plot_height=150)\n",
    "p2 = Figure(plot_width=350, plot_height=200)\n",
    "p3 = Figure(plot_width=350, plot_height=200)\n",
    "p1.line('t', 's', source=source, line_width=3, line_alpha=0.75)\n",
    "p2.line('f', 'SA', source=source, line_width=3, line_alpha=0.75)\n",
    "p3.line('f', 'SP', source=source, line_width=3, line_alpha=0.75)\n",
    "p1.xaxis[0].axis_label = 'Tiempo [s]'\n",
    "p2.xaxis[0].axis_label = 'Frecuencia [Hz]'\n",
    "p3.xaxis[0].axis_label = 'Frecuencia [Hz]'\n",
    "show(column(p1, row(p2, p3)))"
   ]
  },
  {
   "cell_type": "markdown",
   "metadata": {},
   "source": [
    "Considerando sólo las frecuencias positivas (mitad derecha del espectro) podemos buscar la frecuencia de los dos puntos más altos del espectro de magnitud"
   ]
  },
  {
   "cell_type": "code",
   "execution_count": null,
   "metadata": {},
   "outputs": [],
   "source": [
    "mask = np.argsort(SA[f>0])[-2:] # Ordena de menor a mayor y me quedo con las últimas dos\n",
    "f[f>0][mask]"
   ]
  },
  {
   "cell_type": "markdown",
   "metadata": {},
   "source": [
    "Las fases asociadas a estas frecuencias son"
   ]
  },
  {
   "cell_type": "code",
   "execution_count": null,
   "metadata": {},
   "outputs": [],
   "source": [
    "SP[f>0][mask]"
   ]
  },
  {
   "cell_type": "markdown",
   "metadata": {},
   "source": [
    "<div class=\"alert alert-info\">\n",
    "    \n",
    "Hemos logrado recuperar las frecuencias y las fases de los componentes individuales!\n",
    "\n",
    "</div>"
   ]
  },
  {
   "cell_type": "markdown",
   "metadata": {},
   "source": [
    "Comparemos ahora la diferencia en tiempo de cómputo entra la DFT calculada como producto matricial y la FFT ¿Cuántos ordenes de magnitud hay de diferencia?"
   ]
  },
  {
   "cell_type": "code",
   "execution_count": null,
   "metadata": {
    "slideshow": {
     "slide_type": "fragment"
    }
   },
   "outputs": [],
   "source": [
    "tf = t[:, np.newaxis]*f[:, np.newaxis].T\n",
    "print(\"DFT numpy\")\n",
    "%timeit -n 5 -r 5 np.dot(s, np.exp(-1j*2.0*np.pi*tf));\n",
    "print(\"FFT fftpack\")\n",
    "%timeit -n 5 -r 5 sfft.fftshift(sfft.fft(s))"
   ]
  },
  {
   "cell_type": "markdown",
   "metadata": {},
   "source": [
    "## Actividades a realizar en la sesión práctica\n",
    "\n",
    "- Profundizar en el uso de `scipy.fft`\n",
    "- Calcular el espectro de ruido blanco y ruido rojo"
   ]
  },
  {
   "cell_type": "code",
   "execution_count": null,
   "metadata": {},
   "outputs": [],
   "source": []
  }
 ],
 "metadata": {
  "celltoolbar": "Edit Metadata",
  "kernelspec": {
   "display_name": "INFO183",
   "language": "python",
   "name": "info183"
  },
  "language_info": {
   "codemirror_mode": {
    "name": "ipython",
    "version": 3
   },
   "file_extension": ".py",
   "mimetype": "text/x-python",
   "name": "python",
   "nbconvert_exporter": "python",
   "pygments_lexer": "ipython3",
   "version": "3.8.5"
  },
  "toc": {
   "base_numbering": 1,
   "nav_menu": {},
   "number_sections": true,
   "sideBar": true,
   "skip_h1_title": false,
   "title_cell": "Table of Contents",
   "title_sidebar": "Contents",
   "toc_cell": false,
   "toc_position": {},
   "toc_section_display": true,
   "toc_window_display": true
  }
 },
 "nbformat": 4,
 "nbformat_minor": 2
}
